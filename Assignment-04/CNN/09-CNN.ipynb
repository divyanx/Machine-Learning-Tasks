{
 "cells": [
  {
   "cell_type": "code",
   "execution_count": 1,
   "metadata": {},
   "outputs": [],
   "source": [
    "import numpy as np\n",
    "from keras.datasets import mnist\n",
    "from keras.utils import np_utils\n",
    "\n",
    "from dense import Dense\n",
    "from convolutional import Convolutional\n",
    "from reshape import Reshape\n",
    "from activations import Sigmoid, Tanh,Linear\n",
    "from losses import binary_cross_entropy, binary_cross_entropy_prime\n",
    "from network import train, predict\n"
   ]
  },
  {
   "cell_type": "markdown",
   "metadata": {},
   "source": [
    "## preprocess the data"
   ]
  },
  {
   "cell_type": "code",
   "execution_count": 2,
   "metadata": {},
   "outputs": [],
   "source": [
    "def preprocess_data(x, y, limit):\n",
    "    # reshape and normalize input data\n",
    "    x = x.reshape(x.shape[0], 28 * 28, 1)\n",
    "    x = x.astype(\"float32\") / 255\n",
    "    # encode output which is a number in range [0,9] into a vector of size 10\n",
    "    # e.g. number 3 will become [0, 0, 0, 1, 0, 0, 0, 0, 0, 0]\n",
    "    y = np_utils.to_categorical(y)\n",
    "    y = y.reshape(y.shape[0], 10, 1)\n",
    "    return x[:limit], y[:limit]"
   ]
  },
  {
   "cell_type": "markdown",
   "metadata": {},
   "source": [
    "## Load the Data"
   ]
  },
  {
   "cell_type": "code",
   "execution_count": 3,
   "metadata": {},
   "outputs": [],
   "source": [
    "# load MNIST from server\n",
    "(x_train, y_train), (x_test, y_test) = mnist.load_data()\n",
    "x_train, y_train = preprocess_data(x_train, y_train, 1000)\n",
    "x_test, y_test = preprocess_data(x_test, y_test, 20)"
   ]
  },
  {
   "cell_type": "code",
   "execution_count": 4,
   "metadata": {},
   "outputs": [
    {
     "name": "stdout",
     "output_type": "stream",
     "text": [
      "(1000, 784, 1)\n",
      "(1000, 10, 1)\n"
     ]
    }
   ],
   "source": [
    "#print the size of the training and test data\n",
    "print(x_train.shape)\n",
    "print(y_train.shape)"
   ]
  },
  {
   "cell_type": "markdown",
   "metadata": {},
   "source": [
    "## Train the Network"
   ]
  },
  {
   "cell_type": "code",
   "execution_count": 5,
   "metadata": {},
   "outputs": [],
   "source": [
    "\n",
    "# Train this CNN on mnist dataset. Layer 1: Convolution layer with 16 out-\n",
    "# put channels+flatten+tanh activation. Layer 2: 10 output neuron with linear\n",
    "# activation. Softmax cross entropy loss\n",
    "\n",
    "# network = [\n",
    "#     Convolutional((1, 28, 28), 3, 16),\n",
    "#     Reshape((16, 26, 26), (16 * 26 * 26, 1)),\n",
    "#     Tanh(),\n",
    "#     Dense(16 * 26 * 26, 10),\n",
    "#     # implemet the second layer\n",
    "#     Dense(10, 2),\n",
    "#     Linear()\n",
    "# ]\n",
    "# neural network\n",
    "network = [\n",
    "    Convolutional((1, 28, 28), 3, 5),\n",
    "    Sigmoid(),\n",
    "    Reshape((5, 26, 26), (5 * 26 * 26, 1)),\n",
    "    Dense(5 * 26 * 26, 100),\n",
    "    Sigmoid(),\n",
    "    Dense(100, 2),\n",
    "    Sigmoid()\n",
    "]"
   ]
  },
  {
   "cell_type": "code",
   "execution_count": 6,
   "metadata": {},
   "outputs": [
    {
     "ename": "ValueError",
     "evalue": "correlate2d inputs must both be 2-D arrays",
     "output_type": "error",
     "traceback": [
      "\u001b[1;31m---------------------------------------------------------------------------\u001b[0m",
      "\u001b[1;31mValueError\u001b[0m                                Traceback (most recent call last)",
      "\u001b[1;32mc:\\Users\\RAZORBLADE\\Desktop\\Sem-VI\\CS331 - ML\\Machine-Learning-Tasks\\Machine-Learning-Tasks\\Assignment-04\\CNN\\09-CNN.ipynb Cell 9'\u001b[0m in \u001b[0;36m<module>\u001b[1;34m\u001b[0m\n\u001b[0;32m      <a href='vscode-notebook-cell:/c%3A/Users/RAZORBLADE/Desktop/Sem-VI/CS331%20-%20ML/Machine-Learning-Tasks/Machine-Learning-Tasks/Assignment-04/CNN/09-CNN.ipynb#ch0000014?line=0'>1</a>\u001b[0m \u001b[39m# train\u001b[39;00m\n\u001b[1;32m----> <a href='vscode-notebook-cell:/c%3A/Users/RAZORBLADE/Desktop/Sem-VI/CS331%20-%20ML/Machine-Learning-Tasks/Machine-Learning-Tasks/Assignment-04/CNN/09-CNN.ipynb#ch0000014?line=1'>2</a>\u001b[0m train(\n\u001b[0;32m      <a href='vscode-notebook-cell:/c%3A/Users/RAZORBLADE/Desktop/Sem-VI/CS331%20-%20ML/Machine-Learning-Tasks/Machine-Learning-Tasks/Assignment-04/CNN/09-CNN.ipynb#ch0000014?line=2'>3</a>\u001b[0m     network,\n\u001b[0;32m      <a href='vscode-notebook-cell:/c%3A/Users/RAZORBLADE/Desktop/Sem-VI/CS331%20-%20ML/Machine-Learning-Tasks/Machine-Learning-Tasks/Assignment-04/CNN/09-CNN.ipynb#ch0000014?line=3'>4</a>\u001b[0m     binary_cross_entropy,\n\u001b[0;32m      <a href='vscode-notebook-cell:/c%3A/Users/RAZORBLADE/Desktop/Sem-VI/CS331%20-%20ML/Machine-Learning-Tasks/Machine-Learning-Tasks/Assignment-04/CNN/09-CNN.ipynb#ch0000014?line=4'>5</a>\u001b[0m     binary_cross_entropy_prime,\n\u001b[0;32m      <a href='vscode-notebook-cell:/c%3A/Users/RAZORBLADE/Desktop/Sem-VI/CS331%20-%20ML/Machine-Learning-Tasks/Machine-Learning-Tasks/Assignment-04/CNN/09-CNN.ipynb#ch0000014?line=5'>6</a>\u001b[0m     x_train,\n\u001b[0;32m      <a href='vscode-notebook-cell:/c%3A/Users/RAZORBLADE/Desktop/Sem-VI/CS331%20-%20ML/Machine-Learning-Tasks/Machine-Learning-Tasks/Assignment-04/CNN/09-CNN.ipynb#ch0000014?line=6'>7</a>\u001b[0m     y_train,\n\u001b[0;32m      <a href='vscode-notebook-cell:/c%3A/Users/RAZORBLADE/Desktop/Sem-VI/CS331%20-%20ML/Machine-Learning-Tasks/Machine-Learning-Tasks/Assignment-04/CNN/09-CNN.ipynb#ch0000014?line=7'>8</a>\u001b[0m     epochs\u001b[39m=\u001b[39;49m\u001b[39m20\u001b[39;49m,\n\u001b[0;32m      <a href='vscode-notebook-cell:/c%3A/Users/RAZORBLADE/Desktop/Sem-VI/CS331%20-%20ML/Machine-Learning-Tasks/Machine-Learning-Tasks/Assignment-04/CNN/09-CNN.ipynb#ch0000014?line=8'>9</a>\u001b[0m     learning_rate\u001b[39m=\u001b[39;49m\u001b[39m0.1\u001b[39;49m\n\u001b[0;32m     <a href='vscode-notebook-cell:/c%3A/Users/RAZORBLADE/Desktop/Sem-VI/CS331%20-%20ML/Machine-Learning-Tasks/Machine-Learning-Tasks/Assignment-04/CNN/09-CNN.ipynb#ch0000014?line=9'>10</a>\u001b[0m )\n",
      "File \u001b[1;32mc:\\Users\\RAZORBLADE\\Desktop\\Sem-VI\\CS331 - ML\\Machine-Learning-Tasks\\Machine-Learning-Tasks\\Assignment-04\\CNN\\network.py:12\u001b[0m, in \u001b[0;36mtrain\u001b[1;34m(network, loss, loss_prime, x_train, y_train, epochs, learning_rate, verbose)\u001b[0m\n\u001b[0;32m      <a href='file:///c%3A/Users/RAZORBLADE/Desktop/Sem-VI/CS331%20-%20ML/Machine-Learning-Tasks/Machine-Learning-Tasks/Assignment-04/CNN/network.py?line=8'>9</a>\u001b[0m error \u001b[39m=\u001b[39m \u001b[39m0\u001b[39m\n\u001b[0;32m     <a href='file:///c%3A/Users/RAZORBLADE/Desktop/Sem-VI/CS331%20-%20ML/Machine-Learning-Tasks/Machine-Learning-Tasks/Assignment-04/CNN/network.py?line=9'>10</a>\u001b[0m \u001b[39mfor\u001b[39;00m x, y \u001b[39min\u001b[39;00m \u001b[39mzip\u001b[39m(x_train, y_train):\n\u001b[0;32m     <a href='file:///c%3A/Users/RAZORBLADE/Desktop/Sem-VI/CS331%20-%20ML/Machine-Learning-Tasks/Machine-Learning-Tasks/Assignment-04/CNN/network.py?line=10'>11</a>\u001b[0m     \u001b[39m# forward\u001b[39;00m\n\u001b[1;32m---> <a href='file:///c%3A/Users/RAZORBLADE/Desktop/Sem-VI/CS331%20-%20ML/Machine-Learning-Tasks/Machine-Learning-Tasks/Assignment-04/CNN/network.py?line=11'>12</a>\u001b[0m     output \u001b[39m=\u001b[39m predict(network, x)\n\u001b[0;32m     <a href='file:///c%3A/Users/RAZORBLADE/Desktop/Sem-VI/CS331%20-%20ML/Machine-Learning-Tasks/Machine-Learning-Tasks/Assignment-04/CNN/network.py?line=13'>14</a>\u001b[0m     \u001b[39m# error\u001b[39;00m\n\u001b[0;32m     <a href='file:///c%3A/Users/RAZORBLADE/Desktop/Sem-VI/CS331%20-%20ML/Machine-Learning-Tasks/Machine-Learning-Tasks/Assignment-04/CNN/network.py?line=14'>15</a>\u001b[0m     error \u001b[39m+\u001b[39m\u001b[39m=\u001b[39m loss(y, output)\n",
      "File \u001b[1;32mc:\\Users\\RAZORBLADE\\Desktop\\Sem-VI\\CS331 - ML\\Machine-Learning-Tasks\\Machine-Learning-Tasks\\Assignment-04\\CNN\\network.py:4\u001b[0m, in \u001b[0;36mpredict\u001b[1;34m(network, input)\u001b[0m\n\u001b[0;32m      <a href='file:///c%3A/Users/RAZORBLADE/Desktop/Sem-VI/CS331%20-%20ML/Machine-Learning-Tasks/Machine-Learning-Tasks/Assignment-04/CNN/network.py?line=1'>2</a>\u001b[0m output \u001b[39m=\u001b[39m \u001b[39minput\u001b[39m\n\u001b[0;32m      <a href='file:///c%3A/Users/RAZORBLADE/Desktop/Sem-VI/CS331%20-%20ML/Machine-Learning-Tasks/Machine-Learning-Tasks/Assignment-04/CNN/network.py?line=2'>3</a>\u001b[0m \u001b[39mfor\u001b[39;00m layer \u001b[39min\u001b[39;00m network:\n\u001b[1;32m----> <a href='file:///c%3A/Users/RAZORBLADE/Desktop/Sem-VI/CS331%20-%20ML/Machine-Learning-Tasks/Machine-Learning-Tasks/Assignment-04/CNN/network.py?line=3'>4</a>\u001b[0m     output \u001b[39m=\u001b[39m layer\u001b[39m.\u001b[39;49mforward(output)\n\u001b[0;32m      <a href='file:///c%3A/Users/RAZORBLADE/Desktop/Sem-VI/CS331%20-%20ML/Machine-Learning-Tasks/Machine-Learning-Tasks/Assignment-04/CNN/network.py?line=4'>5</a>\u001b[0m \u001b[39mreturn\u001b[39;00m output\n",
      "File \u001b[1;32mc:\\Users\\RAZORBLADE\\Desktop\\Sem-VI\\CS331 - ML\\Machine-Learning-Tasks\\Machine-Learning-Tasks\\Assignment-04\\CNN\\convolutional.py:21\u001b[0m, in \u001b[0;36mConvolutional.forward\u001b[1;34m(self, input)\u001b[0m\n\u001b[0;32m     <a href='file:///c%3A/Users/RAZORBLADE/Desktop/Sem-VI/CS331%20-%20ML/Machine-Learning-Tasks/Machine-Learning-Tasks/Assignment-04/CNN/convolutional.py?line=18'>19</a>\u001b[0m \u001b[39mfor\u001b[39;00m i \u001b[39min\u001b[39;00m \u001b[39mrange\u001b[39m(\u001b[39mself\u001b[39m\u001b[39m.\u001b[39mdepth):\n\u001b[0;32m     <a href='file:///c%3A/Users/RAZORBLADE/Desktop/Sem-VI/CS331%20-%20ML/Machine-Learning-Tasks/Machine-Learning-Tasks/Assignment-04/CNN/convolutional.py?line=19'>20</a>\u001b[0m     \u001b[39mfor\u001b[39;00m j \u001b[39min\u001b[39;00m \u001b[39mrange\u001b[39m(\u001b[39mself\u001b[39m\u001b[39m.\u001b[39minput_depth):\n\u001b[1;32m---> <a href='file:///c%3A/Users/RAZORBLADE/Desktop/Sem-VI/CS331%20-%20ML/Machine-Learning-Tasks/Machine-Learning-Tasks/Assignment-04/CNN/convolutional.py?line=20'>21</a>\u001b[0m         \u001b[39mself\u001b[39m\u001b[39m.\u001b[39moutput[i] \u001b[39m+\u001b[39m\u001b[39m=\u001b[39m signal\u001b[39m.\u001b[39;49mcorrelate2d(\u001b[39mself\u001b[39;49m\u001b[39m.\u001b[39;49minput[j], \u001b[39mself\u001b[39;49m\u001b[39m.\u001b[39;49mkernels[i, j], \u001b[39m\"\u001b[39;49m\u001b[39mvalid\u001b[39;49m\u001b[39m\"\u001b[39;49m)\n\u001b[0;32m     <a href='file:///c%3A/Users/RAZORBLADE/Desktop/Sem-VI/CS331%20-%20ML/Machine-Learning-Tasks/Machine-Learning-Tasks/Assignment-04/CNN/convolutional.py?line=21'>22</a>\u001b[0m \u001b[39mreturn\u001b[39;00m \u001b[39mself\u001b[39m\u001b[39m.\u001b[39moutput\n",
      "File \u001b[1;32m~\\AppData\\Local\\Programs\\Python\\Python39\\lib\\site-packages\\scipy\\signal\\signaltools.py:1792\u001b[0m, in \u001b[0;36mcorrelate2d\u001b[1;34m(in1, in2, mode, boundary, fillvalue)\u001b[0m\n\u001b[0;32m   <a href='file:///c%3A/Users/RAZORBLADE/AppData/Local/Programs/Python/Python39/lib/site-packages/scipy/signal/signaltools.py?line=1788'>1789</a>\u001b[0m in2 \u001b[39m=\u001b[39m np\u001b[39m.\u001b[39masarray(in2)\n\u001b[0;32m   <a href='file:///c%3A/Users/RAZORBLADE/AppData/Local/Programs/Python/Python39/lib/site-packages/scipy/signal/signaltools.py?line=1790'>1791</a>\u001b[0m \u001b[39mif\u001b[39;00m \u001b[39mnot\u001b[39;00m in1\u001b[39m.\u001b[39mndim \u001b[39m==\u001b[39m in2\u001b[39m.\u001b[39mndim \u001b[39m==\u001b[39m \u001b[39m2\u001b[39m:\n\u001b[1;32m-> <a href='file:///c%3A/Users/RAZORBLADE/AppData/Local/Programs/Python/Python39/lib/site-packages/scipy/signal/signaltools.py?line=1791'>1792</a>\u001b[0m     \u001b[39mraise\u001b[39;00m \u001b[39mValueError\u001b[39;00m(\u001b[39m'\u001b[39m\u001b[39mcorrelate2d inputs must both be 2-D arrays\u001b[39m\u001b[39m'\u001b[39m)\n\u001b[0;32m   <a href='file:///c%3A/Users/RAZORBLADE/AppData/Local/Programs/Python/Python39/lib/site-packages/scipy/signal/signaltools.py?line=1793'>1794</a>\u001b[0m swapped_inputs \u001b[39m=\u001b[39m _inputs_swap_needed(mode, in1\u001b[39m.\u001b[39mshape, in2\u001b[39m.\u001b[39mshape)\n\u001b[0;32m   <a href='file:///c%3A/Users/RAZORBLADE/AppData/Local/Programs/Python/Python39/lib/site-packages/scipy/signal/signaltools.py?line=1794'>1795</a>\u001b[0m \u001b[39mif\u001b[39;00m swapped_inputs:\n",
      "\u001b[1;31mValueError\u001b[0m: correlate2d inputs must both be 2-D arrays"
     ]
    }
   ],
   "source": [
    "# train\n",
    "train(\n",
    "    network,\n",
    "    binary_cross_entropy,\n",
    "    binary_cross_entropy_prime,\n",
    "    x_train,\n",
    "    y_train,\n",
    "    epochs=20,\n",
    "    learning_rate=0.1\n",
    ")"
   ]
  },
  {
   "cell_type": "markdown",
   "metadata": {},
   "source": [
    "## Test the Data"
   ]
  },
  {
   "cell_type": "code",
   "execution_count": null,
   "metadata": {},
   "outputs": [
    {
     "ename": "NameError",
     "evalue": "name 'network' is not defined",
     "output_type": "error",
     "traceback": [
      "\u001b[1;31m---------------------------------------------------------------------------\u001b[0m",
      "\u001b[1;31mNameError\u001b[0m                                 Traceback (most recent call last)",
      "\u001b[1;32mc:\\Users\\RAZORBLADE\\Desktop\\Sem-VI\\CS331 - ML\\Machine-Learning-Tasks\\Machine-Learning-Tasks\\Assignment-04\\CNN\\09-CNN.ipynb Cell 9'\u001b[0m in \u001b[0;36m<module>\u001b[1;34m\u001b[0m\n\u001b[0;32m      <a href='vscode-notebook-cell:/c%3A/Users/RAZORBLADE/Desktop/Sem-VI/CS331%20-%20ML/Machine-Learning-Tasks/Machine-Learning-Tasks/Assignment-04/CNN/09-CNN.ipynb#ch0000009?line=0'>1</a>\u001b[0m \u001b[39m# test\u001b[39;00m\n\u001b[0;32m      <a href='vscode-notebook-cell:/c%3A/Users/RAZORBLADE/Desktop/Sem-VI/CS331%20-%20ML/Machine-Learning-Tasks/Machine-Learning-Tasks/Assignment-04/CNN/09-CNN.ipynb#ch0000009?line=1'>2</a>\u001b[0m \u001b[39mfor\u001b[39;00m x, y \u001b[39min\u001b[39;00m \u001b[39mzip\u001b[39m(x_test, y_test):\n\u001b[1;32m----> <a href='vscode-notebook-cell:/c%3A/Users/RAZORBLADE/Desktop/Sem-VI/CS331%20-%20ML/Machine-Learning-Tasks/Machine-Learning-Tasks/Assignment-04/CNN/09-CNN.ipynb#ch0000009?line=2'>3</a>\u001b[0m     output \u001b[39m=\u001b[39m predict(network, x)\n\u001b[0;32m      <a href='vscode-notebook-cell:/c%3A/Users/RAZORBLADE/Desktop/Sem-VI/CS331%20-%20ML/Machine-Learning-Tasks/Machine-Learning-Tasks/Assignment-04/CNN/09-CNN.ipynb#ch0000009?line=3'>4</a>\u001b[0m     \u001b[39mprint\u001b[39m(\u001b[39m'\u001b[39m\u001b[39mpred:\u001b[39m\u001b[39m'\u001b[39m, np\u001b[39m.\u001b[39margmax(output), \u001b[39m'\u001b[39m\u001b[39m\\t\u001b[39;00m\u001b[39mtrue:\u001b[39m\u001b[39m'\u001b[39m, np\u001b[39m.\u001b[39margmax(y))\n",
      "\u001b[1;31mNameError\u001b[0m: name 'network' is not defined"
     ]
    }
   ],
   "source": [
    "# test\n",
    "for x, y in zip(x_test, y_test):\n",
    "    output = predict(network, x)\n",
    "    print('pred:', np.argmax(output), '\\ttrue:', np.argmax(y))"
   ]
  }
 ],
 "metadata": {
  "interpreter": {
   "hash": "74fc0cb1932bf4b202d61f4ecf9d651fa79ff967900f756d776817a87c2d0209"
  },
  "kernelspec": {
   "display_name": "Python 3.9.1 64-bit",
   "language": "python",
   "name": "python3"
  },
  "language_info": {
   "codemirror_mode": {
    "name": "ipython",
    "version": 3
   },
   "file_extension": ".py",
   "mimetype": "text/x-python",
   "name": "python",
   "nbconvert_exporter": "python",
   "pygments_lexer": "ipython3",
   "version": "3.9.1"
  },
  "orig_nbformat": 4
 },
 "nbformat": 4,
 "nbformat_minor": 2
}
