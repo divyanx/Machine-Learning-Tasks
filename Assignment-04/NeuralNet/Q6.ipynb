{
 "cells": [
  {
   "cell_type": "code",
   "execution_count": 9,
   "metadata": {},
   "outputs": [],
   "source": [
    "\n",
    "import numpy as np\n",
    "\n",
    "from network import Network\n",
    "from fullyconnlayer import FullyConnLayer\n",
    "from activation_layer import ActivationFuncLayer\n",
    "from activations import tanh, tanh_prime,sigmoid,sigmoid_prime,linear,linear_prime\n",
    "from losses import mse, mse_prime, cross_entropy, cross_entropy_prime\n",
    "from sklearn.datasets import load_boston\n"
   ]
  },
  {
   "cell_type": "code",
   "execution_count": 10,
   "metadata": {},
   "outputs": [],
   "source": [
    "from keras.datasets import mnist\n",
    "from keras.utils import np_utils\n"
   ]
  },
  {
   "cell_type": "code",
   "execution_count": 11,
   "metadata": {},
   "outputs": [],
   "source": [
    "\n",
    "(x_train, y_train), (x_test, y_test) = mnist.load_data()\n",
    "\n",
    "\n",
    "x_train = x_train.reshape(x_train.shape[0], 1, 28*28)\n",
    "x_train = x_train.astype('float32')\n",
    "x_train /= 255\n",
    "\n",
    "y_train = np_utils.to_categorical(y_train)\n",
    "\n",
    "x_test = x_test.reshape(x_test.shape[0], 1, 28*28)\n",
    "x_test = x_test.astype('float32')\n",
    "x_test /= 255\n",
    "y_test = np_utils.to_categorical(y_test)\n"
   ]
  },
  {
   "cell_type": "code",
   "execution_count": 12,
   "metadata": {},
   "outputs": [
    {
     "name": "stdout",
     "output_type": "stream",
     "text": [
      "epoch 1/30   error=0.304630\n",
      "epoch 2/30   error=0.182226\n",
      "epoch 3/30   error=0.139541\n",
      "epoch 4/30   error=0.121892\n",
      "epoch 5/30   error=0.113337\n",
      "epoch 6/30   error=0.108652\n",
      "epoch 7/30   error=0.105853\n",
      "epoch 8/30   error=0.104063\n",
      "epoch 9/30   error=0.102860\n",
      "epoch 10/30   error=0.102019\n",
      "epoch 11/30   error=0.101415\n",
      "epoch 12/30   error=0.100972\n",
      "epoch 13/30   error=0.100640\n",
      "epoch 14/30   error=0.100389\n",
      "epoch 15/30   error=0.100196\n",
      "epoch 16/30   error=0.100047\n",
      "epoch 17/30   error=0.099931\n",
      "epoch 18/30   error=0.099840\n",
      "epoch 19/30   error=0.099769\n",
      "epoch 20/30   error=0.099713\n",
      "epoch 21/30   error=0.099668\n",
      "epoch 22/30   error=0.099633\n",
      "epoch 23/30   error=0.099606\n",
      "epoch 24/30   error=0.099584\n",
      "epoch 25/30   error=0.099568\n",
      "epoch 26/30   error=0.099556\n",
      "epoch 27/30   error=0.099546\n",
      "epoch 28/30   error=0.099540\n",
      "epoch 29/30   error=0.099536\n",
      "epoch 30/30   error=0.099533\n",
      "\n",
      "\n",
      "predicted values : \n",
      "[array([[0.00051785, 0.00353168, 0.00981761, 0.00025537, 0.00500946,\n",
      "        0.00560237, 0.00126985, 0.00078163, 0.00289251, 0.01057732]]), array([[0.0187181 , 0.01292706, 0.00043173, 0.00372581, 0.00345046,\n",
      "        0.00873666, 0.0010031 , 0.02505729, 0.02000604, 0.00727342]]), array([[0.03138688, 0.00313895, 0.00868826, 0.00431968, 0.01714011,\n",
      "        0.050339  , 0.00063303, 0.02434127, 0.01798237, 0.00133573]])]\n",
      "true values : \n",
      "[[0. 0. 0. 0. 0. 0. 0. 1. 0. 0.]\n",
      " [0. 0. 1. 0. 0. 0. 0. 0. 0. 0.]\n",
      " [0. 1. 0. 0. 0. 0. 0. 0. 0. 0.]]\n"
     ]
    }
   ],
   "source": [
    "\n",
    "net = Network()\n",
    "net.insert(FullyConnLayer(28*28, 100))               \n",
    "net.insert(ActivationFuncLayer(tanh, tanh_prime))\n",
    "net.insert(FullyConnLayer(100, 10))  \n",
    "\n",
    "net.insert(ActivationFuncLayer(linear, linear_prime))\n",
    "\n",
    "\n",
    "\n",
    "net.employ(mse, mse)\n",
    "net.fit(x_train[0:1000], y_train[0:1000], epochs=30, learning_rate=0.001)\n",
    "\n",
    "\n",
    "out = net.predict(x_test[0:3])\n",
    "print(\"\\n\")\n",
    "print(\"predicted values : \")\n",
    "print(out, end=\"\\n\")\n",
    "print(\"true values : \")\n",
    "print(y_test[0:3])"
   ]
  },
  {
   "cell_type": "code",
   "execution_count": 17,
   "metadata": {},
   "outputs": [
    {
     "name": "stdout",
     "output_type": "stream",
     "text": [
      "epoch 1/20   error=-0.578224\n",
      "epoch 2/20   error=-0.638988\n",
      "epoch 3/20   error=-0.639123\n",
      "epoch 4/20   error=-0.639256\n",
      "epoch 5/20   error=-0.639387\n",
      "epoch 6/20   error=-0.639517\n",
      "epoch 7/20   error=-0.639644\n",
      "epoch 8/20   error=-0.639771\n",
      "epoch 9/20   error=-0.639895\n",
      "epoch 10/20   error=-0.640018\n",
      "epoch 11/20   error=-0.640139\n",
      "epoch 12/20   error=-0.640259\n",
      "epoch 13/20   error=-0.640378\n",
      "epoch 14/20   error=-0.640495\n",
      "epoch 15/20   error=-0.640611\n",
      "epoch 16/20   error=-0.640725\n",
      "epoch 17/20   error=-0.640838\n",
      "epoch 18/20   error=-0.640950\n",
      "epoch 19/20   error=-0.641061\n",
      "epoch 20/20   error=-0.641170\n",
      "\n",
      "\n",
      "predicted values : \n",
      "[array([[1.15433058e+00, 6.62008667e+00, 8.66828378e+03, 9.22593718e+03,\n",
      "        9.31731533e+03, 9.28958103e+03, 9.69896467e+03, 1.70356566e+00,\n",
      "        9.70049461e+03, 7.28864111e+03]]), array([[1.16075888e+00, 6.63807667e+00, 8.66051179e+03, 9.21818737e+03,\n",
      "        9.30355433e+03, 9.28189855e+03, 9.69124281e+03, 1.71500231e+00,\n",
      "        9.69277462e+03, 7.28090661e+03]]), array([[1.45233071e+00, 6.98064684e+00, 8.53343244e+03, 9.09116035e+03,\n",
      "        9.04860392e+03, 9.15142011e+03, 9.56121111e+03, 2.21849552e+00,\n",
      "        9.56242380e+03, 7.15473821e+03]])]\n",
      "true values : \n",
      "[[0. 0. 0. 0. 0. 0. 0. 1. 0. 0.]\n",
      " [0. 0. 1. 0. 0. 0. 0. 0. 0. 0.]\n",
      " [0. 1. 0. 0. 0. 0. 0. 0. 0. 0.]]\n"
     ]
    }
   ],
   "source": [
    "\n",
    "net = Network()\n",
    "net.insert(FullyConnLayer(28*28, 100))               \n",
    "net.insert(ActivationFuncLayer(tanh, tanh_prime))\n",
    "net.insert(FullyConnLayer(100, 10))  \n",
    "\n",
    "net.insert(ActivationFuncLayer(linear, linear_prime))\n",
    "\n",
    "\n",
    "\n",
    "net.employ(cross_entropy, cross_entropy_prime)\n",
    "net.fit(x_train[0:1000], y_train[0:1000], epochs=20, learning_rate=0.00001)\n",
    "\n",
    "\n",
    "out = net.predict(x_test[0:3])\n",
    "print(\"\\n\")\n",
    "print(\"predicted values : \")\n",
    "print(out, end=\"\\n\")\n",
    "print(\"true values : \")\n",
    "print(y_test[0:3])"
   ]
  }
 ],
 "metadata": {
  "interpreter": {
   "hash": "f23730d148f0a90638581163a05f33fe279101ed952ab2055512a2b448ea1fdc"
  },
  "kernelspec": {
   "display_name": "Python 3.8.8 ('base')",
   "language": "python",
   "name": "python3"
  },
  "language_info": {
   "codemirror_mode": {
    "name": "ipython",
    "version": 3
   },
   "file_extension": ".py",
   "mimetype": "text/x-python",
   "name": "python",
   "nbconvert_exporter": "python",
   "pygments_lexer": "ipython3",
   "version": "3.8.8"
  },
  "orig_nbformat": 4
 },
 "nbformat": 4,
 "nbformat_minor": 2
}
