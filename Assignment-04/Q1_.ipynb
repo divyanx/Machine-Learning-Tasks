{
 "cells": [
  {
   "cell_type": "markdown",
   "metadata": {},
   "source": [
    "## Matrix multiplication layer W X using forward and backward pass"
   ]
  },
  {
   "cell_type": "code",
   "execution_count": 1,
   "metadata": {},
   "outputs": [],
   "source": [
    "import matplotlib.pyplot as plt\n",
    "import numpy as np\n",
    "from sklearn import datasets\n",
    "import seaborn as sns"
   ]
  },
  {
   "cell_type": "markdown",
   "metadata": {},
   "source": [
    "Activation Functions\n"
   ]
  },
  {
   "cell_type": "code",
   "execution_count": 2,
   "metadata": {},
   "outputs": [],
   "source": [
    "# sigmoid function\n",
    "def sigmoid(x):\n",
    "    \"\"\"\n",
    "    Calculate sigmoid :-\n",
    "            g(x) = 1 / (1 + e^{-x})\n",
    "    \n",
    "    \"\"\"\n",
    "    return 1 / (1 + np.exp(-x))\n",
    "\n",
    "# tanh function\n",
    "def tanh(x):\n",
    "    \"\"\"\n",
    "    Calculate tanh\n",
    "    \"\"\"\n",
    "    return np.tanh(x)\n",
    "\n",
    "\n",
    "# ReLU function\n",
    "def relu(x):\n",
    "    \"\"\"\n",
    "    Calculate relu\n",
    "    \"\"\"\n",
    "    return np.maximum(0, x)\n",
    "\n",
    "# linear function\n",
    "def linear(x):\n",
    "    \"\"\"\n",
    "    Calculate linear\n",
    "    \"\"\"\n",
    "    return x\n"
   ]
  },
  {
   "cell_type": "code",
   "execution_count": null,
   "metadata": {},
   "outputs": [],
   "source": [
    "# backward pass \n",
    "def backward(x, y, w, b, activation):\n",
    "    "
   ]
  }
 ],
 "metadata": {
  "interpreter": {
   "hash": "830f94bdb91edb9eda12cd524ffbd1084f0421af505a9ac7e9674cbc2ea29622"
  },
  "kernelspec": {
   "display_name": "Python 3.10.1 64-bit",
   "language": "python",
   "name": "python3"
  },
  "language_info": {
   "codemirror_mode": {
    "name": "ipython",
    "version": 3
   },
   "file_extension": ".py",
   "mimetype": "text/x-python",
   "name": "python",
   "nbconvert_exporter": "python",
   "pygments_lexer": "ipython3",
   "version": "3.10.1"
  },
  "orig_nbformat": 4
 },
 "nbformat": 4,
 "nbformat_minor": 2
}
