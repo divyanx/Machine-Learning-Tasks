{
 "cells": [
  {
   "cell_type": "code",
   "execution_count": 238,
   "metadata": {},
   "outputs": [
    {
     "name": "stdout",
     "output_type": "stream",
     "text": [
      "Requirement already satisfied: plotly in c:\\users\\razorblade\\appdata\\local\\programs\\python\\python39\\lib\\site-packages (5.7.0)\n",
      "Requirement already satisfied: six in c:\\users\\razorblade\\appdata\\local\\programs\\python\\python39\\lib\\site-packages (from plotly) (1.15.0)\n",
      "Requirement already satisfied: tenacity>=6.2.0 in c:\\users\\razorblade\\appdata\\local\\programs\\python\\python39\\lib\\site-packages (from plotly) (8.0.1)\n",
      "Note: you may need to restart the kernel to use updated packages.\n"
     ]
    },
    {
     "name": "stderr",
     "output_type": "stream",
     "text": [
      "WARNING: You are using pip version 20.2.3; however, version 22.0.4 is available.\n",
      "You should consider upgrading via the 'C:\\Users\\RAZORBLADE\\AppData\\Local\\Programs\\Python\\Python39\\python.exe -m pip install --upgrade pip' command.\n"
     ]
    }
   ],
   "source": [
    "pip install plotly"
   ]
  },
  {
   "cell_type": "code",
   "execution_count": 239,
   "metadata": {},
   "outputs": [],
   "source": [
    "import matplotlib.pyplot as plt\n",
    "import numpy as np\n",
    "from sklearn import datasets\n",
    "import seaborn as sns\n",
    "import pandas as pd\n",
    "import plotly.express as px"
   ]
  },
  {
   "cell_type": "code",
   "execution_count": 240,
   "metadata": {},
   "outputs": [
    {
     "data": {
      "text/html": [
       "<div>\n",
       "<style scoped>\n",
       "    .dataframe tbody tr th:only-of-type {\n",
       "        vertical-align: middle;\n",
       "    }\n",
       "\n",
       "    .dataframe tbody tr th {\n",
       "        vertical-align: top;\n",
       "    }\n",
       "\n",
       "    .dataframe thead th {\n",
       "        text-align: right;\n",
       "    }\n",
       "</style>\n",
       "<table border=\"1\" class=\"dataframe\">\n",
       "  <thead>\n",
       "    <tr style=\"text-align: right;\">\n",
       "      <th></th>\n",
       "      <th>Area</th>\n",
       "      <th>Bedrooms</th>\n",
       "      <th>Prices(1000$)</th>\n",
       "    </tr>\n",
       "  </thead>\n",
       "  <tbody>\n",
       "    <tr>\n",
       "      <th>0</th>\n",
       "      <td>0.130010</td>\n",
       "      <td>-0.223675</td>\n",
       "      <td>0.475747</td>\n",
       "    </tr>\n",
       "    <tr>\n",
       "      <th>1</th>\n",
       "      <td>-0.504190</td>\n",
       "      <td>-0.223675</td>\n",
       "      <td>-0.084074</td>\n",
       "    </tr>\n",
       "    <tr>\n",
       "      <th>2</th>\n",
       "      <td>0.502476</td>\n",
       "      <td>-0.223675</td>\n",
       "      <td>0.228626</td>\n",
       "    </tr>\n",
       "    <tr>\n",
       "      <th>3</th>\n",
       "      <td>-0.735723</td>\n",
       "      <td>-1.537767</td>\n",
       "      <td>-0.867025</td>\n",
       "    </tr>\n",
       "    <tr>\n",
       "      <th>4</th>\n",
       "      <td>1.257476</td>\n",
       "      <td>1.090417</td>\n",
       "      <td>1.595389</td>\n",
       "    </tr>\n",
       "  </tbody>\n",
       "</table>\n",
       "</div>"
      ],
      "text/plain": [
       "       Area  Bedrooms  Prices(1000$)\n",
       "0  0.130010 -0.223675       0.475747\n",
       "1 -0.504190 -0.223675      -0.084074\n",
       "2  0.502476 -0.223675       0.228626\n",
       "3 -0.735723 -1.537767      -0.867025\n",
       "4  1.257476  1.090417       1.595389"
      ]
     },
     "execution_count": 240,
     "metadata": {},
     "output_type": "execute_result"
    }
   ],
   "source": [
    "#read ex1data2.txt file where first two columns are X1 and X2 and last column is Y\n",
    "df = pd.read_csv('ex1data2.txt', header=None)\n",
    "#rescale the data to be between 0 and 1\n",
    "df = (df - df.mean()) / df.std()\n",
    "\n",
    "df.columns = ['Area', 'Bedrooms', 'Prices(1000$)']\n",
    "#divide the last column by 1000 to get the prices in 1000$\n",
    "#df['Prices(1000$)'] = df['Prices(1000$)'] / 1000\n",
    "df.head()"
   ]
  },
  {
   "cell_type": "code",
   "execution_count": 241,
   "metadata": {},
   "outputs": [
    {
     "name": "stdout",
     "output_type": "stream",
     "text": [
      "(47, 2) (47,)\n"
     ]
    }
   ],
   "source": [
    "X = df.iloc[:,:-1].values\n",
    "y = df.iloc[:,-1].values\n",
    "print(X.shape, y.shape)"
   ]
  },
  {
   "cell_type": "markdown",
   "metadata": {},
   "source": [
    "Calculating Weights"
   ]
  },
  {
   "cell_type": "code",
   "execution_count": 242,
   "metadata": {},
   "outputs": [],
   "source": [
    "#function to calculate weights\n",
    "def wi(x,X,tau):\n",
    "    '''\n",
    "    function to calculate weights\n",
    "\n",
    "    Arguments:\n",
    "    x -- x where we want to predict\n",
    "    X -- training set\n",
    "    tau -- value of tau\n",
    "\n",
    "    Returns:\n",
    "    w -- weight\n",
    "    '''\n",
    "    # calculate the length of the training set\n",
    "    n = X.shape[0]\n",
    "    #initialize the weights \n",
    "    w = np.mat(np.eye(n))\n",
    "   # Calculating weights for all training examples [x(i)'s].\n",
    "    for i in range(n): \n",
    "        xi = X[i] \n",
    "        #print(xi, x)\n",
    "        d = (-2 * tau * tau) \n",
    "        #print(xi.shape, x.shape)\n",
    "        w[i, i] = np.exp(np.dot((xi-x), (xi-x).T)/d) \n",
    "        \n",
    "    return w\n",
    "    "
   ]
  },
  {
   "cell_type": "markdown",
   "metadata": {},
   "source": [
    "Predict Function"
   ]
  },
  {
   "cell_type": "code",
   "execution_count": 243,
   "metadata": {},
   "outputs": [],
   "source": [
    "def predict(X,y,x,tau):\n",
    "    '''\n",
    "    function to predict the value of x\n",
    "\n",
    "    Arguments:\n",
    "    X -- training set\n",
    "    y -- target values\n",
    "    x -- x where we want to predict\n",
    "    tau -- value of tau\n",
    "\n",
    "    Returns:\n",
    "    y_pred -- predicted value\n",
    "    '''\n",
    "    # calculate the length of the training set\n",
    "    m = X.shape[0] \n",
    "        \n",
    "    # Appending a cloumn of ones in X to add the bias term.\n",
    "    #X_ = np.append(arr = np.ones((m, 1)).astype(int), values = X, axis = 1) \n",
    "    X_ = np.append(X, np.ones(m).reshape(m,1), axis=1) \n",
    "        \n",
    "    # point is the x where we want to make the prediction. \n",
    "    #add  1 to the end of the point to add the bias term\n",
    "    x_ = np.append(arr = x, values = 1)\n",
    "    # x_ = np.array([x,1])\n",
    "    \n",
    "    #print(x_)\n",
    "    # Calculating the weight matrix using the wm function we wrote      #  # earlier. \n",
    "    \n",
    "    w = wi(x_, X_, tau) \n",
    "        \n",
    "    # Calculating parameter theta using the formula.\n",
    "    #print the shapes of X_ and w\n",
    " \n",
    "    # #reshape y to 47x1\n",
    "    y = y.reshape(m,1)\n",
    "    #print(X_.shape, w.shape,y.shape)\n",
    "    theta = np.linalg.pinv(X_.T*(w * X_))*(X_.T*(w * y))\n",
    "     \n",
    "        \n",
    "    # Calculating predictions.  \n",
    "    #reduce the dimension of theta\n",
    "    # reduce dimension of theta by 1 using numpy slicing\n",
    "    # theta = np.array([i[0] for i in theta])\n",
    "    # convert thets to be a row vector\n",
    "    \n",
    "    #print(\"------\",theta.shape)\n",
    "    pred = np.dot(x_, theta)\n",
    "    \n",
    "   \n",
    "\n",
    "    # # get the predicted value from pred\n",
    "    y_pred = pred[0,0]\n",
    "    #print(type (pred), y_pred)\n",
    "    # Returning the theta and predictions \n",
    "    # print(theta.shape)\n",
    "    return theta, y_pred"
   ]
  },
  {
   "cell_type": "markdown",
   "metadata": {},
   "source": [
    "Plot the Predictions"
   ]
  },
  {
   "cell_type": "code",
   "execution_count": 244,
   "metadata": {},
   "outputs": [],
   "source": [
    "#function to plot the predictions using predict function\n",
    "def plot_predictions(X,y,tau,nval):\n",
    "    '''\n",
    "    function to plot the predictions\n",
    "\n",
    "    Arguments:\n",
    "    X -- training set\n",
    "    y -- target values\n",
    "    tau -- value of tau\n",
    "\n",
    "    Returns:\n",
    "    None\n",
    "    '''\n",
    "    # X_test = np.linspace(-3, 3, nval) \n",
    "    \n",
    "   # Empty list for storing predictions. \n",
    "    preds = [] \n",
    "    m= X.shape[0]\n",
    "    #X_test = np.append(X, np.ones(m).reshape(m,1), axis=1)\n",
    "   # Predicting for all nval values and storing them in preds. \n",
    "    for point in X: \n",
    "        theta, pred = predict(X, y, point, tau) \n",
    "        preds.append(pred)\n",
    "        \n",
    "#    # Reshaping X_test and preds\n",
    "#     X_test = np.array(X).reshape(nval,1)\n",
    "#     preds = np.array(preds).reshape(nval,1)\n",
    "    \n",
    "   # Plotting \n",
    "    # plt.plot(X, y, 'b.')\n",
    "    # plt.plot(X_test, preds, 'r.') # Predictions in red color.\n",
    "    # plt.show()\n",
    "#    # Empty list for storing predictions. \n",
    "#     preds = [] \n",
    "#     theta=None\n",
    "    \n",
    "#    # Predicting for all nval values and storing them in preds. \n",
    "#     for point in X: \n",
    "#         theta, pred = predict(X, y, point, tau) \n",
    "#         #print(theta)\n",
    "#         preds.append(pred)\n",
    "    # print(preds,y)\n",
    "    #pot the predictions on a 3d plot.\n",
    "    \n",
    "    return preds\n",
    "    \n",
    "    \n",
    "    "
   ]
  },
  {
   "cell_type": "code",
   "execution_count": 245,
   "metadata": {},
   "outputs": [
    {
     "name": "stdout",
     "output_type": "stream",
     "text": [
      "[0.4575533319487152, -0.42605025882952097, 0.28353960869157735, -0.8626609554798237, 1.5953899564224558, -0.4600070950285584, -0.3477357674758068, -0.5816599233398341, -0.7499149975452306, -0.34413273622245555, -0.5455150468811522, 0.10334996397155445, -0.14269171835719902, 2.874981038969331, -0.8169967125790095, 0.8707072459593952, -0.3240006870930858, -0.786196228621733, 1.2757775081419371, 2.0680385928660527, -0.6194807454435207, -0.6660472125988502, -0.4330482845524195, -0.5238965535344461, 1.8673026865652198, -0.7022713769060479, -0.421908728599532, 0.7450816822699253, 0.5363965527583032, -0.32150588169605054, -0.06650957899550786, -1.3636659989209772, -0.2944115765163402, 1.8636177057833567, -0.37858051498000134, -0.5243614124187115, -0.7910194835080282, -0.17985145909641442, 1.6681662502567884, -0.12850419329418336, 0.22338757725868685, 0.3117390615506155, -0.199932523863259, -0.7187863922263107, -1.283596452079033, -0.43238040943077494, -0.7237346087005274]\n"
     ]
    },
    {
     "data": {
      "image/png": "[encoded data removed]",
      "text/plain": [
       "<Figure size 432x288 with 1 Axes>"
      ]
     },
     "metadata": {
      "needs_background": "light"
     },
     "output_type": "display_data"
    }
   ],
   "source": [
    "# np.random.seed(8)\n",
    "# X = np.random.randn(1000,1)\n",
    "# y = 2*(X**3) + 10 + 4.6*np.random.randn(1000,1)\n",
    "nval = len(X)\n",
    "tau = 0.08\n",
    "p = plot_predictions(X,y,tau,nval)\n",
    "print(p)\n",
    "fig = plt.figure()\n",
    "ax = fig.add_subplot(111, projection='3d')\n",
    "ax.scatter(X[:,0], X[:,1], y, c='r', marker='o')\n",
    "ax.scatter(X[:,0], X[:,1], p, c='b', marker='o')\n",
    "plt.show()"
   ]
  },
  {
   "cell_type": "code",
   "execution_count": 246,
   "metadata": {},
   "outputs": [
    {
     "data": {
      "text/html": [
       "<div>\n",
       "<style scoped>\n",
       "    .dataframe tbody tr th:only-of-type {\n",
       "        vertical-align: middle;\n",
       "    }\n",
       "\n",
       "    .dataframe tbody tr th {\n",
       "        vertical-align: top;\n",
       "    }\n",
       "\n",
       "    .dataframe thead th {\n",
       "        text-align: right;\n",
       "    }\n",
       "</style>\n",
       "<table border=\"1\" class=\"dataframe\">\n",
       "  <thead>\n",
       "    <tr style=\"text-align: right;\">\n",
       "      <th></th>\n",
       "      <th>Area</th>\n",
       "      <th>Bedrooms</th>\n",
       "      <th>Prices(1000$)</th>\n",
       "      <th>label</th>\n",
       "    </tr>\n",
       "  </thead>\n",
       "  <tbody>\n",
       "    <tr>\n",
       "      <th>0</th>\n",
       "      <td>0.130010</td>\n",
       "      <td>-0.223675</td>\n",
       "      <td>0.475747</td>\n",
       "      <td>original</td>\n",
       "    </tr>\n",
       "    <tr>\n",
       "      <th>1</th>\n",
       "      <td>-0.504190</td>\n",
       "      <td>-0.223675</td>\n",
       "      <td>-0.084074</td>\n",
       "      <td>original</td>\n",
       "    </tr>\n",
       "    <tr>\n",
       "      <th>2</th>\n",
       "      <td>0.502476</td>\n",
       "      <td>-0.223675</td>\n",
       "      <td>0.228626</td>\n",
       "      <td>original</td>\n",
       "    </tr>\n",
       "    <tr>\n",
       "      <th>3</th>\n",
       "      <td>-0.735723</td>\n",
       "      <td>-1.537767</td>\n",
       "      <td>-0.867025</td>\n",
       "      <td>original</td>\n",
       "    </tr>\n",
       "    <tr>\n",
       "      <th>4</th>\n",
       "      <td>1.257476</td>\n",
       "      <td>1.090417</td>\n",
       "      <td>1.595389</td>\n",
       "      <td>original</td>\n",
       "    </tr>\n",
       "    <tr>\n",
       "      <th>5</th>\n",
       "      <td>-0.019732</td>\n",
       "      <td>1.090417</td>\n",
       "      <td>-0.323998</td>\n",
       "      <td>original</td>\n",
       "    </tr>\n",
       "    <tr>\n",
       "      <th>6</th>\n",
       "      <td>-0.587240</td>\n",
       "      <td>-0.223675</td>\n",
       "      <td>-0.204036</td>\n",
       "      <td>original</td>\n",
       "    </tr>\n",
       "    <tr>\n",
       "      <th>7</th>\n",
       "      <td>-0.721881</td>\n",
       "      <td>-0.223675</td>\n",
       "      <td>-1.130948</td>\n",
       "      <td>original</td>\n",
       "    </tr>\n",
       "    <tr>\n",
       "      <th>8</th>\n",
       "      <td>-0.781023</td>\n",
       "      <td>-0.223675</td>\n",
       "      <td>-1.026973</td>\n",
       "      <td>original</td>\n",
       "    </tr>\n",
       "    <tr>\n",
       "      <th>9</th>\n",
       "      <td>-0.637573</td>\n",
       "      <td>-0.223675</td>\n",
       "      <td>-0.783051</td>\n",
       "      <td>original</td>\n",
       "    </tr>\n",
       "    <tr>\n",
       "      <th>10</th>\n",
       "      <td>-0.076357</td>\n",
       "      <td>1.090417</td>\n",
       "      <td>-0.803053</td>\n",
       "      <td>original</td>\n",
       "    </tr>\n",
       "    <tr>\n",
       "      <th>11</th>\n",
       "      <td>-0.000857</td>\n",
       "      <td>-0.223675</td>\n",
       "      <td>0.052682</td>\n",
       "      <td>original</td>\n",
       "    </tr>\n",
       "    <tr>\n",
       "      <th>12</th>\n",
       "      <td>-0.139273</td>\n",
       "      <td>-0.223675</td>\n",
       "      <td>-0.083283</td>\n",
       "      <td>original</td>\n",
       "    </tr>\n",
       "    <tr>\n",
       "      <th>13</th>\n",
       "      <td>3.117292</td>\n",
       "      <td>2.404508</td>\n",
       "      <td>2.874981</td>\n",
       "      <td>original</td>\n",
       "    </tr>\n",
       "    <tr>\n",
       "      <th>14</th>\n",
       "      <td>-0.921956</td>\n",
       "      <td>-0.223675</td>\n",
       "      <td>-0.643896</td>\n",
       "      <td>original</td>\n",
       "    </tr>\n",
       "    <tr>\n",
       "      <th>15</th>\n",
       "      <td>0.376643</td>\n",
       "      <td>1.090417</td>\n",
       "      <td>0.875619</td>\n",
       "      <td>original</td>\n",
       "    </tr>\n",
       "    <tr>\n",
       "      <th>16</th>\n",
       "      <td>-0.856523</td>\n",
       "      <td>-1.537767</td>\n",
       "      <td>-0.323998</td>\n",
       "      <td>original</td>\n",
       "    </tr>\n",
       "    <tr>\n",
       "      <th>17</th>\n",
       "      <td>-0.962223</td>\n",
       "      <td>-0.223675</td>\n",
       "      <td>-1.123743</td>\n",
       "      <td>original</td>\n",
       "    </tr>\n",
       "    <tr>\n",
       "      <th>18</th>\n",
       "      <td>0.765468</td>\n",
       "      <td>1.090417</td>\n",
       "      <td>1.276275</td>\n",
       "      <td>original</td>\n",
       "    </tr>\n",
       "    <tr>\n",
       "      <th>19</th>\n",
       "      <td>1.296484</td>\n",
       "      <td>1.090417</td>\n",
       "      <td>2.068039</td>\n",
       "      <td>original</td>\n",
       "    </tr>\n",
       "    <tr>\n",
       "      <th>20</th>\n",
       "      <td>-0.294048</td>\n",
       "      <td>-0.223675</td>\n",
       "      <td>-0.699878</td>\n",
       "      <td>original</td>\n",
       "    </tr>\n",
       "    <tr>\n",
       "      <th>21</th>\n",
       "      <td>-0.141790</td>\n",
       "      <td>-1.537767</td>\n",
       "      <td>-0.683083</td>\n",
       "      <td>original</td>\n",
       "    </tr>\n",
       "    <tr>\n",
       "      <th>22</th>\n",
       "      <td>-0.499157</td>\n",
       "      <td>-0.223675</td>\n",
       "      <td>-0.779852</td>\n",
       "      <td>original</td>\n",
       "    </tr>\n",
       "    <tr>\n",
       "      <th>23</th>\n",
       "      <td>-0.048673</td>\n",
       "      <td>1.090417</td>\n",
       "      <td>-0.643896</td>\n",
       "      <td>original</td>\n",
       "    </tr>\n",
       "    <tr>\n",
       "      <th>24</th>\n",
       "      <td>2.377392</td>\n",
       "      <td>-0.223675</td>\n",
       "      <td>1.867303</td>\n",
       "      <td>original</td>\n",
       "    </tr>\n",
       "    <tr>\n",
       "      <th>25</th>\n",
       "      <td>-1.133356</td>\n",
       "      <td>-0.223675</td>\n",
       "      <td>-0.723870</td>\n",
       "      <td>original</td>\n",
       "    </tr>\n",
       "    <tr>\n",
       "      <th>26</th>\n",
       "      <td>-0.682873</td>\n",
       "      <td>-0.223675</td>\n",
       "      <td>0.992382</td>\n",
       "      <td>original</td>\n",
       "    </tr>\n",
       "    <tr>\n",
       "      <th>27</th>\n",
       "      <td>0.661026</td>\n",
       "      <td>-0.223675</td>\n",
       "      <td>1.028370</td>\n",
       "      <td>original</td>\n",
       "    </tr>\n",
       "    <tr>\n",
       "      <th>28</th>\n",
       "      <td>0.250810</td>\n",
       "      <td>-0.223675</td>\n",
       "      <td>1.076355</td>\n",
       "      <td>original</td>\n",
       "    </tr>\n",
       "    <tr>\n",
       "      <th>29</th>\n",
       "      <td>0.800701</td>\n",
       "      <td>-0.223675</td>\n",
       "      <td>-0.323998</td>\n",
       "      <td>original</td>\n",
       "    </tr>\n",
       "    <tr>\n",
       "      <th>30</th>\n",
       "      <td>-0.203448</td>\n",
       "      <td>-1.537767</td>\n",
       "      <td>0.075875</td>\n",
       "      <td>original</td>\n",
       "    </tr>\n",
       "    <tr>\n",
       "      <th>31</th>\n",
       "      <td>-1.259189</td>\n",
       "      <td>-2.851859</td>\n",
       "      <td>-1.363666</td>\n",
       "      <td>original</td>\n",
       "    </tr>\n",
       "    <tr>\n",
       "      <th>32</th>\n",
       "      <td>0.049477</td>\n",
       "      <td>1.090417</td>\n",
       "      <td>-0.204036</td>\n",
       "      <td>original</td>\n",
       "    </tr>\n",
       "    <tr>\n",
       "      <th>33</th>\n",
       "      <td>1.429868</td>\n",
       "      <td>-0.223675</td>\n",
       "      <td>1.915287</td>\n",
       "      <td>original</td>\n",
       "    </tr>\n",
       "    <tr>\n",
       "      <th>34</th>\n",
       "      <td>-0.238682</td>\n",
       "      <td>1.090417</td>\n",
       "      <td>-0.435962</td>\n",
       "      <td>original</td>\n",
       "    </tr>\n",
       "    <tr>\n",
       "      <th>35</th>\n",
       "      <td>-0.709298</td>\n",
       "      <td>-0.223675</td>\n",
       "      <td>-0.723870</td>\n",
       "      <td>original</td>\n",
       "    </tr>\n",
       "    <tr>\n",
       "      <th>36</th>\n",
       "      <td>-0.958448</td>\n",
       "      <td>-0.223675</td>\n",
       "      <td>-0.883819</td>\n",
       "      <td>original</td>\n",
       "    </tr>\n",
       "    <tr>\n",
       "      <th>37</th>\n",
       "      <td>0.165243</td>\n",
       "      <td>1.090417</td>\n",
       "      <td>0.036687</td>\n",
       "      <td>original</td>\n",
       "    </tr>\n",
       "    <tr>\n",
       "      <th>38</th>\n",
       "      <td>2.786350</td>\n",
       "      <td>1.090417</td>\n",
       "      <td>1.668166</td>\n",
       "      <td>original</td>\n",
       "    </tr>\n",
       "    <tr>\n",
       "      <th>39</th>\n",
       "      <td>0.202993</td>\n",
       "      <td>1.090417</td>\n",
       "      <td>-0.427165</td>\n",
       "      <td>original</td>\n",
       "    </tr>\n",
       "    <tr>\n",
       "      <th>40</th>\n",
       "      <td>-0.423657</td>\n",
       "      <td>-1.537767</td>\n",
       "      <td>0.224627</td>\n",
       "      <td>original</td>\n",
       "    </tr>\n",
       "    <tr>\n",
       "      <th>41</th>\n",
       "      <td>0.298626</td>\n",
       "      <td>-0.223675</td>\n",
       "      <td>-0.084074</td>\n",
       "      <td>original</td>\n",
       "    </tr>\n",
       "    <tr>\n",
       "      <th>42</th>\n",
       "      <td>0.712618</td>\n",
       "      <td>1.090417</td>\n",
       "      <td>-0.211234</td>\n",
       "      <td>original</td>\n",
       "    </tr>\n",
       "    <tr>\n",
       "      <th>43</th>\n",
       "      <td>-1.007523</td>\n",
       "      <td>-0.223675</td>\n",
       "      <td>-0.331196</td>\n",
       "      <td>original</td>\n",
       "    </tr>\n",
       "    <tr>\n",
       "      <th>44</th>\n",
       "      <td>-1.445423</td>\n",
       "      <td>-1.537767</td>\n",
       "      <td>-1.283692</td>\n",
       "      <td>original</td>\n",
       "    </tr>\n",
       "    <tr>\n",
       "      <th>45</th>\n",
       "      <td>-0.187090</td>\n",
       "      <td>1.090417</td>\n",
       "      <td>-0.323998</td>\n",
       "      <td>original</td>\n",
       "    </tr>\n",
       "    <tr>\n",
       "      <th>46</th>\n",
       "      <td>-1.003748</td>\n",
       "      <td>-0.223675</td>\n",
       "      <td>-0.807044</td>\n",
       "      <td>original</td>\n",
       "    </tr>\n",
       "  </tbody>\n",
       "</table>\n",
       "</div>"
      ],
      "text/plain": [
       "        Area  Bedrooms  Prices(1000$)     label\n",
       "0   0.130010 -0.223675       0.475747  original\n",
       "1  -0.504190 -0.223675      -0.084074  original\n",
       "2   0.502476 -0.223675       0.228626  original\n",
       "3  -0.735723 -1.537767      -0.867025  original\n",
       "4   1.257476  1.090417       1.595389  original\n",
       "5  -0.019732  1.090417      -0.323998  original\n",
       "6  -0.587240 -0.223675      -0.204036  original\n",
       "7  -0.721881 -0.223675      -1.130948  original\n",
       "8  -0.781023 -0.223675      -1.026973  original\n",
       "9  -0.637573 -0.223675      -0.783051  original\n",
       "10 -0.076357  1.090417      -0.803053  original\n",
       "11 -0.000857 -0.223675       0.052682  original\n",
       "12 -0.139273 -0.223675      -0.083283  original\n",
       "13  3.117292  2.404508       2.874981  original\n",
       "14 -0.921956 -0.223675      -0.643896  original\n",
       "15  0.376643  1.090417       0.875619  original\n",
       "16 -0.856523 -1.537767      -0.323998  original\n",
       "17 -0.962223 -0.223675      -1.123743  original\n",
       "18  0.765468  1.090417       1.276275  original\n",
       "19  1.296484  1.090417       2.068039  original\n",
       "20 -0.294048 -0.223675      -0.699878  original\n",
       "21 -0.141790 -1.537767      -0.683083  original\n",
       "22 -0.499157 -0.223675      -0.779852  original\n",
       "23 -0.048673  1.090417      -0.643896  original\n",
       "24  2.377392 -0.223675       1.867303  original\n",
       "25 -1.133356 -0.223675      -0.723870  original\n",
       "26 -0.682873 -0.223675       0.992382  original\n",
       "27  0.661026 -0.223675       1.028370  original\n",
       "28  0.250810 -0.223675       1.076355  original\n",
       "29  0.800701 -0.223675      -0.323998  original\n",
       "30 -0.203448 -1.537767       0.075875  original\n",
       "31 -1.259189 -2.851859      -1.363666  original\n",
       "32  0.049477  1.090417      -0.204036  original\n",
       "33  1.429868 -0.223675       1.915287  original\n",
       "34 -0.238682  1.090417      -0.435962  original\n",
       "35 -0.709298 -0.223675      -0.723870  original\n",
       "36 -0.958448 -0.223675      -0.883819  original\n",
       "37  0.165243  1.090417       0.036687  original\n",
       "38  2.786350  1.090417       1.668166  original\n",
       "39  0.202993  1.090417      -0.427165  original\n",
       "40 -0.423657 -1.537767       0.224627  original\n",
       "41  0.298626 -0.223675      -0.084074  original\n",
       "42  0.712618  1.090417      -0.211234  original\n",
       "43 -1.007523 -0.223675      -0.331196  original\n",
       "44 -1.445423 -1.537767      -1.283692  original\n",
       "45 -0.187090  1.090417      -0.323998  original\n",
       "46 -1.003748 -0.223675      -0.807044  original"
      ]
     },
     "execution_count": 246,
     "metadata": {},
     "output_type": "execute_result"
    }
   ],
   "source": [
    "#add one column at the end of df \n",
    "df['label'] = 'original'\n",
    "df"
   ]
  },
  {
   "cell_type": "code",
   "execution_count": 247,
   "metadata": {},
   "outputs": [
    {
     "data": {
      "text/html": [
       "<div>\n",
       "<style scoped>\n",
       "    .dataframe tbody tr th:only-of-type {\n",
       "        vertical-align: middle;\n",
       "    }\n",
       "\n",
       "    .dataframe tbody tr th {\n",
       "        vertical-align: top;\n",
       "    }\n",
       "\n",
       "    .dataframe thead th {\n",
       "        text-align: right;\n",
       "    }\n",
       "</style>\n",
       "<table border=\"1\" class=\"dataframe\">\n",
       "  <thead>\n",
       "    <tr style=\"text-align: right;\">\n",
       "      <th></th>\n",
       "      <th>Prices(1000$)</th>\n",
       "      <th>Area</th>\n",
       "      <th>Bedrooms</th>\n",
       "      <th>label</th>\n",
       "    </tr>\n",
       "  </thead>\n",
       "  <tbody>\n",
       "    <tr>\n",
       "      <th>0</th>\n",
       "      <td>0.457553</td>\n",
       "      <td>0.130010</td>\n",
       "      <td>-0.223675</td>\n",
       "      <td>Predicted</td>\n",
       "    </tr>\n",
       "    <tr>\n",
       "      <th>1</th>\n",
       "      <td>-0.426050</td>\n",
       "      <td>-0.504190</td>\n",
       "      <td>-0.223675</td>\n",
       "      <td>Predicted</td>\n",
       "    </tr>\n",
       "    <tr>\n",
       "      <th>2</th>\n",
       "      <td>0.283540</td>\n",
       "      <td>0.502476</td>\n",
       "      <td>-0.223675</td>\n",
       "      <td>Predicted</td>\n",
       "    </tr>\n",
       "    <tr>\n",
       "      <th>3</th>\n",
       "      <td>-0.862661</td>\n",
       "      <td>-0.735723</td>\n",
       "      <td>-1.537767</td>\n",
       "      <td>Predicted</td>\n",
       "    </tr>\n",
       "    <tr>\n",
       "      <th>4</th>\n",
       "      <td>1.595390</td>\n",
       "      <td>1.257476</td>\n",
       "      <td>1.090417</td>\n",
       "      <td>Predicted</td>\n",
       "    </tr>\n",
       "    <tr>\n",
       "      <th>5</th>\n",
       "      <td>-0.460007</td>\n",
       "      <td>-0.019732</td>\n",
       "      <td>1.090417</td>\n",
       "      <td>Predicted</td>\n",
       "    </tr>\n",
       "    <tr>\n",
       "      <th>6</th>\n",
       "      <td>-0.347736</td>\n",
       "      <td>-0.587240</td>\n",
       "      <td>-0.223675</td>\n",
       "      <td>Predicted</td>\n",
       "    </tr>\n",
       "    <tr>\n",
       "      <th>7</th>\n",
       "      <td>-0.581660</td>\n",
       "      <td>-0.721881</td>\n",
       "      <td>-0.223675</td>\n",
       "      <td>Predicted</td>\n",
       "    </tr>\n",
       "    <tr>\n",
       "      <th>8</th>\n",
       "      <td>-0.749915</td>\n",
       "      <td>-0.781023</td>\n",
       "      <td>-0.223675</td>\n",
       "      <td>Predicted</td>\n",
       "    </tr>\n",
       "    <tr>\n",
       "      <th>9</th>\n",
       "      <td>-0.344133</td>\n",
       "      <td>-0.637573</td>\n",
       "      <td>-0.223675</td>\n",
       "      <td>Predicted</td>\n",
       "    </tr>\n",
       "    <tr>\n",
       "      <th>10</th>\n",
       "      <td>-0.545515</td>\n",
       "      <td>-0.076357</td>\n",
       "      <td>1.090417</td>\n",
       "      <td>Predicted</td>\n",
       "    </tr>\n",
       "    <tr>\n",
       "      <th>11</th>\n",
       "      <td>0.103350</td>\n",
       "      <td>-0.000857</td>\n",
       "      <td>-0.223675</td>\n",
       "      <td>Predicted</td>\n",
       "    </tr>\n",
       "    <tr>\n",
       "      <th>12</th>\n",
       "      <td>-0.142692</td>\n",
       "      <td>-0.139273</td>\n",
       "      <td>-0.223675</td>\n",
       "      <td>Predicted</td>\n",
       "    </tr>\n",
       "    <tr>\n",
       "      <th>13</th>\n",
       "      <td>2.874981</td>\n",
       "      <td>3.117292</td>\n",
       "      <td>2.404508</td>\n",
       "      <td>Predicted</td>\n",
       "    </tr>\n",
       "    <tr>\n",
       "      <th>14</th>\n",
       "      <td>-0.816997</td>\n",
       "      <td>-0.921956</td>\n",
       "      <td>-0.223675</td>\n",
       "      <td>Predicted</td>\n",
       "    </tr>\n",
       "    <tr>\n",
       "      <th>15</th>\n",
       "      <td>0.870707</td>\n",
       "      <td>0.376643</td>\n",
       "      <td>1.090417</td>\n",
       "      <td>Predicted</td>\n",
       "    </tr>\n",
       "    <tr>\n",
       "      <th>16</th>\n",
       "      <td>-0.324001</td>\n",
       "      <td>-0.856523</td>\n",
       "      <td>-1.537767</td>\n",
       "      <td>Predicted</td>\n",
       "    </tr>\n",
       "    <tr>\n",
       "      <th>17</th>\n",
       "      <td>-0.786196</td>\n",
       "      <td>-0.962223</td>\n",
       "      <td>-0.223675</td>\n",
       "      <td>Predicted</td>\n",
       "    </tr>\n",
       "    <tr>\n",
       "      <th>18</th>\n",
       "      <td>1.275778</td>\n",
       "      <td>0.765468</td>\n",
       "      <td>1.090417</td>\n",
       "      <td>Predicted</td>\n",
       "    </tr>\n",
       "    <tr>\n",
       "      <th>19</th>\n",
       "      <td>2.068039</td>\n",
       "      <td>1.296484</td>\n",
       "      <td>1.090417</td>\n",
       "      <td>Predicted</td>\n",
       "    </tr>\n",
       "    <tr>\n",
       "      <th>20</th>\n",
       "      <td>-0.619481</td>\n",
       "      <td>-0.294048</td>\n",
       "      <td>-0.223675</td>\n",
       "      <td>Predicted</td>\n",
       "    </tr>\n",
       "    <tr>\n",
       "      <th>21</th>\n",
       "      <td>-0.666047</td>\n",
       "      <td>-0.141790</td>\n",
       "      <td>-1.537767</td>\n",
       "      <td>Predicted</td>\n",
       "    </tr>\n",
       "    <tr>\n",
       "      <th>22</th>\n",
       "      <td>-0.433048</td>\n",
       "      <td>-0.499157</td>\n",
       "      <td>-0.223675</td>\n",
       "      <td>Predicted</td>\n",
       "    </tr>\n",
       "    <tr>\n",
       "      <th>23</th>\n",
       "      <td>-0.523897</td>\n",
       "      <td>-0.048673</td>\n",
       "      <td>1.090417</td>\n",
       "      <td>Predicted</td>\n",
       "    </tr>\n",
       "    <tr>\n",
       "      <th>24</th>\n",
       "      <td>1.867303</td>\n",
       "      <td>2.377392</td>\n",
       "      <td>-0.223675</td>\n",
       "      <td>Predicted</td>\n",
       "    </tr>\n",
       "    <tr>\n",
       "      <th>25</th>\n",
       "      <td>-0.702271</td>\n",
       "      <td>-1.133356</td>\n",
       "      <td>-0.223675</td>\n",
       "      <td>Predicted</td>\n",
       "    </tr>\n",
       "    <tr>\n",
       "      <th>26</th>\n",
       "      <td>-0.421909</td>\n",
       "      <td>-0.682873</td>\n",
       "      <td>-0.223675</td>\n",
       "      <td>Predicted</td>\n",
       "    </tr>\n",
       "    <tr>\n",
       "      <th>27</th>\n",
       "      <td>0.745082</td>\n",
       "      <td>0.661026</td>\n",
       "      <td>-0.223675</td>\n",
       "      <td>Predicted</td>\n",
       "    </tr>\n",
       "    <tr>\n",
       "      <th>28</th>\n",
       "      <td>0.536397</td>\n",
       "      <td>0.250810</td>\n",
       "      <td>-0.223675</td>\n",
       "      <td>Predicted</td>\n",
       "    </tr>\n",
       "    <tr>\n",
       "      <th>29</th>\n",
       "      <td>-0.321506</td>\n",
       "      <td>0.800701</td>\n",
       "      <td>-0.223675</td>\n",
       "      <td>Predicted</td>\n",
       "    </tr>\n",
       "    <tr>\n",
       "      <th>30</th>\n",
       "      <td>-0.066510</td>\n",
       "      <td>-0.203448</td>\n",
       "      <td>-1.537767</td>\n",
       "      <td>Predicted</td>\n",
       "    </tr>\n",
       "    <tr>\n",
       "      <th>31</th>\n",
       "      <td>-1.363666</td>\n",
       "      <td>-1.259189</td>\n",
       "      <td>-2.851859</td>\n",
       "      <td>Predicted</td>\n",
       "    </tr>\n",
       "    <tr>\n",
       "      <th>32</th>\n",
       "      <td>-0.294412</td>\n",
       "      <td>0.049477</td>\n",
       "      <td>1.090417</td>\n",
       "      <td>Predicted</td>\n",
       "    </tr>\n",
       "    <tr>\n",
       "      <th>33</th>\n",
       "      <td>1.863618</td>\n",
       "      <td>1.429868</td>\n",
       "      <td>-0.223675</td>\n",
       "      <td>Predicted</td>\n",
       "    </tr>\n",
       "    <tr>\n",
       "      <th>34</th>\n",
       "      <td>-0.378581</td>\n",
       "      <td>-0.238682</td>\n",
       "      <td>1.090417</td>\n",
       "      <td>Predicted</td>\n",
       "    </tr>\n",
       "    <tr>\n",
       "      <th>35</th>\n",
       "      <td>-0.524361</td>\n",
       "      <td>-0.709298</td>\n",
       "      <td>-0.223675</td>\n",
       "      <td>Predicted</td>\n",
       "    </tr>\n",
       "    <tr>\n",
       "      <th>36</th>\n",
       "      <td>-0.791019</td>\n",
       "      <td>-0.958448</td>\n",
       "      <td>-0.223675</td>\n",
       "      <td>Predicted</td>\n",
       "    </tr>\n",
       "    <tr>\n",
       "      <th>37</th>\n",
       "      <td>-0.179851</td>\n",
       "      <td>0.165243</td>\n",
       "      <td>1.090417</td>\n",
       "      <td>Predicted</td>\n",
       "    </tr>\n",
       "    <tr>\n",
       "      <th>38</th>\n",
       "      <td>1.668166</td>\n",
       "      <td>2.786350</td>\n",
       "      <td>1.090417</td>\n",
       "      <td>Predicted</td>\n",
       "    </tr>\n",
       "    <tr>\n",
       "      <th>39</th>\n",
       "      <td>-0.128504</td>\n",
       "      <td>0.202993</td>\n",
       "      <td>1.090417</td>\n",
       "      <td>Predicted</td>\n",
       "    </tr>\n",
       "    <tr>\n",
       "      <th>40</th>\n",
       "      <td>0.223388</td>\n",
       "      <td>-0.423657</td>\n",
       "      <td>-1.537767</td>\n",
       "      <td>Predicted</td>\n",
       "    </tr>\n",
       "    <tr>\n",
       "      <th>41</th>\n",
       "      <td>0.311739</td>\n",
       "      <td>0.298626</td>\n",
       "      <td>-0.223675</td>\n",
       "      <td>Predicted</td>\n",
       "    </tr>\n",
       "    <tr>\n",
       "      <th>42</th>\n",
       "      <td>-0.199933</td>\n",
       "      <td>0.712618</td>\n",
       "      <td>1.090417</td>\n",
       "      <td>Predicted</td>\n",
       "    </tr>\n",
       "    <tr>\n",
       "      <th>43</th>\n",
       "      <td>-0.718786</td>\n",
       "      <td>-1.007523</td>\n",
       "      <td>-0.223675</td>\n",
       "      <td>Predicted</td>\n",
       "    </tr>\n",
       "    <tr>\n",
       "      <th>44</th>\n",
       "      <td>-1.283596</td>\n",
       "      <td>-1.445423</td>\n",
       "      <td>-1.537767</td>\n",
       "      <td>Predicted</td>\n",
       "    </tr>\n",
       "    <tr>\n",
       "      <th>45</th>\n",
       "      <td>-0.432380</td>\n",
       "      <td>-0.187090</td>\n",
       "      <td>1.090417</td>\n",
       "      <td>Predicted</td>\n",
       "    </tr>\n",
       "    <tr>\n",
       "      <th>46</th>\n",
       "      <td>-0.723735</td>\n",
       "      <td>-1.003748</td>\n",
       "      <td>-0.223675</td>\n",
       "      <td>Predicted</td>\n",
       "    </tr>\n",
       "  </tbody>\n",
       "</table>\n",
       "</div>"
      ],
      "text/plain": [
       "    Prices(1000$)      Area  Bedrooms      label\n",
       "0        0.457553  0.130010 -0.223675  Predicted\n",
       "1       -0.426050 -0.504190 -0.223675  Predicted\n",
       "2        0.283540  0.502476 -0.223675  Predicted\n",
       "3       -0.862661 -0.735723 -1.537767  Predicted\n",
       "4        1.595390  1.257476  1.090417  Predicted\n",
       "5       -0.460007 -0.019732  1.090417  Predicted\n",
       "6       -0.347736 -0.587240 -0.223675  Predicted\n",
       "7       -0.581660 -0.721881 -0.223675  Predicted\n",
       "8       -0.749915 -0.781023 -0.223675  Predicted\n",
       "9       -0.344133 -0.637573 -0.223675  Predicted\n",
       "10      -0.545515 -0.076357  1.090417  Predicted\n",
       "11       0.103350 -0.000857 -0.223675  Predicted\n",
       "12      -0.142692 -0.139273 -0.223675  Predicted\n",
       "13       2.874981  3.117292  2.404508  Predicted\n",
       "14      -0.816997 -0.921956 -0.223675  Predicted\n",
       "15       0.870707  0.376643  1.090417  Predicted\n",
       "16      -0.324001 -0.856523 -1.537767  Predicted\n",
       "17      -0.786196 -0.962223 -0.223675  Predicted\n",
       "18       1.275778  0.765468  1.090417  Predicted\n",
       "19       2.068039  1.296484  1.090417  Predicted\n",
       "20      -0.619481 -0.294048 -0.223675  Predicted\n",
       "21      -0.666047 -0.141790 -1.537767  Predicted\n",
       "22      -0.433048 -0.499157 -0.223675  Predicted\n",
       "23      -0.523897 -0.048673  1.090417  Predicted\n",
       "24       1.867303  2.377392 -0.223675  Predicted\n",
       "25      -0.702271 -1.133356 -0.223675  Predicted\n",
       "26      -0.421909 -0.682873 -0.223675  Predicted\n",
       "27       0.745082  0.661026 -0.223675  Predicted\n",
       "28       0.536397  0.250810 -0.223675  Predicted\n",
       "29      -0.321506  0.800701 -0.223675  Predicted\n",
       "30      -0.066510 -0.203448 -1.537767  Predicted\n",
       "31      -1.363666 -1.259189 -2.851859  Predicted\n",
       "32      -0.294412  0.049477  1.090417  Predicted\n",
       "33       1.863618  1.429868 -0.223675  Predicted\n",
       "34      -0.378581 -0.238682  1.090417  Predicted\n",
       "35      -0.524361 -0.709298 -0.223675  Predicted\n",
       "36      -0.791019 -0.958448 -0.223675  Predicted\n",
       "37      -0.179851  0.165243  1.090417  Predicted\n",
       "38       1.668166  2.786350  1.090417  Predicted\n",
       "39      -0.128504  0.202993  1.090417  Predicted\n",
       "40       0.223388 -0.423657 -1.537767  Predicted\n",
       "41       0.311739  0.298626 -0.223675  Predicted\n",
       "42      -0.199933  0.712618  1.090417  Predicted\n",
       "43      -0.718786 -1.007523 -0.223675  Predicted\n",
       "44      -1.283596 -1.445423 -1.537767  Predicted\n",
       "45      -0.432380 -0.187090  1.090417  Predicted\n",
       "46      -0.723735 -1.003748 -0.223675  Predicted"
      ]
     },
     "execution_count": 247,
     "metadata": {},
     "output_type": "execute_result"
    }
   ],
   "source": [
    "#create a new dataframe with the predictions and the actual values\n",
    "df_pred = pd.DataFrame(p)\n",
    "df_pred.columns = ['Prices(1000$)']\n",
    "df_pred['Area'] = df['Area']\n",
    "df_pred['Bedrooms'] = df['Bedrooms']\n",
    "df_pred['label']='Predicted'\n",
    "df_pred"
   ]
  },
  {
   "cell_type": "code",
   "execution_count": 248,
   "metadata": {},
   "outputs": [
    {
     "data": {
      "text/html": [
       "<div>\n",
       "<style scoped>\n",
       "    .dataframe tbody tr th:only-of-type {\n",
       "        vertical-align: middle;\n",
       "    }\n",
       "\n",
       "    .dataframe tbody tr th {\n",
       "        vertical-align: top;\n",
       "    }\n",
       "\n",
       "    .dataframe thead th {\n",
       "        text-align: right;\n",
       "    }\n",
       "</style>\n",
       "<table border=\"1\" class=\"dataframe\">\n",
       "  <thead>\n",
       "    <tr style=\"text-align: right;\">\n",
       "      <th></th>\n",
       "      <th>Area</th>\n",
       "      <th>Bedrooms</th>\n",
       "      <th>Prices(1000$)</th>\n",
       "      <th>label</th>\n",
       "    </tr>\n",
       "  </thead>\n",
       "  <tbody>\n",
       "    <tr>\n",
       "      <th>0</th>\n",
       "      <td>0.130010</td>\n",
       "      <td>-0.223675</td>\n",
       "      <td>0.475747</td>\n",
       "      <td>original</td>\n",
       "    </tr>\n",
       "    <tr>\n",
       "      <th>1</th>\n",
       "      <td>-0.504190</td>\n",
       "      <td>-0.223675</td>\n",
       "      <td>-0.084074</td>\n",
       "      <td>original</td>\n",
       "    </tr>\n",
       "    <tr>\n",
       "      <th>2</th>\n",
       "      <td>0.502476</td>\n",
       "      <td>-0.223675</td>\n",
       "      <td>0.228626</td>\n",
       "      <td>original</td>\n",
       "    </tr>\n",
       "    <tr>\n",
       "      <th>3</th>\n",
       "      <td>-0.735723</td>\n",
       "      <td>-1.537767</td>\n",
       "      <td>-0.867025</td>\n",
       "      <td>original</td>\n",
       "    </tr>\n",
       "    <tr>\n",
       "      <th>4</th>\n",
       "      <td>1.257476</td>\n",
       "      <td>1.090417</td>\n",
       "      <td>1.595389</td>\n",
       "      <td>original</td>\n",
       "    </tr>\n",
       "    <tr>\n",
       "      <th>...</th>\n",
       "      <td>...</td>\n",
       "      <td>...</td>\n",
       "      <td>...</td>\n",
       "      <td>...</td>\n",
       "    </tr>\n",
       "    <tr>\n",
       "      <th>89</th>\n",
       "      <td>0.712618</td>\n",
       "      <td>1.090417</td>\n",
       "      <td>-0.199933</td>\n",
       "      <td>Predicted</td>\n",
       "    </tr>\n",
       "    <tr>\n",
       "      <th>90</th>\n",
       "      <td>-1.007523</td>\n",
       "      <td>-0.223675</td>\n",
       "      <td>-0.718786</td>\n",
       "      <td>Predicted</td>\n",
       "    </tr>\n",
       "    <tr>\n",
       "      <th>91</th>\n",
       "      <td>-1.445423</td>\n",
       "      <td>-1.537767</td>\n",
       "      <td>-1.283596</td>\n",
       "      <td>Predicted</td>\n",
       "    </tr>\n",
       "    <tr>\n",
       "      <th>92</th>\n",
       "      <td>-0.187090</td>\n",
       "      <td>1.090417</td>\n",
       "      <td>-0.432380</td>\n",
       "      <td>Predicted</td>\n",
       "    </tr>\n",
       "    <tr>\n",
       "      <th>93</th>\n",
       "      <td>-1.003748</td>\n",
       "      <td>-0.223675</td>\n",
       "      <td>-0.723735</td>\n",
       "      <td>Predicted</td>\n",
       "    </tr>\n",
       "  </tbody>\n",
       "</table>\n",
       "<p>94 rows × 4 columns</p>\n",
       "</div>"
      ],
      "text/plain": [
       "        Area  Bedrooms  Prices(1000$)      label\n",
       "0   0.130010 -0.223675       0.475747   original\n",
       "1  -0.504190 -0.223675      -0.084074   original\n",
       "2   0.502476 -0.223675       0.228626   original\n",
       "3  -0.735723 -1.537767      -0.867025   original\n",
       "4   1.257476  1.090417       1.595389   original\n",
       "..       ...       ...            ...        ...\n",
       "89  0.712618  1.090417      -0.199933  Predicted\n",
       "90 -1.007523 -0.223675      -0.718786  Predicted\n",
       "91 -1.445423 -1.537767      -1.283596  Predicted\n",
       "92 -0.187090  1.090417      -0.432380  Predicted\n",
       "93 -1.003748 -0.223675      -0.723735  Predicted\n",
       "\n",
       "[94 rows x 4 columns]"
      ]
     },
     "execution_count": 248,
     "metadata": {},
     "output_type": "execute_result"
    }
   ],
   "source": [
    "#append rows of df_pred to df\n",
    "df = df.append(df_pred, ignore_index=True)\n",
    "df"
   ]
  },
  {
   "cell_type": "code",
   "execution_count": 253,
   "metadata": {},
   "outputs": [
    {
     "data": {
      "application/vnd.plotly.v1+json": {
       "config": {
        "plotlyServerURL": "https://plot.ly"
       },
       "data": [
        {
         "hovertemplate": "label=original<br>Area=%{x}<br>Bedrooms=%{y}<br>Prices(1000$)=%{z}<extra></extra>",
         "legendgroup": "original",
         "marker": {
          "color": "#636efa",
          "symbol": "circle"
         },
         "mode": "markers",
         "name": "original",
         "scene": "scene",
         "showlegend": true,
         "type": "scatter3d",
         "x": [
          0.13000986907454054,
          -0.5041898382231769,
          0.502476363836692,
          -0.7357230646969468,
          1.2574760153815938,
          -0.019731728481864972,
          -0.5872397998931161,
          -0.7218814044186236,
          -0.7810230437896409,
          -0.6375731099961096,
          -0.0763567023477326,
          -0.0008567371932424295,
          -0.13927333997647443,
          3.117291823687202,
          -0.9219563120780225,
          0.3766430885792084,
          -0.856523008944131,
          -0.9622229601604173,
          0.7654679091248329,
          1.2964843307114138,
          -0.2940482685431793,
          -0.1417900054816241,
          -0.4991565072128776,
          -0.048673381791086205,
          2.377392165173198,
          -1.133356214510595,
          -0.6828730890888036,
          0.6610262906611214,
          0.2508098133217248,
          0.8007012261969283,
          -0.20344831035779107,
          -1.2591894897680787,
          0.04947657290975102,
          1.4298676024843464,
          -0.23868162742988647,
          -0.7092980768928753,
          -0.9584479619026928,
          0.16524318614663594,
          2.78635030976002,
          0.20299316872388104,
          -0.4236565420583874,
          0.2986264579195686,
          0.7126179335166897,
          -1.0075229392531113,
          -1.4454227371491544,
          -0.1870899845743182,
          -1.003747940995387
         ],
         "y": [
          -0.22367518716859133,
          -0.22367518716859133,
          -0.22367518716859133,
          -1.537766911784067,
          1.0904165374468844,
          1.0904165374468844,
          -0.22367518716859133,
          -0.22367518716859133,
          -0.22367518716859133,
          -0.22367518716859133,
          1.0904165374468844,
          -0.22367518716859133,
          -0.22367518716859133,
          2.40450826206236,
          -0.22367518716859133,
          1.0904165374468844,
          -1.537766911784067,
          -0.22367518716859133,
          1.0904165374468844,
          1.0904165374468844,
          -0.22367518716859133,
          -1.537766911784067,
          -0.22367518716859133,
          1.0904165374468844,
          -0.22367518716859133,
          -0.22367518716859133,
          -0.22367518716859133,
          -0.22367518716859133,
          -0.22367518716859133,
          -0.22367518716859133,
          -1.537766911784067,
          -2.851858636399543,
          1.0904165374468844,
          -0.22367518716859133,
          1.0904165374468844,
          -0.22367518716859133,
          -0.22367518716859133,
          1.0904165374468844,
          1.0904165374468844,
          1.0904165374468844,
          -1.537766911784067,
          -0.22367518716859133,
          1.0904165374468844,
          -0.22367518716859133,
          -1.537766911784067,
          1.0904165374468844,
          -0.22367518716859133
         ],
         "z": [
          0.4757468665785908,
          -0.08407444031258184,
          0.2286257468223446,
          -0.8670245252360933,
          1.595389480360936,
          -0.32399785755165583,
          -0.20403614893211883,
          -1.130948281646316,
          -1.0269734700621427,
          -0.7830513292024174,
          -0.8030529447529149,
          0.05268190751369034,
          -0.08328269303569288,
          2.874981038969331,
          -0.6438957472037544,
          0.8756192286437141,
          -0.32399785755165583,
          -1.1237425816819024,
          1.276275340538485,
          2.068038612321912,
          -0.6998778778928717,
          -0.6830832386861365,
          -0.7798523503058964,
          -0.6438957472037544,
          1.86730268656522,
          -0.7238702196167791,
          0.9923819583667302,
          1.0283704709525912,
          1.076355154400406,
          -0.32399785755165583,
          0.07587450451346749,
          -1.3636659989209765,
          -0.20403614893211883,
          1.9152873700130346,
          -0.43596211892989034,
          -0.7238702196167791,
          -0.8838191644428285,
          0.0366870130310854,
          1.6681662502567884,
          -0.4271649269644576,
          0.22462702320169337,
          -0.08407444031258184,
          -0.21123385144929105,
          -0.33119556006882805,
          -1.2836915265079518,
          -0.32399785755165583,
          -0.8070436709263248
         ]
        },
        {
         "hovertemplate": "label=Predicted<br>Area=%{x}<br>Bedrooms=%{y}<br>Prices(1000$)=%{z}<extra></extra>",
         "legendgroup": "Predicted",
         "marker": {
          "color": "#EF553B",
          "symbol": "circle"
         },
         "mode": "markers",
         "name": "Predicted",
         "scene": "scene",
         "showlegend": true,
         "type": "scatter3d",
         "x": [
          0.13000986907454054,
          -0.5041898382231769,
          0.502476363836692,
          -0.7357230646969468,
          1.2574760153815938,
          -0.019731728481864972,
          -0.5872397998931161,
          -0.7218814044186236,
          -0.7810230437896409,
          -0.6375731099961096,
          -0.0763567023477326,
          -0.0008567371932424295,
          -0.13927333997647443,
          3.117291823687202,
          -0.9219563120780225,
          0.3766430885792084,
          -0.856523008944131,
          -0.9622229601604173,
          0.7654679091248329,
          1.2964843307114138,
          -0.2940482685431793,
          -0.1417900054816241,
          -0.4991565072128776,
          -0.048673381791086205,
          2.377392165173198,
          -1.133356214510595,
          -0.6828730890888036,
          0.6610262906611214,
          0.2508098133217248,
          0.8007012261969283,
          -0.20344831035779107,
          -1.2591894897680787,
          0.04947657290975102,
          1.4298676024843464,
          -0.23868162742988647,
          -0.7092980768928753,
          -0.9584479619026928,
          0.16524318614663594,
          2.78635030976002,
          0.20299316872388104,
          -0.4236565420583874,
          0.2986264579195686,
          0.7126179335166897,
          -1.0075229392531113,
          -1.4454227371491544,
          -0.1870899845743182,
          -1.003747940995387
         ],
         "y": [
          -0.22367518716859133,
          -0.22367518716859133,
          -0.22367518716859133,
          -1.537766911784067,
          1.0904165374468844,
          1.0904165374468844,
          -0.22367518716859133,
          -0.22367518716859133,
          -0.22367518716859133,
          -0.22367518716859133,
          1.0904165374468844,
          -0.22367518716859133,
          -0.22367518716859133,
          2.40450826206236,
          -0.22367518716859133,
          1.0904165374468844,
          -1.537766911784067,
          -0.22367518716859133,
          1.0904165374468844,
          1.0904165374468844,
          -0.22367518716859133,
          -1.537766911784067,
          -0.22367518716859133,
          1.0904165374468844,
          -0.22367518716859133,
          -0.22367518716859133,
          -0.22367518716859133,
          -0.22367518716859133,
          -0.22367518716859133,
          -0.22367518716859133,
          -1.537766911784067,
          -2.851858636399543,
          1.0904165374468844,
          -0.22367518716859133,
          1.0904165374468844,
          -0.22367518716859133,
          -0.22367518716859133,
          1.0904165374468844,
          1.0904165374468844,
          1.0904165374468844,
          -1.537766911784067,
          -0.22367518716859133,
          1.0904165374468844,
          -0.22367518716859133,
          -1.537766911784067,
          1.0904165374468844,
          -0.22367518716859133
         ],
         "z": [
          0.4575533319487152,
          -0.42605025882952097,
          0.28353960869157735,
          -0.8626609554798237,
          1.5953899564224558,
          -0.4600070950285584,
          -0.3477357674758068,
          -0.5816599233398341,
          -0.7499149975452306,
          -0.34413273622245555,
          -0.5455150468811522,
          0.10334996397155445,
          -0.14269171835719902,
          2.874981038969331,
          -0.8169967125790095,
          0.8707072459593952,
          -0.3240006870930858,
          -0.786196228621733,
          1.2757775081419371,
          2.0680385928660527,
          -0.6194807454435207,
          -0.6660472125988502,
          -0.4330482845524195,
          -0.5238965535344461,
          1.8673026865652198,
          -0.7022713769060479,
          -0.421908728599532,
          0.7450816822699253,
          0.5363965527583032,
          -0.32150588169605054,
          -0.06650957899550786,
          -1.3636659989209772,
          -0.2944115765163402,
          1.8636177057833567,
          -0.37858051498000134,
          -0.5243614124187115,
          -0.7910194835080282,
          -0.17985145909641442,
          1.6681662502567884,
          -0.12850419329418336,
          0.22338757725868685,
          0.3117390615506155,
          -0.199932523863259,
          -0.7187863922263107,
          -1.283596452079033,
          -0.43238040943077494,
          -0.7237346087005274
         ]
        }
       ],
       "layout": {
        "legend": {
         "title": {
          "text": "label"
         },
         "tracegroupgap": 0
        },
        "margin": {
         "t": 60
        },
        "scene": {
         "domain": {
          "x": [
           0,
           1
          ],
          "y": [
           0,
           1
          ]
         },
         "xaxis": {
          "title": {
           "text": "Area"
          }
         },
         "yaxis": {
          "title": {
           "text": "Bedrooms"
          }
         },
         "zaxis": {
          "title": {
           "text": "Prices(1000$)"
          }
         }
        },
        "template": {
         "data": {
          "bar": [
           {
            "error_x": {
             "color": "#2a3f5f"
            },
            "error_y": {
             "color": "#2a3f5f"
            },
            "marker": {
             "line": {
              "color": "#E5ECF6",
              "width": 0.5
             },
             "pattern": {
              "fillmode": "overlay",
              "size": 10,
              "solidity": 0.2
             }
            },
            "type": "bar"
           }
          ],
          "barpolar": [
           {
            "marker": {
             "line": {
              "color": "#E5ECF6",
              "width": 0.5
             },
             "pattern": {
              "fillmode": "overlay",
              "size": 10,
              "solidity": 0.2
             }
            },
            "type": "barpolar"
           }
          ],
          "carpet": [
           {
            "aaxis": {
             "endlinecolor": "#2a3f5f",
             "gridcolor": "white",
             "linecolor": "white",
             "minorgridcolor": "white",
             "startlinecolor": "#2a3f5f"
            },
            "baxis": {
             "endlinecolor": "#2a3f5f",
             "gridcolor": "white",
             "linecolor": "white",
             "minorgridcolor": "white",
             "startlinecolor": "#2a3f5f"
            },
            "type": "carpet"
           }
          ],
          "choropleth": [
           {
            "colorbar": {
             "outlinewidth": 0,
             "ticks": ""
            },
            "type": "choropleth"
           }
          ],
          "contour": [
           {
            "colorbar": {
             "outlinewidth": 0,
             "ticks": ""
            },
            "colorscale": [
             [
              0,
              "#0d0887"
             ],
             [
              0.1111111111111111,
              "#46039f"
             ],
             [
              0.2222222222222222,
              "#7201a8"
             ],
             [
              0.3333333333333333,
              "#9c179e"
             ],
             [
              0.4444444444444444,
              "#bd3786"
             ],
             [
              0.5555555555555556,
              "#d8576b"
             ],
             [
              0.6666666666666666,
              "#ed7953"
             ],
             [
              0.7777777777777778,
              "#fb9f3a"
             ],
             [
              0.8888888888888888,
              "#fdca26"
             ],
             [
              1,
              "#f0f921"
             ]
            ],
            "type": "contour"
           }
          ],
          "contourcarpet": [
           {
            "colorbar": {
             "outlinewidth": 0,
             "ticks": ""
            },
            "type": "contourcarpet"
           }
          ],
          "heatmap": [
           {
            "colorbar": {
             "outlinewidth": 0,
             "ticks": ""
            },
            "colorscale": [
             [
              0,
              "#0d0887"
             ],
             [
              0.1111111111111111,
              "#46039f"
             ],
             [
              0.2222222222222222,
              "#7201a8"
             ],
             [
              0.3333333333333333,
              "#9c179e"
             ],
             [
              0.4444444444444444,
              "#bd3786"
             ],
             [
              0.5555555555555556,
              "#d8576b"
             ],
             [
              0.6666666666666666,
              "#ed7953"
             ],
             [
              0.7777777777777778,
              "#fb9f3a"
             ],
             [
              0.8888888888888888,
              "#fdca26"
             ],
             [
              1,
              "#f0f921"
             ]
            ],
            "type": "heatmap"
           }
          ],
          "heatmapgl": [
           {
            "colorbar": {
             "outlinewidth": 0,
             "ticks": ""
            },
            "colorscale": [
             [
              0,
              "#0d0887"
             ],
             [
              0.1111111111111111,
              "#46039f"
             ],
             [
              0.2222222222222222,
              "#7201a8"
             ],
             [
              0.3333333333333333,
              "#9c179e"
             ],
             [
              0.4444444444444444,
              "#bd3786"
             ],
             [
              0.5555555555555556,
              "#d8576b"
             ],
             [
              0.6666666666666666,
              "#ed7953"
             ],
             [
              0.7777777777777778,
              "#fb9f3a"
             ],
             [
              0.8888888888888888,
              "#fdca26"
             ],
             [
              1,
              "#f0f921"
             ]
            ],
            "type": "heatmapgl"
           }
          ],
          "histogram": [
           {
            "marker": {
             "pattern": {
              "fillmode": "overlay",
              "size": 10,
              "solidity": 0.2
             }
            },
            "type": "histogram"
           }
          ],
          "histogram2d": [
           {
            "colorbar": {
             "outlinewidth": 0,
             "ticks": ""
            },
            "colorscale": [
             [
              0,
              "#0d0887"
             ],
             [
              0.1111111111111111,
              "#46039f"
             ],
             [
              0.2222222222222222,
              "#7201a8"
             ],
             [
              0.3333333333333333,
              "#9c179e"
             ],
             [
              0.4444444444444444,
              "#bd3786"
             ],
             [
              0.5555555555555556,
              "#d8576b"
             ],
             [
              0.6666666666666666,
              "#ed7953"
             ],
             [
              0.7777777777777778,
              "#fb9f3a"
             ],
             [
              0.8888888888888888,
              "#fdca26"
             ],
             [
              1,
              "#f0f921"
             ]
            ],
            "type": "histogram2d"
           }
          ],
          "histogram2dcontour": [
           {
            "colorbar": {
             "outlinewidth": 0,
             "ticks": ""
            },
            "colorscale": [
             [
              0,
              "#0d0887"
             ],
             [
              0.1111111111111111,
              "#46039f"
             ],
             [
              0.2222222222222222,
              "#7201a8"
             ],
             [
              0.3333333333333333,
              "#9c179e"
             ],
             [
              0.4444444444444444,
              "#bd3786"
             ],
             [
              0.5555555555555556,
              "#d8576b"
             ],
             [
              0.6666666666666666,
              "#ed7953"
             ],
             [
              0.7777777777777778,
              "#fb9f3a"
             ],
             [
              0.8888888888888888,
              "#fdca26"
             ],
             [
              1,
              "#f0f921"
             ]
            ],
            "type": "histogram2dcontour"
           }
          ],
          "mesh3d": [
           {
            "colorbar": {
             "outlinewidth": 0,
             "ticks": ""
            },
            "type": "mesh3d"
           }
          ],
          "parcoords": [
           {
            "line": {
             "colorbar": {
              "outlinewidth": 0,
              "ticks": ""
             }
            },
            "type": "parcoords"
           }
          ],
          "pie": [
           {
            "automargin": true,
            "type": "pie"
           }
          ],
          "scatter": [
           {
            "fillpattern": {
             "fillmode": "overlay",
             "size": 10,
             "solidity": 0.2
            },
            "type": "scatter"
           }
          ],
          "scatter3d": [
           {
            "line": {
             "colorbar": {
              "outlinewidth": 0,
              "ticks": ""
             }
            },
            "marker": {
             "colorbar": {
              "outlinewidth": 0,
              "ticks": ""
             }
            },
            "type": "scatter3d"
           }
          ],
          "scattercarpet": [
           {
            "marker": {
             "colorbar": {
              "outlinewidth": 0,
              "ticks": ""
             }
            },
            "type": "scattercarpet"
           }
          ],
          "scattergeo": [
           {
            "marker": {
             "colorbar": {
              "outlinewidth": 0,
              "ticks": ""
             }
            },
            "type": "scattergeo"
           }
          ],
          "scattergl": [
           {
            "marker": {
             "colorbar": {
              "outlinewidth": 0,
              "ticks": ""
             }
            },
            "type": "scattergl"
           }
          ],
          "scattermapbox": [
           {
            "marker": {
             "colorbar": {
              "outlinewidth": 0,
              "ticks": ""
             }
            },
            "type": "scattermapbox"
           }
          ],
          "scatterpolar": [
           {
            "marker": {
             "colorbar": {
              "outlinewidth": 0,
              "ticks": ""
             }
            },
            "type": "scatterpolar"
           }
          ],
          "scatterpolargl": [
           {
            "marker": {
             "colorbar": {
              "outlinewidth": 0,
              "ticks": ""
             }
            },
            "type": "scatterpolargl"
           }
          ],
          "scatterternary": [
           {
            "marker": {
             "colorbar": {
              "outlinewidth": 0,
              "ticks": ""
             }
            },
            "type": "scatterternary"
           }
          ],
          "surface": [
           {
            "colorbar": {
             "outlinewidth": 0,
             "ticks": ""
            },
            "colorscale": [
             [
              0,
              "#0d0887"
             ],
             [
              0.1111111111111111,
              "#46039f"
             ],
             [
              0.2222222222222222,
              "#7201a8"
             ],
             [
              0.3333333333333333,
              "#9c179e"
             ],
             [
              0.4444444444444444,
              "#bd3786"
             ],
             [
              0.5555555555555556,
              "#d8576b"
             ],
             [
              0.6666666666666666,
              "#ed7953"
             ],
             [
              0.7777777777777778,
              "#fb9f3a"
             ],
             [
              0.8888888888888888,
              "#fdca26"
             ],
             [
              1,
              "#f0f921"
             ]
            ],
            "type": "surface"
           }
          ],
          "table": [
           {
            "cells": {
             "fill": {
              "color": "#EBF0F8"
             },
             "line": {
              "color": "white"
             }
            },
            "header": {
             "fill": {
              "color": "#C8D4E3"
             },
             "line": {
              "color": "white"
             }
            },
            "type": "table"
           }
          ]
         },
         "layout": {
          "annotationdefaults": {
           "arrowcolor": "#2a3f5f",
           "arrowhead": 0,
           "arrowwidth": 1
          },
          "autotypenumbers": "strict",
          "coloraxis": {
           "colorbar": {
            "outlinewidth": 0,
            "ticks": ""
           }
          },
          "colorscale": {
           "diverging": [
            [
             0,
             "#8e0152"
            ],
            [
             0.1,
             "#c51b7d"
            ],
            [
             0.2,
             "#de77ae"
            ],
            [
             0.3,
             "#f1b6da"
            ],
            [
             0.4,
             "#fde0ef"
            ],
            [
             0.5,
             "#f7f7f7"
            ],
            [
             0.6,
             "#e6f5d0"
            ],
            [
             0.7,
             "#b8e186"
            ],
            [
             0.8,
             "#7fbc41"
            ],
            [
             0.9,
             "#4d9221"
            ],
            [
             1,
             "#276419"
            ]
           ],
           "sequential": [
            [
             0,
             "#0d0887"
            ],
            [
             0.1111111111111111,
             "#46039f"
            ],
            [
             0.2222222222222222,
             "#7201a8"
            ],
            [
             0.3333333333333333,
             "#9c179e"
            ],
            [
             0.4444444444444444,
             "#bd3786"
            ],
            [
             0.5555555555555556,
             "#d8576b"
            ],
            [
             0.6666666666666666,
             "#ed7953"
            ],
            [
             0.7777777777777778,
             "#fb9f3a"
            ],
            [
             0.8888888888888888,
             "#fdca26"
            ],
            [
             1,
             "#f0f921"
            ]
           ],
           "sequentialminus": [
            [
             0,
             "#0d0887"
            ],
            [
             0.1111111111111111,
             "#46039f"
            ],
            [
             0.2222222222222222,
             "#7201a8"
            ],
            [
             0.3333333333333333,
             "#9c179e"
            ],
            [
             0.4444444444444444,
             "#bd3786"
            ],
            [
             0.5555555555555556,
             "#d8576b"
            ],
            [
             0.6666666666666666,
             "#ed7953"
            ],
            [
             0.7777777777777778,
             "#fb9f3a"
            ],
            [
             0.8888888888888888,
             "#fdca26"
            ],
            [
             1,
             "#f0f921"
            ]
           ]
          },
          "colorway": [
           "#636efa",
           "#EF553B",
           "#00cc96",
           "#ab63fa",
           "#FFA15A",
           "#19d3f3",
           "#FF6692",
           "#B6E880",
           "#FF97FF",
           "#FECB52"
          ],
          "font": {
           "color": "#2a3f5f"
          },
          "geo": {
           "bgcolor": "white",
           "lakecolor": "white",
           "landcolor": "#E5ECF6",
           "showlakes": true,
           "showland": true,
           "subunitcolor": "white"
          },
          "hoverlabel": {
           "align": "left"
          },
          "hovermode": "closest",
          "mapbox": {
           "style": "light"
          },
          "paper_bgcolor": "white",
          "plot_bgcolor": "#E5ECF6",
          "polar": {
           "angularaxis": {
            "gridcolor": "white",
            "linecolor": "white",
            "ticks": ""
           },
           "bgcolor": "#E5ECF6",
           "radialaxis": {
            "gridcolor": "white",
            "linecolor": "white",
            "ticks": ""
           }
          },
          "scene": {
           "xaxis": {
            "backgroundcolor": "#E5ECF6",
            "gridcolor": "white",
            "gridwidth": 2,
            "linecolor": "white",
            "showbackground": true,
            "ticks": "",
            "zerolinecolor": "white"
           },
           "yaxis": {
            "backgroundcolor": "#E5ECF6",
            "gridcolor": "white",
            "gridwidth": 2,
            "linecolor": "white",
            "showbackground": true,
            "ticks": "",
            "zerolinecolor": "white"
           },
           "zaxis": {
            "backgroundcolor": "#E5ECF6",
            "gridcolor": "white",
            "gridwidth": 2,
            "linecolor": "white",
            "showbackground": true,
            "ticks": "",
            "zerolinecolor": "white"
           }
          },
          "shapedefaults": {
           "line": {
            "color": "#2a3f5f"
           }
          },
          "ternary": {
           "aaxis": {
            "gridcolor": "white",
            "linecolor": "white",
            "ticks": ""
           },
           "baxis": {
            "gridcolor": "white",
            "linecolor": "white",
            "ticks": ""
           },
           "bgcolor": "#E5ECF6",
           "caxis": {
            "gridcolor": "white",
            "linecolor": "white",
            "ticks": ""
           }
          },
          "title": {
           "x": 0.05
          },
          "xaxis": {
           "automargin": true,
           "gridcolor": "white",
           "linecolor": "white",
           "ticks": "",
           "title": {
            "standoff": 15
           },
           "zerolinecolor": "white",
           "zerolinewidth": 2
          },
          "yaxis": {
           "automargin": true,
           "gridcolor": "white",
           "linecolor": "white",
           "ticks": "",
           "title": {
            "standoff": 15
           },
           "zerolinecolor": "white",
           "zerolinewidth": 2
          }
         }
        }
       }
      }
     },
     "metadata": {},
     "output_type": "display_data"
    }
   ],
   "source": [
    "#plot the dataframe using plotly\n",
    "fig = px.scatter_3d(df, x=\"Area\", y=\"Bedrooms\", color=\"label\",z=\"Prices(1000$)\" )\n",
    "fig.show()\n"
   ]
  }
 ],
 "metadata": {
  "interpreter": {
   "hash": "74fc0cb1932bf4b202d61f4ecf9d651fa79ff967900f756d776817a87c2d0209"
  },
  "kernelspec": {
   "display_name": "Python 3.9.1 64-bit",
   "language": "python",
   "name": "python3"
  },
  "language_info": {
   "codemirror_mode": {
    "name": "ipython",
    "version": 3
   },
   "file_extension": ".py",
   "mimetype": "text/x-python",
   "name": "python",
   "nbconvert_exporter": "python",
   "pygments_lexer": "ipython3",
   "version": "3.9.1"
  },
  "orig_nbformat": 4
 },
 "nbformat": 4,
 "nbformat_minor": 2
}
