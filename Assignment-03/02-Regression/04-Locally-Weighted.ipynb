{
 "cells": [
  {
   "cell_type": "code",
   "execution_count": 92,
   "metadata": {},
   "outputs": [],
   "source": [
    "import matplotlib.pyplot as plt\n",
    "import numpy as np\n",
    "from sklearn import datasets\n",
    "import seaborn as sns\n",
    "import pandas as pd"
   ]
  },
  {
   "cell_type": "code",
   "execution_count": 93,
   "metadata": {},
   "outputs": [
    {
     "data": {
      "text/html": [
       "<div>\n",
       "<style scoped>\n",
       "    .dataframe tbody tr th:only-of-type {\n",
       "        vertical-align: middle;\n",
       "    }\n",
       "\n",
       "    .dataframe tbody tr th {\n",
       "        vertical-align: top;\n",
       "    }\n",
       "\n",
       "    .dataframe thead th {\n",
       "        text-align: right;\n",
       "    }\n",
       "</style>\n",
       "<table border=\"1\" class=\"dataframe\">\n",
       "  <thead>\n",
       "    <tr style=\"text-align: right;\">\n",
       "      <th></th>\n",
       "      <th>Area</th>\n",
       "      <th>Bedrooms</th>\n",
       "      <th>Prices(1000$)</th>\n",
       "    </tr>\n",
       "  </thead>\n",
       "  <tbody>\n",
       "    <tr>\n",
       "      <th>0</th>\n",
       "      <td>0.130010</td>\n",
       "      <td>-0.223675</td>\n",
       "      <td>0.475747</td>\n",
       "    </tr>\n",
       "    <tr>\n",
       "      <th>1</th>\n",
       "      <td>-0.504190</td>\n",
       "      <td>-0.223675</td>\n",
       "      <td>-0.084074</td>\n",
       "    </tr>\n",
       "    <tr>\n",
       "      <th>2</th>\n",
       "      <td>0.502476</td>\n",
       "      <td>-0.223675</td>\n",
       "      <td>0.228626</td>\n",
       "    </tr>\n",
       "    <tr>\n",
       "      <th>3</th>\n",
       "      <td>-0.735723</td>\n",
       "      <td>-1.537767</td>\n",
       "      <td>-0.867025</td>\n",
       "    </tr>\n",
       "    <tr>\n",
       "      <th>4</th>\n",
       "      <td>1.257476</td>\n",
       "      <td>1.090417</td>\n",
       "      <td>1.595389</td>\n",
       "    </tr>\n",
       "  </tbody>\n",
       "</table>\n",
       "</div>"
      ],
      "text/plain": [
       "       Area  Bedrooms  Prices(1000$)\n",
       "0  0.130010 -0.223675       0.475747\n",
       "1 -0.504190 -0.223675      -0.084074\n",
       "2  0.502476 -0.223675       0.228626\n",
       "3 -0.735723 -1.537767      -0.867025\n",
       "4  1.257476  1.090417       1.595389"
      ]
     },
     "execution_count": 93,
     "metadata": {},
     "output_type": "execute_result"
    }
   ],
   "source": [
    "#read ex1data2.txt file where first two columns are X1 and X2 and last column is Y\n",
    "df = pd.read_csv('ex1data2.txt', header=None)\n",
    "#rescale the data to be between 0 and 1\n",
    "df = (df - df.mean()) / df.std()\n",
    "\n",
    "df.columns = ['Area', 'Bedrooms', 'Prices(1000$)']\n",
    "#divide the last column by 1000 to get the prices in 1000$\n",
    "#df['Prices(1000$)'] = df['Prices(1000$)'] / 1000\n",
    "df.head()"
   ]
  },
  {
   "cell_type": "code",
   "execution_count": 94,
   "metadata": {},
   "outputs": [
    {
     "name": "stdout",
     "output_type": "stream",
     "text": [
      "(47, 2) (47,)\n"
     ]
    }
   ],
   "source": [
    "X = df.iloc[:,:-1].values\n",
    "y = df.iloc[:,-1].values\n",
    "print(X.shape, y.shape)"
   ]
  },
  {
   "cell_type": "markdown",
   "metadata": {},
   "source": [
    "Calculating Weights"
   ]
  },
  {
   "cell_type": "code",
   "execution_count": 95,
   "metadata": {},
   "outputs": [],
   "source": [
    "#function to calculate weights\n",
    "def wi(x,X,tau):\n",
    "    '''\n",
    "    function to calculate weights\n",
    "\n",
    "    Arguments:\n",
    "    x -- x where we want to predict\n",
    "    X -- training set\n",
    "    tau -- value of tau\n",
    "\n",
    "    Returns:\n",
    "    w -- weight\n",
    "    '''\n",
    "    # calculate the length of the training set\n",
    "    n = X.shape[0]\n",
    "    #initialize the weights \n",
    "    w = np.mat(np.eye(n))\n",
    "   # Calculating weights for all training examples [x(i)'s].\n",
    "    for i in range(n): \n",
    "        xi = X[i] \n",
    "        #print(xi, x)\n",
    "        d = (-2 * tau * tau) \n",
    "        print(xi.shape, x.shape)\n",
    "        w[i, i] = np.exp(np.dot((xi-x), (xi-x).T)/d) \n",
    "        \n",
    "    return w\n",
    "    "
   ]
  },
  {
   "cell_type": "markdown",
   "metadata": {},
   "source": [
    "Predict Function"
   ]
  },
  {
   "cell_type": "code",
   "execution_count": 96,
   "metadata": {},
   "outputs": [],
   "source": [
    "def predict(X,y,x,tau):\n",
    "    '''\n",
    "    function to predict the value of x\n",
    "\n",
    "    Arguments:\n",
    "    X -- training set\n",
    "    y -- target values\n",
    "    x -- x where we want to predict\n",
    "    tau -- value of tau\n",
    "\n",
    "    Returns:\n",
    "    y_pred -- predicted value\n",
    "    '''\n",
    "    # calculate the length of the training set\n",
    "    m = X.shape[0] \n",
    "        \n",
    "    # Appending a cloumn of ones in X to add the bias term.\n",
    "    #X_ = np.append(arr = np.ones((m, 1)).astype(int), values = X, axis = 1) \n",
    "    X_ = np.append(X, np.ones(m).reshape(m,1), axis=1) \n",
    "        \n",
    "    # point is the x where we want to make the prediction. \n",
    "    #add  1 to the end of the point to add the bias term\n",
    "    #x_ = np.append(arr = x, values = 1)\n",
    "    x_ = np.array([x,1])\n",
    "    \n",
    "    #print(x_)\n",
    "    # Calculating the weight matrix using the wm function we wrote      #  # earlier. \n",
    "    \n",
    "    w = wi(x_, X_, tau) \n",
    "        \n",
    "    # Calculating parameter theta using the formula.\n",
    "    #print the shapes of X_ and w\n",
    " \n",
    "    # #reshape y to 47x1\n",
    "    # y = y.reshape(m,1)\n",
    "    #print(X_.shape, w.shape,y.shape)\n",
    "    theta = np.linalg.pinv(X_.T*(w * X_))*(X_.T*(w * y))\n",
    "     \n",
    "        \n",
    "    # Calculating predictions.  \n",
    "    #reduce the dimension of theta\n",
    "    # reduce dimension of theta by 1 using numpy slicing\n",
    "    # theta = np.array([i[0] for i in theta])\n",
    "    # convert thets to be a row vector\n",
    "    \n",
    "    #print(\"------\",theta.shape)\n",
    "    pred = np.dot(x_, theta)\n",
    "    \n",
    "   \n",
    "\n",
    "    # # get the predicted value from pred\n",
    "    # y_pred = pred[0,0]\n",
    "    #print(type (pred), y_pred)\n",
    "    # Returning the theta and predictions \n",
    "    # print(theta.shape)\n",
    "    return theta, pred"
   ]
  },
  {
   "cell_type": "markdown",
   "metadata": {},
   "source": [
    "Plot the Predictions"
   ]
  },
  {
   "cell_type": "code",
   "execution_count": 97,
   "metadata": {},
   "outputs": [],
   "source": [
    "#function to plot the predictions using predict function\n",
    "def plot_predictions(X,y,tau,nval):\n",
    "    '''\n",
    "    function to plot the predictions\n",
    "\n",
    "    Arguments:\n",
    "    X -- training set\n",
    "    y -- target values\n",
    "    tau -- value of tau\n",
    "\n",
    "    Returns:\n",
    "    None\n",
    "    '''\n",
    "    # X_test = np.linspace(-3, 3, nval) \n",
    "    \n",
    "   # Empty list for storing predictions. \n",
    "    preds = [] \n",
    "    m= X.shape[0]\n",
    "    X_test = np.append(X, np.ones(m).reshape(m,1), axis=1)\n",
    "   # Predicting for all nval values and storing them in preds. \n",
    "    for point in X: \n",
    "        theta, pred = predict(X_test, y, point, tau) \n",
    "        preds.append(pred)\n",
    "        \n",
    "   # Reshaping X_test and preds\n",
    "    X_test = np.array(X_test).reshape(nval,1)\n",
    "    preds = np.array(preds).reshape(nval,1)\n",
    "    \n",
    "   # Plotting \n",
    "    # plt.plot(X, y, 'b.')\n",
    "    # plt.plot(X_test, preds, 'r.') # Predictions in red color.\n",
    "    # plt.show()\n",
    "#    # Empty list for storing predictions. \n",
    "#     preds = [] \n",
    "#     theta=None\n",
    "    \n",
    "#    # Predicting for all nval values and storing them in preds. \n",
    "#     for point in X: \n",
    "#         theta, pred = predict(X, y, point, tau) \n",
    "#         #print(theta)\n",
    "#         preds.append(pred)\n",
    "#     print(preds,y)\n",
    "    #pot the predictions on a 3d plot.\n",
    "    fig = plt.figure()\n",
    "    ax = fig.add_subplot(111, projection='3d')\n",
    "    ax.scatter(X[:,0], X[:,1], y, c='r', marker='o')\n",
    "    ax.scatter(X[:,0], X[:,1], preds, c='b', marker='o')\n",
    "    plt.show()\n",
    "    \n",
    "    \n",
    "    "
   ]
  },
  {
   "cell_type": "code",
   "execution_count": 98,
   "metadata": {},
   "outputs": [
    {
     "name": "stdout",
     "output_type": "stream",
     "text": [
      "(4,) (2,)\n"
     ]
    },
    {
     "name": "stderr",
     "output_type": "stream",
     "text": [
      "C:\\Users\\RAZORBLADE\\AppData\\Local\\Temp\\ipykernel_12384\\1477285162.py:24: VisibleDeprecationWarning: Creating an ndarray from ragged nested sequences (which is a list-or-tuple of lists-or-tuples-or ndarrays with different lengths or shapes) is deprecated. If you meant to do this, you must specify 'dtype=object' when creating the ndarray.\n",
      "  x_ = np.array([x,1])\n"
     ]
    },
    {
     "ename": "ValueError",
     "evalue": "operands could not be broadcast together with shapes (4,) (2,) ",
     "output_type": "error",
     "traceback": [
      "\u001b[1;31m---------------------------------------------------------------------------\u001b[0m",
      "\u001b[1;31mValueError\u001b[0m                                Traceback (most recent call last)",
      "\u001b[1;32mc:\\Users\\RAZORBLADE\\Desktop\\Sem-VI\\CS331 - ML\\Machine-Learning-Tasks\\Machine-Learning-Tasks\\Assignment-03\\02-Regression\\04-Locally-Weighted.ipynb Cell 10'\u001b[0m in \u001b[0;36m<module>\u001b[1;34m\u001b[0m\n\u001b[0;32m      <a href='vscode-notebook-cell:/c%3A/Users/RAZORBLADE/Desktop/Sem-VI/CS331%20-%20ML/Machine-Learning-Tasks/Machine-Learning-Tasks/Assignment-03/02-Regression/04-Locally-Weighted.ipynb#ch0000009?line=3'>4</a>\u001b[0m nval \u001b[39m=\u001b[39m \u001b[39mlen\u001b[39m(X)\n\u001b[0;32m      <a href='vscode-notebook-cell:/c%3A/Users/RAZORBLADE/Desktop/Sem-VI/CS331%20-%20ML/Machine-Learning-Tasks/Machine-Learning-Tasks/Assignment-03/02-Regression/04-Locally-Weighted.ipynb#ch0000009?line=4'>5</a>\u001b[0m tau \u001b[39m=\u001b[39m \u001b[39m0.08\u001b[39m\n\u001b[1;32m----> <a href='vscode-notebook-cell:/c%3A/Users/RAZORBLADE/Desktop/Sem-VI/CS331%20-%20ML/Machine-Learning-Tasks/Machine-Learning-Tasks/Assignment-03/02-Regression/04-Locally-Weighted.ipynb#ch0000009?line=5'>6</a>\u001b[0m plot_predictions(X,y,tau,nval)\n",
      "\u001b[1;32mc:\\Users\\RAZORBLADE\\Desktop\\Sem-VI\\CS331 - ML\\Machine-Learning-Tasks\\Machine-Learning-Tasks\\Assignment-03\\02-Regression\\04-Locally-Weighted.ipynb Cell 9'\u001b[0m in \u001b[0;36mplot_predictions\u001b[1;34m(X, y, tau, nval)\u001b[0m\n\u001b[0;32m     <a href='vscode-notebook-cell:/c%3A/Users/RAZORBLADE/Desktop/Sem-VI/CS331%20-%20ML/Machine-Learning-Tasks/Machine-Learning-Tasks/Assignment-03/02-Regression/04-Locally-Weighted.ipynb#ch0000008?line=19'>20</a>\u001b[0m \u001b[39m# Predicting for all nval values and storing them in preds. \u001b[39;00m\n\u001b[0;32m     <a href='vscode-notebook-cell:/c%3A/Users/RAZORBLADE/Desktop/Sem-VI/CS331%20-%20ML/Machine-Learning-Tasks/Machine-Learning-Tasks/Assignment-03/02-Regression/04-Locally-Weighted.ipynb#ch0000008?line=20'>21</a>\u001b[0m  \u001b[39mfor\u001b[39;00m point \u001b[39min\u001b[39;00m X: \n\u001b[1;32m---> <a href='vscode-notebook-cell:/c%3A/Users/RAZORBLADE/Desktop/Sem-VI/CS331%20-%20ML/Machine-Learning-Tasks/Machine-Learning-Tasks/Assignment-03/02-Regression/04-Locally-Weighted.ipynb#ch0000008?line=21'>22</a>\u001b[0m      theta, pred \u001b[39m=\u001b[39m predict(X_test, y, point, tau) \n\u001b[0;32m     <a href='vscode-notebook-cell:/c%3A/Users/RAZORBLADE/Desktop/Sem-VI/CS331%20-%20ML/Machine-Learning-Tasks/Machine-Learning-Tasks/Assignment-03/02-Regression/04-Locally-Weighted.ipynb#ch0000008?line=22'>23</a>\u001b[0m      preds\u001b[39m.\u001b[39mappend(pred)\n\u001b[0;32m     <a href='vscode-notebook-cell:/c%3A/Users/RAZORBLADE/Desktop/Sem-VI/CS331%20-%20ML/Machine-Learning-Tasks/Machine-Learning-Tasks/Assignment-03/02-Regression/04-Locally-Weighted.ipynb#ch0000008?line=24'>25</a>\u001b[0m \u001b[39m# Reshaping X_test and preds\u001b[39;00m\n",
      "\u001b[1;32mc:\\Users\\RAZORBLADE\\Desktop\\Sem-VI\\CS331 - ML\\Machine-Learning-Tasks\\Machine-Learning-Tasks\\Assignment-03\\02-Regression\\04-Locally-Weighted.ipynb Cell 7'\u001b[0m in \u001b[0;36mpredict\u001b[1;34m(X, y, x, tau)\u001b[0m\n\u001b[0;32m     <a href='vscode-notebook-cell:/c%3A/Users/RAZORBLADE/Desktop/Sem-VI/CS331%20-%20ML/Machine-Learning-Tasks/Machine-Learning-Tasks/Assignment-03/02-Regression/04-Locally-Weighted.ipynb#ch0000006?line=23'>24</a>\u001b[0m x_ \u001b[39m=\u001b[39m np\u001b[39m.\u001b[39marray([x,\u001b[39m1\u001b[39m])\n\u001b[0;32m     <a href='vscode-notebook-cell:/c%3A/Users/RAZORBLADE/Desktop/Sem-VI/CS331%20-%20ML/Machine-Learning-Tasks/Machine-Learning-Tasks/Assignment-03/02-Regression/04-Locally-Weighted.ipynb#ch0000006?line=25'>26</a>\u001b[0m \u001b[39m#print(x_)\u001b[39;00m\n\u001b[0;32m     <a href='vscode-notebook-cell:/c%3A/Users/RAZORBLADE/Desktop/Sem-VI/CS331%20-%20ML/Machine-Learning-Tasks/Machine-Learning-Tasks/Assignment-03/02-Regression/04-Locally-Weighted.ipynb#ch0000006?line=26'>27</a>\u001b[0m \u001b[39m# Calculating the weight matrix using the wm function we wrote      #  # earlier. \u001b[39;00m\n\u001b[1;32m---> <a href='vscode-notebook-cell:/c%3A/Users/RAZORBLADE/Desktop/Sem-VI/CS331%20-%20ML/Machine-Learning-Tasks/Machine-Learning-Tasks/Assignment-03/02-Regression/04-Locally-Weighted.ipynb#ch0000006?line=28'>29</a>\u001b[0m w \u001b[39m=\u001b[39m wi(x_, X_, tau) \n\u001b[0;32m     <a href='vscode-notebook-cell:/c%3A/Users/RAZORBLADE/Desktop/Sem-VI/CS331%20-%20ML/Machine-Learning-Tasks/Machine-Learning-Tasks/Assignment-03/02-Regression/04-Locally-Weighted.ipynb#ch0000006?line=30'>31</a>\u001b[0m \u001b[39m# Calculating parameter theta using the formula.\u001b[39;00m\n\u001b[0;32m     <a href='vscode-notebook-cell:/c%3A/Users/RAZORBLADE/Desktop/Sem-VI/CS331%20-%20ML/Machine-Learning-Tasks/Machine-Learning-Tasks/Assignment-03/02-Regression/04-Locally-Weighted.ipynb#ch0000006?line=31'>32</a>\u001b[0m \u001b[39m#print the shapes of X_ and w\u001b[39;00m\n\u001b[0;32m     <a href='vscode-notebook-cell:/c%3A/Users/RAZORBLADE/Desktop/Sem-VI/CS331%20-%20ML/Machine-Learning-Tasks/Machine-Learning-Tasks/Assignment-03/02-Regression/04-Locally-Weighted.ipynb#ch0000006?line=32'>33</a>\u001b[0m \n\u001b[0;32m     <a href='vscode-notebook-cell:/c%3A/Users/RAZORBLADE/Desktop/Sem-VI/CS331%20-%20ML/Machine-Learning-Tasks/Machine-Learning-Tasks/Assignment-03/02-Regression/04-Locally-Weighted.ipynb#ch0000006?line=33'>34</a>\u001b[0m \u001b[39m# #reshape y to 47x1\u001b[39;00m\n\u001b[0;32m     <a href='vscode-notebook-cell:/c%3A/Users/RAZORBLADE/Desktop/Sem-VI/CS331%20-%20ML/Machine-Learning-Tasks/Machine-Learning-Tasks/Assignment-03/02-Regression/04-Locally-Weighted.ipynb#ch0000006?line=34'>35</a>\u001b[0m \u001b[39m# y = y.reshape(m,1)\u001b[39;00m\n\u001b[0;32m     <a href='vscode-notebook-cell:/c%3A/Users/RAZORBLADE/Desktop/Sem-VI/CS331%20-%20ML/Machine-Learning-Tasks/Machine-Learning-Tasks/Assignment-03/02-Regression/04-Locally-Weighted.ipynb#ch0000006?line=35'>36</a>\u001b[0m \u001b[39m#print(X_.shape, w.shape,y.shape)\u001b[39;00m\n\u001b[0;32m     <a href='vscode-notebook-cell:/c%3A/Users/RAZORBLADE/Desktop/Sem-VI/CS331%20-%20ML/Machine-Learning-Tasks/Machine-Learning-Tasks/Assignment-03/02-Regression/04-Locally-Weighted.ipynb#ch0000006?line=36'>37</a>\u001b[0m theta \u001b[39m=\u001b[39m np\u001b[39m.\u001b[39mlinalg\u001b[39m.\u001b[39mpinv(X_\u001b[39m.\u001b[39mT\u001b[39m*\u001b[39m(w \u001b[39m*\u001b[39m X_))\u001b[39m*\u001b[39m(X_\u001b[39m.\u001b[39mT\u001b[39m*\u001b[39m(w \u001b[39m*\u001b[39m y))\n",
      "\u001b[1;32mc:\\Users\\RAZORBLADE\\Desktop\\Sem-VI\\CS331 - ML\\Machine-Learning-Tasks\\Machine-Learning-Tasks\\Assignment-03\\02-Regression\\04-Locally-Weighted.ipynb Cell 5'\u001b[0m in \u001b[0;36mwi\u001b[1;34m(x, X, tau)\u001b[0m\n\u001b[0;32m     <a href='vscode-notebook-cell:/c%3A/Users/RAZORBLADE/Desktop/Sem-VI/CS331%20-%20ML/Machine-Learning-Tasks/Machine-Learning-Tasks/Assignment-03/02-Regression/04-Locally-Weighted.ipynb#ch0000004?line=21'>22</a>\u001b[0m     d \u001b[39m=\u001b[39m (\u001b[39m-\u001b[39m\u001b[39m2\u001b[39m \u001b[39m*\u001b[39m tau \u001b[39m*\u001b[39m tau) \n\u001b[0;32m     <a href='vscode-notebook-cell:/c%3A/Users/RAZORBLADE/Desktop/Sem-VI/CS331%20-%20ML/Machine-Learning-Tasks/Machine-Learning-Tasks/Assignment-03/02-Regression/04-Locally-Weighted.ipynb#ch0000004?line=22'>23</a>\u001b[0m     \u001b[39mprint\u001b[39m(xi\u001b[39m.\u001b[39mshape, x\u001b[39m.\u001b[39mshape)\n\u001b[1;32m---> <a href='vscode-notebook-cell:/c%3A/Users/RAZORBLADE/Desktop/Sem-VI/CS331%20-%20ML/Machine-Learning-Tasks/Machine-Learning-Tasks/Assignment-03/02-Regression/04-Locally-Weighted.ipynb#ch0000004?line=23'>24</a>\u001b[0m     w[i, i] \u001b[39m=\u001b[39m np\u001b[39m.\u001b[39mexp(np\u001b[39m.\u001b[39mdot((xi\u001b[39m-\u001b[39;49mx), (xi\u001b[39m-\u001b[39mx)\u001b[39m.\u001b[39mT)\u001b[39m/\u001b[39md) \n\u001b[0;32m     <a href='vscode-notebook-cell:/c%3A/Users/RAZORBLADE/Desktop/Sem-VI/CS331%20-%20ML/Machine-Learning-Tasks/Machine-Learning-Tasks/Assignment-03/02-Regression/04-Locally-Weighted.ipynb#ch0000004?line=25'>26</a>\u001b[0m \u001b[39mreturn\u001b[39;00m w\n",
      "\u001b[1;31mValueError\u001b[0m: operands could not be broadcast together with shapes (4,) (2,) "
     ]
    }
   ],
   "source": [
    "# np.random.seed(8)\n",
    "# X = np.random.randn(1000,1)\n",
    "# y = 2*(X**3) + 10 + 4.6*np.random.randn(1000,1)\n",
    "nval = len(X)\n",
    "tau = 0.08\n",
    "plot_predictions(X,y,tau,nval)"
   ]
  }
 ],
 "metadata": {
  "interpreter": {
   "hash": "74fc0cb1932bf4b202d61f4ecf9d651fa79ff967900f756d776817a87c2d0209"
  },
  "kernelspec": {
   "display_name": "Python 3.9.1 64-bit",
   "language": "python",
   "name": "python3"
  },
  "language_info": {
   "codemirror_mode": {
    "name": "ipython",
    "version": 3
   },
   "file_extension": ".py",
   "mimetype": "text/x-python",
   "name": "python",
   "nbconvert_exporter": "python",
   "pygments_lexer": "ipython3",
   "version": "3.9.1"
  },
  "orig_nbformat": 4
 },
 "nbformat": 4,
 "nbformat_minor": 2
}
