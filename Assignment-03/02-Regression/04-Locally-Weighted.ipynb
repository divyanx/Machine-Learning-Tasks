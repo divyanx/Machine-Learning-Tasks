{
 "cells": [
  {
   "cell_type": "code",
   "execution_count": 1,
   "metadata": {},
   "outputs": [
    {
     "name": "stdout",
     "output_type": "stream",
     "text": [
      "Requirement already satisfied: plotly in /Users/divyansh/opt/anaconda3/lib/python3.8/site-packages (5.5.0)\n",
      "Requirement already satisfied: six in /Users/divyansh/opt/anaconda3/lib/python3.8/site-packages (from plotly) (1.15.0)\n",
      "Requirement already satisfied: tenacity>=6.2.0 in /Users/divyansh/opt/anaconda3/lib/python3.8/site-packages (from plotly) (8.0.1)\n",
      "Note: you may need to restart the kernel to use updated packages.\n"
     ]
    }
   ],
   "source": [
    "pip install plotly"
   ]
  },
  {
   "cell_type": "code",
   "execution_count": 2,
   "metadata": {},
   "outputs": [],
   "source": [
    "import matplotlib.pyplot as plt\n",
    "import numpy as np\n",
    "from sklearn import datasets\n",
    "import seaborn as sns\n",
    "import pandas as pd\n",
    "import plotly.express as px"
   ]
  },
  {
   "cell_type": "markdown",
   "metadata": {},
   "source": [
    "## Preparing our dataset \n",
    "Applying Rescaling"
   ]
  },
  {
   "cell_type": "code",
   "execution_count": 3,
   "metadata": {},
   "outputs": [
    {
     "data": {
      "text/html": [
       "<div>\n",
       "<style scoped>\n",
       "    .dataframe tbody tr th:only-of-type {\n",
       "        vertical-align: middle;\n",
       "    }\n",
       "\n",
       "    .dataframe tbody tr th {\n",
       "        vertical-align: top;\n",
       "    }\n",
       "\n",
       "    .dataframe thead th {\n",
       "        text-align: right;\n",
       "    }\n",
       "</style>\n",
       "<table border=\"1\" class=\"dataframe\">\n",
       "  <thead>\n",
       "    <tr style=\"text-align: right;\">\n",
       "      <th></th>\n",
       "      <th>Area</th>\n",
       "      <th>Bedrooms</th>\n",
       "      <th>Prices(1000$)</th>\n",
       "    </tr>\n",
       "  </thead>\n",
       "  <tbody>\n",
       "    <tr>\n",
       "      <th>0</th>\n",
       "      <td>0.130010</td>\n",
       "      <td>-0.223675</td>\n",
       "      <td>0.475747</td>\n",
       "    </tr>\n",
       "    <tr>\n",
       "      <th>1</th>\n",
       "      <td>-0.504190</td>\n",
       "      <td>-0.223675</td>\n",
       "      <td>-0.084074</td>\n",
       "    </tr>\n",
       "    <tr>\n",
       "      <th>2</th>\n",
       "      <td>0.502476</td>\n",
       "      <td>-0.223675</td>\n",
       "      <td>0.228626</td>\n",
       "    </tr>\n",
       "    <tr>\n",
       "      <th>3</th>\n",
       "      <td>-0.735723</td>\n",
       "      <td>-1.537767</td>\n",
       "      <td>-0.867025</td>\n",
       "    </tr>\n",
       "    <tr>\n",
       "      <th>4</th>\n",
       "      <td>1.257476</td>\n",
       "      <td>1.090417</td>\n",
       "      <td>1.595389</td>\n",
       "    </tr>\n",
       "  </tbody>\n",
       "</table>\n",
       "</div>"
      ],
      "text/plain": [
       "       Area  Bedrooms  Prices(1000$)\n",
       "0  0.130010 -0.223675       0.475747\n",
       "1 -0.504190 -0.223675      -0.084074\n",
       "2  0.502476 -0.223675       0.228626\n",
       "3 -0.735723 -1.537767      -0.867025\n",
       "4  1.257476  1.090417       1.595389"
      ]
     },
     "execution_count": 3,
     "metadata": {},
     "output_type": "execute_result"
    }
   ],
   "source": [
    "#read ex1data2.txt file where first two columns are X1 and X2 and last column is Y\n",
    "df = pd.read_csv('ex1data2.txt', header=None)\n",
    "#rescale the data to be between 0 and 1\n",
    "df = (df - df.mean()) / df.std()\n",
    "\n",
    "df.columns = ['Area', 'Bedrooms', 'Prices(1000$)']\n",
    "#divide the last column by 1000 to get the prices in 1000$\n",
    "#df['Prices(1000$)'] = df['Prices(1000$)'] / 1000\n",
    "df.head()"
   ]
  },
  {
   "cell_type": "code",
   "execution_count": 4,
   "metadata": {},
   "outputs": [
    {
     "name": "stdout",
     "output_type": "stream",
     "text": [
      "(47, 2) (47,)\n"
     ]
    }
   ],
   "source": [
    "X = df.iloc[:,:-1].values\n",
    "y = df.iloc[:,-1].values\n",
    "print(X.shape, y.shape)"
   ]
  },
  {
   "cell_type": "markdown",
   "metadata": {},
   "source": [
    "## Locally Weighted Algorithm\n",
    "![alt text](locally_weighted.jpg \"Batch_Gradient\")"
   ]
  },
  {
   "cell_type": "markdown",
   "metadata": {},
   "source": [
    "## Calculating Weights\n",
    "![alt text](weights.jpg \"Batch_Gradient\")"
   ]
  },
  {
   "cell_type": "code",
   "execution_count": 5,
   "metadata": {},
   "outputs": [],
   "source": [
    "#function to calculate weights\n",
    "def wi(x,X,tau):\n",
    "    '''\n",
    "    function to calculate weights\n",
    "\n",
    "    Arguments:\n",
    "    x -- x where we want to predict\n",
    "    X -- training set\n",
    "    tau -- value of tau\n",
    "\n",
    "    Returns:\n",
    "    w -- weight\n",
    "    '''\n",
    "    # calculate the length of the training set\n",
    "    n = X.shape[0]\n",
    "    #initialize the weights \n",
    "    w = np.mat(np.eye(n))\n",
    "   # Calculating weights for all training examples [x(i)'s].\n",
    "    for i in range(n): \n",
    "        xi = X[i] \n",
    "        #print(xi, x)\n",
    "        d = (-2 * tau * tau) \n",
    "        #print(xi.shape, x.shape)\n",
    "        w[i, i] = np.exp(np.dot((xi-x), (xi-x).T)/d) \n",
    "        \n",
    "    return w\n",
    "    "
   ]
  },
  {
   "cell_type": "markdown",
   "metadata": {},
   "source": [
    "## Predict Function"
   ]
  },
  {
   "cell_type": "code",
   "execution_count": 6,
   "metadata": {},
   "outputs": [],
   "source": [
    "def predict(X,y,x,tau):\n",
    "    '''\n",
    "    function to predict the value of x\n",
    "\n",
    "    Arguments:\n",
    "    X -- training set\n",
    "    y -- target values\n",
    "    x -- x where we want to predict\n",
    "    tau -- value of tau\n",
    "\n",
    "    Returns:\n",
    "    y_pred -- predicted value\n",
    "    '''\n",
    "    # calculate the length of the training set\n",
    "    m = X.shape[0] \n",
    "        \n",
    "    # Appending a cloumn of ones in X to add the bias term.\n",
    "    X_ = np.append(X, np.ones(m).reshape(m,1), axis=1) \n",
    "        \n",
    "    # point is the x where we want to make the prediction. \n",
    "    #add  1 to the end of the point to add the bias term\n",
    "    x_ = np.append(arr = x, values = 1)\n",
    "    # x_ = np.array([x,1])\n",
    "    \n",
    "    #print(x_)\n",
    "    # Calculating the weight matrix using the wm function we wrote      #  # earlier. \n",
    "    \n",
    "    w = wi(x_, X_, tau) \n",
    "        \n",
    "    # Calculating parameter theta using the formula.\n",
    "    #print the shapes of X_ and w\n",
    " \n",
    "    # #reshape y to 47x1\n",
    "    y = y.reshape(m,1)\n",
    "    #print(X_.shape, w.shape,y.shape)\n",
    "    theta = np.linalg.pinv(X_.T*(w * X_))*(X_.T*(w * y))\n",
    "     \n",
    "        \n",
    "    # Calculating predictions.  \n",
    "    # convert thets to be a row vector\n",
    "    \n",
    "    #print(\"------\",theta.shape)\n",
    "    pred = np.dot(x_, theta)\n",
    "    \n",
    "   \n",
    "\n",
    "    # # get the predicted value from pred\n",
    "    y_pred = pred[0,0]\n",
    "    #print(type (pred), y_pred)\n",
    "    # Returning the theta and predictions \n",
    "    # print(theta.shape)\n",
    "    return theta, y_pred"
   ]
  },
  {
   "cell_type": "markdown",
   "metadata": {},
   "source": [
    "## Plot the Predictions\n",
    "We are Predicting for all data present in Dataset"
   ]
  },
  {
   "cell_type": "code",
   "execution_count": 7,
   "metadata": {},
   "outputs": [],
   "source": [
    "#function to plot the predictions using predict function\n",
    "def plot_predictions(X,y,tau,nval):\n",
    "    '''\n",
    "    function to plot the predictions\n",
    "\n",
    "    Arguments:\n",
    "    X -- training set\n",
    "    y -- target values\n",
    "    tau -- value of tau\n",
    "\n",
    "    Returns:\n",
    "    None\n",
    "    '''\n",
    "    # X_test = np.linspace(-3, 3, nval) \n",
    "    \n",
    "   # Empty list for storing predictions. \n",
    "    preds = [] \n",
    "    m= X.shape[0]\n",
    "    #X_test = np.append(X, np.ones(m).reshape(m,1), axis=1)\n",
    "   # Predicting for all nval values and storing them in preds. \n",
    "    for point in X: \n",
    "        theta, pred = predict(X, y, point, tau) \n",
    "        preds.append(pred)\n",
    "        \n",
    "    \n",
    "    return preds\n",
    "    \n",
    "    \n",
    "    "
   ]
  },
  {
   "cell_type": "code",
   "execution_count": 8,
   "metadata": {},
   "outputs": [
    {
     "name": "stdout",
     "output_type": "stream",
     "text": [
      "[0.4575533319487154, -0.42605025882952063, 0.28353960869157446, -0.8626609554798721, 1.5953899564242393, -0.4600070950285583, -0.3477357674758069, -0.5816599233398176, -0.7499149975452299, -0.34413273622245444, -0.5455150468811526, 0.10334996397155444, -0.14269171835719913, 2.8749810389693313, -0.8169967125790143, 0.8707072459594065, -0.3240006870931027, -0.786196228621691, 1.2757775081419247, 2.068038592867005, -0.6194807454435239, -0.6660472125988506, -0.4330482845524347, -0.523896553534446, 1.8673026865652198, -0.7022713769060193, -0.42190872859955464, 0.745081682269906, 0.5363965527583022, -0.32150588169604966, -0.06650957899549326, -1.3636659989209765, -0.29441157651634003, 1.9503486184936554, -0.3785805149799995, -0.5243614124187022, -0.7910194835080115, -0.17985145909641448, 1.6681662502567882, -0.12850419329418336, 0.22338757725868874, 0.3117390615506177, -0.19993252386375815, -0.7187863922264082, -1.2837860947588144, -0.43238040943077455, -0.7237346087004237]\n"
     ]
    },
    {
     "data": {
      "image/png": "[encoded data removed]",
      "text/plain": [
       "<Figure size 432x288 with 1 Axes>"
      ]
     },
     "metadata": {
      "needs_background": "light"
     },
     "output_type": "display_data"
    }
   ],
   "source": [
    "# np.random.seed(8)\n",
    "# X = np.random.randn(1000,1)\n",
    "# y = 2*(X**3) + 10 + 4.6*np.random.randn(1000,1)\n",
    "nval = len(X)\n",
    "tau = 0.08\n",
    "p = plot_predictions(X,y,tau,nval)\n",
    "print(p)\n",
    "fig = plt.figure()\n",
    "ax = fig.add_subplot(111, projection='3d')\n",
    "ax.scatter(X[:,0], X[:,1], y, c='r', marker='o')\n",
    "ax.scatter(X[:,0], X[:,1], p, c='b', marker='o')\n",
    "plt.show()"
   ]
  },
  {
   "cell_type": "markdown",
   "metadata": {},
   "source": [
    "## Plotly 3D Plot\n",
    "To plot using Plotly we will need to creat a new dataframe with a new feature \"label\""
   ]
  },
  {
   "cell_type": "code",
   "execution_count": 9,
   "metadata": {},
   "outputs": [],
   "source": [
    "#add one column at the end of df \n",
    "df['label'] = 'original'"
   ]
  },
  {
   "cell_type": "code",
   "execution_count": 10,
   "metadata": {},
   "outputs": [],
   "source": [
    "#create a new dataframe with the predictions and the actual values\n",
    "df_pred = pd.DataFrame(p)\n",
    "df_pred.columns = ['Prices(1000$)']\n",
    "df_pred['Area'] = df['Area']\n",
    "df_pred['Bedrooms'] = df['Bedrooms']\n",
    "df_pred['label']='Predicted'"
   ]
  },
  {
   "cell_type": "code",
   "execution_count": 11,
   "metadata": {},
   "outputs": [
    {
     "data": {
      "text/html": [
       "<div>\n",
       "<style scoped>\n",
       "    .dataframe tbody tr th:only-of-type {\n",
       "        vertical-align: middle;\n",
       "    }\n",
       "\n",
       "    .dataframe tbody tr th {\n",
       "        vertical-align: top;\n",
       "    }\n",
       "\n",
       "    .dataframe thead th {\n",
       "        text-align: right;\n",
       "    }\n",
       "</style>\n",
       "<table border=\"1\" class=\"dataframe\">\n",
       "  <thead>\n",
       "    <tr style=\"text-align: right;\">\n",
       "      <th></th>\n",
       "      <th>Area</th>\n",
       "      <th>Bedrooms</th>\n",
       "      <th>Prices(1000$)</th>\n",
       "      <th>label</th>\n",
       "    </tr>\n",
       "  </thead>\n",
       "  <tbody>\n",
       "    <tr>\n",
       "      <th>0</th>\n",
       "      <td>0.130010</td>\n",
       "      <td>-0.223675</td>\n",
       "      <td>0.475747</td>\n",
       "      <td>original</td>\n",
       "    </tr>\n",
       "    <tr>\n",
       "      <th>1</th>\n",
       "      <td>-0.504190</td>\n",
       "      <td>-0.223675</td>\n",
       "      <td>-0.084074</td>\n",
       "      <td>original</td>\n",
       "    </tr>\n",
       "    <tr>\n",
       "      <th>2</th>\n",
       "      <td>0.502476</td>\n",
       "      <td>-0.223675</td>\n",
       "      <td>0.228626</td>\n",
       "      <td>original</td>\n",
       "    </tr>\n",
       "    <tr>\n",
       "      <th>3</th>\n",
       "      <td>-0.735723</td>\n",
       "      <td>-1.537767</td>\n",
       "      <td>-0.867025</td>\n",
       "      <td>original</td>\n",
       "    </tr>\n",
       "    <tr>\n",
       "      <th>4</th>\n",
       "      <td>1.257476</td>\n",
       "      <td>1.090417</td>\n",
       "      <td>1.595389</td>\n",
       "      <td>original</td>\n",
       "    </tr>\n",
       "    <tr>\n",
       "      <th>...</th>\n",
       "      <td>...</td>\n",
       "      <td>...</td>\n",
       "      <td>...</td>\n",
       "      <td>...</td>\n",
       "    </tr>\n",
       "    <tr>\n",
       "      <th>89</th>\n",
       "      <td>0.712618</td>\n",
       "      <td>1.090417</td>\n",
       "      <td>-0.199933</td>\n",
       "      <td>Predicted</td>\n",
       "    </tr>\n",
       "    <tr>\n",
       "      <th>90</th>\n",
       "      <td>-1.007523</td>\n",
       "      <td>-0.223675</td>\n",
       "      <td>-0.718786</td>\n",
       "      <td>Predicted</td>\n",
       "    </tr>\n",
       "    <tr>\n",
       "      <th>91</th>\n",
       "      <td>-1.445423</td>\n",
       "      <td>-1.537767</td>\n",
       "      <td>-1.283786</td>\n",
       "      <td>Predicted</td>\n",
       "    </tr>\n",
       "    <tr>\n",
       "      <th>92</th>\n",
       "      <td>-0.187090</td>\n",
       "      <td>1.090417</td>\n",
       "      <td>-0.432380</td>\n",
       "      <td>Predicted</td>\n",
       "    </tr>\n",
       "    <tr>\n",
       "      <th>93</th>\n",
       "      <td>-1.003748</td>\n",
       "      <td>-0.223675</td>\n",
       "      <td>-0.723735</td>\n",
       "      <td>Predicted</td>\n",
       "    </tr>\n",
       "  </tbody>\n",
       "</table>\n",
       "<p>94 rows × 4 columns</p>\n",
       "</div>"
      ],
      "text/plain": [
       "        Area  Bedrooms  Prices(1000$)      label\n",
       "0   0.130010 -0.223675       0.475747   original\n",
       "1  -0.504190 -0.223675      -0.084074   original\n",
       "2   0.502476 -0.223675       0.228626   original\n",
       "3  -0.735723 -1.537767      -0.867025   original\n",
       "4   1.257476  1.090417       1.595389   original\n",
       "..       ...       ...            ...        ...\n",
       "89  0.712618  1.090417      -0.199933  Predicted\n",
       "90 -1.007523 -0.223675      -0.718786  Predicted\n",
       "91 -1.445423 -1.537767      -1.283786  Predicted\n",
       "92 -0.187090  1.090417      -0.432380  Predicted\n",
       "93 -1.003748 -0.223675      -0.723735  Predicted\n",
       "\n",
       "[94 rows x 4 columns]"
      ]
     },
     "execution_count": 11,
     "metadata": {},
     "output_type": "execute_result"
    }
   ],
   "source": [
    "#append rows of df_pred to df\n",
    "df = df.append(df_pred, ignore_index=True)\n",
    "df"
   ]
  },
  {
   "cell_type": "code",
   "execution_count": 12,
   "metadata": {},
   "outputs": [
    {
     "data": {
      "application/vnd.plotly.v1+json": {
       "config": {
        "plotlyServerURL": "https://plot.ly"
       },
       "data": [
        {
         "hovertemplate": "label=original<br>Area=%{x}<br>Bedrooms=%{y}<br>Prices(1000$)=%{z}<extra></extra>",
         "legendgroup": "original",
         "marker": {
          "color": "#636efa",
          "symbol": "circle"
         },
         "mode": "markers",
         "name": "original",
         "scene": "scene",
         "showlegend": true,
         "type": "scatter3d",
         "x": [
          0.13000986907454054,
          -0.5041898382231769,
          0.502476363836692,
          -0.7357230646969468,
          1.2574760153815938,
          -0.019731728481864972,
          -0.5872397998931161,
          -0.7218814044186236,
          -0.7810230437896409,
          -0.6375731099961096,
          -0.0763567023477326,
          -0.0008567371932424295,
          -0.13927333997647443,
          3.117291823687202,
          -0.9219563120780225,
          0.3766430885792084,
          -0.856523008944131,
          -0.9622229601604173,
          0.7654679091248329,
          1.2964843307114138,
          -0.2940482685431793,
          -0.1417900054816241,
          -0.4991565072128776,
          -0.048673381791086205,
          2.377392165173198,
          -1.133356214510595,
          -0.6828730890888036,
          0.6610262906611214,
          0.2508098133217248,
          0.8007012261969283,
          -0.20344831035779107,
          -1.2591894897680787,
          0.04947657290975102,
          1.4298676024843464,
          -0.23868162742988647,
          -0.7092980768928753,
          -0.9584479619026928,
          0.16524318614663594,
          2.78635030976002,
          0.20299316872388104,
          -0.4236565420583874,
          0.2986264579195686,
          0.7126179335166897,
          -1.0075229392531113,
          -1.4454227371491544,
          -0.1870899845743182,
          -1.003747940995387
         ],
         "y": [
          -0.2236751871685913,
          -0.2236751871685913,
          -0.2236751871685913,
          -1.5377669117840669,
          1.0904165374468842,
          1.0904165374468842,
          -0.2236751871685913,
          -0.2236751871685913,
          -0.2236751871685913,
          -0.2236751871685913,
          1.0904165374468842,
          -0.2236751871685913,
          -0.2236751871685913,
          2.4045082620623597,
          -0.2236751871685913,
          1.0904165374468842,
          -1.5377669117840669,
          -0.2236751871685913,
          1.0904165374468842,
          1.0904165374468842,
          -0.2236751871685913,
          -1.5377669117840669,
          -0.2236751871685913,
          1.0904165374468842,
          -0.2236751871685913,
          -0.2236751871685913,
          -0.2236751871685913,
          -0.2236751871685913,
          -0.2236751871685913,
          -0.2236751871685913,
          -1.5377669117840669,
          -2.8518586363995424,
          1.0904165374468842,
          -0.2236751871685913,
          1.0904165374468842,
          -0.2236751871685913,
          -0.2236751871685913,
          1.0904165374468842,
          1.0904165374468842,
          1.0904165374468842,
          -1.5377669117840669,
          -0.2236751871685913,
          1.0904165374468842,
          -0.2236751871685913,
          -1.5377669117840669,
          1.0904165374468842,
          -0.2236751871685913
         ],
         "z": [
          0.47574686657859083,
          -0.08407444031258185,
          0.22862574682234463,
          -0.8670245252360934,
          1.5953894803609363,
          -0.32399785755165583,
          -0.20403614893211885,
          -1.1309482816463161,
          -1.0269734700621427,
          -0.7830513292024175,
          -0.8030529447529149,
          0.05268190751369034,
          -0.0832826930356929,
          2.874981038969331,
          -0.6438957472037545,
          0.8756192286437142,
          -0.32399785755165583,
          -1.1237425816819027,
          1.2762753405384852,
          2.068038612321912,
          -0.6998778778928718,
          -0.6830832386861366,
          -0.7798523503058965,
          -0.6438957472037545,
          1.86730268656522,
          -0.7238702196167792,
          0.9923819583667303,
          1.0283704709525914,
          1.0763551544004062,
          -0.32399785755165583,
          0.0758745045134675,
          -1.3636659989209765,
          -0.20403614893211885,
          1.9152873700130348,
          -0.4359621189298904,
          -0.7238702196167792,
          -0.8838191644428286,
          0.03668701303108541,
          1.6681662502567887,
          -0.4271649269644577,
          0.2246270232016934,
          -0.08407444031258185,
          -0.21123385144929108,
          -0.33119556006882805,
          -1.2836915265079518,
          -0.32399785755165583,
          -0.8070436709263249
         ]
        },
        {
         "hovertemplate": "label=Predicted<br>Area=%{x}<br>Bedrooms=%{y}<br>Prices(1000$)=%{z}<extra></extra>",
         "legendgroup": "Predicted",
         "marker": {
          "color": "#EF553B",
          "symbol": "circle"
         },
         "mode": "markers",
         "name": "Predicted",
         "scene": "scene",
         "showlegend": true,
         "type": "scatter3d",
         "x": [
          0.13000986907454054,
          -0.5041898382231769,
          0.502476363836692,
          -0.7357230646969468,
          1.2574760153815938,
          -0.019731728481864972,
          -0.5872397998931161,
          -0.7218814044186236,
          -0.7810230437896409,
          -0.6375731099961096,
          -0.0763567023477326,
          -0.0008567371932424295,
          -0.13927333997647443,
          3.117291823687202,
          -0.9219563120780225,
          0.3766430885792084,
          -0.856523008944131,
          -0.9622229601604173,
          0.7654679091248329,
          1.2964843307114138,
          -0.2940482685431793,
          -0.1417900054816241,
          -0.4991565072128776,
          -0.048673381791086205,
          2.377392165173198,
          -1.133356214510595,
          -0.6828730890888036,
          0.6610262906611214,
          0.2508098133217248,
          0.8007012261969283,
          -0.20344831035779107,
          -1.2591894897680787,
          0.04947657290975102,
          1.4298676024843464,
          -0.23868162742988647,
          -0.7092980768928753,
          -0.9584479619026928,
          0.16524318614663594,
          2.78635030976002,
          0.20299316872388104,
          -0.4236565420583874,
          0.2986264579195686,
          0.7126179335166897,
          -1.0075229392531113,
          -1.4454227371491544,
          -0.1870899845743182,
          -1.003747940995387
         ],
         "y": [
          -0.2236751871685913,
          -0.2236751871685913,
          -0.2236751871685913,
          -1.5377669117840669,
          1.0904165374468842,
          1.0904165374468842,
          -0.2236751871685913,
          -0.2236751871685913,
          -0.2236751871685913,
          -0.2236751871685913,
          1.0904165374468842,
          -0.2236751871685913,
          -0.2236751871685913,
          2.4045082620623597,
          -0.2236751871685913,
          1.0904165374468842,
          -1.5377669117840669,
          -0.2236751871685913,
          1.0904165374468842,
          1.0904165374468842,
          -0.2236751871685913,
          -1.5377669117840669,
          -0.2236751871685913,
          1.0904165374468842,
          -0.2236751871685913,
          -0.2236751871685913,
          -0.2236751871685913,
          -0.2236751871685913,
          -0.2236751871685913,
          -0.2236751871685913,
          -1.5377669117840669,
          -2.8518586363995424,
          1.0904165374468842,
          -0.2236751871685913,
          1.0904165374468842,
          -0.2236751871685913,
          -0.2236751871685913,
          1.0904165374468842,
          1.0904165374468842,
          1.0904165374468842,
          -1.5377669117840669,
          -0.2236751871685913,
          1.0904165374468842,
          -0.2236751871685913,
          -1.5377669117840669,
          1.0904165374468842,
          -0.2236751871685913
         ],
         "z": [
          0.4575533319487154,
          -0.42605025882952063,
          0.28353960869157446,
          -0.8626609554798721,
          1.5953899564242393,
          -0.4600070950285583,
          -0.3477357674758069,
          -0.5816599233398176,
          -0.7499149975452299,
          -0.34413273622245444,
          -0.5455150468811526,
          0.10334996397155444,
          -0.14269171835719913,
          2.8749810389693313,
          -0.8169967125790143,
          0.8707072459594065,
          -0.3240006870931027,
          -0.786196228621691,
          1.2757775081419247,
          2.068038592867005,
          -0.6194807454435239,
          -0.6660472125988506,
          -0.4330482845524347,
          -0.523896553534446,
          1.8673026865652198,
          -0.7022713769060193,
          -0.42190872859955464,
          0.745081682269906,
          0.5363965527583022,
          -0.32150588169604966,
          -0.06650957899549326,
          -1.3636659989209765,
          -0.29441157651634003,
          1.9503486184936554,
          -0.3785805149799995,
          -0.5243614124187022,
          -0.7910194835080115,
          -0.17985145909641448,
          1.6681662502567882,
          -0.12850419329418336,
          0.22338757725868874,
          0.3117390615506177,
          -0.19993252386375815,
          -0.7187863922264082,
          -1.2837860947588144,
          -0.43238040943077455,
          -0.7237346087004237
         ]
        }
       ],
       "layout": {
        "legend": {
         "title": {
          "text": "label"
         },
         "tracegroupgap": 0
        },
        "margin": {
         "t": 60
        },
        "scene": {
         "domain": {
          "x": [
           0,
           1
          ],
          "y": [
           0,
           1
          ]
         },
         "xaxis": {
          "title": {
           "text": "Area"
          }
         },
         "yaxis": {
          "title": {
           "text": "Bedrooms"
          }
         },
         "zaxis": {
          "title": {
           "text": "Prices(1000$)"
          }
         }
        },
        "template": {
         "data": {
          "bar": [
           {
            "error_x": {
             "color": "#2a3f5f"
            },
            "error_y": {
             "color": "#2a3f5f"
            },
            "marker": {
             "line": {
              "color": "#E5ECF6",
              "width": 0.5
             },
             "pattern": {
              "fillmode": "overlay",
              "size": 10,
              "solidity": 0.2
             }
            },
            "type": "bar"
           }
          ],
          "barpolar": [
           {
            "marker": {
             "line": {
              "color": "#E5ECF6",
              "width": 0.5
             },
             "pattern": {
              "fillmode": "overlay",
              "size": 10,
              "solidity": 0.2
             }
            },
            "type": "barpolar"
           }
          ],
          "carpet": [
           {
            "aaxis": {
             "endlinecolor": "#2a3f5f",
             "gridcolor": "white",
             "linecolor": "white",
             "minorgridcolor": "white",
             "startlinecolor": "#2a3f5f"
            },
            "baxis": {
             "endlinecolor": "#2a3f5f",
             "gridcolor": "white",
             "linecolor": "white",
             "minorgridcolor": "white",
             "startlinecolor": "#2a3f5f"
            },
            "type": "carpet"
           }
          ],
          "choropleth": [
           {
            "colorbar": {
             "outlinewidth": 0,
             "ticks": ""
            },
            "type": "choropleth"
           }
          ],
          "contour": [
           {
            "colorbar": {
             "outlinewidth": 0,
             "ticks": ""
            },
            "colorscale": [
             [
              0,
              "#0d0887"
             ],
             [
              0.1111111111111111,
              "#46039f"
             ],
             [
              0.2222222222222222,
              "#7201a8"
             ],
             [
              0.3333333333333333,
              "#9c179e"
             ],
             [
              0.4444444444444444,
              "#bd3786"
             ],
             [
              0.5555555555555556,
              "#d8576b"
             ],
             [
              0.6666666666666666,
              "#ed7953"
             ],
             [
              0.7777777777777778,
              "#fb9f3a"
             ],
             [
              0.8888888888888888,
              "#fdca26"
             ],
             [
              1,
              "#f0f921"
             ]
            ],
            "type": "contour"
           }
          ],
          "contourcarpet": [
           {
            "colorbar": {
             "outlinewidth": 0,
             "ticks": ""
            },
            "type": "contourcarpet"
           }
          ],
          "heatmap": [
           {
            "colorbar": {
             "outlinewidth": 0,
             "ticks": ""
            },
            "colorscale": [
             [
              0,
              "#0d0887"
             ],
             [
              0.1111111111111111,
              "#46039f"
             ],
             [
              0.2222222222222222,
              "#7201a8"
             ],
             [
              0.3333333333333333,
              "#9c179e"
             ],
             [
              0.4444444444444444,
              "#bd3786"
             ],
             [
              0.5555555555555556,
              "#d8576b"
             ],
             [
              0.6666666666666666,
              "#ed7953"
             ],
             [
              0.7777777777777778,
              "#fb9f3a"
             ],
             [
              0.8888888888888888,
              "#fdca26"
             ],
             [
              1,
              "#f0f921"
             ]
            ],
            "type": "heatmap"
           }
          ],
          "heatmapgl": [
           {
            "colorbar": {
             "outlinewidth": 0,
             "ticks": ""
            },
            "colorscale": [
             [
              0,
              "#0d0887"
             ],
             [
              0.1111111111111111,
              "#46039f"
             ],
             [
              0.2222222222222222,
              "#7201a8"
             ],
             [
              0.3333333333333333,
              "#9c179e"
             ],
             [
              0.4444444444444444,
              "#bd3786"
             ],
             [
              0.5555555555555556,
              "#d8576b"
             ],
             [
              0.6666666666666666,
              "#ed7953"
             ],
             [
              0.7777777777777778,
              "#fb9f3a"
             ],
             [
              0.8888888888888888,
              "#fdca26"
             ],
             [
              1,
              "#f0f921"
             ]
            ],
            "type": "heatmapgl"
           }
          ],
          "histogram": [
           {
            "marker": {
             "pattern": {
              "fillmode": "overlay",
              "size": 10,
              "solidity": 0.2
             }
            },
            "type": "histogram"
           }
          ],
          "histogram2d": [
           {
            "colorbar": {
             "outlinewidth": 0,
             "ticks": ""
            },
            "colorscale": [
             [
              0,
              "#0d0887"
             ],
             [
              0.1111111111111111,
              "#46039f"
             ],
             [
              0.2222222222222222,
              "#7201a8"
             ],
             [
              0.3333333333333333,
              "#9c179e"
             ],
             [
              0.4444444444444444,
              "#bd3786"
             ],
             [
              0.5555555555555556,
              "#d8576b"
             ],
             [
              0.6666666666666666,
              "#ed7953"
             ],
             [
              0.7777777777777778,
              "#fb9f3a"
             ],
             [
              0.8888888888888888,
              "#fdca26"
             ],
             [
              1,
              "#f0f921"
             ]
            ],
            "type": "histogram2d"
           }
          ],
          "histogram2dcontour": [
           {
            "colorbar": {
             "outlinewidth": 0,
             "ticks": ""
            },
            "colorscale": [
             [
              0,
              "#0d0887"
             ],
             [
              0.1111111111111111,
              "#46039f"
             ],
             [
              0.2222222222222222,
              "#7201a8"
             ],
             [
              0.3333333333333333,
              "#9c179e"
             ],
             [
              0.4444444444444444,
              "#bd3786"
             ],
             [
              0.5555555555555556,
              "#d8576b"
             ],
             [
              0.6666666666666666,
              "#ed7953"
             ],
             [
              0.7777777777777778,
              "#fb9f3a"
             ],
             [
              0.8888888888888888,
              "#fdca26"
             ],
             [
              1,
              "#f0f921"
             ]
            ],
            "type": "histogram2dcontour"
           }
          ],
          "mesh3d": [
           {
            "colorbar": {
             "outlinewidth": 0,
             "ticks": ""
            },
            "type": "mesh3d"
           }
          ],
          "parcoords": [
           {
            "line": {
             "colorbar": {
              "outlinewidth": 0,
              "ticks": ""
             }
            },
            "type": "parcoords"
           }
          ],
          "pie": [
           {
            "automargin": true,
            "type": "pie"
           }
          ],
          "scatter": [
           {
            "marker": {
             "colorbar": {
              "outlinewidth": 0,
              "ticks": ""
             }
            },
            "type": "scatter"
           }
          ],
          "scatter3d": [
           {
            "line": {
             "colorbar": {
              "outlinewidth": 0,
              "ticks": ""
             }
            },
            "marker": {
             "colorbar": {
              "outlinewidth": 0,
              "ticks": ""
             }
            },
            "type": "scatter3d"
           }
          ],
          "scattercarpet": [
           {
            "marker": {
             "colorbar": {
              "outlinewidth": 0,
              "ticks": ""
             }
            },
            "type": "scattercarpet"
           }
          ],
          "scattergeo": [
           {
            "marker": {
             "colorbar": {
              "outlinewidth": 0,
              "ticks": ""
             }
            },
            "type": "scattergeo"
           }
          ],
          "scattergl": [
           {
            "marker": {
             "colorbar": {
              "outlinewidth": 0,
              "ticks": ""
             }
            },
            "type": "scattergl"
           }
          ],
          "scattermapbox": [
           {
            "marker": {
             "colorbar": {
              "outlinewidth": 0,
              "ticks": ""
             }
            },
            "type": "scattermapbox"
           }
          ],
          "scatterpolar": [
           {
            "marker": {
             "colorbar": {
              "outlinewidth": 0,
              "ticks": ""
             }
            },
            "type": "scatterpolar"
           }
          ],
          "scatterpolargl": [
           {
            "marker": {
             "colorbar": {
              "outlinewidth": 0,
              "ticks": ""
             }
            },
            "type": "scatterpolargl"
           }
          ],
          "scatterternary": [
           {
            "marker": {
             "colorbar": {
              "outlinewidth": 0,
              "ticks": ""
             }
            },
            "type": "scatterternary"
           }
          ],
          "surface": [
           {
            "colorbar": {
             "outlinewidth": 0,
             "ticks": ""
            },
            "colorscale": [
             [
              0,
              "#0d0887"
             ],
             [
              0.1111111111111111,
              "#46039f"
             ],
             [
              0.2222222222222222,
              "#7201a8"
             ],
             [
              0.3333333333333333,
              "#9c179e"
             ],
             [
              0.4444444444444444,
              "#bd3786"
             ],
             [
              0.5555555555555556,
              "#d8576b"
             ],
             [
              0.6666666666666666,
              "#ed7953"
             ],
             [
              0.7777777777777778,
              "#fb9f3a"
             ],
             [
              0.8888888888888888,
              "#fdca26"
             ],
             [
              1,
              "#f0f921"
             ]
            ],
            "type": "surface"
           }
          ],
          "table": [
           {
            "cells": {
             "fill": {
              "color": "#EBF0F8"
             },
             "line": {
              "color": "white"
             }
            },
            "header": {
             "fill": {
              "color": "#C8D4E3"
             },
             "line": {
              "color": "white"
             }
            },
            "type": "table"
           }
          ]
         },
         "layout": {
          "annotationdefaults": {
           "arrowcolor": "#2a3f5f",
           "arrowhead": 0,
           "arrowwidth": 1
          },
          "autotypenumbers": "strict",
          "coloraxis": {
           "colorbar": {
            "outlinewidth": 0,
            "ticks": ""
           }
          },
          "colorscale": {
           "diverging": [
            [
             0,
             "#8e0152"
            ],
            [
             0.1,
             "#c51b7d"
            ],
            [
             0.2,
             "#de77ae"
            ],
            [
             0.3,
             "#f1b6da"
            ],
            [
             0.4,
             "#fde0ef"
            ],
            [
             0.5,
             "#f7f7f7"
            ],
            [
             0.6,
             "#e6f5d0"
            ],
            [
             0.7,
             "#b8e186"
            ],
            [
             0.8,
             "#7fbc41"
            ],
            [
             0.9,
             "#4d9221"
            ],
            [
             1,
             "#276419"
            ]
           ],
           "sequential": [
            [
             0,
             "#0d0887"
            ],
            [
             0.1111111111111111,
             "#46039f"
            ],
            [
             0.2222222222222222,
             "#7201a8"
            ],
            [
             0.3333333333333333,
             "#9c179e"
            ],
            [
             0.4444444444444444,
             "#bd3786"
            ],
            [
             0.5555555555555556,
             "#d8576b"
            ],
            [
             0.6666666666666666,
             "#ed7953"
            ],
            [
             0.7777777777777778,
             "#fb9f3a"
            ],
            [
             0.8888888888888888,
             "#fdca26"
            ],
            [
             1,
             "#f0f921"
            ]
           ],
           "sequentialminus": [
            [
             0,
             "#0d0887"
            ],
            [
             0.1111111111111111,
             "#46039f"
            ],
            [
             0.2222222222222222,
             "#7201a8"
            ],
            [
             0.3333333333333333,
             "#9c179e"
            ],
            [
             0.4444444444444444,
             "#bd3786"
            ],
            [
             0.5555555555555556,
             "#d8576b"
            ],
            [
             0.6666666666666666,
             "#ed7953"
            ],
            [
             0.7777777777777778,
             "#fb9f3a"
            ],
            [
             0.8888888888888888,
             "#fdca26"
            ],
            [
             1,
             "#f0f921"
            ]
           ]
          },
          "colorway": [
           "#636efa",
           "#EF553B",
           "#00cc96",
           "#ab63fa",
           "#FFA15A",
           "#19d3f3",
           "#FF6692",
           "#B6E880",
           "#FF97FF",
           "#FECB52"
          ],
          "font": {
           "color": "#2a3f5f"
          },
          "geo": {
           "bgcolor": "white",
           "lakecolor": "white",
           "landcolor": "#E5ECF6",
           "showlakes": true,
           "showland": true,
           "subunitcolor": "white"
          },
          "hoverlabel": {
           "align": "left"
          },
          "hovermode": "closest",
          "mapbox": {
           "style": "light"
          },
          "paper_bgcolor": "white",
          "plot_bgcolor": "#E5ECF6",
          "polar": {
           "angularaxis": {
            "gridcolor": "white",
            "linecolor": "white",
            "ticks": ""
           },
           "bgcolor": "#E5ECF6",
           "radialaxis": {
            "gridcolor": "white",
            "linecolor": "white",
            "ticks": ""
           }
          },
          "scene": {
           "xaxis": {
            "backgroundcolor": "#E5ECF6",
            "gridcolor": "white",
            "gridwidth": 2,
            "linecolor": "white",
            "showbackground": true,
            "ticks": "",
            "zerolinecolor": "white"
           },
           "yaxis": {
            "backgroundcolor": "#E5ECF6",
            "gridcolor": "white",
            "gridwidth": 2,
            "linecolor": "white",
            "showbackground": true,
            "ticks": "",
            "zerolinecolor": "white"
           },
           "zaxis": {
            "backgroundcolor": "#E5ECF6",
            "gridcolor": "white",
            "gridwidth": 2,
            "linecolor": "white",
            "showbackground": true,
            "ticks": "",
            "zerolinecolor": "white"
           }
          },
          "shapedefaults": {
           "line": {
            "color": "#2a3f5f"
           }
          },
          "ternary": {
           "aaxis": {
            "gridcolor": "white",
            "linecolor": "white",
            "ticks": ""
           },
           "baxis": {
            "gridcolor": "white",
            "linecolor": "white",
            "ticks": ""
           },
           "bgcolor": "#E5ECF6",
           "caxis": {
            "gridcolor": "white",
            "linecolor": "white",
            "ticks": ""
           }
          },
          "title": {
           "x": 0.05
          },
          "xaxis": {
           "automargin": true,
           "gridcolor": "white",
           "linecolor": "white",
           "ticks": "",
           "title": {
            "standoff": 15
           },
           "zerolinecolor": "white",
           "zerolinewidth": 2
          },
          "yaxis": {
           "automargin": true,
           "gridcolor": "white",
           "linecolor": "white",
           "ticks": "",
           "title": {
            "standoff": 15
           },
           "zerolinecolor": "white",
           "zerolinewidth": 2
          }
         }
        }
       }
      }
     },
     "metadata": {},
     "output_type": "display_data"
    }
   ],
   "source": [
    "#plot the dataframe using plotly\n",
    "fig = px.scatter_3d(df, x=\"Area\", y=\"Bedrooms\", color=\"label\",z=\"Prices(1000$)\" )\n",
    "fig.show()\n"
   ]
  }
 ],
 "metadata": {
  "interpreter": {
   "hash": "74fc0cb1932bf4b202d61f4ecf9d651fa79ff967900f756d776817a87c2d0209"
  },
  "kernelspec": {
   "display_name": "Python 3.9.1 64-bit",
   "language": "python",
   "name": "python3"
  },
  "language_info": {
   "codemirror_mode": {
    "name": "ipython",
    "version": 3
   },
   "file_extension": ".py",
   "mimetype": "text/x-python",
   "name": "python",
   "nbconvert_exporter": "python",
   "pygments_lexer": "ipython3",
   "version": "3.8.8"
  },
  "orig_nbformat": 4
 },
 "nbformat": 4,
 "nbformat_minor": 2
}
