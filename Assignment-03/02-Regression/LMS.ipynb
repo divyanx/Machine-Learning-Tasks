{
 "cells": [
  {
   "cell_type": "code",
   "execution_count": 1,
   "metadata": {},
   "outputs": [],
   "source": [
    "import matplotlib.pyplot as plt\n",
    "import numpy as np\n",
    "from sklearn import datasets\n",
    "import seaborn as sns\n",
    "import pandas as pd\n",
    "from mpl_toolkits.mplot3d import Axes3D"
   ]
  },
  {
   "cell_type": "markdown",
   "metadata": {},
   "source": [
    "Preparing Data"
   ]
  },
  {
   "cell_type": "code",
   "execution_count": 2,
   "metadata": {},
   "outputs": [
    {
     "data": {
      "text/html": [
       "<div>\n",
       "<style scoped>\n",
       "    .dataframe tbody tr th:only-of-type {\n",
       "        vertical-align: middle;\n",
       "    }\n",
       "\n",
       "    .dataframe tbody tr th {\n",
       "        vertical-align: top;\n",
       "    }\n",
       "\n",
       "    .dataframe thead th {\n",
       "        text-align: right;\n",
       "    }\n",
       "</style>\n",
       "<table border=\"1\" class=\"dataframe\">\n",
       "  <thead>\n",
       "    <tr style=\"text-align: right;\">\n",
       "      <th></th>\n",
       "      <th>X0</th>\n",
       "      <th>Area</th>\n",
       "      <th>Bedrooms</th>\n",
       "      <th>Prices(1000$)</th>\n",
       "    </tr>\n",
       "  </thead>\n",
       "  <tbody>\n",
       "    <tr>\n",
       "      <th>0</th>\n",
       "      <td>1</td>\n",
       "      <td>0.130010</td>\n",
       "      <td>-0.223675</td>\n",
       "      <td>0.475747</td>\n",
       "    </tr>\n",
       "    <tr>\n",
       "      <th>1</th>\n",
       "      <td>1</td>\n",
       "      <td>-0.504190</td>\n",
       "      <td>-0.223675</td>\n",
       "      <td>-0.084074</td>\n",
       "    </tr>\n",
       "    <tr>\n",
       "      <th>2</th>\n",
       "      <td>1</td>\n",
       "      <td>0.502476</td>\n",
       "      <td>-0.223675</td>\n",
       "      <td>0.228626</td>\n",
       "    </tr>\n",
       "    <tr>\n",
       "      <th>3</th>\n",
       "      <td>1</td>\n",
       "      <td>-0.735723</td>\n",
       "      <td>-1.537767</td>\n",
       "      <td>-0.867025</td>\n",
       "    </tr>\n",
       "    <tr>\n",
       "      <th>4</th>\n",
       "      <td>1</td>\n",
       "      <td>1.257476</td>\n",
       "      <td>1.090417</td>\n",
       "      <td>1.595389</td>\n",
       "    </tr>\n",
       "  </tbody>\n",
       "</table>\n",
       "</div>"
      ],
      "text/plain": [
       "   X0      Area  Bedrooms  Prices(1000$)\n",
       "0   1  0.130010 -0.223675       0.475747\n",
       "1   1 -0.504190 -0.223675      -0.084074\n",
       "2   1  0.502476 -0.223675       0.228626\n",
       "3   1 -0.735723 -1.537767      -0.867025\n",
       "4   1  1.257476  1.090417       1.595389"
      ]
     },
     "execution_count": 2,
     "metadata": {},
     "output_type": "execute_result"
    }
   ],
   "source": [
    "#read ex1data2.txt file where first two columns are X1 and X2 and last column is Y\n",
    "df = pd.read_csv('ex1data2.txt', header=None)\n",
    "#rescale the data to be between 0 and 1\n",
    "df = (df - df.mean()) / df.std()\n",
    "#add one column of ones to the dataframe at the front\n",
    "df.insert(0, 'Ones', 1)\n",
    "\n",
    "df.columns = ['X0','Area', 'Bedrooms', 'Prices(1000$)']\n",
    "#divide the last column by 1000 to get the prices in 1000$\n",
    "#df['Prices(1000$)'] = df['Prices(1000$)'] / 1000\n",
    "df.head()"
   ]
  },
  {
   "cell_type": "code",
   "execution_count": 3,
   "metadata": {},
   "outputs": [
    {
     "data": {
      "text/plain": [
       "X0               0\n",
       "Area             0\n",
       "Bedrooms         0\n",
       "Prices(1000$)    0\n",
       "dtype: int64"
      ]
     },
     "execution_count": 3,
     "metadata": {},
     "output_type": "execute_result"
    }
   ],
   "source": [
    "# check if missing values are present in the dataset\n",
    "df.isnull().sum()"
   ]
  },
  {
   "cell_type": "code",
   "execution_count": 4,
   "metadata": {},
   "outputs": [
    {
     "name": "stdout",
     "output_type": "stream",
     "text": [
      "(47, 3) (47,)\n"
     ]
    }
   ],
   "source": [
    "# create a separate dataframe for features (X) and target (y)\n",
    "X = df.iloc[:,:-1].values\n",
    "y = df.iloc[:,-1].values\n",
    "print(X.shape, y.shape)"
   ]
  },
  {
   "cell_type": "code",
   "execution_count": 5,
   "metadata": {},
   "outputs": [
    {
     "name": "stdout",
     "output_type": "stream",
     "text": [
      "(37, 3) (10, 3) (37,) (10,)\n"
     ]
    }
   ],
   "source": [
    "# split the data into training and test sets\n",
    "from sklearn.model_selection import train_test_split\n",
    "X_train, X_test, y_train, y_test = train_test_split(X, y, test_size=0.2, random_state=0)\n",
    "print(X_train.shape, X_test.shape, y_train.shape, y_test.shape)"
   ]
  },
  {
   "cell_type": "code",
   "execution_count": 6,
   "metadata": {},
   "outputs": [
    {
     "data": {
      "text/html": [
       "<div>\n",
       "<style scoped>\n",
       "    .dataframe tbody tr th:only-of-type {\n",
       "        vertical-align: middle;\n",
       "    }\n",
       "\n",
       "    .dataframe tbody tr th {\n",
       "        vertical-align: top;\n",
       "    }\n",
       "\n",
       "    .dataframe thead th {\n",
       "        text-align: right;\n",
       "    }\n",
       "</style>\n",
       "<table border=\"1\" class=\"dataframe\">\n",
       "  <thead>\n",
       "    <tr style=\"text-align: right;\">\n",
       "      <th></th>\n",
       "      <th>X0</th>\n",
       "      <th>Area</th>\n",
       "      <th>Bedrooms</th>\n",
       "      <th>Prices(1000$)</th>\n",
       "    </tr>\n",
       "  </thead>\n",
       "  <tbody>\n",
       "    <tr>\n",
       "      <th>count</th>\n",
       "      <td>47.0</td>\n",
       "      <td>4.700000e+01</td>\n",
       "      <td>4.700000e+01</td>\n",
       "      <td>4.700000e+01</td>\n",
       "    </tr>\n",
       "    <tr>\n",
       "      <th>mean</th>\n",
       "      <td>1.0</td>\n",
       "      <td>3.779483e-17</td>\n",
       "      <td>2.746030e-16</td>\n",
       "      <td>-9.684924e-17</td>\n",
       "    </tr>\n",
       "    <tr>\n",
       "      <th>std</th>\n",
       "      <td>0.0</td>\n",
       "      <td>1.000000e+00</td>\n",
       "      <td>1.000000e+00</td>\n",
       "      <td>1.000000e+00</td>\n",
       "    </tr>\n",
       "    <tr>\n",
       "      <th>min</th>\n",
       "      <td>1.0</td>\n",
       "      <td>-1.445423e+00</td>\n",
       "      <td>-2.851859e+00</td>\n",
       "      <td>-1.363666e+00</td>\n",
       "    </tr>\n",
       "    <tr>\n",
       "      <th>25%</th>\n",
       "      <td>1.0</td>\n",
       "      <td>-7.155897e-01</td>\n",
       "      <td>-2.236752e-01</td>\n",
       "      <td>-7.238702e-01</td>\n",
       "    </tr>\n",
       "    <tr>\n",
       "      <th>50%</th>\n",
       "      <td>1.0</td>\n",
       "      <td>-1.417900e-01</td>\n",
       "      <td>-2.236752e-01</td>\n",
       "      <td>-3.239979e-01</td>\n",
       "    </tr>\n",
       "    <tr>\n",
       "      <th>75%</th>\n",
       "      <td>1.0</td>\n",
       "      <td>3.376348e-01</td>\n",
       "      <td>1.090417e+00</td>\n",
       "      <td>3.521863e-01</td>\n",
       "    </tr>\n",
       "    <tr>\n",
       "      <th>max</th>\n",
       "      <td>1.0</td>\n",
       "      <td>3.117292e+00</td>\n",
       "      <td>2.404508e+00</td>\n",
       "      <td>2.874981e+00</td>\n",
       "    </tr>\n",
       "  </tbody>\n",
       "</table>\n",
       "</div>"
      ],
      "text/plain": [
       "         X0          Area      Bedrooms  Prices(1000$)\n",
       "count  47.0  4.700000e+01  4.700000e+01   4.700000e+01\n",
       "mean    1.0  3.779483e-17  2.746030e-16  -9.684924e-17\n",
       "std     0.0  1.000000e+00  1.000000e+00   1.000000e+00\n",
       "min     1.0 -1.445423e+00 -2.851859e+00  -1.363666e+00\n",
       "25%     1.0 -7.155897e-01 -2.236752e-01  -7.238702e-01\n",
       "50%     1.0 -1.417900e-01 -2.236752e-01  -3.239979e-01\n",
       "75%     1.0  3.376348e-01  1.090417e+00   3.521863e-01\n",
       "max     1.0  3.117292e+00  2.404508e+00   2.874981e+00"
      ]
     },
     "execution_count": 6,
     "metadata": {},
     "output_type": "execute_result"
    }
   ],
   "source": [
    "df.describe()"
   ]
  },
  {
   "cell_type": "markdown",
   "metadata": {},
   "source": [
    "Hypothesis Function "
   ]
  },
  {
   "cell_type": "code",
   "execution_count": 7,
   "metadata": {},
   "outputs": [],
   "source": [
    "def hypothesis(theta, x):\n",
    "    '''\n",
    "    This function calculates the hypothesis function\n",
    "\n",
    "    Parameters\n",
    "    ----------\n",
    "    theta : array-like of shape (n,)\n",
    "        The coefficients of the linear regression model.\n",
    "    x : array-like of shape (n,)\n",
    "        The input data.\n",
    "    \n",
    "    Returns\n",
    "    -------\n",
    "    float\n",
    "        The output of the hypothesis function.\n",
    "\n",
    "    '''\n",
    "    #calculate the hypothesis function using theta and x\n",
    "    #H(x) = transpose(theta) * x\n",
    "    #if the length of x is one less than the length of theta then add a column of ones to x to the front\n",
    "    if len(x) == len(theta) - 1:\n",
    "        #print(len(x), len(theta))\n",
    "        x = np.insert(x, 0, 1)\n",
    "    return np.dot(theta, x)"
   ]
  },
  {
   "cell_type": "markdown",
   "metadata": {},
   "source": [
    "The Cost Function"
   ]
  },
  {
   "cell_type": "code",
   "execution_count": 8,
   "metadata": {},
   "outputs": [],
   "source": [
    "def cost_function(theta, x, y):\n",
    "    '''\n",
    "    This function calculates the cost function\n",
    "\n",
    "    Parameters\n",
    "    ----------\n",
    "    theta : array-like of shape (n,)\n",
    "        The coefficients of the linear regression model.\n",
    "    x : array-like of shape (n,m)\n",
    "        The input data.\n",
    "    y : array-like of shape (n,)\n",
    "        The target data.\n",
    "    \n",
    "    Returns\n",
    "    -------\n",
    "    float\n",
    "        The output of the cost function.\n",
    "\n",
    "    '''\n",
    "    cost=0\n",
    "    \n",
    "    \n",
    "    for i in range(len(y)):\n",
    "        cost += (hypothesis(theta, x[i]) - y[i])**2\n",
    "    return cost/2*(len(y))"
   ]
  },
  {
   "cell_type": "markdown",
   "metadata": {},
   "source": [
    "Batch Gradient Descent"
   ]
  },
  {
   "cell_type": "code",
   "execution_count": 9,
   "metadata": {},
   "outputs": [],
   "source": [
    "def batch_gradient_descent(theta, x, y, alpha, iterations,epsilon):\n",
    "    '''\n",
    "    This function calculates the gradient descent\n",
    "\n",
    "    Parameters\n",
    "    ----------\n",
    "    theta : array-like of shape (n,)\n",
    "        The coefficients of the linear regression model.\n",
    "    x : array-like of shape (n,m)\n",
    "        The input data.\n",
    "    y : array-like of shape (n,)\n",
    "        The target data.\n",
    "    alpha : float\n",
    "        The learning rate.\n",
    "    iterations : int\n",
    "        The number of iterations.\n",
    "    \n",
    "    Returns\n",
    "    -------\n",
    "    array-like of shape (n,)\n",
    "        The output of the gradient descent.\n",
    "\n",
    "    '''\n",
    "    #calculate the gradient descent\n",
    "    #store all the values of theta in a list and corresponding cost in another list\n",
    "    theta_list = []\n",
    "    cost_list = []\n",
    "    #repeat until convergence\n",
    "    print(theta,\"cost is\",cost_function(theta, x, y))\n",
    "    theta_list.append(theta)\n",
    "    cost_list.append(cost_function(theta, x, y))\n",
    "    for i in range(iterations):\n",
    "        # if i > 0 and i%100 == 0:\n",
    "        #     print(i)\n",
    "        temp_theta = theta.copy()\n",
    "        for j in range(len(theta)):\n",
    "            temp=0\n",
    "            for k in range(len(y)):\n",
    "                temp+=(hypothesis(theta, x[k]) - y[k])*x[k][j]\n",
    "            # theta[j] = theta[j] - alpha*(1/(len(y)))*temp\n",
    "            temp_theta[j] = temp_theta[j] - alpha*(1/(len(y)))*temp\n",
    "        theta = temp_theta.copy()\n",
    "        #compare current loss with previous loss if loss is not decreasing then break\n",
    "        print(theta,\"cost is\",cost_function(theta, x, y))\n",
    "        theta_list.append(theta)\n",
    "        cost_list.append(cost_function(theta, x, y))\n",
    "        if i>0:\n",
    "            if cost_list[i-1]-cost_list[i] < epsilon:\n",
    "                break\n",
    "        \n",
    "\n",
    "    return theta, theta_list, cost_list"
   ]
  },
  {
   "cell_type": "markdown",
   "metadata": {},
   "source": [
    "Training our data"
   ]
  },
  {
   "cell_type": "code",
   "execution_count": 10,
   "metadata": {},
   "outputs": [
    {
     "name": "stdout",
     "output_type": "stream",
     "text": [
      "[0. 6. 8.] cost is 85710.69545516712\n",
      "[0.01094067 5.03127007 7.06856877] cost is 62800.3629274629\n",
      "[0.01688593 4.21398021 6.26432534] cost is 46119.96687370327\n",
      "[0.01899113 3.52539179 5.56891566] cost is 33967.2473822772\n",
      "[0.01819579 2.94614438 4.96667914] cost is 25105.819621071707\n",
      "[0.01526014 2.45975529 4.4442514 ] cost is 18637.594427697637\n",
      "[0.01079579 2.05219324 3.99022564] cost is 13910.146201553374\n",
      "[0.0052915  1.71151508 3.59486407] cost is 10449.453667618254\n",
      "[-8.65295027e-04  1.42755631e+00  3.24985200e+00] cost is 7911.062411612957\n",
      "[-0.00737048  1.19166745  2.94808815] cost is 6044.622596886679\n",
      "[-0.01398823  0.99648936  2.68350605] cost is 4668.137937040162\n",
      "[-0.02053842  0.8357619   2.45092171] cost is 3649.2658106926506\n",
      "[-0.02688627  0.70416091  2.24590386] cost is 2891.737176996663\n",
      "[-0.03293362  0.59715929  2.06466325] cost is 2325.494046706837\n",
      "[-0.03861176  0.51090867  1.9039584 ] cost is 1899.5263965338806\n",
      "[-0.0438755   0.44213864  1.76101514] cost is 1576.6693045144832\n",
      "[-0.04869825  0.38807087  1.63345808] cost is 1329.823567523178\n",
      "[-0.05306802  0.34634593  1.51925223] cost is 1139.2100736366046\n",
      "[-0.0569841   0.31496103  1.41665307] cost is 990.3749403071238\n",
      "[-0.06045438  0.29221693  1.32416417] cost is 872.7399282324856\n",
      "[-0.06349311  0.2766727   1.24050093] cost is 778.5489111253479\n",
      "[-0.06611922  0.26710724  1.16455965] cost is 702.1020391088441\n",
      "[-0.0683548   0.26248648  1.09539125] cost is 639.1989005462742\n",
      "[-0.07022402  0.26193545  1.03217877] cost is 586.7335292633683\n",
      "[-0.07175224  0.26471445  0.97421819] cost is 542.399746981477\n",
      "[-0.07296524  0.27019887  0.92090211] cost is 504.47669024328195\n",
      "[-0.07388875  0.27786184  0.87170578] cost is 471.67262039038064\n",
      "[-0.074548    0.28725964  0.82617521] cost is 443.0111060607911\n",
      "[-0.0749674   0.2980191   0.78391699] cost is 417.7480186902509\n",
      "[-0.07517035  0.30982704  0.74458963] cost is 395.3109416878003\n",
      "[-0.07517908  0.32242115  0.70789618] cost is 375.2548893768795\n",
      "[-0.07501451  0.33558226  0.67357786] cost is 357.2298992066177\n",
      "[-0.07469627  0.34912786  0.64140871] cost is 340.95727206206607\n",
      "[-0.07424259  0.3629064   0.61119095] cost is 326.2121155753824\n",
      "[-0.07367041  0.37679264  0.58275103] cost is 312.8104848171884\n",
      "[-0.0729953   0.39068354  0.5559363 ] cost is 300.5998794622351\n",
      "[-0.07223159  0.40449485  0.53061208] cost is 289.4521942866484\n",
      "[-0.07139237  0.41815818  0.50665924] cost is 279.2584653886091\n",
      "[-0.07048955  0.43161851  0.48397205] cost is 269.92493304984714\n",
      "[-0.06953395  0.44483209  0.46245642] cost is 261.37007198995184\n",
      "[-0.06853537  0.45776463  0.44202831] cost is 253.5223342153232\n",
      "[-0.06750261  0.47038981  0.42261243] cost is 246.3184183958764\n",
      "[-0.06644359  0.48268793  0.4041411 ] cost is 239.70192973791328\n",
      "[-0.0653654   0.49464487  0.38655325] cost is 233.62233076337662\n",
      "[-0.06427435  0.50625114  0.36979363] cost is 228.03410996171158\n",
      "[-0.06317604  0.51750108  0.35381204] cost is 222.8961146453713\n",
      "[-0.06207543  0.52839221  0.33856273] cost is 218.17100847215517\n",
      "[-0.06097688  0.53892464  0.3240039 ] cost is 213.8248244208625\n",
      "[-0.0598842   0.54910064  0.31009717] cost is 209.82659155641142\n",
      "[-0.05880074  0.55892419  0.29680723] cost is 206.14801944949664\n",
      "[-0.05772936  0.56840065  0.2841015 ] cost is 202.7632281717059\n",
      "[-0.05667256  0.57753652  0.2719498 ] cost is 199.6485147682844\n",
      "[-0.05563243  0.58633911  0.26032412] cost is 196.78214930748126\n",
      "[-0.05461077  0.59481644  0.24919839] cost is 194.14419522884322\n",
      "[-0.05360906  0.60297699  0.23854828] cost is 191.71634991679207\n",
      "[-0.05262854  0.61082962  0.22835102] cost is 189.48180232246904\n",
      "[-0.05167019  0.61838339  0.21858528] cost is 187.42510512793973\n",
      "[-0.05073479  0.62564753  0.20923101] cost is 185.53205945210442\n",
      "[-0.04982293  0.63263129  0.20026934] cost is 183.78961048065406\n",
      "[-0.04893503  0.63934396  0.19168248] cost is 182.185752695029\n",
      "[-0.04807139  0.64579472  0.18345364] cost is 180.7094436009005\n",
      "[-0.04723214  0.65199267  0.17556691] cost is 179.35052503232893\n",
      "[-0.04641733  0.65794675  0.16800725] cost is 178.0996512459973\n",
      "[-0.0456269   0.66366575  0.16076039] cost is 176.94822313003723\n",
      "[-0.04486069  0.66915825  0.15381277] cost is 175.88832794076203\n",
      "[-0.04411849  0.67443263  0.14715151] cost is 174.91268405314213\n",
      "[-0.04340001  0.67949706  0.14076437] cost is 174.01459027084874\n",
      "[-0.04270491  0.68435947  0.13463967] cost is 173.18787929193664\n",
      "[-0.04203281  0.68902754  0.1287663 ] cost is 172.42687496882527\n",
      "[-0.04138328  0.69350874  0.12313367] cost is 171.72635303774078\n",
      "[-0.04075587  0.69781028  0.11773166] cost is 171.0815050243907\n",
      "[-0.04015009  0.70193915  0.11255063] cost is 170.48790506026464\n",
      "[-0.03956544  0.70590208  0.10758134] cost is 169.94147936829108\n",
      "[-0.0390014   0.70970557  0.102815  ] cost is 169.4384781981727\n",
      "[-0.03845744  0.71335591  0.09824318] cost is 168.97545001099053\n",
      "[-0.03793303  0.71685915  0.09385783] cost is 168.54921772996826\n",
      "[-0.03742761  0.7202211   0.08965124] cost is 168.1568568898643\n",
      "[-0.03694064  0.7234474   0.08561604] cost is 167.79567553155505\n",
      "[-0.03647158  0.72654342  0.08174517] cost is 167.4631957011623\n",
      "[-0.03601988  0.72951438  0.07803189] cost is 167.15713642469913\n",
      "[-0.035585    0.73236527  0.07446971] cost is 166.87539803981272\n",
      "[-0.03516641  0.7351009   0.07105245] cost is 166.61604777587257\n",
      "[-0.03476359  0.7377259   0.06777416] cost is 166.37730648249854\n",
      "[-0.034376    0.7402447   0.06462916] cost is 166.1575364147187\n",
      "[-0.03400315  0.74266157  0.061612  ] cost is 165.9552299903621\n",
      "[-0.03364453  0.74498061  0.05871746] cost is 165.76899944209177\n",
      "[-0.03329965  0.74720577  0.05594053] cost is 165.59756729272226\n",
      "[-0.03296804  0.74934082  0.05327641] cost is 165.4397575881922\n",
      "[-0.03264923  0.7513894   0.0507205 ] cost is 165.2944878278211\n",
      "[-0.03234277  0.75335501  0.0482684 ] cost is 165.16076153631317\n",
      "[-0.03204821  0.75524099  0.04591587] cost is 165.03766142640978\n",
      "[-0.03176512  0.75705055  0.04365886] cost is 164.92434310517314\n",
      "[-0.03149308  0.75878679  0.04149348] cost is 164.82002928064028\n",
      "[-0.0312317   0.76045267  0.039416  ] cost is 164.72400442903353\n",
      "[-0.03098056  0.76205104  0.03742285] cost is 164.63560988588858\n",
      "[-0.03073931  0.76358463  0.03551059] cost is 164.5542393273844\n",
      "[-0.03050755  0.76505605  0.03367595] cost is 164.47933461083974\n",
      "[-0.03028495  0.76646783  0.03191575] cost is 164.4103819458167\n",
      "[-0.03007114  0.76782239  0.03022699] cost is 164.34690836954377\n",
      "[-0.0298658   0.76912203  0.02860675] cost is 164.2884785024618\n",
      "[-0.0296686   0.77036898  0.02705225] cost is 164.2346915616248\n",
      "[-0.02947924  0.77156538  0.02556083] cost is 164.18517861145557\n",
      "[-0.0292974   0.77271327  0.02412991] cost is 164.1396000329896\n",
      "[-0.02912281  0.77381462  0.02275705] cost is 164.09764319423994\n",
      "[-0.02895517  0.77487132  0.02143989] cost is 164.05902030569695\n",
      "[-0.02879423  0.77588517  0.02017616] cost is 164.02346644624836\n",
      "[-0.02863971  0.77685791  0.01896369] cost is 163.99073774597414\n",
      "[-0.02849138  0.77779122  0.01780041] cost is 163.96060971334975\n",
      "[-0.02834897  0.77868667  0.01668431] cost is 163.93287569537992\n",
      "[-0.02821228  0.77954582  0.01561349] cost is 163.90734546009773\n",
      "[-0.02808106  0.78037013  0.01458611] cost is 163.88384389170724\n",
      "[-0.02795511  0.78116102  0.0136004 ] cost is 163.86220978941427\n",
      "[-0.02783421  0.78191983  0.01265467] cost is 163.84229476170847\n",
      "[-0.02771816  0.78264787  0.0117473 ] cost is 163.82396220850907\n",
      "[-0.02760679  0.78334639  0.01087673] cost is 163.80708638419316\n",
      "[-0.02749989  0.78401659  0.01004147] cost is 163.79155153507884\n",
      "[-0.02739729  0.78465961  0.00924009] cost is 163.7772511054468\n",
      "[-0.02729882  0.78527655  0.00847121] cost is 163.76408700665286\n",
      "[-0.02720432  0.78586848  0.00773352] cost is 163.75196894431986\n",
      "[-0.02711362  0.7864364   0.00702575] cost is 163.7408137989912\n",
      "[-0.02702658  0.78698129  0.00634668] cost is 163.73054505600052\n",
      "[-0.02694306  0.78750408  0.00569515] cost is 163.72109228064355\n",
      "[-0.0268629   0.78800568  0.00507005] cost is 163.71239063505573\n"
     ]
    }
   ],
   "source": [
    "#calculate theta using batch gradient descent - training step \n",
    "theta = np.zeros(3)\n",
    "theta[1]=6\n",
    "theta[2]=8\n",
    "theta, theta_list, cost_list = batch_gradient_descent(theta, X_train, y_train, 0.1, 10000,0.01)\n",
    "itrs=len(cost_list)"
   ]
  },
  {
   "cell_type": "markdown",
   "metadata": {},
   "source": [
    "Predicting for test data"
   ]
  },
  {
   "cell_type": "code",
   "execution_count": 11,
   "metadata": {},
   "outputs": [],
   "source": [
    "def predict_batch(theta, x):\n",
    "    '''\n",
    "    This function calculates the predicted values\n",
    "\n",
    "    Parameters\n",
    "    ----------\n",
    "    theta : array-like of shape (n,)\n",
    "        The coefficients of the linear regression model.\n",
    "    x : array-like of shape (n,m)\n",
    "        The input data.\n",
    "    \n",
    "    Returns\n",
    "    -------\n",
    "    array-like of shape (n,)\n",
    "        The output of the predicted values.\n",
    "\n",
    "    '''\n",
    "    #calculate the predicted values\n",
    "    y_pred = []\n",
    "    for i in range(len(x)):\n",
    "        y_pred.append(hypothesis(theta, x[i]))\n",
    "    return y_pred\n",
    "\n",
    "    \n",
    "\n"
   ]
  },
  {
   "cell_type": "code",
   "execution_count": 12,
   "metadata": {},
   "outputs": [
    {
     "name": "stdout",
     "output_type": "stream",
     "text": [
      "Test loss: 18.827601133597337\n"
     ]
    }
   ],
   "source": [
    "#calculate loss for test set\n",
    "test_loss = cost_function(theta, X_test, y_test)\n",
    "print(\"Test loss:\", test_loss)\n"
   ]
  },
  {
   "cell_type": "markdown",
   "metadata": {},
   "source": [
    "J vs iterations"
   ]
  },
  {
   "cell_type": "code",
   "execution_count": 13,
   "metadata": {},
   "outputs": [
    {
     "data": {
      "text/plain": [
       "Text(0.5, 1.0, 'Error vs. Training Epoch')"
      ]
     },
     "execution_count": 13,
     "metadata": {},
     "output_type": "execute_result"
    },
    {
     "data": {
      "image/png": "[encoded data removed]",
      "text/plain": [
       "<Figure size 360x360 with 1 Axes>"
      ]
     },
     "metadata": {
      "needs_background": "light"
     },
     "output_type": "display_data"
    }
   ],
   "source": [
    "\n",
    "fig, ax = plt.subplots(figsize=(5,5))\n",
    "ax.plot(np.arange(itrs), cost_list, 'r')\n",
    "ax.set_xlabel('Iterations')\n",
    "ax.set_ylabel('Cost')\n",
    "ax.set_title('Error vs. Training Epoch')"
   ]
  },
  {
   "cell_type": "markdown",
   "metadata": {},
   "source": [
    "Plot of hypothesis plane"
   ]
  },
  {
   "cell_type": "code",
   "execution_count": 20,
   "metadata": {},
   "outputs": [
    {
     "data": {
      "text/plain": [
       "Text(0.5, 0.92, '3D Scatter Plot')"
      ]
     },
     "execution_count": 20,
     "metadata": {},
     "output_type": "execute_result"
    },
    {
     "data": {
      "image/png": "[encoded data removed]",
      "text/plain": [
       "<Figure size 576x576 with 1 Axes>"
      ]
     },
     "metadata": {
      "needs_background": "light"
     },
     "output_type": "display_data"
    }
   ],
   "source": [
    "X = df[['Area', 'Bedrooms']].values.reshape(-1,2)\n",
    "y = df['Prices(1000$)']\n",
    "x1=X[:,0]\n",
    "x2=X[:,1]\n",
    "z=y\n",
    "#calculate the range of the Area and Bedrooms and create a meshgrid\n",
    "x1_min, x1_max = x1.min() - 1 ,x1.max() + 1\n",
    "x2_min, x2_max = x2.min() - 1, x2.max() + 1\n",
    "xx, yy = np.meshgrid(np.arange(x1_min, x1_max, 0.1),\n",
    "                        np.arange(x2_min, x2_max, 0.1))\n",
    "#calculate the z values for the meshgrid\n",
    "# get all the points in the meshgrid\n",
    "mesh_points = np.c_[xx.ravel(), yy.ravel()]\n",
    "#get the predicted values for the meshgrid\n",
    "z_mesh = predict_batch(theta, mesh_points)\n",
    "\n",
    "# plot 3d scatter plot of mesh_points and z_mesh\n",
    "fig = plt.figure(figsize=(8,8))\n",
    "ax = fig.add_subplot(111, projection='3d')\n",
    "ax.scatter(x1, x2, z, c='r', marker='o')\n",
    "ax.scatter(mesh_points[:,0], mesh_points[:,1], z_mesh, c='b', marker='o', alpha=0.1)\n",
    "#tilt ax \n",
    "ax.view_init(-30, 200)\n",
    "ax.set_xlabel('Area')\n",
    "ax.set_ylabel('Bedrooms')\n",
    "ax.set_zlabel('Prices(1000$)')\n",
    "ax.set_title('3D Scatter Plot')\n",
    "\n",
    "\n",
    "\n"
   ]
  },
  {
   "cell_type": "markdown",
   "metadata": {},
   "source": [
    "Contour plot of J vs theta"
   ]
  },
  {
   "cell_type": "code",
   "execution_count": 15,
   "metadata": {},
   "outputs": [],
   "source": [
    "def contour(alpha):\n",
    "    #calculate theta using batch gradient descent - training step\n",
    "    theta = np.zeros(3)\n",
    "    theta[1]=6\n",
    "    theta[2]=8\n",
    "    theta, theta_list, cost_list = batch_gradient_descent(theta, X_train, y_train, alpha, 10000,0.01)\n",
    "    #print total no of iterations\n",
    "    itrs=len(cost_list)\n",
    "    print(\"Total no of iterations:\", itrs)\n",
    "    #Plot a contour plot of the cost function vs theta1 and theta2\n",
    "    #create a meshgrid of theta1 and theta2\n",
    "    theta1_min, theta1_max = X_train[:,1].min() - 5, X_train[:,1].max() + 5\n",
    "    theta2_min, theta2_max = X_train[:,2].min() - 5, X_train[:,2].max() + 5\n",
    "    theta1_grid, theta2_grid = np.meshgrid(np.arange(theta1_min, theta1_max, 0.1), np.arange(theta2_min, theta2_max, 0.1))\n",
    "    fig, ax = plt.subplots(1, 1, figsize=(8,8))\n",
    "    \n",
    "    Z = cost_function(np.c_[np.ones(theta1_grid.ravel().shape[0]), theta1_grid.ravel(), theta2_grid.ravel()], X_train, y_train)\n",
    "    Z = Z.reshape(theta1_grid.shape)\n",
    "    # plot contour plot wothout background color and line color based on z values\n",
    "    ax.contourf(theta1_grid, theta2_grid, Z, cmap=plt.cm.cool,  levels = np.linspace(Z.min(), Z.max(), 30))\n",
    "    # ax.contour(theta1_grid, theta2_grid, Z, colors='k', levels=30)\n",
    "\n",
    "    ax.scatter(theta_list[0][1], theta_list[0][2], c='r', s=40)\n",
    "    #put alpha value on the plot\n",
    "    ax.text(0.05, 0.95, 'alpha = %.2f' % alpha, transform=ax.transAxes, fontsize=14, verticalalignment='top')\n",
    "    ax.set_xlabel(r'$\\theta_1$')\n",
    "    ax.set_ylabel(r'$\\theta_2$')\n",
    "    ax.set_title('Contour Plot of Cost Function')\n",
    "    #plot theta_list on the contour plot\n",
    "    for i in range(len(theta_list)):\n",
    "        ax.scatter(theta_list[i][1], theta_list[i][2], c='r', s=40)\n",
    "        \n",
    "    plt.show()\n"
   ]
  },
  {
   "cell_type": "code",
   "execution_count": 16,
   "metadata": {},
   "outputs": [
    {
     "name": "stdout",
     "output_type": "stream",
     "text": [
      "[0. 6. 8.] cost is 85710.69545516712\n",
      "[0.01094067 5.03127007 7.06856877] cost is 62800.3629274629\n",
      "[0.01688593 4.21398021 6.26432534] cost is 46119.96687370327\n",
      "[0.01899113 3.52539179 5.56891566] cost is 33967.2473822772\n",
      "[0.01819579 2.94614438 4.96667914] cost is 25105.819621071707\n",
      "[0.01526014 2.45975529 4.4442514 ] cost is 18637.594427697637\n",
      "[0.01079579 2.05219324 3.99022564] cost is 13910.146201553374\n",
      "[0.0052915  1.71151508 3.59486407] cost is 10449.453667618254\n",
      "[-8.65295027e-04  1.42755631e+00  3.24985200e+00] cost is 7911.062411612957\n",
      "[-0.00737048  1.19166745  2.94808815] cost is 6044.622596886679\n",
      "[-0.01398823  0.99648936  2.68350605] cost is 4668.137937040162\n",
      "[-0.02053842  0.8357619   2.45092171] cost is 3649.2658106926506\n",
      "[-0.02688627  0.70416091  2.24590386] cost is 2891.737176996663\n",
      "[-0.03293362  0.59715929  2.06466325] cost is 2325.494046706837\n",
      "[-0.03861176  0.51090867  1.9039584 ] cost is 1899.5263965338806\n",
      "[-0.0438755   0.44213864  1.76101514] cost is 1576.6693045144832\n",
      "[-0.04869825  0.38807087  1.63345808] cost is 1329.823567523178\n",
      "[-0.05306802  0.34634593  1.51925223] cost is 1139.2100736366046\n",
      "[-0.0569841   0.31496103  1.41665307] cost is 990.3749403071238\n",
      "[-0.06045438  0.29221693  1.32416417] cost is 872.7399282324856\n",
      "[-0.06349311  0.2766727   1.24050093] cost is 778.5489111253479\n",
      "[-0.06611922  0.26710724  1.16455965] cost is 702.1020391088441\n",
      "[-0.0683548   0.26248648  1.09539125] cost is 639.1989005462742\n",
      "[-0.07022402  0.26193545  1.03217877] cost is 586.7335292633683\n",
      "[-0.07175224  0.26471445  0.97421819] cost is 542.399746981477\n",
      "[-0.07296524  0.27019887  0.92090211] cost is 504.47669024328195\n",
      "[-0.07388875  0.27786184  0.87170578] cost is 471.67262039038064\n",
      "[-0.074548    0.28725964  0.82617521] cost is 443.0111060607911\n",
      "[-0.0749674   0.2980191   0.78391699] cost is 417.7480186902509\n",
      "[-0.07517035  0.30982704  0.74458963] cost is 395.3109416878003\n",
      "[-0.07517908  0.32242115  0.70789618] cost is 375.2548893768795\n",
      "[-0.07501451  0.33558226  0.67357786] cost is 357.2298992066177\n",
      "[-0.07469627  0.34912786  0.64140871] cost is 340.95727206206607\n",
      "[-0.07424259  0.3629064   0.61119095] cost is 326.2121155753824\n",
      "[-0.07367041  0.37679264  0.58275103] cost is 312.8104848171884\n",
      "[-0.0729953   0.39068354  0.5559363 ] cost is 300.5998794622351\n",
      "[-0.07223159  0.40449485  0.53061208] cost is 289.4521942866484\n",
      "[-0.07139237  0.41815818  0.50665924] cost is 279.2584653886091\n",
      "[-0.07048955  0.43161851  0.48397205] cost is 269.92493304984714\n",
      "[-0.06953395  0.44483209  0.46245642] cost is 261.37007198995184\n",
      "[-0.06853537  0.45776463  0.44202831] cost is 253.5223342153232\n",
      "[-0.06750261  0.47038981  0.42261243] cost is 246.3184183958764\n",
      "[-0.06644359  0.48268793  0.4041411 ] cost is 239.70192973791328\n",
      "[-0.0653654   0.49464487  0.38655325] cost is 233.62233076337662\n",
      "[-0.06427435  0.50625114  0.36979363] cost is 228.03410996171158\n",
      "[-0.06317604  0.51750108  0.35381204] cost is 222.8961146453713\n",
      "[-0.06207543  0.52839221  0.33856273] cost is 218.17100847215517\n",
      "[-0.06097688  0.53892464  0.3240039 ] cost is 213.8248244208625\n",
      "[-0.0598842   0.54910064  0.31009717] cost is 209.82659155641142\n",
      "[-0.05880074  0.55892419  0.29680723] cost is 206.14801944949664\n",
      "[-0.05772936  0.56840065  0.2841015 ] cost is 202.7632281717059\n",
      "[-0.05667256  0.57753652  0.2719498 ] cost is 199.6485147682844\n",
      "[-0.05563243  0.58633911  0.26032412] cost is 196.78214930748126\n",
      "[-0.05461077  0.59481644  0.24919839] cost is 194.14419522884322\n",
      "[-0.05360906  0.60297699  0.23854828] cost is 191.71634991679207\n",
      "[-0.05262854  0.61082962  0.22835102] cost is 189.48180232246904\n",
      "[-0.05167019  0.61838339  0.21858528] cost is 187.42510512793973\n",
      "[-0.05073479  0.62564753  0.20923101] cost is 185.53205945210442\n",
      "[-0.04982293  0.63263129  0.20026934] cost is 183.78961048065406\n",
      "[-0.04893503  0.63934396  0.19168248] cost is 182.185752695029\n",
      "[-0.04807139  0.64579472  0.18345364] cost is 180.7094436009005\n",
      "[-0.04723214  0.65199267  0.17556691] cost is 179.35052503232893\n",
      "[-0.04641733  0.65794675  0.16800725] cost is 178.0996512459973\n",
      "[-0.0456269   0.66366575  0.16076039] cost is 176.94822313003723\n",
      "[-0.04486069  0.66915825  0.15381277] cost is 175.88832794076203\n",
      "[-0.04411849  0.67443263  0.14715151] cost is 174.91268405314213\n",
      "[-0.04340001  0.67949706  0.14076437] cost is 174.01459027084874\n",
      "[-0.04270491  0.68435947  0.13463967] cost is 173.18787929193664\n",
      "[-0.04203281  0.68902754  0.1287663 ] cost is 172.42687496882527\n",
      "[-0.04138328  0.69350874  0.12313367] cost is 171.72635303774078\n",
      "[-0.04075587  0.69781028  0.11773166] cost is 171.0815050243907\n",
      "[-0.04015009  0.70193915  0.11255063] cost is 170.48790506026464\n",
      "[-0.03956544  0.70590208  0.10758134] cost is 169.94147936829108\n",
      "[-0.0390014   0.70970557  0.102815  ] cost is 169.4384781981727\n",
      "[-0.03845744  0.71335591  0.09824318] cost is 168.97545001099053\n",
      "[-0.03793303  0.71685915  0.09385783] cost is 168.54921772996826\n",
      "[-0.03742761  0.7202211   0.08965124] cost is 168.1568568898643\n",
      "[-0.03694064  0.7234474   0.08561604] cost is 167.79567553155505\n",
      "[-0.03647158  0.72654342  0.08174517] cost is 167.4631957011623\n",
      "[-0.03601988  0.72951438  0.07803189] cost is 167.15713642469913\n",
      "[-0.035585    0.73236527  0.07446971] cost is 166.87539803981272\n",
      "[-0.03516641  0.7351009   0.07105245] cost is 166.61604777587257\n",
      "[-0.03476359  0.7377259   0.06777416] cost is 166.37730648249854\n",
      "[-0.034376    0.7402447   0.06462916] cost is 166.1575364147187\n",
      "[-0.03400315  0.74266157  0.061612  ] cost is 165.9552299903621\n",
      "[-0.03364453  0.74498061  0.05871746] cost is 165.76899944209177\n",
      "[-0.03329965  0.74720577  0.05594053] cost is 165.59756729272226\n",
      "[-0.03296804  0.74934082  0.05327641] cost is 165.4397575881922\n",
      "[-0.03264923  0.7513894   0.0507205 ] cost is 165.2944878278211\n",
      "[-0.03234277  0.75335501  0.0482684 ] cost is 165.16076153631317\n",
      "[-0.03204821  0.75524099  0.04591587] cost is 165.03766142640978\n",
      "[-0.03176512  0.75705055  0.04365886] cost is 164.92434310517314\n",
      "[-0.03149308  0.75878679  0.04149348] cost is 164.82002928064028\n",
      "[-0.0312317   0.76045267  0.039416  ] cost is 164.72400442903353\n",
      "[-0.03098056  0.76205104  0.03742285] cost is 164.63560988588858\n",
      "[-0.03073931  0.76358463  0.03551059] cost is 164.5542393273844\n",
      "[-0.03050755  0.76505605  0.03367595] cost is 164.47933461083974\n",
      "[-0.03028495  0.76646783  0.03191575] cost is 164.4103819458167\n",
      "[-0.03007114  0.76782239  0.03022699] cost is 164.34690836954377\n",
      "[-0.0298658   0.76912203  0.02860675] cost is 164.2884785024618\n",
      "[-0.0296686   0.77036898  0.02705225] cost is 164.2346915616248\n",
      "[-0.02947924  0.77156538  0.02556083] cost is 164.18517861145557\n",
      "[-0.0292974   0.77271327  0.02412991] cost is 164.1396000329896\n",
      "[-0.02912281  0.77381462  0.02275705] cost is 164.09764319423994\n",
      "[-0.02895517  0.77487132  0.02143989] cost is 164.05902030569695\n",
      "[-0.02879423  0.77588517  0.02017616] cost is 164.02346644624836\n",
      "[-0.02863971  0.77685791  0.01896369] cost is 163.99073774597414\n",
      "[-0.02849138  0.77779122  0.01780041] cost is 163.96060971334975\n",
      "[-0.02834897  0.77868667  0.01668431] cost is 163.93287569537992\n",
      "[-0.02821228  0.77954582  0.01561349] cost is 163.90734546009773\n",
      "[-0.02808106  0.78037013  0.01458611] cost is 163.88384389170724\n",
      "[-0.02795511  0.78116102  0.0136004 ] cost is 163.86220978941427\n",
      "[-0.02783421  0.78191983  0.01265467] cost is 163.84229476170847\n",
      "[-0.02771816  0.78264787  0.0117473 ] cost is 163.82396220850907\n",
      "[-0.02760679  0.78334639  0.01087673] cost is 163.80708638419316\n",
      "[-0.02749989  0.78401659  0.01004147] cost is 163.79155153507884\n",
      "[-0.02739729  0.78465961  0.00924009] cost is 163.7772511054468\n",
      "[-0.02729882  0.78527655  0.00847121] cost is 163.76408700665286\n",
      "[-0.02720432  0.78586848  0.00773352] cost is 163.75196894431986\n",
      "[-0.02711362  0.7864364   0.00702575] cost is 163.7408137989912\n",
      "[-0.02702658  0.78698129  0.00634668] cost is 163.73054505600052\n",
      "[-0.02694306  0.78750408  0.00569515] cost is 163.72109228064355\n",
      "[-0.0268629   0.78800568  0.00507005] cost is 163.71239063505573\n",
      "Total no of iterations: 123\n"
     ]
    },
    {
     "data": {
      "image/png": "[encoded data removed]",
      "text/plain": [
       "<Figure size 576x576 with 1 Axes>"
      ]
     },
     "metadata": {
      "needs_background": "light"
     },
     "output_type": "display_data"
    }
   ],
   "source": [
    "contour(0.1)"
   ]
  }
 ],
 "metadata": {
  "interpreter": {
   "hash": "74fc0cb1932bf4b202d61f4ecf9d651fa79ff967900f756d776817a87c2d0209"
  },
  "kernelspec": {
   "display_name": "Python 3.9.1 64-bit",
   "language": "python",
   "name": "python3"
  },
  "language_info": {
   "codemirror_mode": {
    "name": "ipython",
    "version": 3
   },
   "file_extension": ".py",
   "mimetype": "text/x-python",
   "name": "python",
   "nbconvert_exporter": "python",
   "pygments_lexer": "ipython3",
   "version": "3.9.1"
  },
  "orig_nbformat": 4
 },
 "nbformat": 4,
 "nbformat_minor": 2
}
