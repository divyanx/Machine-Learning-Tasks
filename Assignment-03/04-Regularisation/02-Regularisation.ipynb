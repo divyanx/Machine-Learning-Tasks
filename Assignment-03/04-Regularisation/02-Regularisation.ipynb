{
 "cells": [
  {
   "cell_type": "code",
   "execution_count": 70,
   "metadata": {},
   "outputs": [],
   "source": [
    "import matplotlib.pyplot as plt\n",
    "import numpy as np\n",
    "from sklearn import datasets\n",
    "import seaborn as sns"
   ]
  },
  {
   "cell_type": "code",
   "execution_count": 71,
   "metadata": {},
   "outputs": [],
   "source": [
    "def LassoGD(y, tx, initial_w, lambda_, max_iters, gamma):\n",
    "    \"\"\"Gradient descent algorithm for Lasso\"\"\"\n",
    "    # Define parameters to store w and loss\n",
    "    ws = [initial_w]\n",
    "    losses = []\n",
    "    w = initial_w\n",
    "    for n_iter in range(max_iters):\n",
    "        # compute gradient and loss\n",
    "        grad = compute_gradient_Lasso(y, tx, w, lambda_)\n",
    "        loss = compute_loss_Lasso(y, tx, w, lambda_)\n",
    "        # gradient w by descent update\n",
    "        w = w - gamma * grad\n",
    "        # store w and loss\n",
    "        ws.append(w)\n",
    "        losses.append(loss)\n",
    "        # print(\"Gradient Descent({bi}/{ti}): loss={l}, w0={w0}, w1={w1}\".format(\n",
    "        #     bi=n_iter, ti=max_iters - 1, l=loss, w0=w[0], w1=w[1]))\n",
    "    return losses, ws"
   ]
  },
  {
   "cell_type": "code",
   "execution_count": 72,
   "metadata": {},
   "outputs": [],
   "source": [
    "def compute_loss_Lasso(y, tx, w, lambda_):\n",
    "    \"\"\"Compute the loss.\"\"\"\n",
    "    e = y - tx.dot(w)\n",
    "    loss = np.sum(e**2) / 2 + lambda_ * np.sum(np.abs(w))\n",
    "    return loss"
   ]
  },
  {
   "cell_type": "code",
   "execution_count": 73,
   "metadata": {},
   "outputs": [],
   "source": [
    "def compute_gradient_Lasso(y, tx, w, lambda_):\n",
    "    \"\"\"Compute the gradient.\"\"\"\n",
    "    e = y - tx.dot(w)\n",
    "    grad = -tx.T.dot(e) + lambda_ * np.sign(w)\n",
    "    return grad"
   ]
  },
  {
   "cell_type": "code",
   "execution_count": 88,
   "metadata": {},
   "outputs": [],
   "source": [
    "def RidgeGD(y, tx, initial_w, lambda_, max_iters, gamma):\n",
    "    \"\"\"Gradient descent algorithm for Ridge\"\"\"\n",
    "    # Define parameters to store w and loss\n",
    "    ws = [initial_w]\n",
    "    losses = []\n",
    "    w = initial_w\n",
    "    for n_iter in range(max_iters):\n",
    "        # compute gradient and loss\n",
    "        grad = compute_gradient_Ridge(y, tx, w, lambda_)\n",
    "        loss = compute_loss_Ridge(y, tx, w, lambda_)\n",
    "        # gradient w by descent update\n",
    "        print(\"grad = \",grad)\n",
    "        print(\"gamma = \",gamma)\n",
    "        #convert tuple to list\n",
    "        grad = list(grad)\n",
    "        \n",
    "        #multiply each element of the gradient by gamma\n",
    "        for i in range(len(grad)):\n",
    "            grad[i] = grad[i] * gamma\n",
    "        w = w - grad\n",
    "        # store w and loss\n",
    "        ws.append(w)\n",
    "        losses.append(loss)\n",
    "        # print(\"Gradient Descent({bi}/{ti}): loss={l}, w0={w0}, w1={w1}\".format(\n",
    "        #     bi=n_iter, ti=max_iters - 1, l=loss, w0=w[0], w1=w[1]))\n",
    "    return losses, ws"
   ]
  },
  {
   "cell_type": "code",
   "execution_count": 75,
   "metadata": {},
   "outputs": [],
   "source": [
    "def compute_gradient_Ridge(y, tx, w, lambda_):\n",
    "    \"\"\"Compute the gradient.\"\"\"\n",
    "    e = y - tx.dot(w)\n",
    "    grad = -tx.T.dot(e) + lambda_ * w\n",
    "    return grad, e"
   ]
  },
  {
   "cell_type": "code",
   "execution_count": 76,
   "metadata": {},
   "outputs": [],
   "source": [
    "def compute_loss_Ridge(y, tx, w, lambda_):\n",
    "    \"\"\"Compute the loss.\"\"\"\n",
    "    e = y - tx.dot(w)\n",
    "    loss = np.sum(e**2) / 2 + lambda_ * np.sum(w**2)\n",
    "    return loss"
   ]
  },
  {
   "cell_type": "code",
   "execution_count": 77,
   "metadata": {},
   "outputs": [],
   "source": [
    "def ElasticNetGD(y, tx, initial_w, lambda_, max_iters, gamma, alpha):\n",
    "    \"\"\"Gradient descent algorithm for Elastic Net\"\"\"\n",
    "    # Define parameters to store w and loss\n",
    "    ws = [initial_w]\n",
    "    losses = []\n",
    "    w = initial_w\n",
    "    for n_iter in range(max_iters):\n",
    "        # compute gradient and loss\n",
    "        grad = compute_gradient_ElasticNet(y, tx, w, lambda_, alpha)\n",
    "        loss = compute_loss_ElasticNet(y, tx, w, lambda_, alpha)\n",
    "        # gradient w by descent update\n",
    "        \n",
    "        w = w - gamma * grad\n",
    "        # store w and loss\n",
    "        ws.append(w)\n",
    "        losses.append(loss)\n",
    "        # print(\"Gradient Descent({bi}/{ti}): loss={l}, w0={w0}, w1={w1}\".format(\n",
    "        #     bi=n_iter, ti=max_iters - 1, l=loss, w0=w[0], w1=w[1]))\n",
    "    return losses, ws"
   ]
  },
  {
   "cell_type": "code",
   "execution_count": 78,
   "metadata": {},
   "outputs": [],
   "source": [
    "def compute_loss_ElasticNet(y, tx, w, lambda_, alpha):\n",
    "    \"\"\"Compute the loss.\"\"\"\n",
    "    e = y - tx.dot(w)\n",
    "    loss = np.sum(e**2) / 2 + lambda_ * (alpha * np.sum(np.abs(w)) + (1 - alpha) * np.sum(w**2)/2)\n",
    "    return loss"
   ]
  },
  {
   "cell_type": "code",
   "execution_count": 79,
   "metadata": {},
   "outputs": [],
   "source": [
    "def compute_gradient_ElasticNet(y, tx, w, lambda_, alpha):\n",
    "    \"\"\"Compute the gradient.\"\"\"\n",
    "    e = y - tx.dot(w)\n",
    "    grad = -tx.T.dot(e) + lambda_ * (alpha * np.sign(w) + (1 - alpha) * w)\n",
    "    return grad"
   ]
  },
  {
   "cell_type": "code",
   "execution_count": 80,
   "metadata": {},
   "outputs": [],
   "source": [
    "def crossValidate(y, tx, k_fold, lambda_, max_iters, gamma, alpha):\n",
    "    \"\"\" returns losses for each regularisation\n",
    "    i.e Lasso, Ridge, Elastic Net\n",
    "    \"\"\"\n",
    "    losses = []\n",
    "    weights = []\n",
    "    for i in range(k_fold):\n",
    "        # split data into training and test set\n",
    "        y_train = y[i*len(y)//k_fold:(i+1)*len(y)//k_fold]\n",
    "        y_test_1 = y[:i*len(y)//k_fold] \n",
    "        y_test_2 = y[(i+1)*len(y)//k_fold:]\n",
    "        y_test = np.concatenate((y_test_1, y_test_2))\n",
    "        # y_train, y_test = y[i*len(y)//k_fold:(i+1)*len(y)//k_fold], y[:i*len(y)//k_fold] + y[(i+1)*len(y)//k_fold:]\n",
    "        # tx_train, tx_test = tx[i*len(tx)//k_fold:(i+1)*len(tx)//k_fold], tx[:i*len(tx)//k_fold] + tx[(i+1)*len(tx)//k_fold:]\n",
    "        tx_train = tx[i*len(tx)//k_fold:(i+1)*len(tx)//k_fold]\n",
    "        tx_test_1 = tx[:i*len(tx)//k_fold]\n",
    "        tx_test_2 = tx[(i+1)*len(tx)//k_fold:]\n",
    "        tx_test = np.concatenate((tx_test_1, tx_test_2))\n",
    "        #choose a gamma\n",
    "        gamma = 0.01\n",
    "        #initilize initial weights\n",
    "        #print(tx_train)\n",
    "        initial_w = np.zeros(tx_train.shape)\n",
    "        #print(initial_w)\n",
    "        # train model and predict\n",
    "        losses_lasso, ws_lasso = LassoGD(y_train, tx_train,initial_w, lambda_, max_iters, gamma)\n",
    "        losses_ridge, ws_ridge = RidgeGD(y_train, tx_train,initial_w, lambda_, max_iters, gamma)\n",
    "        losses_elastic, ws_elastic = ElasticNetGD(y_train, tx_train, initial_w,lambda_, max_iters, gamma, alpha)\n",
    "        # append losses\n",
    "        losses.append(losses_lasso)\n",
    "        losses.append(losses_ridge)\n",
    "        losses.append(losses_elastic)\n",
    "        # append weights\n",
    "        weights.append(ws_lasso)\n",
    "        weights.append(ws_ridge)\n",
    "        weights.append(ws_elastic)\n",
    "\n",
    "    return losses, weights\n"
   ]
  },
  {
   "cell_type": "code",
   "execution_count": 81,
   "metadata": {},
   "outputs": [],
   "source": [
    "\n",
    "n = 60\n",
    "x = np.random.uniform(0, 10, n)\n",
    "\n",
    "# a be any real number\n",
    "a = 20\n",
    "b = 10\n",
    "e = np.random.normal(0, 1, n)*5\n",
    "\n",
    "y = a * x + b + e\n"
   ]
  },
  {
   "cell_type": "code",
   "execution_count": 82,
   "metadata": {},
   "outputs": [
    {
     "data": {
      "image/png": "[encoded data removed]",
      "text/plain": [
       "<Figure size 720x720 with 1 Axes>"
      ]
     },
     "metadata": {
      "needs_background": "light"
     },
     "output_type": "display_data"
    }
   ],
   "source": [
    "# plot the data\n",
    "# figure size (width, height)\n",
    "fig = plt.figure(figsize=(10, 10))\n",
    "\n",
    "\n",
    "plt.grid(False)\n",
    "plt.scatter(x, y)\n",
    "plt.xlabel(\"x\")\n",
    "plt.ylabel(\"y\")\n",
    "plt.title(\"Scatter plot of y vs x\")\n",
    "plt.show()"
   ]
  },
  {
   "cell_type": "code",
   "execution_count": 89,
   "metadata": {},
   "outputs": [
    {
     "name": "stderr",
     "output_type": "stream",
     "text": [
      "C:\\Users\\RAZORBLADE\\AppData\\Local\\Temp\\ipykernel_17240\\912174918.py:4: RuntimeWarning: overflow encountered in square\n",
      "  loss = np.sum(e**2) / 2 + lambda_ * np.sum(np.abs(w))\n",
      "C:\\Users\\RAZORBLADE\\AppData\\Local\\Temp\\ipykernel_17240\\2043934757.py:12: RuntimeWarning: invalid value encountered in subtract\n",
      "  w = w - gamma * grad\n"
     ]
    },
    {
     "name": "stdout",
     "output_type": "stream",
     "text": [
      "grad =  (array([-7911.84627763, -7911.84627763, -7911.84627763, -7911.84627763,\n",
      "       -7911.84627763, -7911.84627763, -7911.84627763, -7911.84627763,\n",
      "       -7911.84627763, -7911.84627763]), array([ 91.51354018,  53.96856007, 173.15929707, 180.67003953,\n",
      "       197.12060673,  78.16155206, 174.41894554,  35.49128092,\n",
      "        16.33440741, 135.883407  ]))\n",
      "gamma =  0.01\n"
     ]
    },
    {
     "ename": "ValueError",
     "evalue": "shapes (10,) and (2,10) not aligned: 10 (dim 0) != 2 (dim 0)",
     "output_type": "error",
     "traceback": [
      "\u001b[1;31m---------------------------------------------------------------------------\u001b[0m",
      "\u001b[1;31mValueError\u001b[0m                                Traceback (most recent call last)",
      "\u001b[1;32mc:\\Users\\RAZORBLADE\\Desktop\\Sem-VI\\CS331 - ML\\Machine-Learning-Tasks\\Machine-Learning-Tasks\\Assignment-03\\04-Regularisation\\02-Regularisation.ipynb Cell 14'\u001b[0m in \u001b[0;36m<module>\u001b[1;34m\u001b[0m\n\u001b[1;32m----> <a href='vscode-notebook-cell:/c%3A/Users/RAZORBLADE/Desktop/Sem-VI/CS331%20-%20ML/Machine-Learning-Tasks/Machine-Learning-Tasks/Assignment-03/04-Regularisation/02-Regularisation.ipynb#ch0000013?line=0'>1</a>\u001b[0m losses, weights \u001b[39m=\u001b[39m crossValidate(y, x, \u001b[39m6\u001b[39;49m, \u001b[39m0.1\u001b[39;49m, \u001b[39m10000\u001b[39;49m, \u001b[39m0.01\u001b[39;49m, \u001b[39m0.5\u001b[39;49m)\n",
      "\u001b[1;32mc:\\Users\\RAZORBLADE\\Desktop\\Sem-VI\\CS331 - ML\\Machine-Learning-Tasks\\Machine-Learning-Tasks\\Assignment-03\\04-Regularisation\\02-Regularisation.ipynb Cell 11'\u001b[0m in \u001b[0;36mcrossValidate\u001b[1;34m(y, tx, k_fold, lambda_, max_iters, gamma, alpha)\u001b[0m\n\u001b[0;32m     <a href='vscode-notebook-cell:/c%3A/Users/RAZORBLADE/Desktop/Sem-VI/CS331%20-%20ML/Machine-Learning-Tasks/Machine-Learning-Tasks/Assignment-03/04-Regularisation/02-Regularisation.ipynb#ch0000010?line=23'>24</a>\u001b[0m \u001b[39m#print(initial_w)\u001b[39;00m\n\u001b[0;32m     <a href='vscode-notebook-cell:/c%3A/Users/RAZORBLADE/Desktop/Sem-VI/CS331%20-%20ML/Machine-Learning-Tasks/Machine-Learning-Tasks/Assignment-03/04-Regularisation/02-Regularisation.ipynb#ch0000010?line=24'>25</a>\u001b[0m \u001b[39m# train model and predict\u001b[39;00m\n\u001b[0;32m     <a href='vscode-notebook-cell:/c%3A/Users/RAZORBLADE/Desktop/Sem-VI/CS331%20-%20ML/Machine-Learning-Tasks/Machine-Learning-Tasks/Assignment-03/04-Regularisation/02-Regularisation.ipynb#ch0000010?line=25'>26</a>\u001b[0m losses_lasso, ws_lasso \u001b[39m=\u001b[39m LassoGD(y_train, tx_train,initial_w, lambda_, max_iters, gamma)\n\u001b[1;32m---> <a href='vscode-notebook-cell:/c%3A/Users/RAZORBLADE/Desktop/Sem-VI/CS331%20-%20ML/Machine-Learning-Tasks/Machine-Learning-Tasks/Assignment-03/04-Regularisation/02-Regularisation.ipynb#ch0000010?line=26'>27</a>\u001b[0m losses_ridge, ws_ridge \u001b[39m=\u001b[39m RidgeGD(y_train, tx_train,initial_w, lambda_, max_iters, gamma)\n\u001b[0;32m     <a href='vscode-notebook-cell:/c%3A/Users/RAZORBLADE/Desktop/Sem-VI/CS331%20-%20ML/Machine-Learning-Tasks/Machine-Learning-Tasks/Assignment-03/04-Regularisation/02-Regularisation.ipynb#ch0000010?line=27'>28</a>\u001b[0m losses_elastic, ws_elastic \u001b[39m=\u001b[39m ElasticNetGD(y_train, tx_train, initial_w,lambda_, max_iters, gamma, alpha)\n\u001b[0;32m     <a href='vscode-notebook-cell:/c%3A/Users/RAZORBLADE/Desktop/Sem-VI/CS331%20-%20ML/Machine-Learning-Tasks/Machine-Learning-Tasks/Assignment-03/04-Regularisation/02-Regularisation.ipynb#ch0000010?line=28'>29</a>\u001b[0m \u001b[39m# append losses\u001b[39;00m\n",
      "\u001b[1;32mc:\\Users\\RAZORBLADE\\Desktop\\Sem-VI\\CS331 - ML\\Machine-Learning-Tasks\\Machine-Learning-Tasks\\Assignment-03\\04-Regularisation\\02-Regularisation.ipynb Cell 5'\u001b[0m in \u001b[0;36mRidgeGD\u001b[1;34m(y, tx, initial_w, lambda_, max_iters, gamma)\u001b[0m\n\u001b[0;32m      <a href='vscode-notebook-cell:/c%3A/Users/RAZORBLADE/Desktop/Sem-VI/CS331%20-%20ML/Machine-Learning-Tasks/Machine-Learning-Tasks/Assignment-03/04-Regularisation/02-Regularisation.ipynb#ch0000004?line=5'>6</a>\u001b[0m w \u001b[39m=\u001b[39m initial_w\n\u001b[0;32m      <a href='vscode-notebook-cell:/c%3A/Users/RAZORBLADE/Desktop/Sem-VI/CS331%20-%20ML/Machine-Learning-Tasks/Machine-Learning-Tasks/Assignment-03/04-Regularisation/02-Regularisation.ipynb#ch0000004?line=6'>7</a>\u001b[0m \u001b[39mfor\u001b[39;00m n_iter \u001b[39min\u001b[39;00m \u001b[39mrange\u001b[39m(max_iters):\n\u001b[0;32m      <a href='vscode-notebook-cell:/c%3A/Users/RAZORBLADE/Desktop/Sem-VI/CS331%20-%20ML/Machine-Learning-Tasks/Machine-Learning-Tasks/Assignment-03/04-Regularisation/02-Regularisation.ipynb#ch0000004?line=7'>8</a>\u001b[0m     \u001b[39m# compute gradient and loss\u001b[39;00m\n\u001b[1;32m----> <a href='vscode-notebook-cell:/c%3A/Users/RAZORBLADE/Desktop/Sem-VI/CS331%20-%20ML/Machine-Learning-Tasks/Machine-Learning-Tasks/Assignment-03/04-Regularisation/02-Regularisation.ipynb#ch0000004?line=8'>9</a>\u001b[0m     grad \u001b[39m=\u001b[39m compute_gradient_Ridge(y, tx, w, lambda_)\n\u001b[0;32m     <a href='vscode-notebook-cell:/c%3A/Users/RAZORBLADE/Desktop/Sem-VI/CS331%20-%20ML/Machine-Learning-Tasks/Machine-Learning-Tasks/Assignment-03/04-Regularisation/02-Regularisation.ipynb#ch0000004?line=9'>10</a>\u001b[0m     loss \u001b[39m=\u001b[39m compute_loss_Ridge(y, tx, w, lambda_)\n\u001b[0;32m     <a href='vscode-notebook-cell:/c%3A/Users/RAZORBLADE/Desktop/Sem-VI/CS331%20-%20ML/Machine-Learning-Tasks/Machine-Learning-Tasks/Assignment-03/04-Regularisation/02-Regularisation.ipynb#ch0000004?line=10'>11</a>\u001b[0m     \u001b[39m# gradient w by descent update\u001b[39;00m\n",
      "\u001b[1;32mc:\\Users\\RAZORBLADE\\Desktop\\Sem-VI\\CS331 - ML\\Machine-Learning-Tasks\\Machine-Learning-Tasks\\Assignment-03\\04-Regularisation\\02-Regularisation.ipynb Cell 6'\u001b[0m in \u001b[0;36mcompute_gradient_Ridge\u001b[1;34m(y, tx, w, lambda_)\u001b[0m\n\u001b[0;32m      <a href='vscode-notebook-cell:/c%3A/Users/RAZORBLADE/Desktop/Sem-VI/CS331%20-%20ML/Machine-Learning-Tasks/Machine-Learning-Tasks/Assignment-03/04-Regularisation/02-Regularisation.ipynb#ch0000005?line=0'>1</a>\u001b[0m \u001b[39mdef\u001b[39;00m \u001b[39mcompute_gradient_Ridge\u001b[39m(y, tx, w, lambda_):\n\u001b[0;32m      <a href='vscode-notebook-cell:/c%3A/Users/RAZORBLADE/Desktop/Sem-VI/CS331%20-%20ML/Machine-Learning-Tasks/Machine-Learning-Tasks/Assignment-03/04-Regularisation/02-Regularisation.ipynb#ch0000005?line=1'>2</a>\u001b[0m     \u001b[39m\"\"\"Compute the gradient.\"\"\"\u001b[39;00m\n\u001b[1;32m----> <a href='vscode-notebook-cell:/c%3A/Users/RAZORBLADE/Desktop/Sem-VI/CS331%20-%20ML/Machine-Learning-Tasks/Machine-Learning-Tasks/Assignment-03/04-Regularisation/02-Regularisation.ipynb#ch0000005?line=2'>3</a>\u001b[0m     e \u001b[39m=\u001b[39m y \u001b[39m-\u001b[39m tx\u001b[39m.\u001b[39;49mdot(w)\n\u001b[0;32m      <a href='vscode-notebook-cell:/c%3A/Users/RAZORBLADE/Desktop/Sem-VI/CS331%20-%20ML/Machine-Learning-Tasks/Machine-Learning-Tasks/Assignment-03/04-Regularisation/02-Regularisation.ipynb#ch0000005?line=3'>4</a>\u001b[0m     grad \u001b[39m=\u001b[39m \u001b[39m-\u001b[39mtx\u001b[39m.\u001b[39mT\u001b[39m.\u001b[39mdot(e) \u001b[39m+\u001b[39m lambda_ \u001b[39m*\u001b[39m w\n\u001b[0;32m      <a href='vscode-notebook-cell:/c%3A/Users/RAZORBLADE/Desktop/Sem-VI/CS331%20-%20ML/Machine-Learning-Tasks/Machine-Learning-Tasks/Assignment-03/04-Regularisation/02-Regularisation.ipynb#ch0000005?line=4'>5</a>\u001b[0m     \u001b[39mreturn\u001b[39;00m grad, e\n",
      "\u001b[1;31mValueError\u001b[0m: shapes (10,) and (2,10) not aligned: 10 (dim 0) != 2 (dim 0)"
     ]
    }
   ],
   "source": [
    "losses, weights = crossValidate(y, x, 6, 0.1, 10000, 0.01, 0.5)"
   ]
  }
 ],
 "metadata": {
  "interpreter": {
   "hash": "f23730d148f0a90638581163a05f33fe279101ed952ab2055512a2b448ea1fdc"
  },
  "kernelspec": {
   "display_name": "Python 3.8.8 ('base')",
   "language": "python",
   "name": "python3"
  },
  "language_info": {
   "codemirror_mode": {
    "name": "ipython",
    "version": 3
   },
   "file_extension": ".py",
   "mimetype": "text/x-python",
   "name": "python",
   "nbconvert_exporter": "python",
   "pygments_lexer": "ipython3",
   "version": "3.9.1"
  },
  "orig_nbformat": 4
 },
 "nbformat": 4,
 "nbformat_minor": 2
}
