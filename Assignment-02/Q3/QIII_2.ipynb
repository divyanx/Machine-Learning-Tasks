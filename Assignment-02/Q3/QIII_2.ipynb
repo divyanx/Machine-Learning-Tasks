{
 "cells": [
  {
   "cell_type": "markdown",
   "metadata": {},
   "source": [
    "## Implementing multinomial Naive Bayes classifier on ‘20 Newsgroups Dataset’"
   ]
  },
  {
   "cell_type": "code",
   "execution_count": 199,
   "metadata": {},
   "outputs": [
    {
     "name": "stdout",
     "output_type": "stream",
     "text": [
      "Requirement already satisfied: nltk in c:\\users\\razorblade\\appdata\\local\\programs\\python\\python39\\lib\\site-packages (3.7)\n",
      "Requirement already satisfied: tqdm in c:\\users\\razorblade\\appdata\\local\\programs\\python\\python39\\lib\\site-packages (from nltk) (4.62.3)\n",
      "Requirement already satisfied: click in c:\\users\\razorblade\\appdata\\local\\programs\\python\\python39\\lib\\site-packages (from nltk) (8.0.1)\n",
      "Requirement already satisfied: joblib in c:\\users\\razorblade\\appdata\\local\\programs\\python\\python39\\lib\\site-packages (from nltk) (1.1.0)\n",
      "Requirement already satisfied: regex>=2021.8.3 in c:\\users\\razorblade\\appdata\\local\\programs\\python\\python39\\lib\\site-packages (from nltk) (2022.1.18)\n",
      "Requirement already satisfied: colorama; platform_system == \"Windows\" in c:\\users\\razorblade\\appdata\\local\\programs\\python\\python39\\lib\\site-packages (from tqdm->nltk) (0.4.4)\n",
      "Note: you may need to restart the kernel to use updated packages.\n"
     ]
    },
    {
     "name": "stderr",
     "output_type": "stream",
     "text": [
      "WARNING: You are using pip version 20.2.3; however, version 22.0.3 is available.\n",
      "You should consider upgrading via the 'C:\\Users\\RAZORBLADE\\AppData\\Local\\Programs\\Python\\Python39\\python.exe -m pip install --upgrade pip' command.\n"
     ]
    }
   ],
   "source": [
    "pip install nltk"
   ]
  },
  {
   "cell_type": "code",
   "execution_count": 200,
   "metadata": {},
   "outputs": [
    {
     "name": "stdout",
     "output_type": "stream",
     "text": [
      "Requirement already satisfied: sklearn in c:\\users\\razorblade\\appdata\\local\\programs\\python\\python39\\lib\\site-packages (0.0)\n",
      "Requirement already satisfied: scikit-learn in c:\\users\\razorblade\\appdata\\local\\programs\\python\\python39\\lib\\site-packages (from sklearn) (1.0.2)\n",
      "Requirement already satisfied: joblib>=0.11 in c:\\users\\razorblade\\appdata\\local\\programs\\python\\python39\\lib\\site-packages (from scikit-learn->sklearn) (1.1.0)\n",
      "Requirement already satisfied: numpy>=1.14.6 in c:\\users\\razorblade\\appdata\\local\\programs\\python\\python39\\lib\\site-packages (from scikit-learn->sklearn) (1.20.2)\n",
      "Requirement already satisfied: threadpoolctl>=2.0.0 in c:\\users\\razorblade\\appdata\\local\\programs\\python\\python39\\lib\\site-packages (from scikit-learn->sklearn) (3.1.0)\n",
      "Requirement already satisfied: scipy>=1.1.0 in c:\\users\\razorblade\\appdata\\local\\programs\\python\\python39\\lib\\site-packages (from scikit-learn->sklearn) (1.7.1)\n",
      "Note: you may need to restart the kernel to use updated packages.\n"
     ]
    },
    {
     "name": "stderr",
     "output_type": "stream",
     "text": [
      "WARNING: You are using pip version 20.2.3; however, version 22.0.3 is available.\n",
      "You should consider upgrading via the 'C:\\Users\\RAZORBLADE\\AppData\\Local\\Programs\\Python\\Python39\\python.exe -m pip install --upgrade pip' command.\n"
     ]
    }
   ],
   "source": [
    "pip install sklearn"
   ]
  },
  {
   "cell_type": "code",
   "execution_count": 201,
   "metadata": {},
   "outputs": [],
   "source": [
    "import numpy as np\n",
    "import pandas as pd\n",
    "import matplotlib.pyplot as plt\n",
    "import operator\n",
    "import os\n",
    "import nltk\n",
    "from string import punctuation\n",
    "import re\n",
    "from nltk.corpus import stopwords"
   ]
  },
  {
   "cell_type": "markdown",
   "metadata": {},
   "source": [
    "## Get the training data"
   ]
  },
  {
   "cell_type": "code",
   "execution_count": 202,
   "metadata": {},
   "outputs": [
    {
     "data": {
      "text/plain": [
       "['alt.atheism',\n",
       " 'comp.graphics',\n",
       " 'comp.os.ms-windows.misc',\n",
       " 'comp.sys.ibm.pc.hardware',\n",
       " 'comp.sys.mac.hardware',\n",
       " 'comp.windows.x',\n",
       " 'misc.forsale',\n",
       " 'rec.autos',\n",
       " 'rec.motorcycles',\n",
       " 'rec.sport.baseball',\n",
       " 'rec.sport.hockey',\n",
       " 'sci.crypt',\n",
       " 'sci.electronics',\n",
       " 'sci.med',\n",
       " 'sci.space',\n",
       " 'soc.religion.christian',\n",
       " 'talk.politics.guns',\n",
       " 'talk.politics.mideast',\n",
       " 'talk.politics.misc',\n",
       " 'talk.religion.misc']"
      ]
     },
     "execution_count": 202,
     "metadata": {},
     "output_type": "execute_result"
    }
   ],
   "source": [
    "mypath = r\"C:\\Users\\RAZORBLADE\\Desktop\\20news-19997\\20_newsgroups\"\n",
    "folders = [f for f in os.listdir(mypath)]\n",
    "folders.sort()\n",
    "folders"
   ]
  },
  {
   "cell_type": "markdown",
   "metadata": {},
   "source": [
    "## Stop Words\n",
    "\n",
    "Stop words are words that show up a lot in every document (e.g. prepositions and pronouns). Since stop words are of no use for us we will not consider them\n"
   ]
  },
  {
   "cell_type": "code",
   "execution_count": 203,
   "metadata": {},
   "outputs": [
    {
     "name": "stderr",
     "output_type": "stream",
     "text": [
      "[nltk_data] Downloading package stopwords to\n",
      "[nltk_data]     C:\\Users\\RAZORBLADE\\AppData\\Roaming\\nltk_data...\n",
      "[nltk_data]   Package stopwords is already up-to-date!\n",
      "[nltk_data] Downloading package punkt to\n",
      "[nltk_data]     C:\\Users\\RAZORBLADE\\AppData\\Roaming\\nltk_data...\n",
      "[nltk_data]   Package punkt is already up-to-date!\n"
     ]
    }
   ],
   "source": [
    "nltk.download('stopwords')\n",
    "nltk.download('punkt')\n",
    "punctuations=list(punctuation)\n",
    "stopWords=stopwords.words('english')\n",
    "stopWords+=punctuations \n",
    "stopWords= set(stopWords)"
   ]
  },
  {
   "cell_type": "markdown",
   "metadata": {},
   "source": [
    "## Our Vocabulary/Feature Set"
   ]
  },
  {
   "cell_type": "code",
   "execution_count": 204,
   "metadata": {},
   "outputs": [
    {
     "data": {
      "text/plain": [
       "90926"
      ]
     },
     "execution_count": 204,
     "metadata": {},
     "output_type": "execute_result"
    }
   ],
   "source": [
    "# vocab_dict will be a dictionary of the form {word: frequency} over all documents\n",
    "\n",
    "data = {}\n",
    "vocab_dict = {}\n",
    "for folder in folders:\n",
    "    data[folder] = []\n",
    "    for doc in os.listdir(os.path.join(mypath, folder)):\n",
    "        with open(os.path.join(mypath, folder,doc), 'r') as f:\n",
    "            text = f.read()\n",
    "            text = text.lower()\n",
    "            # remove any word that has a non alphabetical character\n",
    "            text = re.sub(r'[^a-z]', ' ', text)\n",
    "            temp=text.split()\n",
    "            data[folder].append(temp)\n",
    "            for token in temp:\n",
    "                if token in vocab_dict:\n",
    "                    vocab_dict[token] += 1\n",
    "                elif len(token) >=5 and token not in stopWords:\n",
    "                    vocab_dict[token] = 1\n",
    "                    \n",
    "            \n",
    "\n",
    "len(vocab_dict)\n"
   ]
  },
  {
   "cell_type": "code",
   "execution_count": 205,
   "metadata": {},
   "outputs": [
    {
     "data": {
      "text/plain": [
       "5430"
      ]
     },
     "execution_count": 205,
     "metadata": {},
     "output_type": "execute_result"
    }
   ],
   "source": [
    "len(data[folders[0]][1])"
   ]
  },
  {
   "cell_type": "markdown",
   "metadata": {},
   "source": [
    "## Final Feature List"
   ]
  },
  {
   "cell_type": "code",
   "execution_count": 206,
   "metadata": {},
   "outputs": [
    {
     "data": {
      "text/plain": [
       "{'access',\n",
       " 'actually',\n",
       " 'agate',\n",
       " 'always',\n",
       " 'american',\n",
       " 'andrew',\n",
       " 'another',\n",
       " 'anyone',\n",
       " 'anything',\n",
       " 'apple',\n",
       " 'around',\n",
       " 'article',\n",
       " 'atheism',\n",
       " 'athos',\n",
       " 'autos',\n",
       " 'available',\n",
       " 'baseball',\n",
       " 'based',\n",
       " 'believe',\n",
       " 'berkeley',\n",
       " 'better',\n",
       " 'called',\n",
       " 'cantaloupe',\n",
       " 'center',\n",
       " 'change',\n",
       " 'children',\n",
       " 'christian',\n",
       " 'clipper',\n",
       " 'colorado',\n",
       " 'columbia',\n",
       " 'computer',\n",
       " 'control',\n",
       " 'could',\n",
       " 'course',\n",
       " 'crabapple',\n",
       " 'crypt',\n",
       " 'culture',\n",
       " 'darwin',\n",
       " 'david',\n",
       " 'different',\n",
       " 'distribution',\n",
       " 'drive',\n",
       " 'either',\n",
       " 'electronics',\n",
       " 'email',\n",
       " 'enough',\n",
       " 'europa',\n",
       " 'every',\n",
       " 'evidence',\n",
       " 'example',\n",
       " 'files',\n",
       " 'first',\n",
       " 'following',\n",
       " 'followup',\n",
       " 'forsale',\n",
       " 'found',\n",
       " 'games',\n",
       " 'gatech',\n",
       " 'general',\n",
       " 'geneva',\n",
       " 'getting',\n",
       " 'given',\n",
       " 'going',\n",
       " 'government',\n",
       " 'graphics',\n",
       " 'great',\n",
       " 'group',\n",
       " 'gtefsd',\n",
       " 'hardware',\n",
       " 'harvard',\n",
       " 'heard',\n",
       " 'history',\n",
       " 'hockey',\n",
       " 'however',\n",
       " 'howland',\n",
       " 'human',\n",
       " 'image',\n",
       " 'information',\n",
       " 'internet',\n",
       " 'israel',\n",
       " 'jesus',\n",
       " 'jewish',\n",
       " 'keywords',\n",
       " 'least',\n",
       " 'lines',\n",
       " 'little',\n",
       " 'local',\n",
       " 'looking',\n",
       " 'magnesium',\n",
       " 'makes',\n",
       " 'maybe',\n",
       " 'means',\n",
       " 'message',\n",
       " 'michael',\n",
       " 'mideast',\n",
       " 'might',\n",
       " 'national',\n",
       " 'netcom',\n",
       " 'network',\n",
       " 'never',\n",
       " 'newsgroups',\n",
       " 'nothing',\n",
       " 'number',\n",
       " 'opinions',\n",
       " 'order',\n",
       " 'organization',\n",
       " 'others',\n",
       " 'people',\n",
       " 'person',\n",
       " 'phone',\n",
       " 'place',\n",
       " 'please',\n",
       " 'point',\n",
       " 'politics',\n",
       " 'possible',\n",
       " 'posting',\n",
       " 'power',\n",
       " 'president',\n",
       " 'price',\n",
       " 'probably',\n",
       " 'problem',\n",
       " 'problems',\n",
       " 'program',\n",
       " 'public',\n",
       " 'purdue',\n",
       " 'question',\n",
       " 'questions',\n",
       " 'quite',\n",
       " 'rather',\n",
       " 'really',\n",
       " 'reason',\n",
       " 'references',\n",
       " 'religion',\n",
       " 'remember',\n",
       " 'reply',\n",
       " 'research',\n",
       " 'reston',\n",
       " 'right',\n",
       " 'rights',\n",
       " 'rochester',\n",
       " 'rutgers',\n",
       " 'saying',\n",
       " 'science',\n",
       " 'second',\n",
       " 'security',\n",
       " 'seems',\n",
       " 'sender',\n",
       " 'server',\n",
       " 'service',\n",
       " 'several',\n",
       " 'since',\n",
       " 'software',\n",
       " 'someone',\n",
       " 'something',\n",
       " 'source',\n",
       " 'space',\n",
       " 'sport',\n",
       " 'standard',\n",
       " 'stanford',\n",
       " 'start',\n",
       " 'state',\n",
       " 'steve',\n",
       " 'still',\n",
       " 'subject',\n",
       " 'support',\n",
       " 'system',\n",
       " 'systems',\n",
       " 'technology',\n",
       " 'thanks',\n",
       " 'thing',\n",
       " 'things',\n",
       " 'think',\n",
       " 'though',\n",
       " 'thought',\n",
       " 'three',\n",
       " 'times',\n",
       " 'today',\n",
       " 'toronto',\n",
       " 'trying',\n",
       " 'turkish',\n",
       " 'university',\n",
       " 'usenet',\n",
       " 'using',\n",
       " 'utexas',\n",
       " 'uunet',\n",
       " 'version',\n",
       " 'virginia',\n",
       " 'wanted',\n",
       " 'washington',\n",
       " 'whether',\n",
       " 'window',\n",
       " 'windows',\n",
       " 'without',\n",
       " 'world',\n",
       " 'would',\n",
       " 'writes',\n",
       " 'wrong',\n",
       " 'wrote',\n",
       " 'years',\n",
       " 'zaphod'}"
      ]
     },
     "execution_count": 206,
     "metadata": {},
     "output_type": "execute_result"
    }
   ],
   "source": [
    "# Sort the dictionary based on frequency of each 'possible' vocabulary word\n",
    "sorted_vocab=sorted(vocab_dict.items(),key=operator.itemgetter(1),reverse=True)\n",
    "# Choosing top 2000 vocab words as features\n",
    "feature_list=[]\n",
    "for key in sorted_vocab:\n",
    "    feature_list.append(key[0])\n",
    "feature_list=feature_list[0:200] # K = 200 (number of words in vocab)\n",
    "feature_list = set(feature_list)\n",
    "feature_list"
   ]
  },
  {
   "cell_type": "markdown",
   "metadata": {},
   "source": [
    "## Data Preparation"
   ]
  },
  {
   "cell_type": "code",
   "execution_count": 207,
   "metadata": {},
   "outputs": [],
   "source": [
    "def prepare_data():\n",
    "    '''\n",
    "    return : a dataframe of columns as features and rows as documents\n",
    "    '''\n",
    "    df = pd.DataFrame(columns = feature_list)\n",
    "    Y=[]\n",
    "    for folder in folders:\n",
    "        for doc in data[folder]:\n",
    "            Y.append(folder)\n",
    "            # Add a new row for every file\n",
    "            df.loc[len(df)] = np.zeros(len(feature_list))\n",
    "            for txt in doc:\n",
    "                for word in txt.split():\n",
    "                    if word in feature_list:\n",
    "                        df.loc[len(df)-1,word] += 1\n",
    "        \n",
    "    # add Y as a column to dataframe\n",
    "    df['Y']=Y\n",
    "    return df\n",
    "\n",
    "    "
   ]
  },
  {
   "cell_type": "markdown",
   "metadata": {},
   "source": [
    "## Getting Test Data and Training Data"
   ]
  },
  {
   "cell_type": "code",
   "execution_count": 208,
   "metadata": {},
   "outputs": [],
   "source": [
    "df = prepare_data()"
   ]
  },
  {
   "cell_type": "code",
   "execution_count": null,
   "metadata": {},
   "outputs": [
    {
     "data": {
      "text/html": [
       "<div>\n",
       "<style scoped>\n",
       "    .dataframe tbody tr th:only-of-type {\n",
       "        vertical-align: middle;\n",
       "    }\n",
       "\n",
       "    .dataframe tbody tr th {\n",
       "        vertical-align: top;\n",
       "    }\n",
       "\n",
       "    .dataframe thead th {\n",
       "        text-align: right;\n",
       "    }\n",
       "</style>\n",
       "<table border=\"1\" class=\"dataframe\">\n",
       "  <thead>\n",
       "    <tr style=\"text-align: right;\">\n",
       "      <th></th>\n",
       "      <th>maybe</th>\n",
       "      <th>rochester</th>\n",
       "      <th>jesus</th>\n",
       "      <th>looking</th>\n",
       "      <th>support</th>\n",
       "      <th>heard</th>\n",
       "      <th>network</th>\n",
       "      <th>apple</th>\n",
       "      <th>atheism</th>\n",
       "      <th>example</th>\n",
       "      <th>...</th>\n",
       "      <th>crabapple</th>\n",
       "      <th>software</th>\n",
       "      <th>however</th>\n",
       "      <th>source</th>\n",
       "      <th>getting</th>\n",
       "      <th>given</th>\n",
       "      <th>research</th>\n",
       "      <th>electronics</th>\n",
       "      <th>culture</th>\n",
       "      <th>Y</th>\n",
       "    </tr>\n",
       "  </thead>\n",
       "  <tbody>\n",
       "    <tr>\n",
       "      <th>0</th>\n",
       "      <td>0.0</td>\n",
       "      <td>0.0</td>\n",
       "      <td>0.0</td>\n",
       "      <td>0.0</td>\n",
       "      <td>0.0</td>\n",
       "      <td>0.0</td>\n",
       "      <td>0.0</td>\n",
       "      <td>0.0</td>\n",
       "      <td>18.0</td>\n",
       "      <td>1.0</td>\n",
       "      <td>...</td>\n",
       "      <td>1.0</td>\n",
       "      <td>0.0</td>\n",
       "      <td>1.0</td>\n",
       "      <td>0.0</td>\n",
       "      <td>0.0</td>\n",
       "      <td>0.0</td>\n",
       "      <td>0.0</td>\n",
       "      <td>0.0</td>\n",
       "      <td>0.0</td>\n",
       "      <td>alt.atheism</td>\n",
       "    </tr>\n",
       "    <tr>\n",
       "      <th>1</th>\n",
       "      <td>1.0</td>\n",
       "      <td>0.0</td>\n",
       "      <td>4.0</td>\n",
       "      <td>1.0</td>\n",
       "      <td>1.0</td>\n",
       "      <td>0.0</td>\n",
       "      <td>0.0</td>\n",
       "      <td>0.0</td>\n",
       "      <td>57.0</td>\n",
       "      <td>11.0</td>\n",
       "      <td>...</td>\n",
       "      <td>1.0</td>\n",
       "      <td>0.0</td>\n",
       "      <td>6.0</td>\n",
       "      <td>0.0</td>\n",
       "      <td>0.0</td>\n",
       "      <td>0.0</td>\n",
       "      <td>0.0</td>\n",
       "      <td>0.0</td>\n",
       "      <td>0.0</td>\n",
       "      <td>alt.atheism</td>\n",
       "    </tr>\n",
       "    <tr>\n",
       "      <th>2</th>\n",
       "      <td>0.0</td>\n",
       "      <td>0.0</td>\n",
       "      <td>1.0</td>\n",
       "      <td>0.0</td>\n",
       "      <td>0.0</td>\n",
       "      <td>0.0</td>\n",
       "      <td>0.0</td>\n",
       "      <td>0.0</td>\n",
       "      <td>1.0</td>\n",
       "      <td>0.0</td>\n",
       "      <td>...</td>\n",
       "      <td>1.0</td>\n",
       "      <td>0.0</td>\n",
       "      <td>1.0</td>\n",
       "      <td>2.0</td>\n",
       "      <td>0.0</td>\n",
       "      <td>0.0</td>\n",
       "      <td>0.0</td>\n",
       "      <td>0.0</td>\n",
       "      <td>0.0</td>\n",
       "      <td>alt.atheism</td>\n",
       "    </tr>\n",
       "    <tr>\n",
       "      <th>3</th>\n",
       "      <td>0.0</td>\n",
       "      <td>0.0</td>\n",
       "      <td>1.0</td>\n",
       "      <td>0.0</td>\n",
       "      <td>1.0</td>\n",
       "      <td>1.0</td>\n",
       "      <td>0.0</td>\n",
       "      <td>0.0</td>\n",
       "      <td>2.0</td>\n",
       "      <td>0.0</td>\n",
       "      <td>...</td>\n",
       "      <td>1.0</td>\n",
       "      <td>0.0</td>\n",
       "      <td>0.0</td>\n",
       "      <td>0.0</td>\n",
       "      <td>0.0</td>\n",
       "      <td>0.0</td>\n",
       "      <td>0.0</td>\n",
       "      <td>0.0</td>\n",
       "      <td>0.0</td>\n",
       "      <td>alt.atheism</td>\n",
       "    </tr>\n",
       "    <tr>\n",
       "      <th>4</th>\n",
       "      <td>0.0</td>\n",
       "      <td>0.0</td>\n",
       "      <td>0.0</td>\n",
       "      <td>0.0</td>\n",
       "      <td>0.0</td>\n",
       "      <td>0.0</td>\n",
       "      <td>0.0</td>\n",
       "      <td>0.0</td>\n",
       "      <td>2.0</td>\n",
       "      <td>0.0</td>\n",
       "      <td>...</td>\n",
       "      <td>1.0</td>\n",
       "      <td>0.0</td>\n",
       "      <td>1.0</td>\n",
       "      <td>0.0</td>\n",
       "      <td>0.0</td>\n",
       "      <td>0.0</td>\n",
       "      <td>2.0</td>\n",
       "      <td>0.0</td>\n",
       "      <td>0.0</td>\n",
       "      <td>alt.atheism</td>\n",
       "    </tr>\n",
       "  </tbody>\n",
       "</table>\n",
       "<p>5 rows × 201 columns</p>\n",
       "</div>"
      ],
      "text/plain": [
       "   maybe  rochester  jesus  looking  support  heard  network  apple  atheism  \\\n",
       "0    0.0        0.0    0.0      0.0      0.0    0.0      0.0    0.0     18.0   \n",
       "1    1.0        0.0    4.0      1.0      1.0    0.0      0.0    0.0     57.0   \n",
       "2    0.0        0.0    1.0      0.0      0.0    0.0      0.0    0.0      1.0   \n",
       "3    0.0        0.0    1.0      0.0      1.0    1.0      0.0    0.0      2.0   \n",
       "4    0.0        0.0    0.0      0.0      0.0    0.0      0.0    0.0      2.0   \n",
       "\n",
       "   example  ...  crabapple  software  however  source  getting  given  \\\n",
       "0      1.0  ...        1.0       0.0      1.0     0.0      0.0    0.0   \n",
       "1     11.0  ...        1.0       0.0      6.0     0.0      0.0    0.0   \n",
       "2      0.0  ...        1.0       0.0      1.0     2.0      0.0    0.0   \n",
       "3      0.0  ...        1.0       0.0      0.0     0.0      0.0    0.0   \n",
       "4      0.0  ...        1.0       0.0      1.0     0.0      0.0    0.0   \n",
       "\n",
       "   research  electronics  culture            Y  \n",
       "0       0.0          0.0      0.0  alt.atheism  \n",
       "1       0.0          0.0      0.0  alt.atheism  \n",
       "2       0.0          0.0      0.0  alt.atheism  \n",
       "3       0.0          0.0      0.0  alt.atheism  \n",
       "4       2.0          0.0      0.0  alt.atheism  \n",
       "\n",
       "[5 rows x 201 columns]"
      ]
     },
     "execution_count": 159,
     "metadata": {},
     "output_type": "execute_result"
    }
   ],
   "source": [
    "X = df.drop(['Y'],axis=1).values\n",
    "#remove last column of X\n",
    "\n",
    "Y = df['Y'].values\n",
    "df.head()\n"
   ]
  },
  {
   "cell_type": "code",
   "execution_count": null,
   "metadata": {},
   "outputs": [],
   "source": [
    "from sklearn.model_selection import train_test_split\n",
    "x_train,x_test,y_train,y_test=train_test_split(X,Y,random_state=0,test_size=0.25)"
   ]
  },
  {
   "cell_type": "code",
   "execution_count": null,
   "metadata": {},
   "outputs": [
    {
     "data": {
      "text/plain": [
       "Counter({'comp.windows.x': 362,\n",
       "         'comp.graphics': 396,\n",
       "         'misc.forsale': 387,\n",
       "         'comp.sys.ibm.pc.hardware': 376,\n",
       "         'talk.politics.mideast': 378,\n",
       "         'rec.autos': 374,\n",
       "         'soc.religion.christian': 392,\n",
       "         'comp.sys.mac.hardware': 372,\n",
       "         'sci.crypt': 362,\n",
       "         'sci.med': 364,\n",
       "         'sci.electronics': 388,\n",
       "         'talk.politics.guns': 356,\n",
       "         'alt.atheism': 368,\n",
       "         'talk.politics.misc': 375,\n",
       "         'rec.motorcycles': 361,\n",
       "         'rec.sport.hockey': 390,\n",
       "         'talk.religion.misc': 384,\n",
       "         'sci.space': 374,\n",
       "         'comp.os.ms-windows.misc': 377,\n",
       "         'rec.sport.baseball': 364})"
      ]
     },
     "execution_count": 161,
     "metadata": {},
     "output_type": "execute_result"
    }
   ],
   "source": [
    "# count each distinct element in the y_train\n",
    "from collections import Counter\n",
    "Counter(y_train)\n"
   ]
  },
  {
   "cell_type": "markdown",
   "metadata": {},
   "source": [
    "## Using the inbuilt Multinomial Naive Bayes"
   ]
  },
  {
   "cell_type": "code",
   "execution_count": null,
   "metadata": {},
   "outputs": [
    {
     "data": {
      "text/plain": [
       "0.7668"
      ]
     },
     "execution_count": 162,
     "metadata": {},
     "output_type": "execute_result"
    }
   ],
   "source": [
    "from sklearn.naive_bayes import MultinomialNB\n",
    "clf=MultinomialNB()\n",
    "clf.fit(x_train,y_train)\n",
    "clf.score(x_test,y_test)"
   ]
  },
  {
   "cell_type": "markdown",
   "metadata": {},
   "source": [
    "## Posteriors"
   ]
  },
  {
   "cell_type": "code",
   "execution_count": null,
   "metadata": {},
   "outputs": [
    {
     "name": "stdout",
     "output_type": "stream",
     "text": [
      "alt.atheism 0.04906666666666667\n",
      "comp.graphics 0.0528\n",
      "comp.os.ms-windows.misc 0.05026666666666667\n",
      "comp.sys.ibm.pc.hardware 0.050133333333333335\n",
      "comp.sys.mac.hardware 0.0496\n",
      "comp.windows.x 0.048266666666666666\n",
      "misc.forsale 0.0516\n",
      "rec.autos 0.04986666666666666\n",
      "rec.motorcycles 0.048133333333333334\n",
      "rec.sport.baseball 0.04853333333333333\n",
      "rec.sport.hockey 0.052\n",
      "sci.crypt 0.048266666666666666\n",
      "sci.electronics 0.05173333333333333\n",
      "sci.med 0.04853333333333333\n",
      "sci.space 0.04986666666666666\n",
      "soc.religion.christian 0.05226666666666667\n",
      "talk.politics.guns 0.047466666666666664\n",
      "talk.politics.mideast 0.0504\n",
      "talk.politics.misc 0.05\n",
      "talk.religion.misc 0.0512\n"
     ]
    }
   ],
   "source": [
    "# calculate posteriors for each type of folder\n",
    "posteriors ={}\n",
    "for folder in folders:\n",
    "    posteriors[folder] = len(y_train[y_train==folder]) / len(y_train)\n",
    "    print(folder,posteriors[folder])\n"
   ]
  },
  {
   "cell_type": "markdown",
   "metadata": {},
   "source": [
    "## CCD"
   ]
  },
  {
   "cell_type": "code",
   "execution_count": null,
   "metadata": {},
   "outputs": [
    {
     "data": {
      "text/plain": [
       "0.21714285714285714"
      ]
     },
     "execution_count": 164,
     "metadata": {},
     "output_type": "execute_result"
    }
   ],
   "source": [
    "word= 'example'\n",
    "folder=folders[0]\n",
    "(df[word][df['Y']==folder].sum() + 1) / (len(df[df['Y']==folder]) + len(feature_list))"
   ]
  },
  {
   "cell_type": "code",
   "execution_count": null,
   "metadata": {},
   "outputs": [
    {
     "data": {
      "text/html": [
       "<div>\n",
       "<style scoped>\n",
       "    .dataframe tbody tr th:only-of-type {\n",
       "        vertical-align: middle;\n",
       "    }\n",
       "\n",
       "    .dataframe tbody tr th {\n",
       "        vertical-align: top;\n",
       "    }\n",
       "\n",
       "    .dataframe thead th {\n",
       "        text-align: right;\n",
       "    }\n",
       "</style>\n",
       "<table border=\"1\" class=\"dataframe\">\n",
       "  <thead>\n",
       "    <tr style=\"text-align: right;\">\n",
       "      <th></th>\n",
       "      <th>maybe</th>\n",
       "      <th>rochester</th>\n",
       "      <th>jesus</th>\n",
       "      <th>looking</th>\n",
       "      <th>support</th>\n",
       "      <th>heard</th>\n",
       "      <th>network</th>\n",
       "      <th>apple</th>\n",
       "      <th>atheism</th>\n",
       "      <th>example</th>\n",
       "      <th>...</th>\n",
       "      <th>state</th>\n",
       "      <th>crabapple</th>\n",
       "      <th>software</th>\n",
       "      <th>however</th>\n",
       "      <th>source</th>\n",
       "      <th>getting</th>\n",
       "      <th>given</th>\n",
       "      <th>research</th>\n",
       "      <th>electronics</th>\n",
       "      <th>culture</th>\n",
       "    </tr>\n",
       "  </thead>\n",
       "  <tbody>\n",
       "    <tr>\n",
       "      <th>0</th>\n",
       "      <td>0.061429</td>\n",
       "      <td>0.014286</td>\n",
       "      <td>0.174286</td>\n",
       "      <td>0.027143</td>\n",
       "      <td>0.108571</td>\n",
       "      <td>0.050000</td>\n",
       "      <td>0.048571</td>\n",
       "      <td>0.134286</td>\n",
       "      <td>1.341429</td>\n",
       "      <td>0.217143</td>\n",
       "      <td>...</td>\n",
       "      <td>0.480000</td>\n",
       "      <td>0.281429</td>\n",
       "      <td>0.021429</td>\n",
       "      <td>0.151429</td>\n",
       "      <td>0.024286</td>\n",
       "      <td>0.044286</td>\n",
       "      <td>0.118571</td>\n",
       "      <td>0.021429</td>\n",
       "      <td>0.001429</td>\n",
       "      <td>0.014286</td>\n",
       "    </tr>\n",
       "    <tr>\n",
       "      <th>1</th>\n",
       "      <td>0.037143</td>\n",
       "      <td>0.100000</td>\n",
       "      <td>0.001429</td>\n",
       "      <td>0.164286</td>\n",
       "      <td>0.122857</td>\n",
       "      <td>0.050000</td>\n",
       "      <td>0.085714</td>\n",
       "      <td>0.062857</td>\n",
       "      <td>0.001429</td>\n",
       "      <td>0.032857</td>\n",
       "      <td>...</td>\n",
       "      <td>0.545714</td>\n",
       "      <td>0.377143</td>\n",
       "      <td>0.327143</td>\n",
       "      <td>0.065714</td>\n",
       "      <td>0.128571</td>\n",
       "      <td>0.042857</td>\n",
       "      <td>0.058571</td>\n",
       "      <td>0.134286</td>\n",
       "      <td>0.007143</td>\n",
       "      <td>0.004286</td>\n",
       "    </tr>\n",
       "    <tr>\n",
       "      <th>2</th>\n",
       "      <td>0.050000</td>\n",
       "      <td>0.165714</td>\n",
       "      <td>0.001429</td>\n",
       "      <td>0.078571</td>\n",
       "      <td>0.100000</td>\n",
       "      <td>0.047143</td>\n",
       "      <td>0.124286</td>\n",
       "      <td>0.040000</td>\n",
       "      <td>0.002857</td>\n",
       "      <td>0.052857</td>\n",
       "      <td>...</td>\n",
       "      <td>0.460000</td>\n",
       "      <td>0.151429</td>\n",
       "      <td>0.197143</td>\n",
       "      <td>0.090000</td>\n",
       "      <td>0.028571</td>\n",
       "      <td>0.054286</td>\n",
       "      <td>0.020000</td>\n",
       "      <td>0.061429</td>\n",
       "      <td>0.008571</td>\n",
       "      <td>0.008571</td>\n",
       "    </tr>\n",
       "    <tr>\n",
       "      <th>3</th>\n",
       "      <td>0.047143</td>\n",
       "      <td>0.058571</td>\n",
       "      <td>0.002857</td>\n",
       "      <td>0.072857</td>\n",
       "      <td>0.132857</td>\n",
       "      <td>0.071429</td>\n",
       "      <td>0.060000</td>\n",
       "      <td>0.022857</td>\n",
       "      <td>0.001429</td>\n",
       "      <td>0.047143</td>\n",
       "      <td>...</td>\n",
       "      <td>0.495714</td>\n",
       "      <td>0.410000</td>\n",
       "      <td>0.171429</td>\n",
       "      <td>0.092857</td>\n",
       "      <td>0.017143</td>\n",
       "      <td>0.065714</td>\n",
       "      <td>0.018571</td>\n",
       "      <td>0.071429</td>\n",
       "      <td>0.010000</td>\n",
       "      <td>0.001429</td>\n",
       "    </tr>\n",
       "    <tr>\n",
       "      <th>4</th>\n",
       "      <td>0.034286</td>\n",
       "      <td>0.062857</td>\n",
       "      <td>0.001429</td>\n",
       "      <td>0.050000</td>\n",
       "      <td>0.068571</td>\n",
       "      <td>0.084286</td>\n",
       "      <td>0.102857</td>\n",
       "      <td>0.657143</td>\n",
       "      <td>0.001429</td>\n",
       "      <td>0.022857</td>\n",
       "      <td>...</td>\n",
       "      <td>0.561429</td>\n",
       "      <td>0.461429</td>\n",
       "      <td>0.161429</td>\n",
       "      <td>0.060000</td>\n",
       "      <td>0.018571</td>\n",
       "      <td>0.062857</td>\n",
       "      <td>0.021429</td>\n",
       "      <td>0.042857</td>\n",
       "      <td>0.018571</td>\n",
       "      <td>0.001429</td>\n",
       "    </tr>\n",
       "  </tbody>\n",
       "</table>\n",
       "<p>5 rows × 200 columns</p>\n",
       "</div>"
      ],
      "text/plain": [
       "      maybe  rochester     jesus   looking   support     heard   network  \\\n",
       "0  0.061429   0.014286  0.174286  0.027143  0.108571  0.050000  0.048571   \n",
       "1  0.037143   0.100000  0.001429  0.164286  0.122857  0.050000  0.085714   \n",
       "2  0.050000   0.165714  0.001429  0.078571  0.100000  0.047143  0.124286   \n",
       "3  0.047143   0.058571  0.002857  0.072857  0.132857  0.071429  0.060000   \n",
       "4  0.034286   0.062857  0.001429  0.050000  0.068571  0.084286  0.102857   \n",
       "\n",
       "      apple   atheism   example  ...     state  crabapple  software   however  \\\n",
       "0  0.134286  1.341429  0.217143  ...  0.480000   0.281429  0.021429  0.151429   \n",
       "1  0.062857  0.001429  0.032857  ...  0.545714   0.377143  0.327143  0.065714   \n",
       "2  0.040000  0.002857  0.052857  ...  0.460000   0.151429  0.197143  0.090000   \n",
       "3  0.022857  0.001429  0.047143  ...  0.495714   0.410000  0.171429  0.092857   \n",
       "4  0.657143  0.001429  0.022857  ...  0.561429   0.461429  0.161429  0.060000   \n",
       "\n",
       "     source   getting     given  research  electronics   culture  \n",
       "0  0.024286  0.044286  0.118571  0.021429     0.001429  0.014286  \n",
       "1  0.128571  0.042857  0.058571  0.134286     0.007143  0.004286  \n",
       "2  0.028571  0.054286  0.020000  0.061429     0.008571  0.008571  \n",
       "3  0.017143  0.065714  0.018571  0.071429     0.010000  0.001429  \n",
       "4  0.018571  0.062857  0.021429  0.042857     0.018571  0.001429  \n",
       "\n",
       "[5 rows x 200 columns]"
      ]
     },
     "execution_count": 165,
     "metadata": {},
     "output_type": "execute_result"
    }
   ],
   "source": [
    "# calculate class conditional probabilities p(x|y) where x is a word and y is a newsgroup for each word in the vocabulary as a dataframe\n",
    "conditional_probabilities = pd.DataFrame(columns=feature_list)\n",
    "i=0;\n",
    "for folder in folders:\n",
    "    # add a new row for each folder\n",
    "    conditional_probabilities.loc[len(conditional_probabilities)] = np.zeros(len(feature_list))\n",
    "    # use df calculated above to calculate conditional probabilities\n",
    "    for word in feature_list:\n",
    "        #print(word)\n",
    "        conditional_probabilities[word][i] = (df[word][df['Y']==folder].sum() + 1) / (len(df[df['Y']==folder]) + len(feature_list))\n",
    "    i+=1\n",
    "conditional_probabilities.head()\n"
   ]
  },
  {
   "cell_type": "code",
   "execution_count": null,
   "metadata": {},
   "outputs": [
    {
     "data": {
      "text/plain": [
       "maybe          1.0\n",
       "rochester      1.0\n",
       "jesus          1.0\n",
       "looking        1.0\n",
       "support        1.0\n",
       "              ... \n",
       "getting        1.0\n",
       "given          1.0\n",
       "research       1.0\n",
       "electronics    1.0\n",
       "culture        1.0\n",
       "Length: 200, dtype: float64"
      ]
     },
     "execution_count": 166,
     "metadata": {},
     "output_type": "execute_result"
    }
   ],
   "source": [
    "# normalize each columns of conditional_probabilities\n",
    "conditional_probabilities = conditional_probabilities.div(conditional_probabilities.sum(axis=0), axis=1)\n",
    "# get the sum of each column\n",
    "conditional_probabilities.sum(axis=0)"
   ]
  },
  {
   "cell_type": "markdown",
   "metadata": {},
   "source": [
    "## Multinomial Naive Bayes Classifier"
   ]
  },
  {
   "cell_type": "code",
   "execution_count": null,
   "metadata": {},
   "outputs": [
    {
     "data": {
      "text/plain": [
       "'c'"
      ]
     },
     "execution_count": 167,
     "metadata": {},
     "output_type": "execute_result"
    }
   ],
   "source": [
    "a={'a':1,'b':2,'c':3}\n",
    "max(a,key=a.get)"
   ]
  },
  {
   "cell_type": "code",
   "execution_count": null,
   "metadata": {},
   "outputs": [],
   "source": [
    "def predict(text):\n",
    "    # calculate the probability of each word in the text belonging to each newsgroup\n",
    "    probabilities = {}\n",
    "    i=0\n",
    "    for f_in in range(len(folders)):\n",
    "        probabilities[folders[f_in]] = np.log(posteriors[folders[f_in]])\n",
    "        for i in range(len(text)):\n",
    "            probabilities[folders[f_in]] += np.log(conditional_probabilities.values[f_in][i])*text[i]\n",
    "    # return the newsgroup with the highest probability\n",
    "    # print(probabilities)\n",
    "    return max(probabilities, key=probabilities.get)"
   ]
  },
  {
   "cell_type": "code",
   "execution_count": null,
   "metadata": {},
   "outputs": [],
   "source": [
    "def predict_data(x_test):\n",
    "    predictions = []\n",
    "    for i in range(len(x_test)):\n",
    "        print(':',end=\" \")\n",
    "        predictions.append(predict(x_test[i]))\n",
    "    return predictions\n",
    "    "
   ]
  },
  {
   "cell_type": "code",
   "execution_count": null,
   "metadata": {},
   "outputs": [
    {
     "name": "stdout",
     "output_type": "stream",
     "text": [
      ": : : : : : : : : : : : : : : : : : : : : : : : : : : : : : : : : : : : : : : : : : : : : : : : : : : : : : : : : : : : : : : : : : : : : : : : : : : : : : : : : : : : : : : : : : : : : : : : : : : : : : : : : : : : : : : : : : : : : : : : : : : : : : : : : : : : : : : : : : : : : : : : : : : : : : : : : : : : : : : : : : : : : : : : : : : : : : : : : : : : : : : : : : : : : : : : : : : : : : : : : : : : : : : : : : : : : : : : : : : : : : : : : : : : : : : : : : : : : : : : : : : : : : : : : : : : : : : : : : : : : : : : : : : : : : : : : : : : : : : : : : : : : : : : : : : : : : : : : : : : : : : : : : : : : : : : : : : : : : : : : : : : : : : : : : : : : : : : : : : : : : : : : : : : : : : : : : : : : : : : : : : : : : : : : : : : : : : : : : : : : : : : : : : : : : : : : : : : : : : : : : : : : : : : : : : : : : : : : : : : : : : : : : : : : : : : : : : : : : : : : : : : : : : : : : : : : : : : : : : : : : : : : : : : : : : : : : : : : : : : : : : : : : : : : : : : : : : : : : : : : : : : : : : : : : : : : : : : : : : : : : : : : : : : : : : : : : : : : : : : : : : : : : : : : : : : : : : : : : : : : : : : : : : : : : : : : : : : : : : : : : : : : : : : : : : : : : : : : : : : : : : : : : : : : : : : : : : : : : : : : : : : : : : : : : : : : : : : : : : : : : : : : : : : : : : : : : : : : : : : : : : : : : : : : : : : : : : : : : : : : : : : : : : : : : : : : : : : : : : : : : : : : : : : : : : : : : : : : : : : : : : : : : : : : : : : : : : : : : : : : : : : : : : : : : : : : : : : : : : : : : : : : : : : : : : : : : : : : : : : : : : : : : : : : : : : : : : : : : : : : : : : : : : : : : : : : : : : : : : : : : : : : : : : : : : : : : : : : : : : : : : : : : : : : : : : : : : : : : : : : : : : : : : : : : : : : : : : : : : : : : : : : : : : : : : : : : : : : : : : : : : : : : : : : : : : : : : : : : : : : : : : : : : : : : : : : : : : : : : : : : : : : : : : : : : : : : : : : : : : : : : : : : : : : : : : : : : : : : : : : : : : : : : : : : : : : : : : : : : : : : : : : : : : : : : : : : : : : : : : : : : : : : : : : : : : : : : : : : : : : : : : : : : : : : : : : : : : : : : : : : : : : : : : : : : : : : : : : : : : : : : : : : : : : : : : : : : : : : : : : : : : : : : : : : : : : : : : : : : : : : : : : : : : : : : : : : : : : : : : : : : : : : : : : : : : : : : : : : : : : : : : : : : : : : : : : : : : : : : : : : : : : : : : : : : : : : : : : : : : : : : : : : : : : : : : : : : : : : : : : : : : : : : : : : : : : : : : : : : : : : : : : : : : : : : : : : : : : : : : : : : : : : : : : : : : : : : : : : : : : : : : : : : : : : : : : : : : : : : : : : : : : : : : : : : : : : : : : : : : : : : : : : : : : : : : : : : : : : : : : : : : : : : : : : : : : : : : : : : : : : : : : : : : : : : : : : : : : : : : : : : : : : : : : : : : : : : : : : : : : : : : : : : : : : : : : : : : : : : : : : : : : : : : : : : : : : : : : : : : : : : : : : : : : : : : : : : : : : : : : : : : : : : : : : : : : : : : : : : : : : : : : : : : : : : : : : : : : : : : : : : : : : : : : : : : : : : : : : : : : : : : : : : : : : : : : : : : : : : : : : : : : : : : : : : : : : : : : : : : : : : : : : : : : : : : : : : : : : : : : : : : : : : : : : : : : : : : : : : : : : : : : : : : : : : : : : : : : : : : : : : : : : : : : : : : : : : : : : : : : : : : : : : : : : : : : : : : : : : : : : : : : : : : : : : : : : : : : : : : : : : : : : : : : : : : : : : : : : : : : : : : : : : : : : : : : : : : : : : : : : : : : : : : : : : : : : : : : : : : : : : : : : : : : : : : : : : : : : : : : : : : : : : : : : : : : : : : : : : : : : : : : : : : : : : : : : : : : : : : : : : : : : : : : : : : : : : : : : : : : : : : : : : : : : : : : : : : : : : : : : : : : : : : : : : : : : : : : : : : : : : : : : : : : : : : : : : : : : : : : : : : : : : : : : : : : : : : : : : : : : : : : : : : : : : : : : : : : : : : : : : : : : : : : : : : : : : : : : : : : : : : : : : : : : : : : : : : : : : : : : : : : : : : : : : : : : : : : : : : : : : : : : : : : : : : : : : : : : : : : : : : : : : : : : : : : : : : : : : : : : : : : : : : : : : : : : : : : : : : : : : : : : : : : : : : : : : : : : : : : : : : : : : : : : : : : : : : : : : : : : : : : : : : : : : : : : : : : : : : : : : : : : : : : : : : : : : : : : : : : : : : : : : : : : : : : : : : : : : : : : : : : : : : : : : : : : : : : : : : : : : : : : : : : : : : : : : : : : : : : : : : : : : : : : : : : : : : : : : : : : : : : : : : : : : : : : : : : : : : : : : : : : : : : : : : : : : : : : : : : : : : : : : : : : : : : : : : : : : : : : : : : : : : : : : : : : : : : : : : : : : : : : : : : : : : : : : : : : : : : : : : : : : : : : : : : : : : : : : : : : : : : : : : : : : : : : : : : : : : : : : : : : : : : : : : : : : : : : : : : : : : : : : : : : : : : : : : : : : : : : : : : : : : : : : : : : : : : : : : : : : : : : : : : : : : : : : : : : : : : : : : : : : : : : : : : : : : : : : : : : : : : : : : : : : : : : : : : : : : : : : : : : : : : : : : : : : : : : : : : : : : : : : : : : : : : : : : : : : : ['talk.politics.misc', 'comp.graphics', 'sci.crypt', 'sci.crypt', 'comp.sys.mac.hardware', 'talk.politics.misc', 'sci.crypt', 'talk.politics.mideast', 'comp.windows.x', 'talk.politics.misc', 'comp.windows.x', 'sci.crypt', 'comp.sys.mac.hardware', 'sci.crypt', 'rec.autos', 'misc.forsale', 'talk.politics.guns', 'rec.autos', 'sci.crypt', 'soc.religion.christian', 'comp.windows.x', 'sci.crypt', 'talk.politics.mideast', 'sci.crypt', 'rec.sport.hockey', 'misc.forsale', 'misc.forsale', 'alt.atheism', 'talk.politics.mideast', 'talk.politics.misc', 'talk.religion.misc', 'talk.politics.misc', 'rec.sport.hockey', 'talk.politics.misc', 'talk.politics.misc', 'rec.sport.hockey', 'sci.crypt', 'talk.politics.misc', 'comp.graphics', 'talk.politics.mideast', 'sci.space', 'talk.politics.mideast', 'rec.sport.baseball', 'soc.religion.christian', 'sci.crypt', 'talk.politics.guns', 'alt.atheism', 'sci.crypt', 'sci.crypt', 'rec.sport.baseball', 'sci.med', 'talk.politics.mideast', 'sci.electronics', 'comp.graphics', 'rec.sport.hockey', 'comp.windows.x', 'talk.politics.misc', 'sci.crypt', 'comp.windows.x', 'rec.sport.hockey', 'comp.windows.x', 'talk.politics.mideast', 'talk.politics.guns', 'sci.crypt', 'talk.politics.mideast', 'comp.windows.x', 'sci.crypt', 'comp.windows.x', 'talk.politics.guns', 'sci.electronics', 'talk.politics.mideast', 'talk.politics.mideast', 'talk.politics.misc', 'soc.religion.christian', 'comp.graphics', 'comp.graphics', 'sci.space', 'sci.crypt', 'talk.politics.misc', 'talk.politics.mideast', 'comp.windows.x', 'rec.sport.hockey', 'talk.politics.misc', 'comp.os.ms-windows.misc', 'rec.autos', 'talk.politics.mideast', 'comp.windows.x', 'talk.politics.misc', 'comp.windows.x', 'talk.politics.mideast', 'sci.crypt', 'rec.autos', 'comp.windows.x', 'alt.atheism', 'talk.politics.misc', 'sci.crypt', 'rec.autos', 'sci.electronics', 'talk.politics.mideast', 'rec.autos', 'sci.space', 'sci.crypt', 'rec.sport.hockey', 'rec.sport.baseball', 'talk.politics.misc', 'talk.politics.mideast', 'talk.religion.misc', 'comp.os.ms-windows.misc', 'comp.sys.ibm.pc.hardware', 'comp.graphics', 'sci.crypt', 'rec.autos', 'talk.politics.mideast', 'sci.crypt', 'talk.politics.misc', 'talk.politics.mideast', 'talk.politics.guns', 'sci.crypt', 'rec.sport.baseball', 'comp.windows.x', 'comp.windows.x', 'rec.sport.hockey', 'talk.politics.misc', 'sci.crypt', 'soc.religion.christian', 'sci.crypt', 'talk.politics.misc', 'comp.windows.x', 'talk.politics.misc', 'sci.crypt', 'sci.space', 'rec.sport.hockey', 'rec.sport.baseball', 'sci.crypt', 'talk.religion.misc', 'rec.sport.baseball', 'misc.forsale', 'comp.windows.x', 'talk.politics.misc', 'sci.crypt', 'comp.windows.x', 'soc.religion.christian', 'sci.space', 'sci.crypt', 'talk.politics.misc', 'talk.politics.mideast', 'soc.religion.christian', 'talk.politics.mideast', 'talk.politics.misc', 'talk.politics.misc', 'comp.graphics', 'misc.forsale', 'alt.atheism', 'rec.autos', 'comp.windows.x', 'talk.politics.mideast', 'talk.politics.guns', 'sci.crypt', 'alt.atheism', 'comp.windows.x', 'talk.politics.misc', 'talk.politics.mideast', 'soc.religion.christian', 'rec.sport.hockey', 'comp.sys.mac.hardware', 'alt.atheism', 'sci.crypt', 'soc.religion.christian', 'sci.space', 'talk.politics.misc', 'sci.crypt', 'sci.crypt', 'soc.religion.christian', 'comp.windows.x', 'sci.crypt', 'talk.religion.misc', 'sci.med', 'comp.os.ms-windows.misc', 'talk.politics.misc', 'talk.politics.guns', 'talk.politics.mideast', 'talk.politics.mideast', 'rec.sport.baseball', 'comp.windows.x', 'sci.crypt', 'talk.politics.guns', 'comp.graphics', 'talk.politics.misc', 'comp.windows.x', 'talk.religion.misc', 'talk.politics.guns', 'talk.politics.mideast', 'talk.politics.misc', 'talk.politics.misc', 'soc.religion.christian', 'misc.forsale', 'alt.atheism', 'sci.space', 'talk.politics.misc', 'talk.politics.mideast', 'talk.politics.misc', 'comp.graphics', 'talk.politics.guns', 'comp.windows.x', 'rec.autos', 'comp.sys.mac.hardware', 'sci.crypt', 'talk.politics.mideast', 'talk.politics.guns', 'soc.religion.christian', 'talk.politics.misc', 'talk.politics.guns', 'sci.electronics', 'rec.sport.baseball', 'talk.politics.guns', 'sci.space', 'rec.sport.hockey', 'sci.crypt', 'comp.sys.ibm.pc.hardware', 'soc.religion.christian', 'comp.windows.x', 'talk.politics.misc', 'rec.sport.hockey', 'comp.graphics', 'rec.sport.hockey', 'talk.politics.misc', 'sci.crypt', 'talk.politics.misc', 'sci.crypt', 'talk.politics.misc', 'talk.religion.misc', 'talk.politics.misc', 'talk.politics.misc', 'alt.atheism', 'sci.space', 'talk.politics.mideast', 'comp.windows.x', 'comp.windows.x', 'comp.graphics', 'talk.religion.misc', 'talk.politics.misc', 'soc.religion.christian', 'sci.crypt', 'sci.space', 'sci.crypt', 'misc.forsale', 'sci.crypt', 'rec.sport.baseball', 'sci.space', 'soc.religion.christian', 'sci.crypt', 'comp.os.ms-windows.misc', 'talk.politics.mideast', 'sci.crypt', 'sci.space', 'rec.autos', 'comp.sys.ibm.pc.hardware', 'talk.politics.mideast', 'sci.crypt', 'talk.politics.mideast', 'talk.politics.mideast', 'sci.med', 'rec.sport.baseball', 'comp.os.ms-windows.misc', 'sci.crypt', 'talk.politics.misc', 'talk.religion.misc', 'alt.atheism', 'rec.sport.baseball', 'comp.graphics', 'comp.windows.x', 'talk.religion.misc', 'alt.atheism', 'sci.crypt', 'talk.politics.misc', 'talk.politics.misc', 'sci.crypt', 'alt.atheism', 'talk.politics.misc', 'sci.crypt', 'talk.politics.misc', 'talk.politics.mideast', 'comp.graphics', 'sci.crypt', 'soc.religion.christian', 'comp.sys.mac.hardware', 'comp.windows.x', 'talk.politics.mideast', 'talk.politics.guns', 'sci.space', 'misc.forsale', 'comp.graphics', 'talk.politics.mideast', 'sci.crypt', 'rec.sport.hockey', 'soc.religion.christian', 'rec.sport.hockey', 'talk.politics.misc', 'sci.crypt', 'talk.politics.guns', 'soc.religion.christian', 'talk.politics.mideast', 'talk.politics.misc', 'talk.politics.guns', 'talk.politics.misc', 'talk.religion.misc', 'sci.electronics', 'comp.windows.x', 'talk.politics.guns', 'rec.sport.baseball', 'rec.sport.hockey', 'sci.crypt', 'comp.sys.ibm.pc.hardware', 'comp.windows.x', 'sci.crypt', 'talk.politics.misc', 'misc.forsale', 'talk.politics.guns', 'comp.graphics', 'alt.atheism', 'talk.politics.guns', 'comp.sys.ibm.pc.hardware', 'talk.politics.misc', 'talk.politics.misc', 'alt.atheism', 'comp.sys.ibm.pc.hardware', 'talk.religion.misc', 'talk.politics.misc', 'comp.graphics', 'talk.religion.misc', 'talk.politics.misc', 'talk.religion.misc', 'sci.space', 'talk.politics.mideast', 'rec.sport.baseball', 'soc.religion.christian', 'sci.crypt', 'comp.windows.x', 'sci.crypt', 'comp.sys.ibm.pc.hardware', 'talk.politics.misc', 'rec.sport.baseball', 'rec.sport.baseball', 'talk.politics.misc', 'talk.politics.guns', 'comp.sys.mac.hardware', 'talk.politics.mideast', 'alt.atheism', 'comp.windows.x', 'talk.politics.misc', 'comp.os.ms-windows.misc', 'talk.religion.misc', 'talk.politics.misc', 'talk.politics.misc', 'alt.atheism', 'rec.sport.hockey', 'misc.forsale', 'sci.med', 'talk.religion.misc', 'comp.graphics', 'rec.sport.hockey', 'rec.sport.hockey', 'talk.politics.mideast', 'alt.atheism', 'talk.politics.misc', 'talk.politics.mideast', 'sci.crypt', 'talk.politics.mideast', 'sci.crypt', 'comp.sys.mac.hardware', 'comp.os.ms-windows.misc', 'sci.crypt', 'comp.os.ms-windows.misc', 'rec.sport.baseball', 'sci.crypt', 'talk.politics.misc', 'misc.forsale', 'comp.graphics', 'rec.autos', 'sci.crypt', 'talk.politics.misc', 'misc.forsale', 'comp.sys.mac.hardware', 'talk.politics.mideast', 'misc.forsale', 'soc.religion.christian', 'sci.electronics', 'rec.sport.baseball', 'sci.crypt', 'sci.crypt', 'sci.med', 'misc.forsale', 'comp.sys.mac.hardware', 'alt.atheism', 'rec.sport.hockey', 'misc.forsale', 'sci.electronics', 'sci.crypt', 'sci.crypt', 'talk.politics.mideast', 'comp.windows.x', 'comp.sys.mac.hardware', 'comp.windows.x', 'soc.religion.christian', 'comp.os.ms-windows.misc', 'comp.sys.ibm.pc.hardware', 'comp.windows.x', 'alt.atheism', 'talk.politics.misc', 'talk.politics.misc', 'sci.crypt', 'soc.religion.christian', 'alt.atheism', 'alt.atheism', 'alt.atheism', 'comp.windows.x', 'soc.religion.christian', 'talk.politics.misc', 'talk.politics.misc', 'rec.autos', 'talk.politics.mideast', 'comp.windows.x', 'talk.politics.guns', 'alt.atheism', 'sci.crypt', 'alt.atheism', 'talk.politics.misc', 'talk.politics.misc', 'talk.politics.misc', 'comp.os.ms-windows.misc', 'sci.crypt', 'rec.sport.baseball', 'talk.politics.misc', 'rec.sport.baseball', 'talk.religion.misc', 'sci.crypt', 'talk.politics.mideast', 'soc.religion.christian', 'alt.atheism', 'talk.politics.misc', 'talk.politics.misc', 'sci.crypt', 'misc.forsale', 'talk.politics.guns', 'talk.politics.mideast', 'talk.politics.mideast', 'soc.religion.christian', 'talk.politics.mideast', 'misc.forsale', 'comp.windows.x', 'talk.politics.misc', 'talk.politics.misc', 'sci.crypt', 'sci.crypt', 'sci.crypt', 'alt.atheism', 'talk.politics.mideast', 'talk.politics.guns', 'talk.politics.misc', 'talk.religion.misc', 'talk.politics.mideast', 'talk.politics.mideast', 'comp.windows.x', 'talk.politics.misc', 'rec.sport.hockey', 'sci.crypt', 'misc.forsale', 'sci.crypt', 'talk.politics.mideast', 'talk.politics.misc', 'talk.religion.misc', 'talk.politics.misc', 'soc.religion.christian', 'talk.politics.mideast', 'talk.politics.misc', 'misc.forsale', 'comp.graphics', 'comp.sys.mac.hardware', 'talk.politics.misc', 'comp.os.ms-windows.misc', 'rec.sport.hockey', 'talk.politics.misc', 'soc.religion.christian', 'sci.crypt', 'rec.sport.hockey', 'talk.politics.mideast', 'comp.graphics', 'sci.crypt', 'sci.crypt', 'comp.windows.x', 'comp.windows.x', 'rec.sport.hockey', 'misc.forsale', 'talk.politics.guns', 'comp.windows.x', 'talk.politics.mideast', 'talk.politics.misc', 'alt.atheism', 'comp.sys.mac.hardware', 'sci.crypt', 'sci.crypt', 'comp.os.ms-windows.misc', 'talk.politics.misc', 'talk.politics.misc', 'rec.sport.hockey', 'comp.sys.ibm.pc.hardware', 'alt.atheism', 'sci.crypt', 'sci.space', 'talk.politics.misc', 'misc.forsale', 'rec.sport.baseball', 'comp.graphics', 'talk.politics.mideast', 'comp.sys.ibm.pc.hardware', 'sci.crypt', 'rec.sport.baseball', 'sci.crypt', 'talk.politics.misc', 'talk.politics.misc', 'rec.sport.baseball', 'talk.politics.misc', 'talk.politics.mideast', 'rec.autos', 'misc.forsale', 'sci.crypt', 'talk.politics.guns', 'talk.politics.mideast', 'talk.politics.mideast', 'talk.religion.misc', 'talk.politics.mideast', 'comp.windows.x', 'comp.sys.mac.hardware', 'sci.space', 'talk.politics.guns', 'alt.atheism', 'comp.windows.x', 'talk.politics.misc', 'talk.religion.misc', 'talk.politics.misc', 'talk.politics.misc', 'soc.religion.christian', 'talk.politics.mideast', 'alt.atheism', 'talk.politics.misc', 'talk.religion.misc', 'talk.politics.misc', 'comp.windows.x', 'soc.religion.christian', 'talk.politics.misc', 'comp.windows.x', 'talk.politics.misc', 'talk.politics.misc', 'talk.politics.misc', 'soc.religion.christian', 'talk.politics.misc', 'comp.os.ms-windows.misc', 'comp.os.ms-windows.misc', 'sci.crypt', 'misc.forsale', 'rec.sport.hockey', 'rec.autos', 'sci.crypt', 'talk.politics.guns', 'comp.graphics', 'rec.sport.baseball', 'alt.atheism', 'talk.religion.misc', 'talk.politics.misc', 'talk.religion.misc', 'talk.politics.mideast', 'comp.graphics', 'talk.religion.misc', 'talk.politics.misc', 'alt.atheism', 'talk.religion.misc', 'talk.politics.misc', 'rec.sport.hockey', 'rec.sport.hockey', 'comp.sys.mac.hardware', 'sci.crypt', 'talk.politics.mideast', 'misc.forsale', 'sci.space', 'comp.graphics', 'comp.sys.mac.hardware', 'comp.sys.mac.hardware', 'comp.os.ms-windows.misc', 'talk.politics.misc', 'talk.religion.misc', 'comp.windows.x', 'sci.crypt', 'talk.politics.guns', 'comp.sys.mac.hardware', 'talk.politics.mideast', 'talk.politics.guns', 'talk.politics.mideast', 'rec.sport.hockey', 'sci.space', 'sci.crypt', 'alt.atheism', 'comp.windows.x', 'talk.politics.misc', 'rec.sport.hockey', 'soc.religion.christian', 'talk.politics.misc', 'talk.politics.mideast', 'comp.windows.x', 'rec.autos', 'soc.religion.christian', 'talk.politics.misc', 'comp.windows.x', 'soc.religion.christian', 'soc.religion.christian', 'comp.windows.x', 'rec.sport.baseball', 'rec.sport.hockey', 'comp.windows.x', 'rec.sport.baseball', 'talk.politics.guns', 'sci.crypt', 'comp.sys.ibm.pc.hardware', 'sci.space', 'sci.space', 'rec.sport.baseball', 'soc.religion.christian', 'sci.crypt', 'alt.atheism', 'rec.autos', 'alt.atheism', 'sci.crypt', 'alt.atheism', 'soc.religion.christian', 'talk.politics.misc', 'sci.space', 'sci.crypt', 'sci.crypt', 'sci.crypt', 'sci.space', 'talk.politics.misc', 'talk.politics.misc', 'talk.politics.misc', 'talk.politics.mideast', 'talk.politics.mideast', 'alt.atheism', 'comp.windows.x', 'comp.sys.ibm.pc.hardware', 'talk.politics.misc', 'soc.religion.christian', 'talk.politics.misc', 'talk.religion.misc', 'comp.sys.mac.hardware', 'talk.politics.guns', 'rec.sport.baseball', 'talk.politics.mideast', 'talk.politics.mideast', 'talk.politics.mideast', 'sci.crypt', 'talk.politics.misc', 'talk.politics.mideast', 'comp.graphics', 'sci.crypt', 'sci.crypt', 'sci.crypt', 'sci.electronics', 'soc.religion.christian', 'talk.politics.mideast', 'talk.politics.misc', 'rec.autos', 'talk.politics.misc', 'rec.sport.baseball', 'talk.politics.misc', 'comp.graphics', 'sci.space', 'sci.electronics', 'comp.graphics', 'misc.forsale', 'talk.politics.mideast', 'talk.politics.mideast', 'alt.atheism', 'talk.politics.misc', 'comp.os.ms-windows.misc', 'rec.sport.hockey', 'sci.crypt', 'talk.politics.guns', 'talk.politics.misc', 'soc.religion.christian', 'comp.sys.mac.hardware', 'sci.space', 'soc.religion.christian', 'comp.sys.mac.hardware', 'comp.windows.x', 'talk.politics.mideast', 'sci.electronics', 'rec.sport.hockey', 'comp.windows.x', 'soc.religion.christian', 'sci.crypt', 'talk.politics.misc', 'talk.politics.guns', 'comp.sys.ibm.pc.hardware', 'sci.crypt', 'talk.politics.misc', 'rec.sport.hockey', 'comp.windows.x', 'sci.crypt', 'sci.crypt', 'talk.politics.misc', 'rec.sport.hockey', 'soc.religion.christian', 'comp.graphics', 'comp.os.ms-windows.misc', 'sci.crypt', 'talk.politics.mideast', 'talk.politics.misc', 'talk.politics.misc', 'talk.politics.misc', 'talk.religion.misc', 'sci.crypt', 'talk.religion.misc', 'comp.graphics', 'talk.politics.misc', 'comp.windows.x', 'talk.politics.mideast', 'sci.space', 'soc.religion.christian', 'talk.politics.mideast', 'comp.graphics', 'talk.politics.mideast', 'sci.crypt', 'talk.politics.misc', 'talk.politics.misc', 'talk.politics.mideast', 'sci.crypt', 'sci.space', 'talk.politics.misc', 'rec.sport.hockey', 'sci.crypt', 'talk.politics.mideast', 'talk.politics.mideast', 'rec.sport.hockey', 'sci.crypt', 'misc.forsale', 'comp.sys.mac.hardware', 'sci.crypt', 'talk.politics.misc', 'talk.religion.misc', 'alt.atheism', 'talk.politics.mideast', 'comp.windows.x', 'talk.politics.mideast', 'comp.graphics', 'sci.space', 'talk.politics.misc', 'alt.atheism', 'talk.politics.misc', 'talk.politics.misc', 'rec.sport.baseball', 'talk.politics.guns', 'comp.os.ms-windows.misc', 'rec.autos', 'comp.windows.x', 'sci.electronics', 'talk.politics.mideast', 'talk.politics.misc', 'talk.politics.mideast', 'comp.graphics', 'comp.graphics', 'sci.crypt', 'sci.crypt', 'comp.graphics', 'talk.politics.misc', 'talk.religion.misc', 'rec.sport.baseball', 'talk.politics.misc', 'talk.politics.misc', 'talk.religion.misc', 'talk.politics.misc', 'alt.atheism', 'talk.politics.mideast', 'comp.windows.x', 'rec.sport.hockey', 'comp.sys.ibm.pc.hardware', 'rec.sport.hockey', 'rec.sport.hockey', 'talk.religion.misc', 'comp.graphics', 'talk.politics.mideast', 'sci.crypt', 'sci.electronics', 'comp.os.ms-windows.misc', 'comp.os.ms-windows.misc', 'sci.crypt', 'talk.politics.misc', 'sci.crypt', 'talk.politics.mideast', 'sci.crypt', 'talk.politics.mideast', 'talk.politics.mideast', 'comp.os.ms-windows.misc', 'rec.autos', 'rec.autos', 'talk.politics.misc', 'sci.crypt', 'sci.crypt', 'comp.sys.mac.hardware', 'sci.crypt', 'sci.crypt', 'talk.politics.misc', 'sci.crypt', 'talk.politics.misc', 'talk.politics.mideast', 'talk.politics.misc', 'talk.politics.mideast', 'comp.windows.x', 'sci.space', 'rec.sport.baseball', 'alt.atheism', 'sci.space', 'talk.politics.misc', 'rec.autos', 'comp.sys.mac.hardware', 'comp.windows.x', 'comp.sys.ibm.pc.hardware', 'talk.politics.mideast', 'sci.crypt', 'sci.space', 'rec.sport.hockey', 'sci.space', 'talk.politics.guns', 'talk.religion.misc', 'rec.sport.hockey', 'talk.politics.misc', 'talk.politics.misc', 'comp.windows.x', 'sci.crypt', 'comp.windows.x', 'rec.sport.baseball', 'comp.windows.x', 'misc.forsale', 'talk.politics.misc', 'soc.religion.christian', 'talk.politics.misc', 'comp.windows.x', 'soc.religion.christian', 'misc.forsale', 'talk.politics.guns', 'talk.politics.mideast', 'misc.forsale', 'talk.religion.misc', 'comp.graphics', 'talk.politics.mideast', 'sci.crypt', 'talk.religion.misc', 'comp.graphics', 'comp.os.ms-windows.misc', 'talk.politics.misc', 'sci.electronics', 'talk.politics.misc', 'talk.politics.misc', 'comp.windows.x', 'talk.politics.misc', 'soc.religion.christian', 'talk.politics.misc', 'talk.politics.misc', 'alt.atheism', 'soc.religion.christian', 'talk.politics.misc', 'sci.crypt', 'talk.politics.misc', 'alt.atheism', 'comp.graphics', 'rec.sport.baseball', 'soc.religion.christian', 'talk.politics.guns', 'rec.sport.hockey', 'talk.politics.misc', 'talk.politics.misc', 'talk.religion.misc', 'alt.atheism', 'rec.autos', 'sci.space', 'comp.windows.x', 'comp.os.ms-windows.misc', 'rec.sport.baseball', 'rec.sport.hockey', 'talk.politics.guns', 'comp.windows.x', 'sci.space', 'talk.politics.mideast', 'rec.sport.hockey', 'talk.politics.mideast', 'sci.space', 'sci.crypt', 'rec.sport.baseball', 'sci.crypt', 'talk.politics.mideast', 'talk.politics.mideast', 'comp.windows.x', 'sci.crypt', 'comp.windows.x', 'talk.politics.misc', 'comp.windows.x', 'sci.crypt', 'sci.crypt', 'talk.politics.misc', 'talk.politics.mideast', 'talk.politics.misc', 'talk.religion.misc', 'talk.politics.mideast', 'sci.space', 'talk.politics.misc', 'rec.sport.hockey', 'sci.crypt', 'comp.sys.ibm.pc.hardware', 'talk.religion.misc', 'talk.politics.misc', 'alt.atheism', 'talk.religion.misc', 'sci.space', 'comp.windows.x', 'sci.crypt', 'talk.politics.mideast', 'talk.politics.guns', 'talk.politics.misc', 'alt.atheism', 'comp.windows.x', 'comp.os.ms-windows.misc', 'sci.crypt', 'comp.windows.x', 'sci.crypt', 'sci.crypt', 'sci.crypt', 'sci.crypt', 'rec.autos', 'talk.politics.misc', 'talk.politics.misc', 'comp.graphics', 'alt.atheism', 'talk.politics.mideast', 'soc.religion.christian', 'talk.religion.misc', 'talk.politics.mideast', 'sci.electronics', 'comp.graphics', 'sci.crypt', 'talk.politics.misc', 'sci.electronics', 'comp.sys.mac.hardware', 'soc.religion.christian', 'rec.sport.hockey', 'talk.politics.misc', 'talk.politics.misc', 'talk.politics.mideast', 'sci.electronics', 'soc.religion.christian', 'rec.sport.hockey', 'sci.crypt', 'talk.religion.misc', 'talk.religion.misc', 'talk.politics.mideast', 'sci.crypt', 'rec.sport.baseball', 'alt.atheism', 'soc.religion.christian', 'sci.crypt', 'rec.autos', 'comp.os.ms-windows.misc', 'rec.sport.baseball', 'sci.crypt', 'sci.electronics', 'comp.windows.x', 'sci.crypt', 'talk.religion.misc', 'sci.crypt', 'soc.religion.christian', 'talk.politics.mideast', 'sci.electronics', 'comp.graphics', 'talk.politics.misc', 'rec.autos', 'sci.crypt', 'soc.religion.christian', 'rec.autos', 'talk.religion.misc', 'comp.windows.x', 'misc.forsale', 'talk.politics.mideast', 'talk.politics.misc', 'talk.politics.mideast', 'rec.sport.hockey', 'talk.politics.mideast', 'talk.politics.mideast', 'alt.atheism', 'sci.crypt', 'talk.politics.misc', 'comp.windows.x', 'talk.politics.misc', 'talk.politics.guns', 'rec.autos', 'comp.graphics', 'sci.space', 'rec.sport.hockey', 'sci.crypt', 'soc.religion.christian', 'talk.politics.guns', 'comp.sys.ibm.pc.hardware', 'talk.politics.misc', 'comp.os.ms-windows.misc', 'talk.politics.misc', 'talk.politics.mideast', 'comp.windows.x', 'comp.os.ms-windows.misc', 'comp.os.ms-windows.misc', 'alt.atheism', 'sci.crypt', 'sci.crypt', 'talk.politics.misc', 'sci.space', 'alt.atheism', 'talk.politics.misc', 'talk.religion.misc', 'talk.politics.misc', 'talk.politics.misc', 'sci.crypt', 'sci.crypt', 'comp.windows.x', 'talk.politics.misc', 'comp.sys.ibm.pc.hardware', 'sci.crypt', 'rec.autos', 'talk.politics.mideast', 'misc.forsale', 'comp.graphics', 'talk.politics.misc', 'talk.politics.misc', 'comp.graphics', 'soc.religion.christian', 'comp.windows.x', 'sci.space', 'comp.sys.mac.hardware', 'rec.autos', 'talk.religion.misc', 'sci.space', 'sci.crypt', 'talk.politics.misc', 'misc.forsale', 'rec.sport.hockey', 'comp.graphics', 'comp.sys.mac.hardware', 'comp.windows.x', 'rec.autos', 'talk.politics.misc', 'alt.atheism', 'talk.politics.mideast', 'alt.atheism', 'talk.politics.guns', 'sci.crypt', 'talk.politics.mideast', 'rec.sport.hockey', 'talk.politics.misc', 'talk.politics.misc', 'talk.politics.misc', 'comp.graphics', 'comp.windows.x', 'alt.atheism', 'comp.sys.mac.hardware', 'soc.religion.christian', 'sci.crypt', 'talk.politics.guns', 'sci.space', 'talk.religion.misc', 'talk.politics.guns', 'talk.politics.mideast', 'sci.crypt', 'sci.crypt', 'sci.crypt', 'sci.space', 'comp.windows.x', 'sci.crypt', 'sci.crypt', 'sci.crypt', 'soc.religion.christian', 'talk.politics.misc', 'talk.politics.misc', 'soc.religion.christian', 'talk.religion.misc', 'talk.politics.misc', 'misc.forsale', 'talk.politics.guns', 'sci.electronics', 'comp.windows.x', 'comp.sys.ibm.pc.hardware', 'sci.space', 'talk.religion.misc', 'talk.politics.guns', 'alt.atheism', 'talk.politics.mideast', 'talk.politics.misc', 'rec.autos', 'talk.politics.misc', 'rec.sport.hockey', 'soc.religion.christian', 'talk.religion.misc', 'rec.autos', 'rec.sport.hockey', 'sci.crypt', 'comp.sys.mac.hardware', 'alt.atheism', 'comp.os.ms-windows.misc', 'sci.crypt', 'talk.politics.misc', 'sci.crypt', 'comp.sys.mac.hardware', 'talk.politics.misc', 'sci.space', 'rec.autos', 'misc.forsale', 'rec.sport.hockey', 'comp.graphics', 'talk.politics.misc', 'sci.crypt', 'sci.crypt', 'talk.politics.misc', 'talk.politics.misc', 'comp.sys.mac.hardware', 'comp.graphics', 'rec.sport.hockey', 'sci.electronics', 'talk.politics.misc', 'comp.windows.x', 'sci.space', 'comp.os.ms-windows.misc', 'talk.religion.misc', 'talk.politics.misc', 'comp.graphics', 'talk.politics.misc', 'talk.politics.misc', 'talk.politics.misc', 'comp.graphics', 'sci.crypt', 'comp.graphics', 'talk.politics.misc', 'talk.politics.misc', 'comp.windows.x', 'rec.autos', 'comp.graphics', 'sci.crypt', 'sci.crypt', 'sci.crypt', 'misc.forsale', 'talk.politics.guns', 'talk.politics.mideast', 'comp.windows.x', 'alt.atheism', 'sci.crypt', 'sci.crypt', 'sci.electronics', 'talk.politics.mideast', 'sci.crypt', 'sci.crypt', 'talk.politics.misc', 'alt.atheism', 'talk.politics.mideast', 'rec.sport.hockey', 'sci.crypt', 'talk.politics.misc', 'sci.crypt', 'alt.atheism', 'talk.politics.misc', 'sci.crypt', 'talk.politics.misc', 'comp.graphics', 'sci.electronics', 'talk.politics.misc', 'sci.crypt', 'alt.atheism', 'talk.politics.misc', 'talk.politics.misc', 'talk.religion.misc', 'talk.politics.misc', 'talk.politics.misc', 'comp.windows.x', 'comp.graphics', 'rec.sport.hockey', 'talk.politics.misc', 'sci.space', 'talk.politics.misc', 'talk.politics.misc', 'rec.sport.hockey', 'talk.politics.misc', 'sci.crypt', 'talk.politics.mideast', 'comp.windows.x', 'talk.politics.misc', 'comp.windows.x', 'rec.autos', 'talk.religion.misc', 'sci.crypt', 'sci.crypt', 'talk.politics.guns', 'sci.crypt', 'sci.crypt', 'talk.politics.misc', 'talk.politics.misc', 'comp.sys.mac.hardware', 'sci.crypt', 'sci.electronics', 'soc.religion.christian', 'talk.religion.misc', 'talk.religion.misc', 'misc.forsale', 'sci.crypt', 'soc.religion.christian', 'rec.sport.hockey', 'sci.space', 'comp.graphics', 'talk.politics.misc', 'rec.autos', 'talk.politics.guns', 'talk.politics.mideast', 'comp.windows.x', 'alt.atheism', 'talk.politics.misc', 'rec.sport.hockey', 'comp.graphics', 'sci.crypt', 'comp.sys.ibm.pc.hardware', 'talk.politics.misc', 'talk.politics.mideast', 'talk.religion.misc', 'sci.crypt', 'comp.windows.x', 'sci.crypt', 'talk.religion.misc', 'talk.politics.misc', 'alt.atheism', 'rec.sport.hockey', 'comp.os.ms-windows.misc', 'talk.religion.misc', 'comp.sys.mac.hardware', 'sci.electronics', 'talk.politics.mideast', 'comp.sys.mac.hardware', 'comp.sys.ibm.pc.hardware', 'comp.graphics', 'comp.os.ms-windows.misc', 'sci.electronics', 'rec.sport.baseball', 'sci.electronics', 'sci.med', 'sci.crypt', 'talk.politics.misc', 'sci.space', 'sci.space', 'talk.religion.misc', 'talk.religion.misc', 'soc.religion.christian', 'talk.politics.mideast', 'talk.religion.misc', 'talk.politics.misc', 'comp.sys.mac.hardware', 'talk.politics.mideast', 'sci.crypt', 'talk.politics.misc', 'talk.politics.misc', 'talk.religion.misc', 'rec.sport.hockey', 'comp.os.ms-windows.misc', 'sci.space', 'sci.crypt', 'rec.sport.baseball', 'sci.crypt', 'soc.religion.christian', 'talk.politics.mideast', 'soc.religion.christian', 'comp.windows.x', 'comp.windows.x', 'comp.sys.ibm.pc.hardware', 'rec.autos', 'talk.politics.misc', 'sci.space', 'talk.religion.misc', 'talk.politics.mideast', 'rec.sport.baseball', 'talk.politics.misc', 'sci.crypt', 'comp.sys.ibm.pc.hardware', 'talk.politics.misc', 'sci.crypt', 'talk.politics.misc', 'rec.sport.hockey', 'misc.forsale', 'sci.crypt', 'rec.sport.hockey', 'talk.politics.misc', 'alt.atheism', 'talk.politics.mideast', 'sci.crypt', 'sci.crypt', 'comp.windows.x', 'sci.crypt', 'talk.politics.misc', 'comp.windows.x', 'sci.med', 'talk.religion.misc', 'rec.sport.hockey', 'sci.crypt', 'talk.politics.misc', 'rec.sport.baseball', 'comp.sys.ibm.pc.hardware', 'talk.politics.misc', 'rec.sport.baseball', 'rec.sport.hockey', 'talk.religion.misc', 'sci.crypt', 'comp.os.ms-windows.misc', 'comp.graphics', 'talk.politics.misc', 'alt.atheism', 'talk.politics.misc', 'soc.religion.christian', 'talk.religion.misc', 'talk.politics.mideast', 'rec.sport.hockey', 'alt.atheism', 'talk.politics.misc', 'comp.windows.x', 'talk.politics.mideast', 'talk.politics.guns', 'sci.crypt', 'comp.windows.x', 'talk.religion.misc', 'talk.politics.mideast', 'sci.crypt', 'alt.atheism', 'sci.space', 'rec.sport.baseball', 'talk.politics.mideast', 'alt.atheism', 'alt.atheism', 'sci.crypt', 'sci.crypt', 'talk.politics.mideast', 'talk.politics.mideast', 'talk.politics.misc', 'talk.religion.misc', 'soc.religion.christian', 'alt.atheism', 'rec.sport.hockey', 'sci.space', 'comp.os.ms-windows.misc', 'rec.sport.baseball', 'comp.graphics', 'misc.forsale', 'talk.politics.mideast', 'comp.sys.ibm.pc.hardware', 'rec.sport.baseball', 'sci.crypt', 'comp.sys.mac.hardware', 'talk.politics.mideast', 'rec.autos', 'sci.crypt', 'comp.windows.x', 'rec.sport.baseball', 'talk.politics.guns', 'talk.politics.mideast', 'alt.atheism', 'rec.sport.baseball', 'talk.politics.mideast', 'comp.windows.x', 'rec.autos', 'talk.politics.misc', 'comp.graphics', 'misc.forsale', 'comp.os.ms-windows.misc', 'comp.windows.x', 'talk.politics.mideast', 'talk.politics.misc', 'talk.religion.misc', 'comp.graphics', 'talk.politics.mideast', 'comp.os.ms-windows.misc', 'misc.forsale', 'alt.atheism', 'talk.politics.mideast', 'misc.forsale', 'rec.sport.hockey', 'comp.windows.x', 'comp.windows.x', 'sci.space', 'comp.windows.x', 'talk.religion.misc', 'rec.sport.hockey', 'soc.religion.christian', 'sci.crypt', 'rec.sport.baseball', 'talk.religion.misc', 'talk.politics.misc', 'talk.politics.misc', 'sci.crypt', 'talk.politics.mideast', 'talk.politics.misc', 'comp.sys.ibm.pc.hardware', 'sci.crypt', 'sci.crypt', 'rec.autos', 'sci.space', 'talk.politics.mideast', 'sci.med', 'talk.politics.mideast', 'sci.space', 'talk.politics.misc', 'sci.crypt', 'comp.os.ms-windows.misc', 'sci.crypt', 'comp.os.ms-windows.misc', 'rec.autos', 'sci.crypt', 'talk.politics.mideast', 'soc.religion.christian', 'comp.windows.x', 'sci.space', 'talk.politics.misc', 'talk.politics.mideast', 'sci.crypt', 'comp.graphics', 'sci.space', 'talk.politics.misc', 'rec.autos', 'sci.crypt', 'talk.politics.mideast', 'talk.politics.mideast', 'talk.politics.misc', 'talk.politics.mideast', 'rec.autos', 'alt.atheism', 'comp.windows.x', 'rec.sport.hockey', 'talk.politics.mideast', 'comp.windows.x', 'comp.os.ms-windows.misc', 'sci.crypt', 'sci.crypt', 'sci.crypt', 'misc.forsale', 'talk.religion.misc', 'comp.windows.x', 'talk.politics.mideast', 'talk.politics.misc', 'sci.crypt', 'alt.atheism', 'alt.atheism', 'talk.politics.guns', 'sci.crypt', 'sci.crypt', 'misc.forsale', 'comp.sys.ibm.pc.hardware', 'misc.forsale', 'talk.politics.mideast', 'sci.space', 'talk.politics.mideast', 'rec.sport.baseball', 'sci.crypt', 'talk.politics.misc', 'talk.politics.misc', 'alt.atheism', 'comp.windows.x', 'sci.space', 'rec.autos', 'soc.religion.christian', 'alt.atheism', 'misc.forsale', 'sci.space', 'rec.autos', 'talk.politics.misc', 'talk.politics.misc', 'talk.politics.misc', 'talk.religion.misc', 'talk.politics.mideast', 'talk.politics.misc', 'alt.atheism', 'sci.crypt', 'rec.sport.baseball', 'rec.sport.baseball', 'sci.space', 'soc.religion.christian', 'soc.religion.christian', 'sci.space', 'sci.crypt', 'talk.politics.guns', 'sci.crypt', 'soc.religion.christian', 'rec.sport.hockey', 'rec.sport.baseball', 'soc.religion.christian', 'rec.sport.hockey', 'rec.autos', 'comp.windows.x', 'talk.politics.misc', 'soc.religion.christian', 'talk.politics.misc', 'talk.politics.guns', 'sci.electronics', 'sci.crypt', 'talk.politics.misc', 'sci.space', 'rec.sport.hockey', 'talk.politics.mideast', 'sci.crypt', 'comp.os.ms-windows.misc', 'talk.politics.guns', 'talk.politics.mideast', 'talk.politics.mideast', 'misc.forsale', 'talk.politics.mideast', 'talk.politics.misc', 'comp.sys.mac.hardware', 'talk.politics.misc', 'alt.atheism', 'talk.politics.misc', 'comp.sys.ibm.pc.hardware', 'rec.sport.hockey', 'comp.sys.ibm.pc.hardware', 'rec.autos', 'comp.os.ms-windows.misc', 'talk.politics.mideast', 'talk.politics.mideast', 'comp.os.ms-windows.misc', 'sci.crypt', 'talk.politics.misc', 'talk.politics.misc', 'talk.politics.misc', 'talk.religion.misc', 'rec.sport.hockey', 'rec.sport.hockey', 'comp.windows.x', 'talk.politics.misc', 'rec.sport.baseball', 'sci.crypt', 'sci.crypt', 'sci.med', 'soc.religion.christian', 'comp.graphics', 'misc.forsale', 'talk.politics.misc', 'soc.religion.christian', 'talk.politics.misc', 'talk.politics.guns', 'misc.forsale', 'talk.politics.misc', 'comp.graphics', 'alt.atheism', 'talk.politics.mideast', 'soc.religion.christian', 'talk.politics.misc', 'alt.atheism', 'misc.forsale', 'talk.politics.mideast', 'misc.forsale', 'talk.politics.misc', 'sci.crypt', 'comp.windows.x', 'talk.politics.misc', 'talk.religion.misc', 'talk.politics.mideast', 'sci.space', 'comp.graphics', 'rec.sport.hockey', 'comp.graphics', 'sci.crypt', 'comp.windows.x', 'talk.politics.misc', 'talk.politics.misc', 'sci.crypt', 'sci.space', 'sci.crypt', 'comp.sys.ibm.pc.hardware', 'comp.windows.x', 'sci.space', 'soc.religion.christian', 'soc.religion.christian', 'talk.politics.guns', 'alt.atheism', 'talk.politics.mideast', 'comp.windows.x', 'sci.crypt', 'misc.forsale', 'talk.politics.mideast', 'rec.autos', 'misc.forsale', 'comp.windows.x', 'talk.politics.misc', 'talk.politics.guns', 'rec.sport.hockey', 'sci.crypt', 'comp.os.ms-windows.misc', 'rec.sport.hockey', 'talk.politics.mideast', 'talk.politics.misc', 'comp.os.ms-windows.misc', 'rec.autos', 'talk.politics.mideast', 'comp.windows.x', 'talk.religion.misc', 'talk.politics.guns', 'comp.windows.x', 'comp.windows.x', 'comp.os.ms-windows.misc', 'talk.politics.mideast', 'alt.atheism', 'rec.sport.baseball', 'soc.religion.christian', 'misc.forsale', 'talk.politics.misc', 'soc.religion.christian', 'talk.politics.mideast', 'soc.religion.christian', 'talk.politics.misc', 'comp.sys.ibm.pc.hardware', 'talk.politics.misc', 'soc.religion.christian', 'alt.atheism', 'comp.windows.x', 'talk.politics.misc', 'sci.electronics', 'talk.politics.mideast', 'talk.politics.guns', 'talk.politics.mideast', 'talk.politics.misc', 'talk.politics.misc', 'comp.windows.x', 'talk.politics.mideast', 'sci.crypt', 'talk.politics.misc', 'soc.religion.christian', 'sci.crypt', 'alt.atheism', 'talk.politics.misc', 'sci.electronics', 'talk.politics.guns', 'talk.politics.mideast', 'sci.crypt', 'sci.crypt', 'rec.sport.baseball', 'sci.space', 'rec.sport.hockey', 'soc.religion.christian', 'rec.sport.hockey', 'sci.space', 'comp.windows.x', 'sci.crypt', 'talk.politics.misc', 'talk.politics.misc', 'comp.sys.ibm.pc.hardware', 'rec.autos', 'rec.sport.hockey', 'sci.crypt', 'talk.politics.mideast', 'talk.religion.misc', 'comp.sys.mac.hardware', 'comp.graphics', 'comp.graphics', 'comp.windows.x', 'talk.religion.misc', 'sci.crypt', 'comp.sys.ibm.pc.hardware', 'comp.sys.ibm.pc.hardware', 'comp.os.ms-windows.misc', 'talk.politics.misc', 'talk.politics.mideast', 'talk.politics.guns', 'rec.sport.baseball', 'sci.crypt', 'comp.os.ms-windows.misc', 'talk.politics.misc', 'comp.graphics', 'soc.religion.christian', 'rec.autos', 'comp.windows.x', 'rec.sport.baseball', 'comp.windows.x', 'soc.religion.christian', 'talk.politics.misc', 'comp.graphics', 'talk.religion.misc', 'soc.religion.christian', 'talk.politics.mideast', 'comp.windows.x', 'talk.politics.misc', 'misc.forsale', 'sci.space', 'talk.politics.misc', 'alt.atheism', 'talk.politics.misc', 'rec.sport.baseball', 'comp.windows.x', 'talk.religion.misc', 'comp.windows.x', 'sci.crypt', 'rec.sport.baseball', 'comp.windows.x', 'alt.atheism', 'comp.graphics', 'alt.atheism', 'alt.atheism', 'misc.forsale', 'comp.windows.x', 'talk.politics.misc', 'talk.politics.misc', 'misc.forsale', 'soc.religion.christian', 'sci.crypt', 'talk.politics.misc', 'talk.politics.misc', 'talk.politics.mideast', 'sci.crypt', 'comp.windows.x', 'talk.politics.misc', 'rec.autos', 'talk.politics.misc', 'comp.windows.x', 'talk.politics.mideast', 'sci.crypt', 'rec.autos', 'comp.windows.x', 'comp.windows.x', 'talk.politics.mideast', 'talk.religion.misc', 'rec.sport.hockey', 'alt.atheism', 'comp.windows.x', 'alt.atheism', 'rec.sport.baseball', 'rec.autos', 'rec.sport.baseball', 'talk.politics.misc', 'talk.politics.mideast', 'comp.windows.x', 'misc.forsale', 'sci.crypt', 'talk.politics.misc', 'talk.politics.mideast', 'comp.windows.x', 'sci.crypt', 'talk.religion.misc', 'talk.politics.misc', 'sci.crypt', 'soc.religion.christian', 'rec.sport.baseball', 'sci.crypt', 'sci.crypt', 'talk.politics.mideast', 'talk.politics.mideast', 'comp.windows.x', 'talk.politics.misc', 'rec.autos', 'talk.politics.mideast', 'sci.crypt', 'talk.politics.misc', 'soc.religion.christian', 'rec.sport.baseball', 'talk.politics.misc', 'alt.atheism', 'talk.politics.mideast', 'talk.religion.misc', 'misc.forsale', 'comp.sys.mac.hardware', 'sci.med', 'rec.sport.baseball', 'talk.politics.misc', 'comp.windows.x', 'talk.politics.misc', 'alt.atheism', 'talk.politics.misc', 'comp.sys.ibm.pc.hardware', 'comp.sys.mac.hardware', 'sci.crypt', 'talk.politics.misc', 'sci.space', 'soc.religion.christian', 'sci.crypt', 'comp.sys.ibm.pc.hardware', 'comp.windows.x', 'comp.os.ms-windows.misc', 'talk.politics.misc', 'rec.sport.hockey', 'comp.windows.x', 'talk.politics.guns', 'talk.politics.mideast', 'talk.politics.misc', 'comp.windows.x', 'talk.politics.mideast', 'comp.windows.x', 'comp.graphics', 'talk.politics.misc', 'sci.crypt', 'talk.politics.mideast', 'talk.politics.mideast', 'talk.politics.mideast', 'comp.graphics', 'talk.politics.misc', 'rec.sport.baseball', 'comp.sys.mac.hardware', 'comp.graphics', 'talk.religion.misc', 'talk.politics.mideast', 'comp.os.ms-windows.misc', 'talk.politics.misc', 'talk.politics.mideast', 'talk.politics.misc', 'rec.sport.baseball', 'sci.crypt', 'talk.politics.mideast', 'sci.crypt', 'comp.windows.x', 'sci.space', 'sci.electronics', 'comp.os.ms-windows.misc', 'sci.crypt', 'rec.autos', 'talk.politics.guns', 'talk.politics.misc', 'sci.crypt', 'talk.politics.mideast', 'misc.forsale', 'talk.politics.misc', 'talk.politics.misc', 'talk.religion.misc', 'talk.politics.guns', 'comp.graphics', 'sci.crypt', 'comp.windows.x', 'sci.space', 'rec.sport.baseball', 'talk.politics.misc', 'alt.atheism', 'talk.politics.mideast', 'talk.politics.mideast', 'rec.autos', 'talk.politics.misc', 'talk.politics.guns', 'talk.politics.misc', 'comp.os.ms-windows.misc', 'sci.electronics', 'alt.atheism', 'comp.windows.x', 'misc.forsale', 'talk.politics.mideast', 'talk.politics.mideast', 'sci.crypt', 'comp.os.ms-windows.misc', 'rec.sport.hockey', 'soc.religion.christian', 'comp.sys.mac.hardware', 'sci.electronics', 'talk.politics.guns', 'comp.sys.mac.hardware', 'talk.politics.misc', 'rec.sport.baseball', 'talk.politics.guns', 'talk.politics.misc', 'talk.politics.misc', 'talk.politics.misc', 'sci.space', 'sci.crypt', 'talk.religion.misc', 'rec.sport.hockey', 'soc.religion.christian', 'rec.sport.baseball', 'sci.crypt', 'comp.graphics', 'talk.politics.mideast', 'comp.windows.x', 'comp.windows.x', 'rec.sport.hockey', 'talk.religion.misc', 'sci.crypt', 'talk.politics.misc', 'rec.autos', 'sci.space', 'sci.electronics', 'sci.med', 'sci.crypt', 'soc.religion.christian', 'sci.med', 'rec.sport.hockey', 'comp.windows.x', 'talk.politics.misc', 'talk.religion.misc', 'talk.politics.misc', 'talk.religion.misc', 'sci.crypt', 'rec.autos', 'sci.crypt', 'comp.os.ms-windows.misc', 'talk.politics.misc', 'soc.religion.christian', 'talk.politics.mideast', 'talk.politics.mideast', 'sci.crypt', 'sci.electronics', 'talk.religion.misc', 'comp.graphics', 'talk.politics.misc', 'comp.sys.mac.hardware', 'rec.autos', 'misc.forsale', 'sci.crypt', 'talk.politics.misc', 'alt.atheism', 'comp.windows.x', 'sci.crypt', 'sci.crypt', 'talk.politics.mideast', 'rec.sport.hockey', 'sci.space', 'talk.religion.misc', 'comp.sys.mac.hardware', 'sci.crypt', 'comp.graphics', 'sci.crypt', 'comp.windows.x', 'sci.crypt', 'sci.crypt', 'rec.sport.hockey', 'comp.graphics', 'comp.sys.mac.hardware', 'rec.sport.hockey', 'comp.windows.x', 'comp.graphics', 'rec.autos', 'talk.politics.mideast', 'talk.politics.misc', 'comp.windows.x', 'talk.politics.mideast', 'talk.politics.misc', 'talk.politics.mideast', 'comp.windows.x', 'sci.crypt', 'talk.politics.misc', 'sci.space', 'talk.politics.mideast', 'talk.politics.misc', 'comp.sys.mac.hardware', 'sci.electronics', 'comp.graphics', 'comp.windows.x', 'sci.space', 'sci.crypt', 'talk.politics.misc', 'sci.crypt', 'sci.space', 'talk.politics.misc', 'misc.forsale', 'sci.crypt', 'comp.windows.x', 'sci.crypt', 'talk.politics.mideast', 'comp.graphics', 'sci.crypt', 'comp.sys.mac.hardware', 'comp.os.ms-windows.misc', 'comp.sys.mac.hardware', 'soc.religion.christian', 'comp.sys.mac.hardware', 'comp.windows.x', 'sci.crypt', 'rec.sport.hockey', 'comp.graphics', 'talk.politics.misc', 'comp.os.ms-windows.misc', 'misc.forsale', 'sci.crypt', 'rec.sport.hockey', 'rec.sport.hockey', 'comp.graphics', 'soc.religion.christian', 'rec.sport.hockey', 'sci.crypt', 'rec.sport.baseball', 'talk.politics.guns', 'sci.space', 'sci.crypt', 'rec.sport.hockey', 'talk.politics.mideast', 'comp.windows.x', 'rec.sport.baseball', 'talk.politics.misc', 'sci.crypt', 'sci.crypt', 'sci.space', 'talk.politics.misc', 'talk.politics.misc', 'comp.sys.ibm.pc.hardware', 'comp.os.ms-windows.misc', 'comp.windows.x', 'talk.religion.misc', 'comp.windows.x', 'talk.politics.misc', 'sci.space', 'talk.politics.misc', 'comp.windows.x', 'rec.sport.hockey', 'alt.atheism', 'talk.religion.misc', 'soc.religion.christian', 'comp.graphics', 'soc.religion.christian', 'talk.religion.misc', 'rec.sport.hockey', 'sci.crypt', 'alt.atheism', 'comp.sys.ibm.pc.hardware', 'soc.religion.christian', 'soc.religion.christian', 'talk.politics.guns', 'comp.windows.x', 'rec.autos', 'talk.politics.mideast', 'talk.politics.misc', 'sci.crypt', 'rec.sport.baseball', 'talk.politics.mideast', 'talk.politics.mideast', 'misc.forsale', 'talk.politics.misc', 'sci.crypt', 'sci.space', 'talk.politics.mideast', 'sci.space', 'sci.crypt', 'talk.politics.misc', 'talk.politics.guns', 'sci.crypt', 'comp.os.ms-windows.misc', 'talk.politics.misc', 'misc.forsale', 'rec.autos', 'misc.forsale', 'talk.politics.misc', 'talk.politics.misc', 'comp.windows.x', 'rec.autos', 'talk.politics.misc', 'rec.sport.baseball', 'sci.crypt', 'talk.politics.mideast', 'talk.religion.misc', 'talk.politics.misc', 'talk.politics.mideast', 'sci.crypt', 'comp.graphics', 'talk.politics.misc', 'comp.windows.x', 'sci.crypt', 'comp.graphics', 'talk.politics.misc', 'sci.crypt', 'comp.sys.mac.hardware', 'talk.religion.misc', 'misc.forsale', 'soc.religion.christian', 'talk.politics.guns', 'comp.graphics', 'comp.sys.mac.hardware', 'talk.politics.misc', 'comp.os.ms-windows.misc', 'comp.sys.ibm.pc.hardware', 'talk.politics.misc', 'talk.politics.misc', 'soc.religion.christian', 'comp.windows.x', 'talk.politics.mideast', 'comp.windows.x', 'talk.politics.mideast', 'comp.windows.x', 'comp.os.ms-windows.misc', 'alt.atheism', 'sci.electronics', 'talk.politics.mideast', 'talk.politics.misc', 'talk.politics.mideast', 'rec.sport.baseball', 'talk.politics.mideast', 'comp.graphics', 'alt.atheism', 'alt.atheism', 'sci.space', 'soc.religion.christian', 'comp.os.ms-windows.misc', 'talk.politics.mideast', 'rec.sport.baseball', 'comp.sys.ibm.pc.hardware', 'talk.politics.misc', 'alt.atheism', 'talk.politics.mideast', 'alt.atheism', 'alt.atheism', 'comp.windows.x', 'sci.electronics', 'sci.crypt', 'comp.sys.mac.hardware', 'talk.politics.misc', 'misc.forsale', 'rec.sport.hockey', 'soc.religion.christian', 'rec.sport.baseball', 'comp.os.ms-windows.misc', 'comp.windows.x', 'rec.sport.baseball', 'rec.autos', 'misc.forsale', 'sci.crypt', 'rec.sport.baseball', 'sci.crypt', 'talk.politics.mideast', 'soc.religion.christian', 'rec.autos', 'rec.sport.baseball', 'talk.politics.mideast', 'comp.windows.x', 'sci.crypt', 'talk.politics.mideast', 'comp.sys.ibm.pc.hardware', 'talk.politics.mideast', 'sci.crypt', 'talk.religion.misc', 'comp.os.ms-windows.misc', 'comp.os.ms-windows.misc', 'talk.religion.misc', 'talk.politics.misc', 'talk.politics.mideast', 'misc.forsale', 'alt.atheism', 'talk.politics.misc', 'rec.sport.hockey', 'alt.atheism', 'sci.crypt', 'talk.politics.mideast', 'soc.religion.christian', 'rec.autos', 'sci.crypt', 'rec.autos', 'talk.politics.mideast', 'rec.sport.baseball', 'comp.windows.x', 'rec.sport.baseball', 'talk.politics.misc', 'sci.crypt', 'soc.religion.christian', 'rec.sport.baseball', 'sci.crypt', 'comp.sys.ibm.pc.hardware', 'sci.crypt', 'talk.politics.misc', 'talk.politics.mideast', 'talk.politics.misc', 'rec.sport.hockey', 'comp.os.ms-windows.misc', 'comp.sys.ibm.pc.hardware', 'talk.politics.mideast', 'talk.religion.misc', 'sci.crypt', 'sci.crypt', 'talk.politics.mideast', 'talk.religion.misc', 'sci.crypt', 'sci.crypt', 'talk.religion.misc', 'talk.religion.misc', 'talk.politics.mideast', 'talk.politics.mideast', 'rec.autos', 'talk.politics.mideast', 'sci.crypt', 'comp.windows.x', 'comp.graphics', 'talk.religion.misc', 'sci.crypt', 'rec.sport.baseball', 'talk.politics.mideast', 'rec.autos', 'misc.forsale', 'comp.windows.x', 'rec.sport.baseball', 'talk.politics.mideast', 'rec.sport.hockey', 'talk.politics.mideast', 'sci.crypt', 'talk.politics.mideast', 'talk.politics.misc', 'comp.windows.x', 'talk.religion.misc', 'talk.politics.guns', 'rec.sport.hockey', 'sci.space', 'rec.sport.hockey', 'talk.religion.misc', 'sci.space', 'talk.politics.misc', 'sci.electronics', 'comp.graphics', 'comp.windows.x', 'comp.sys.ibm.pc.hardware', 'comp.graphics', 'alt.atheism', 'talk.religion.misc', 'comp.os.ms-windows.misc', 'talk.politics.misc', 'sci.crypt', 'talk.politics.mideast', 'talk.politics.misc', 'sci.space', 'talk.politics.misc', 'sci.space', 'soc.religion.christian', 'comp.windows.x', 'comp.windows.x', 'alt.atheism', 'comp.os.ms-windows.misc', 'talk.politics.mideast', 'comp.windows.x', 'talk.politics.misc', 'sci.crypt', 'comp.windows.x', 'sci.electronics', 'talk.politics.mideast', 'sci.crypt', 'comp.windows.x', 'talk.politics.guns', 'talk.politics.mideast', 'comp.graphics', 'misc.forsale', 'talk.politics.misc', 'soc.religion.christian', 'sci.crypt', 'talk.politics.misc', 'talk.politics.mideast', 'sci.space', 'talk.politics.misc', 'sci.crypt', 'talk.politics.misc', 'talk.politics.misc', 'talk.politics.misc', 'sci.crypt', 'soc.religion.christian', 'sci.crypt', 'talk.politics.misc', 'alt.atheism', 'alt.atheism', 'talk.politics.mideast', 'comp.sys.mac.hardware', 'talk.politics.mideast', 'sci.crypt', 'sci.crypt', 'sci.crypt', 'comp.sys.mac.hardware', 'comp.windows.x', 'talk.politics.mideast', 'talk.politics.mideast', 'comp.graphics', 'sci.space', 'talk.religion.misc', 'rec.sport.baseball', 'comp.graphics', 'alt.atheism', 'comp.graphics', 'talk.politics.mideast', 'talk.politics.misc', 'rec.sport.baseball', 'talk.politics.misc', 'rec.sport.hockey', 'talk.religion.misc', 'talk.politics.misc', 'talk.politics.mideast', 'sci.crypt', 'misc.forsale', 'comp.os.ms-windows.misc', 'sci.crypt', 'sci.space', 'comp.graphics', 'comp.windows.x', 'rec.sport.hockey', 'sci.crypt', 'talk.politics.misc', 'talk.politics.mideast', 'talk.politics.misc', 'alt.atheism', 'talk.politics.mideast', 'comp.sys.ibm.pc.hardware', 'talk.religion.misc', 'sci.crypt', 'rec.autos', 'comp.windows.x', 'alt.atheism', 'talk.politics.misc', 'sci.crypt', 'misc.forsale', 'comp.graphics', 'talk.politics.mideast', 'talk.politics.misc', 'talk.religion.misc', 'rec.sport.hockey', 'comp.windows.x', 'comp.os.ms-windows.misc', 'sci.space', 'rec.autos', 'talk.politics.guns', 'talk.politics.misc', 'talk.politics.mideast', 'talk.politics.misc', 'rec.sport.baseball', 'rec.sport.baseball', 'comp.graphics', 'rec.autos', 'sci.electronics', 'sci.crypt', 'rec.autos', 'comp.windows.x', 'talk.religion.misc', 'sci.crypt', 'rec.sport.hockey', 'sci.crypt', 'rec.sport.hockey', 'sci.crypt', 'soc.religion.christian', 'talk.religion.misc', 'sci.crypt', 'sci.crypt', 'comp.graphics', 'alt.atheism', 'rec.sport.hockey', 'sci.electronics', 'talk.politics.misc', 'sci.crypt', 'alt.atheism', 'talk.politics.misc', 'comp.windows.x', 'talk.politics.misc', 'misc.forsale', 'comp.graphics', 'comp.graphics', 'sci.space', 'rec.sport.baseball', 'sci.crypt', 'comp.sys.mac.hardware', 'sci.crypt', 'comp.sys.ibm.pc.hardware', 'talk.politics.misc', 'rec.autos', 'rec.sport.baseball', 'talk.politics.misc', 'talk.politics.misc', 'comp.windows.x', 'talk.politics.mideast', 'talk.politics.misc', 'sci.space', 'talk.politics.misc', 'talk.politics.mideast', 'sci.crypt', 'rec.sport.baseball', 'alt.atheism', 'sci.crypt', 'alt.atheism', 'rec.sport.hockey', 'sci.space', 'sci.crypt', 'sci.crypt', 'talk.politics.misc', 'sci.space', 'sci.space', 'comp.graphics', 'comp.windows.x', 'talk.politics.misc', 'alt.atheism', 'rec.sport.baseball', 'comp.os.ms-windows.misc', 'talk.politics.mideast', 'talk.politics.mideast', 'talk.politics.misc', 'rec.sport.hockey', 'comp.graphics', 'rec.sport.hockey', 'talk.politics.guns', 'comp.os.ms-windows.misc', 'talk.politics.misc', 'talk.politics.mideast', 'talk.politics.misc', 'sci.crypt', 'comp.windows.x', 'rec.sport.baseball', 'rec.sport.hockey', 'comp.graphics', 'talk.politics.misc', 'comp.graphics', 'comp.windows.x', 'comp.graphics', 'talk.politics.misc', 'comp.windows.x', 'rec.sport.hockey', 'comp.graphics', 'talk.politics.misc', 'comp.windows.x', 'rec.sport.hockey', 'rec.sport.hockey', 'rec.autos', 'talk.politics.misc', 'comp.graphics', 'sci.crypt', 'talk.politics.mideast', 'comp.windows.x', 'talk.politics.mideast', 'comp.sys.ibm.pc.hardware', 'sci.crypt', 'sci.crypt', 'sci.space', 'talk.politics.misc', 'soc.religion.christian', 'talk.politics.misc', 'rec.sport.baseball', 'sci.electronics', 'talk.religion.misc', 'talk.politics.guns', 'sci.crypt', 'talk.politics.guns', 'talk.politics.misc', 'sci.crypt', 'talk.politics.mideast', 'comp.windows.x', 'talk.politics.misc', 'comp.sys.ibm.pc.hardware', 'rec.sport.hockey', 'sci.crypt', 'soc.religion.christian', 'talk.religion.misc', 'talk.politics.misc', 'comp.windows.x', 'sci.crypt', 'talk.politics.misc', 'comp.graphics', 'rec.sport.hockey', 'comp.sys.ibm.pc.hardware', 'sci.crypt', 'talk.politics.mideast', 'sci.crypt', 'misc.forsale', 'comp.windows.x', 'talk.politics.misc', 'talk.politics.guns', 'talk.politics.misc', 'talk.politics.mideast', 'talk.politics.misc', 'talk.politics.misc', 'rec.autos', 'comp.windows.x', 'comp.graphics', 'sci.space', 'sci.crypt', 'talk.politics.mideast', 'rec.sport.baseball', 'sci.crypt', 'comp.windows.x', 'comp.windows.x', 'sci.space', 'alt.atheism', 'sci.crypt', 'talk.politics.misc', 'soc.religion.christian', 'soc.religion.christian', 'talk.religion.misc', 'comp.windows.x', 'comp.sys.mac.hardware', 'talk.politics.misc', 'sci.space', 'comp.windows.x', 'sci.crypt', 'sci.crypt', 'comp.windows.x', 'comp.windows.x', 'comp.windows.x', 'talk.politics.guns', 'comp.windows.x', 'talk.politics.mideast', 'sci.crypt', 'sci.crypt', 'talk.politics.mideast', 'sci.crypt', 'talk.politics.misc', 'talk.politics.misc', 'soc.religion.christian', 'misc.forsale', 'comp.windows.x', 'talk.politics.mideast', 'comp.os.ms-windows.misc', 'talk.politics.misc', 'talk.politics.misc', 'comp.sys.ibm.pc.hardware', 'comp.os.ms-windows.misc', 'misc.forsale']\n"
     ]
    }
   ],
   "source": [
    "from sklearn.metrics import classification_report,confusion_matrix\n",
    "y_pred=predict_data(x_test)\n",
    "# print(y_pred)"
   ]
  },
  {
   "cell_type": "code",
   "execution_count": null,
   "metadata": {},
   "outputs": [
    {
     "data": {
      "text/plain": [
       "0.596"
      ]
     },
     "execution_count": 198,
     "metadata": {},
     "output_type": "execute_result"
    }
   ],
   "source": [
    "sum(y_pred==y_test)/len(y_test)"
   ]
  }
 ],
 "metadata": {
  "interpreter": {
   "hash": "74fc0cb1932bf4b202d61f4ecf9d651fa79ff967900f756d776817a87c2d0209"
  },
  "kernelspec": {
   "display_name": "Python 3.9.1 64-bit",
   "language": "python",
   "name": "python3"
  },
  "language_info": {
   "codemirror_mode": {
    "name": "ipython",
    "version": 3
   },
   "file_extension": ".py",
   "mimetype": "text/x-python",
   "name": "python",
   "nbconvert_exporter": "python",
   "pygments_lexer": "ipython3",
   "version": "3.9.1"
  },
  "orig_nbformat": 4
 },
 "nbformat": 4,
 "nbformat_minor": 2
}
