{
  "cells": [
    {
      "cell_type": "code",
      "execution_count": 29,
      "metadata": {
        "id": "De4wdtHoJSBA"
      },
      "outputs": [],
      "source": [
        "import numpy as np"
      ]
    },
    {
      "cell_type": "code",
      "execution_count": 54,
      "metadata": {
        "id": "XznbDrw9Hd7_"
      },
      "outputs": [],
      "source": [
        "## A function to generate sample\n",
        "def SampleGen(n, d, pa, pb):\n",
        "  x = np.zeros(n)   # contain n(H)\n",
        "  z = np.zeros(n)   # contain class A/B // from A or B coin!\n",
        "  # 0 denotes A, 1 denotes B\n",
        "  for i in range(n):\n",
        "    ## Assuming Probability of choosing coin A and B are equal 0.5\n",
        "    if np.random.uniform() < 0.5:\n",
        "      x[i] = np.random.binomial(d,pa)\n",
        "    else:\n",
        "      x[i] = np.random.binomial(d,pb)\n",
        "      z[i] = 1\n",
        "  \n",
        "  return x, z\n",
        "## creating data of 30 sample with 10 toss each!\n",
        "pa = 0.3 # probability of getting head from coin A // bias with coinA\n",
        "pb = 0.45 # probability of getting head from coin B // bias with coinB\n",
        "\n",
        "## number of sample, n=1000\n",
        "n = 1000\n",
        "d = 100 ## considering trail for each set 100 \n",
        "\n",
        "x, z = SampleGen(n,d,pa,pb)"
      ]
    },
    {
      "cell_type": "code",
      "execution_count": 55,
      "metadata": {
        "id": "RDpDv6h3UcIX"
      },
      "outputs": [],
      "source": [
        "# EMestimator to get thetaA, and thetaB\n",
        "def EMestimator(x, d, n, itr):\n",
        "  aEst = 0.51 # initialize value of bais of coinA && coinB   \n",
        "  bEst = 0.534\n",
        "  gammaiA = np.zeros(n)\n",
        "  gammaiB = np.zeros(n)\n",
        "  for i in range(itr):\n",
        "      ## EStep\n",
        "      for j in range(n):\n",
        "          ## choosing coinA and coinB probability are equal to 0.5\n",
        "          gammaiA[j] = 0.5* np.power(aEst,x[j]) *np.power(1-aEst,d-x[j]) \n",
        "          gammaiA[j] /= (0.5*np.power(aEst,x[j]) *np.power(1-aEst,d-x[j]) + 0.5* np.power(bEst,x[j]) *np.power(1-bEst,d-x[j]) )\n",
        "          gammaiB[j] = 1 - gammaiA[j]\n",
        "      \n",
        "      #MStep\n",
        "      numA = denA = numB = denB = 0 \n",
        "      for k in range(n):       \n",
        "          numA += gammaiA[k]*x[k]\n",
        "          numB += gammaiB[k]*x[k]\n",
        "          denA += gammaiA[k]*d\n",
        "          denB += gammaiB[k]*d\n",
        "      aEst = numA/denA\n",
        "      bEst = numB/denB\n",
        "      return aEst, bEst\n",
        "itr=1000 ## iteration 1000\n",
        "thetaA, thetaB = EMestimator(x, d, n, itr)"
      ]
    },
    {
      "cell_type": "code",
      "execution_count": 56,
      "metadata": {
        "id": "_zbNuV3GMd8p"
      },
      "outputs": [],
      "source": [
        "## it is similar to bayes classifier!\n",
        "def classFinder(x, thetaA, thetaB, n):\n",
        "  classPredict = np.zeros(n)\n",
        "  for i in range(n):\n",
        "    pA_D = np.power(thetaA, x[i])*np.power(1-thetaA,d-x[i])\n",
        "    pB_D = np.power(thetaB,x[i])*np.power(1-thetaB,d-x[i])\n",
        "    if pA_D < pB_D:\n",
        "      classPredict[i]=1\n",
        "  return classPredict\n",
        "\n",
        "classPredict = classFinder(x, thetaA, thetaB, n)"
      ]
    },
    {
      "cell_type": "code",
      "execution_count": 57,
      "metadata": {
        "colab": {
          "base_uri": "https://localhost:8080/"
        },
        "id": "20FUqD1mRsiy",
        "outputId": "f5b356b2-7435-48a8-c1f0-75a64ea347d2"
      },
      "outputs": [
        {
          "name": "stdout",
          "output_type": "stream",
          "text": [
            "accuracy is = 93.7\n",
            "error rate per n sample is 6.299999999999997\n"
          ]
        }
      ],
      "source": [
        "## accuracy or error rate per 30 sample\n",
        "def accuracy(org, predict, n):\n",
        "  err=0\n",
        "  for i in range(n):\n",
        "    if org[i]!=predict[i]:\n",
        "      err=err+1\n",
        "  return (1-err/n)*100\n",
        "\n",
        "acc = accuracy(z, classPredict, n)\n",
        "print('accuracy is =', acc)\n",
        "print('error rate per n sample is', 100-acc) "
      ]
    },
    {
      "cell_type": "code",
      "execution_count": null,
      "metadata": {},
      "outputs": [],
      "source": []
    },
    {
      "cell_type": "code",
      "execution_count": null,
      "metadata": {},
      "outputs": [],
      "source": []
    }
  ],
  "metadata": {
    "colab": {
      "name": "5Q.ipynb",
      "provenance": []
    },
    "kernelspec": {
      "display_name": "Python 3",
      "name": "python3"
    },
    "language_info": {
      "codemirror_mode": {
        "name": "ipython",
        "version": 3
      },
      "file_extension": ".py",
      "mimetype": "text/x-python",
      "name": "python",
      "nbconvert_exporter": "python",
      "pygments_lexer": "ipython3",
      "version": "3.10.0"
    }
  },
  "nbformat": 4,
  "nbformat_minor": 0
}
