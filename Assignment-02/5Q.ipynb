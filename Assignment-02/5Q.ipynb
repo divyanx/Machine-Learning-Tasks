{
  "cells": [
    {
      "cell_type": "code",
      "execution_count": 17,
      "metadata": {
        "id": "De4wdtHoJSBA"
      },
      "outputs": [],
      "source": [
        "import numpy as np"
      ]
    },
    {
      "cell_type": "markdown",
      "metadata": {},
      "source": [
        "# Generating Sample\n",
        "As discussed in the class, we are assuming same scenario here, there two classes, say coin A and coin B, both are iids. Probablity odf choosing both coin are equal to 1/2 .\n",
        "we are taking binomial distribution parameter as d=100 (size of trail for a set) with Probability of A getting head is 0.3 and B getting head is 0.45. Taking consideration 1000 trails."
      ]
    },
    {
      "cell_type": "code",
      "execution_count": 18,
      "metadata": {
        "id": "XznbDrw9Hd7_"
      },
      "outputs": [],
      "source": [
        "## A function to generate sample\n",
        "def SampleGen(n, d, pa, pb):\n",
        "  x = np.zeros(n)   # contain n(H)\n",
        "  z = np.zeros(n)   # contain class A/B // from A or B coin!\n",
        "  # 0 denotes A, 1 denotes B\n",
        "  np.random.seed(1)\n",
        "  for i in range(n):\n",
        "    ## Assuming Probability of choosing coin A and B are equal 0.5\n",
        "    if np.random.uniform() < 0.5:\n",
        "      x[i] = np.random.binomial(d,pa)\n",
        "    else:\n",
        "      x[i] = np.random.binomial(d,pb)\n",
        "      z[i] = 1   # belong to class B\n",
        "  \n",
        "  return x, z\n",
        "## creating data of 30 sample with 10 toss each!\n",
        "pa = 0.3 # probability of getting head from coin A // bias with coinA\n",
        "pb = 0.45 # probability of getting head from coin B // bias with coinB\n",
        "\n",
        "## number of sample, n=1000\n",
        "n = 1000\n",
        "d = 100 ## considering trail for each set 100 \n",
        "\n",
        "x, z = SampleGen(n,d,pa,pb)"
      ]
    },
    {
      "cell_type": "markdown",
      "metadata": {},
      "source": [
        "# EMestimator \n",
        "Now we have data set as generated in the above step, lets now thetaA and thetaB estimator. considering iteration as 1000"
      ]
    },
    {
      "cell_type": "code",
      "execution_count": 25,
      "metadata": {
        "id": "RDpDv6h3UcIX"
      },
      "outputs": [],
      "source": [
        "# EMestimator to get thetaA, and thetaB\n",
        "def EMestimator(x, d, n, itr):\n",
        "  thetaA = 0.51 # initialize value of bais of coinA && coinB   \n",
        "  thetaB = 0.534\n",
        "  gmmaiA = np.zeros(n)\n",
        "  gmmaiB = np.zeros(n)\n",
        "  for i in range(itr):\n",
        "      ## EStep\n",
        "      for j in range(n):\n",
        "          ## choosing coinA and coinB probability are equal to 0.5\n",
        "          gmmaiA[j] = 0.5* np.power(thetaA,x[j]) *np.power(1-thetaA,d-x[j]) \n",
        "          gmmaiA[j] /= (0.5*np.power(thetaA,x[j]) *np.power(1-thetaA,d-x[j]) + 0.5* np.power(thetaB,x[j]) *np.power(1-thetaB,d-x[j]) )\n",
        "          gmmaiB[j] = 1 - gmmaiA[j]\n",
        "      \n",
        "      #MStep\n",
        "      numoA = denoA = numoB = denoB = 0 \n",
        "      for k in range(n):       \n",
        "          numoA += gmmaiA[k]*x[k]\n",
        "          numoB += gmmaiB[k]*x[k]\n",
        "          denoA += gmmaiA[k]*d\n",
        "          denoB += gmmaiB[k]*d\n",
        "      thetaA = numoA/denoA\n",
        "      thetaB = numoB/denoB\n",
        "      return thetaA, thetaB\n",
        "itr=1000 ## iteration 1000\n",
        "thetaA, thetaB = EMestimator(x, d, n, itr)"
      ]
    },
    {
      "cell_type": "markdown",
      "metadata": {},
      "source": [
        "# Classifier \n",
        "Now lets apply a byes classifer as same we have done in the assignment 1. "
      ]
    },
    {
      "cell_type": "code",
      "execution_count": 26,
      "metadata": {
        "id": "_zbNuV3GMd8p"
      },
      "outputs": [],
      "source": [
        "## it is similar to bayes classifier! \n",
        "def classFinder(x, thetaA, thetaB, n):\n",
        "  classPredict = np.zeros(n)\n",
        "  for i in range(n):\n",
        "    pA_D = np.power(thetaA, x[i])*np.power(1-thetaA,d-x[i])   ## probability of getting xi given A\n",
        "    pB_D = np.power(thetaB,x[i])*np.power(1-thetaB,d-x[i])    ## probability of getting xi given B\n",
        "    if pA_D < pB_D:   \n",
        "      classPredict[i]=1\n",
        "  return classPredict\n",
        "\n",
        "classPredict = classFinder(x, thetaA, thetaB, n)"
      ]
    },
    {
      "cell_type": "markdown",
      "metadata": {},
      "source": [
        "# Accuracy\n",
        "lets check now accuracy, as the orginal data has true value of label(Z=0 belong to A and Z=1 belong to B). classPredict array has predicted value of the data set. Below comparing classpredict array with Z(real labels). "
      ]
    },
    {
      "cell_type": "code",
      "execution_count": 27,
      "metadata": {
        "colab": {
          "base_uri": "https://localhost:8080/"
        },
        "id": "20FUqD1mRsiy",
        "outputId": "f5b356b2-7435-48a8-c1f0-75a64ea347d2"
      },
      "outputs": [
        {
          "name": "stdout",
          "output_type": "stream",
          "text": [
            "accuracy is = 92.2\n",
            "error rate per n sample is 7.799999999999997\n"
          ]
        }
      ],
      "source": [
        "## accuracy or error rate per 30 sample\n",
        "def accuracy(org, predict, n):\n",
        "  err=0\n",
        "  for i in range(n):\n",
        "    if org[i]!=predict[i]:\n",
        "      err=err+1\n",
        "  return (1-err/n)*100\n",
        "\n",
        "acc = accuracy(z, classPredict, n)\n",
        "print('accuracy is =', acc)\n",
        "print('error rate per n sample is', 100-acc) "
      ]
    },
    {
      "cell_type": "code",
      "execution_count": null,
      "metadata": {},
      "outputs": [],
      "source": []
    }
  ],
  "metadata": {
    "colab": {
      "name": "5Q.ipynb",
      "provenance": []
    },
    "kernelspec": {
      "display_name": "Python 3",
      "name": "python3"
    },
    "language_info": {
      "codemirror_mode": {
        "name": "ipython",
        "version": 3
      },
      "file_extension": ".py",
      "mimetype": "text/x-python",
      "name": "python",
      "nbconvert_exporter": "python",
      "pygments_lexer": "ipython3",
      "version": "3.10.0"
    }
  },
  "nbformat": 4,
  "nbformat_minor": 0
}
