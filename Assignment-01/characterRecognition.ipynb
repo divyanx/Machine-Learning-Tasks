{
 "cells": [
  {
   "cell_type": "markdown",
   "metadata": {},
   "source": [
    "# Character Recognition using Baesian Classifier and Naive Bayes Classifier\n",
    "Here we are given hand written alphabets and we have to predict the alphabets. We are going to use the Baesian Classifier and Naive Bayes Classifier for the purpose. \n",
    "\n",
    "The need for Naive Bayes Classifier is that it is a probabilistic classifier. It is a classifier that can be used to estimate the probability of a sample belonging to a particular class. But as there are large number of features in the data, it is not possible to use the features to calculate the probability. So, comes the need for Naive Bayes Classifier. \n",
    "\n",
    "Naive Bayes classifier are surely an approximation of the true probaility, but how good it turns out we will know only after creating the model.\n",
    "\n",
    "Here we will implement everything first using the tools and libraries provided by the python. Later we will do everything from scratch."
   ]
  },
  {
   "cell_type": "code",
   "execution_count": 41,
   "metadata": {},
   "outputs": [],
   "source": [
    "import numpy as np\n",
    "import pandas as pd\n",
    "import matplotlib.pyplot as plt\n",
    "import seaborn as sns\n",
    "from sklearn.model_selection import train_test_split"
   ]
  },
  {
   "cell_type": "markdown",
   "metadata": {},
   "source": [
    "## Lets see how the data look like\n",
    "First we will import the dataset as a pandas dataframe. This helps us to understand the dataset better and manipulate it better. After that we will identify the features and labels and mark the columns based on the features and labels.\n",
    "We will also like to know the number of images in the dataset."
   ]
  },
  {
   "cell_type": "code",
   "execution_count": 42,
   "metadata": {},
   "outputs": [
    {
     "data": {
      "text/html": [
       "<div>\n",
       "<style scoped>\n",
       "    .dataframe tbody tr th:only-of-type {\n",
       "        vertical-align: middle;\n",
       "    }\n",
       "\n",
       "    .dataframe tbody tr th {\n",
       "        vertical-align: top;\n",
       "    }\n",
       "\n",
       "    .dataframe thead th {\n",
       "        text-align: right;\n",
       "    }\n",
       "</style>\n",
       "<table border=\"1\" class=\"dataframe\">\n",
       "  <thead>\n",
       "    <tr style=\"text-align: right;\">\n",
       "      <th></th>\n",
       "      <th>0</th>\n",
       "      <th>0.1</th>\n",
       "      <th>0.2</th>\n",
       "      <th>0.3</th>\n",
       "      <th>0.4</th>\n",
       "      <th>0.5</th>\n",
       "      <th>0.6</th>\n",
       "      <th>0.7</th>\n",
       "      <th>0.8</th>\n",
       "      <th>0.9</th>\n",
       "      <th>...</th>\n",
       "      <th>0.639</th>\n",
       "      <th>0.640</th>\n",
       "      <th>0.641</th>\n",
       "      <th>0.642</th>\n",
       "      <th>0.643</th>\n",
       "      <th>0.644</th>\n",
       "      <th>0.645</th>\n",
       "      <th>0.646</th>\n",
       "      <th>0.647</th>\n",
       "      <th>0.648</th>\n",
       "    </tr>\n",
       "  </thead>\n",
       "  <tbody>\n",
       "    <tr>\n",
       "      <th>0</th>\n",
       "      <td>0</td>\n",
       "      <td>0</td>\n",
       "      <td>0</td>\n",
       "      <td>0</td>\n",
       "      <td>0</td>\n",
       "      <td>0</td>\n",
       "      <td>0</td>\n",
       "      <td>0</td>\n",
       "      <td>0</td>\n",
       "      <td>0</td>\n",
       "      <td>...</td>\n",
       "      <td>0</td>\n",
       "      <td>0</td>\n",
       "      <td>0</td>\n",
       "      <td>0</td>\n",
       "      <td>0</td>\n",
       "      <td>0</td>\n",
       "      <td>0</td>\n",
       "      <td>0</td>\n",
       "      <td>0</td>\n",
       "      <td>0</td>\n",
       "    </tr>\n",
       "    <tr>\n",
       "      <th>1</th>\n",
       "      <td>0</td>\n",
       "      <td>0</td>\n",
       "      <td>0</td>\n",
       "      <td>0</td>\n",
       "      <td>0</td>\n",
       "      <td>0</td>\n",
       "      <td>0</td>\n",
       "      <td>0</td>\n",
       "      <td>0</td>\n",
       "      <td>0</td>\n",
       "      <td>...</td>\n",
       "      <td>0</td>\n",
       "      <td>0</td>\n",
       "      <td>0</td>\n",
       "      <td>0</td>\n",
       "      <td>0</td>\n",
       "      <td>0</td>\n",
       "      <td>0</td>\n",
       "      <td>0</td>\n",
       "      <td>0</td>\n",
       "      <td>0</td>\n",
       "    </tr>\n",
       "    <tr>\n",
       "      <th>2</th>\n",
       "      <td>0</td>\n",
       "      <td>0</td>\n",
       "      <td>0</td>\n",
       "      <td>0</td>\n",
       "      <td>0</td>\n",
       "      <td>0</td>\n",
       "      <td>0</td>\n",
       "      <td>0</td>\n",
       "      <td>0</td>\n",
       "      <td>0</td>\n",
       "      <td>...</td>\n",
       "      <td>0</td>\n",
       "      <td>0</td>\n",
       "      <td>0</td>\n",
       "      <td>0</td>\n",
       "      <td>0</td>\n",
       "      <td>0</td>\n",
       "      <td>0</td>\n",
       "      <td>0</td>\n",
       "      <td>0</td>\n",
       "      <td>0</td>\n",
       "    </tr>\n",
       "    <tr>\n",
       "      <th>3</th>\n",
       "      <td>0</td>\n",
       "      <td>0</td>\n",
       "      <td>0</td>\n",
       "      <td>0</td>\n",
       "      <td>0</td>\n",
       "      <td>0</td>\n",
       "      <td>0</td>\n",
       "      <td>0</td>\n",
       "      <td>0</td>\n",
       "      <td>0</td>\n",
       "      <td>...</td>\n",
       "      <td>0</td>\n",
       "      <td>0</td>\n",
       "      <td>0</td>\n",
       "      <td>0</td>\n",
       "      <td>0</td>\n",
       "      <td>0</td>\n",
       "      <td>0</td>\n",
       "      <td>0</td>\n",
       "      <td>0</td>\n",
       "      <td>0</td>\n",
       "    </tr>\n",
       "    <tr>\n",
       "      <th>4</th>\n",
       "      <td>0</td>\n",
       "      <td>0</td>\n",
       "      <td>0</td>\n",
       "      <td>0</td>\n",
       "      <td>0</td>\n",
       "      <td>0</td>\n",
       "      <td>0</td>\n",
       "      <td>0</td>\n",
       "      <td>0</td>\n",
       "      <td>0</td>\n",
       "      <td>...</td>\n",
       "      <td>0</td>\n",
       "      <td>0</td>\n",
       "      <td>0</td>\n",
       "      <td>0</td>\n",
       "      <td>0</td>\n",
       "      <td>0</td>\n",
       "      <td>0</td>\n",
       "      <td>0</td>\n",
       "      <td>0</td>\n",
       "      <td>0</td>\n",
       "    </tr>\n",
       "  </tbody>\n",
       "</table>\n",
       "<p>5 rows × 785 columns</p>\n",
       "</div>"
      ],
      "text/plain": [
       "   0  0.1  0.2  0.3  0.4  0.5  0.6  0.7  0.8  0.9  ...  0.639  0.640  0.641  \\\n",
       "0  0    0    0    0    0    0    0    0    0    0  ...      0      0      0   \n",
       "1  0    0    0    0    0    0    0    0    0    0  ...      0      0      0   \n",
       "2  0    0    0    0    0    0    0    0    0    0  ...      0      0      0   \n",
       "3  0    0    0    0    0    0    0    0    0    0  ...      0      0      0   \n",
       "4  0    0    0    0    0    0    0    0    0    0  ...      0      0      0   \n",
       "\n",
       "   0.642  0.643  0.644  0.645  0.646  0.647  0.648  \n",
       "0      0      0      0      0      0      0      0  \n",
       "1      0      0      0      0      0      0      0  \n",
       "2      0      0      0      0      0      0      0  \n",
       "3      0      0      0      0      0      0      0  \n",
       "4      0      0      0      0      0      0      0  \n",
       "\n",
       "[5 rows x 785 columns]"
      ]
     },
     "execution_count": 42,
     "metadata": {},
     "output_type": "execute_result"
    }
   ],
   "source": [
    "# import the images as panda dataframe\n",
    "df = pd.read_csv('A_Z Handwritten Data.csv')\n",
    "df.head()"
   ]
  },
  {
   "cell_type": "code",
   "execution_count": 43,
   "metadata": {},
   "outputs": [
    {
     "data": {
      "text/plain": [
       "784"
      ]
     },
     "execution_count": 43,
     "metadata": {},
     "output_type": "execute_result"
    }
   ],
   "source": [
    "# column 0 is the class label as they range from 0 to 25\n",
    "\n",
    "# lest find number of pixels in each image\n",
    "nFeatures = df.iloc[0, 1:].shape[0]\n",
    "nFeatures"
   ]
  },
  {
   "cell_type": "code",
   "execution_count": 44,
   "metadata": {},
   "outputs": [
    {
     "data": {
      "text/html": [
       "<div>\n",
       "<style scoped>\n",
       "    .dataframe tbody tr th:only-of-type {\n",
       "        vertical-align: middle;\n",
       "    }\n",
       "\n",
       "    .dataframe tbody tr th {\n",
       "        vertical-align: top;\n",
       "    }\n",
       "\n",
       "    .dataframe thead th {\n",
       "        text-align: right;\n",
       "    }\n",
       "</style>\n",
       "<table border=\"1\" class=\"dataframe\">\n",
       "  <thead>\n",
       "    <tr style=\"text-align: right;\">\n",
       "      <th></th>\n",
       "      <th>label</th>\n",
       "      <th>pixel0</th>\n",
       "      <th>pixel1</th>\n",
       "      <th>pixel2</th>\n",
       "      <th>pixel3</th>\n",
       "      <th>pixel4</th>\n",
       "      <th>pixel5</th>\n",
       "      <th>pixel6</th>\n",
       "      <th>pixel7</th>\n",
       "      <th>pixel8</th>\n",
       "      <th>...</th>\n",
       "      <th>pixel774</th>\n",
       "      <th>pixel775</th>\n",
       "      <th>pixel776</th>\n",
       "      <th>pixel777</th>\n",
       "      <th>pixel778</th>\n",
       "      <th>pixel779</th>\n",
       "      <th>pixel780</th>\n",
       "      <th>pixel781</th>\n",
       "      <th>pixel782</th>\n",
       "      <th>pixel783</th>\n",
       "    </tr>\n",
       "  </thead>\n",
       "  <tbody>\n",
       "    <tr>\n",
       "      <th>0</th>\n",
       "      <td>0</td>\n",
       "      <td>0</td>\n",
       "      <td>0</td>\n",
       "      <td>0</td>\n",
       "      <td>0</td>\n",
       "      <td>0</td>\n",
       "      <td>0</td>\n",
       "      <td>0</td>\n",
       "      <td>0</td>\n",
       "      <td>0</td>\n",
       "      <td>...</td>\n",
       "      <td>0</td>\n",
       "      <td>0</td>\n",
       "      <td>0</td>\n",
       "      <td>0</td>\n",
       "      <td>0</td>\n",
       "      <td>0</td>\n",
       "      <td>0</td>\n",
       "      <td>0</td>\n",
       "      <td>0</td>\n",
       "      <td>0</td>\n",
       "    </tr>\n",
       "    <tr>\n",
       "      <th>1</th>\n",
       "      <td>0</td>\n",
       "      <td>0</td>\n",
       "      <td>0</td>\n",
       "      <td>0</td>\n",
       "      <td>0</td>\n",
       "      <td>0</td>\n",
       "      <td>0</td>\n",
       "      <td>0</td>\n",
       "      <td>0</td>\n",
       "      <td>0</td>\n",
       "      <td>...</td>\n",
       "      <td>0</td>\n",
       "      <td>0</td>\n",
       "      <td>0</td>\n",
       "      <td>0</td>\n",
       "      <td>0</td>\n",
       "      <td>0</td>\n",
       "      <td>0</td>\n",
       "      <td>0</td>\n",
       "      <td>0</td>\n",
       "      <td>0</td>\n",
       "    </tr>\n",
       "    <tr>\n",
       "      <th>2</th>\n",
       "      <td>0</td>\n",
       "      <td>0</td>\n",
       "      <td>0</td>\n",
       "      <td>0</td>\n",
       "      <td>0</td>\n",
       "      <td>0</td>\n",
       "      <td>0</td>\n",
       "      <td>0</td>\n",
       "      <td>0</td>\n",
       "      <td>0</td>\n",
       "      <td>...</td>\n",
       "      <td>0</td>\n",
       "      <td>0</td>\n",
       "      <td>0</td>\n",
       "      <td>0</td>\n",
       "      <td>0</td>\n",
       "      <td>0</td>\n",
       "      <td>0</td>\n",
       "      <td>0</td>\n",
       "      <td>0</td>\n",
       "      <td>0</td>\n",
       "    </tr>\n",
       "    <tr>\n",
       "      <th>3</th>\n",
       "      <td>0</td>\n",
       "      <td>0</td>\n",
       "      <td>0</td>\n",
       "      <td>0</td>\n",
       "      <td>0</td>\n",
       "      <td>0</td>\n",
       "      <td>0</td>\n",
       "      <td>0</td>\n",
       "      <td>0</td>\n",
       "      <td>0</td>\n",
       "      <td>...</td>\n",
       "      <td>0</td>\n",
       "      <td>0</td>\n",
       "      <td>0</td>\n",
       "      <td>0</td>\n",
       "      <td>0</td>\n",
       "      <td>0</td>\n",
       "      <td>0</td>\n",
       "      <td>0</td>\n",
       "      <td>0</td>\n",
       "      <td>0</td>\n",
       "    </tr>\n",
       "    <tr>\n",
       "      <th>4</th>\n",
       "      <td>0</td>\n",
       "      <td>0</td>\n",
       "      <td>0</td>\n",
       "      <td>0</td>\n",
       "      <td>0</td>\n",
       "      <td>0</td>\n",
       "      <td>0</td>\n",
       "      <td>0</td>\n",
       "      <td>0</td>\n",
       "      <td>0</td>\n",
       "      <td>...</td>\n",
       "      <td>0</td>\n",
       "      <td>0</td>\n",
       "      <td>0</td>\n",
       "      <td>0</td>\n",
       "      <td>0</td>\n",
       "      <td>0</td>\n",
       "      <td>0</td>\n",
       "      <td>0</td>\n",
       "      <td>0</td>\n",
       "      <td>0</td>\n",
       "    </tr>\n",
       "  </tbody>\n",
       "</table>\n",
       "<p>5 rows × 785 columns</p>\n",
       "</div>"
      ],
      "text/plain": [
       "   label  pixel0  pixel1  pixel2  pixel3  pixel4  pixel5  pixel6  pixel7  \\\n",
       "0      0       0       0       0       0       0       0       0       0   \n",
       "1      0       0       0       0       0       0       0       0       0   \n",
       "2      0       0       0       0       0       0       0       0       0   \n",
       "3      0       0       0       0       0       0       0       0       0   \n",
       "4      0       0       0       0       0       0       0       0       0   \n",
       "\n",
       "   pixel8  ...  pixel774  pixel775  pixel776  pixel777  pixel778  pixel779  \\\n",
       "0       0  ...         0         0         0         0         0         0   \n",
       "1       0  ...         0         0         0         0         0         0   \n",
       "2       0  ...         0         0         0         0         0         0   \n",
       "3       0  ...         0         0         0         0         0         0   \n",
       "4       0  ...         0         0         0         0         0         0   \n",
       "\n",
       "   pixel780  pixel781  pixel782  pixel783  \n",
       "0         0         0         0         0  \n",
       "1         0         0         0         0  \n",
       "2         0         0         0         0  \n",
       "3         0         0         0         0  \n",
       "4         0         0         0         0  \n",
       "\n",
       "[5 rows x 785 columns]"
      ]
     },
     "execution_count": 44,
     "metadata": {},
     "output_type": "execute_result"
    }
   ],
   "source": [
    "# lets label the coluns properly in the dataframe\n",
    "pixelsNumbers = ['pixel' + str(i) for i in range(nFeatures)]\n",
    "columns = ['label'] + pixelsNumbers\n",
    "df.columns = columns\n",
    "df.head() "
   ]
  },
  {
   "cell_type": "code",
   "execution_count": 45,
   "metadata": {},
   "outputs": [
    {
     "data": {
      "text/plain": [
       "372450"
      ]
     },
     "execution_count": 45,
     "metadata": {},
     "output_type": "execute_result"
    }
   ],
   "source": [
    "# lets store the total number of samples\n",
    "nSamples = df.shape[0]\n",
    "nSamples"
   ]
  },
  {
   "cell_type": "markdown",
   "metadata": {},
   "source": [
    "## Visualising the dataset\n",
    "Before starting to work on any ML model we should have a clear idea of the dataset. We should visualise sample images of the dataset and also the distribution of the labels."
   ]
  },
  {
   "cell_type": "markdown",
   "metadata": {},
   "source": [
    "### How images look like\n",
    "We can create a color map of the images to see how hand writeen images really look like."
   ]
  },
  {
   "cell_type": "code",
   "execution_count": 46,
   "metadata": {},
   "outputs": [
    {
     "name": "stdout",
     "output_type": "stream",
     "text": [
      "28\n"
     ]
    },
    {
     "data": {
      "image/png": "[encoded data removed]",
      "text/plain": [
       "<Figure size 1440x1440 with 30 Axes>"
      ]
     },
     "metadata": {},
     "output_type": "display_data"
    }
   ],
   "source": [
    "# plotting few images\n",
    "# we know the fact images are square though this is only needed for the plotting as for the model\n",
    "# we will use only the features\n",
    "\n",
    "# we will plot some sample images in a grid\n",
    "dim = int(nFeatures ** 0.5)\n",
    "print(dim)\n",
    "\n",
    "figure = plt.figure(figsize=(20, 20))\n",
    "for i in range(30):\n",
    "    # select random image\n",
    "    index = np.random.randint(0, nSamples)\n",
    "    image = df.iloc[index, 1:].values.reshape(dim, dim)\n",
    "    # plot the image\n",
    "    plt.subplot(10, 10, i + 1)\n",
    "    plt.imshow(image, cmap='gray')\n",
    "    plt.axis('off')\n",
    "    # show the label under the image in  charaters A-Z\n",
    "    label = chr(df.iloc[index, 0] + 65)\n",
    "    plt.title(label)\n",
    "plt.tight_layout()\n",
    "plt.show()\n"
   ]
  },
  {
   "cell_type": "markdown",
   "metadata": {},
   "source": [
    "### Distribution of class labels\n",
    "We must also know the distribution of the labels. Thid will help us check if all labels are balanced or not. If labels are not balanced then we will have to be cautious about out error metrics."
   ]
  },
  {
   "cell_type": "code",
   "execution_count": 47,
   "metadata": {},
   "outputs": [
    {
     "data": {
      "image/png": "[encoded data removed]",
      "text/plain": [
       "<Figure size 720x360 with 1 Axes>"
      ]
     },
     "metadata": {},
     "output_type": "display_data"
    }
   ],
   "source": [
    "# lets check the distribution of the labels\n",
    "lCount = df['label'].value_counts()\n",
    "# lets plot the distribution\n",
    "plt.figure(figsize=(10, 5))\n",
    "# convert the index to charaters in the plot\n",
    "lCount.index = [chr(i + 65) for i in lCount.index]\n",
    "lCount = lCount.sort_index()\n",
    "sns.barplot(x=lCount.index, y=lCount.values)\n",
    "plt.show()"
   ]
  },
  {
   "cell_type": "markdown",
   "metadata": {},
   "source": [
    "So as we can see all labels are not balanced but the difference is not very large, except for F and I. We can think of reasons for this, as why the data collection is not balanced, or it might be the case that this nature is completly random or created intentioanlly. \n",
    "\n",
    "This distribution is surely not due to natural frequency of the labels in the english language as in that case letters like Z, X etc should be less frequent rather than F and I. \n",
    "\n",
    "For the time being this is not much a problem for us and we will not bother much, except we will later calculate the error for each class indiviaully as well to see if this has any significant impact on the accuracy."
   ]
  },
  {
   "cell_type": "markdown",
   "metadata": {},
   "source": [
    "## Data Preprocessing\n",
    "Now as we can see the features that are pixels have values ranging from 0 to 255. Now as we have to use Bayesian Classifier, we need to convert the values to range from 0 to 1.\n",
    "\n",
    "Also we need to create a probabilty distribution for each feature so if features have continuous values and we dont know the distribution so we cant create a effective probability distribution. \n",
    "\n",
    "So instead of generating a proability disiribution for each feature we can create a probablity mass function for each feature, but for that we will have to convert the features into descrete values.\n"
   ]
  },
  {
   "cell_type": "code",
   "execution_count": 48,
   "metadata": {},
   "outputs": [],
   "source": [
    "# normalising the data\n",
    "# we will normalise the data by dividing each pixel value by 255\n",
    "# this will make the data values between 0 and 1\n",
    "\n",
    "# we wont do that here because it will be computatuonal expensive\n",
    "# and we can move without doing it as well\n",
    "# df[pixelsNumbers] = df[pixelsNumbers] / 255"
   ]
  },
  {
   "cell_type": "markdown",
   "metadata": {},
   "source": [
    "\n",
    "### Discretizing the features\n",
    "Here the images are basically drawn as white pixels on black background, we can ignore the white intensity and convert the whole image into only two shades complete white or complete black. \n",
    "\n",
    "We can chnage every pixel with value more than the half of max value to max and every pixel with value less than the half of max value to 0.\n",
    "\n",
    "We will also verify if the images remain recognisale to humans or not after this transformation."
   ]
  },
  {
   "cell_type": "code",
   "execution_count": 49,
   "metadata": {},
   "outputs": [
    {
     "data": {
      "text/html": [
       "<div>\n",
       "<style scoped>\n",
       "    .dataframe tbody tr th:only-of-type {\n",
       "        vertical-align: middle;\n",
       "    }\n",
       "\n",
       "    .dataframe tbody tr th {\n",
       "        vertical-align: top;\n",
       "    }\n",
       "\n",
       "    .dataframe thead th {\n",
       "        text-align: right;\n",
       "    }\n",
       "</style>\n",
       "<table border=\"1\" class=\"dataframe\">\n",
       "  <thead>\n",
       "    <tr style=\"text-align: right;\">\n",
       "      <th></th>\n",
       "      <th>label</th>\n",
       "      <th>pixel0</th>\n",
       "      <th>pixel1</th>\n",
       "      <th>pixel2</th>\n",
       "      <th>pixel3</th>\n",
       "      <th>pixel4</th>\n",
       "      <th>pixel5</th>\n",
       "      <th>pixel6</th>\n",
       "      <th>pixel7</th>\n",
       "      <th>pixel8</th>\n",
       "      <th>...</th>\n",
       "      <th>pixel774</th>\n",
       "      <th>pixel775</th>\n",
       "      <th>pixel776</th>\n",
       "      <th>pixel777</th>\n",
       "      <th>pixel778</th>\n",
       "      <th>pixel779</th>\n",
       "      <th>pixel780</th>\n",
       "      <th>pixel781</th>\n",
       "      <th>pixel782</th>\n",
       "      <th>pixel783</th>\n",
       "    </tr>\n",
       "  </thead>\n",
       "  <tbody>\n",
       "    <tr>\n",
       "      <th>0</th>\n",
       "      <td>0</td>\n",
       "      <td>0</td>\n",
       "      <td>0</td>\n",
       "      <td>0</td>\n",
       "      <td>0</td>\n",
       "      <td>0</td>\n",
       "      <td>0</td>\n",
       "      <td>0</td>\n",
       "      <td>0</td>\n",
       "      <td>0</td>\n",
       "      <td>...</td>\n",
       "      <td>0</td>\n",
       "      <td>0</td>\n",
       "      <td>0</td>\n",
       "      <td>0</td>\n",
       "      <td>0</td>\n",
       "      <td>0</td>\n",
       "      <td>0</td>\n",
       "      <td>0</td>\n",
       "      <td>0</td>\n",
       "      <td>0</td>\n",
       "    </tr>\n",
       "    <tr>\n",
       "      <th>1</th>\n",
       "      <td>0</td>\n",
       "      <td>0</td>\n",
       "      <td>0</td>\n",
       "      <td>0</td>\n",
       "      <td>0</td>\n",
       "      <td>0</td>\n",
       "      <td>0</td>\n",
       "      <td>0</td>\n",
       "      <td>0</td>\n",
       "      <td>0</td>\n",
       "      <td>...</td>\n",
       "      <td>0</td>\n",
       "      <td>0</td>\n",
       "      <td>0</td>\n",
       "      <td>0</td>\n",
       "      <td>0</td>\n",
       "      <td>0</td>\n",
       "      <td>0</td>\n",
       "      <td>0</td>\n",
       "      <td>0</td>\n",
       "      <td>0</td>\n",
       "    </tr>\n",
       "    <tr>\n",
       "      <th>2</th>\n",
       "      <td>0</td>\n",
       "      <td>0</td>\n",
       "      <td>0</td>\n",
       "      <td>0</td>\n",
       "      <td>0</td>\n",
       "      <td>0</td>\n",
       "      <td>0</td>\n",
       "      <td>0</td>\n",
       "      <td>0</td>\n",
       "      <td>0</td>\n",
       "      <td>...</td>\n",
       "      <td>0</td>\n",
       "      <td>0</td>\n",
       "      <td>0</td>\n",
       "      <td>0</td>\n",
       "      <td>0</td>\n",
       "      <td>0</td>\n",
       "      <td>0</td>\n",
       "      <td>0</td>\n",
       "      <td>0</td>\n",
       "      <td>0</td>\n",
       "    </tr>\n",
       "    <tr>\n",
       "      <th>3</th>\n",
       "      <td>0</td>\n",
       "      <td>0</td>\n",
       "      <td>0</td>\n",
       "      <td>0</td>\n",
       "      <td>0</td>\n",
       "      <td>0</td>\n",
       "      <td>0</td>\n",
       "      <td>0</td>\n",
       "      <td>0</td>\n",
       "      <td>0</td>\n",
       "      <td>...</td>\n",
       "      <td>0</td>\n",
       "      <td>0</td>\n",
       "      <td>0</td>\n",
       "      <td>0</td>\n",
       "      <td>0</td>\n",
       "      <td>0</td>\n",
       "      <td>0</td>\n",
       "      <td>0</td>\n",
       "      <td>0</td>\n",
       "      <td>0</td>\n",
       "    </tr>\n",
       "    <tr>\n",
       "      <th>4</th>\n",
       "      <td>0</td>\n",
       "      <td>0</td>\n",
       "      <td>0</td>\n",
       "      <td>0</td>\n",
       "      <td>0</td>\n",
       "      <td>0</td>\n",
       "      <td>0</td>\n",
       "      <td>0</td>\n",
       "      <td>0</td>\n",
       "      <td>0</td>\n",
       "      <td>...</td>\n",
       "      <td>0</td>\n",
       "      <td>0</td>\n",
       "      <td>0</td>\n",
       "      <td>0</td>\n",
       "      <td>0</td>\n",
       "      <td>0</td>\n",
       "      <td>0</td>\n",
       "      <td>0</td>\n",
       "      <td>0</td>\n",
       "      <td>0</td>\n",
       "    </tr>\n",
       "  </tbody>\n",
       "</table>\n",
       "<p>5 rows × 785 columns</p>\n",
       "</div>"
      ],
      "text/plain": [
       "   label  pixel0  pixel1  pixel2  pixel3  pixel4  pixel5  pixel6  pixel7  \\\n",
       "0      0       0       0       0       0       0       0       0       0   \n",
       "1      0       0       0       0       0       0       0       0       0   \n",
       "2      0       0       0       0       0       0       0       0       0   \n",
       "3      0       0       0       0       0       0       0       0       0   \n",
       "4      0       0       0       0       0       0       0       0       0   \n",
       "\n",
       "   pixel8  ...  pixel774  pixel775  pixel776  pixel777  pixel778  pixel779  \\\n",
       "0       0  ...         0         0         0         0         0         0   \n",
       "1       0  ...         0         0         0         0         0         0   \n",
       "2       0  ...         0         0         0         0         0         0   \n",
       "3       0  ...         0         0         0         0         0         0   \n",
       "4       0  ...         0         0         0         0         0         0   \n",
       "\n",
       "   pixel780  pixel781  pixel782  pixel783  \n",
       "0         0         0         0         0  \n",
       "1         0         0         0         0  \n",
       "2         0         0         0         0  \n",
       "3         0         0         0         0  \n",
       "4         0         0         0         0  \n",
       "\n",
       "[5 rows x 785 columns]"
      ]
     },
     "execution_count": 49,
     "metadata": {},
     "output_type": "execute_result"
    }
   ],
   "source": [
    "# making data descrete\n",
    "# we will convert every feature to either 0 or 1 as mentioned by the above strategy\n",
    "# we will use the threshold of 0.5\n",
    "threshold = 255 / 2  # make it 0.5 if data is normalised\n",
    "df[pixelsNumbers] = df[pixelsNumbers].apply(lambda x: (x > threshold).astype(int))\n",
    "df.head()"
   ]
  },
  {
   "cell_type": "code",
   "execution_count": 50,
   "metadata": {},
   "outputs": [
    {
     "data": {
      "image/png": "[encoded data removed]",
      "text/plain": [
       "<Figure size 1440x1440 with 30 Axes>"
      ]
     },
     "metadata": {},
     "output_type": "display_data"
    }
   ],
   "source": [
    "# now lets see how images looks like to humans\n",
    "# lets plot the images as we did before\n",
    "figure = plt.figure(figsize=(20, 20))\n",
    "for i in range(30):\n",
    "    # select random image\n",
    "    index = np.random.randint(0, nSamples)\n",
    "    image = df.iloc[index, 1:].values.reshape(dim, dim)\n",
    "    # plot the image\n",
    "    plt.subplot(10, 10, i + 1)\n",
    "    plt.imshow(image, cmap='gray')\n",
    "    plt.axis('off')\n",
    "    # show the label under the image in  charaters A-Z\n",
    "    label = chr(df.iloc[index, 0] + 65)\n",
    "    plt.title(label)\n",
    "plt.tight_layout()\n",
    "plt.show()\n",
    "\n"
   ]
  },
  {
   "cell_type": "markdown",
   "metadata": {},
   "source": [
    "So we can see that images are still recognisable to humans after this transformation, so the amount of information lost for humans are very less. "
   ]
  },
  {
   "cell_type": "markdown",
   "metadata": {},
   "source": [
    "### Dividing the data into training and test set\n",
    "Like any learning model we need to divide the data into training and test set. We will use 80% of the data for training and 20% for testing. We can use other values as well depending on preferences and size of data set available. The split should be random, so we should shuffle the data or atleast the index of the data before splitting. "
   ]
  },
  {
   "cell_type": "code",
   "execution_count": 51,
   "metadata": {},
   "outputs": [
    {
     "data": {
      "text/plain": [
       "((297960, 785), (74490, 785))"
      ]
     },
     "execution_count": 51,
     "metadata": {},
     "output_type": "execute_result"
    }
   ],
   "source": [
    "# divide the data into train and test\n",
    "# we will use the inbuilt library function for this\n",
    "# later we will do everything from scratch as stated earlier\n",
    "train, test = train_test_split(df, test_size=0.2)\n",
    "train.shape, test.shape"
   ]
  },
  {
   "cell_type": "code",
   "execution_count": 52,
   "metadata": {},
   "outputs": [
    {
     "data": {
      "image/png": "[encoded data removed]",
      "text/plain": [
       "<Figure size 720x360 with 2 Axes>"
      ]
     },
     "metadata": {},
     "output_type": "display_data"
    }
   ],
   "source": [
    "\n",
    "# lets see and plot label distribution in train and test\n",
    "trainLabels = train['label'].value_counts()\n",
    "testLabels = test['label'].value_counts()\n",
    "\n",
    "# plot both the distributions in subplots\n",
    "figure = plt.figure(figsize=(10, 5))\n",
    "plt.subplot(121)\n",
    "plt.title('Train')\n",
    "# convert the index to charaters in the plot\n",
    "trainLabels.index = [chr(i + 65) for i in trainLabels.index]\n",
    "trainLabels = trainLabels.sort_index()\n",
    "testLabels.index = [chr(i + 65) for i in testLabels.index]\n",
    "testLabels = testLabels.sort_index()\n",
    "sns.barplot(x=trainLabels.index, y=trainLabels.values)\n",
    "plt.subplot(122)\n",
    "plt.title('Test')\n",
    "sns.barplot(x=testLabels.index, y=testLabels.values)\n",
    "\n",
    "\n",
    "plt.show()"
   ]
  },
  {
   "cell_type": "markdown",
   "metadata": {},
   "source": [
    "We can see that the distribution partision was random as done by the library, so we do not need to shuffle it."
   ]
  },
  {
   "cell_type": "markdown",
   "metadata": {},
   "source": [
    "## Training the model\n",
    "Now we have divided the data into training and test set, we can train the model. But first we need to understand what is the model and what training the model means.\n",
    "\n",
    "### Bayesian Classifier\n",
    "The Bayesian Classifier is a probabilistic classifier. It is a classifier that can be used to estimate the probability of a sample belonging to a particular class. \n",
    "\n",
    "### Training a Bayesian Classifier\n",
    "Training a Bayesian Classifier basically means to know the distribution of the features given a class or a label.\n",
    "\n",
    "In our case we have features which is the pixel values of the images and labels which is the class of the image. let say them **X**. We also have a label for each image lets call it Y. Each X is of size 784 and each of those 784 values in X can now be 0 or 1.\n",
    "\n",
    "So here learning the model means learning the probability of each possible or atleast each required value of **X**, given a class or label. i.e.\n",
    "We need to learn \n",
    "\\begin{equation}\n",
    "P(X = [0* 1*]|Y)\n",
    "\\end{equation}\n",
    "Where [0\\* 1\\*] means an array of length same as the number of features and each values can be either zero or one .\n",
    "\n",
    "### Need of Naive Bayes Classifier\n",
    "So we saw what training a bayes classifier means and how we can train it, so why comes the need of training a naive bayes classifier?\n",
    "\n",
    "If we stick to the fact that we need the learn probability of each possible value of **X**, given a class or label, then how many probabilities do we need to learn? This will depend on number of possibe values of **X** and number of classes or labels.\n",
    "\n",
    "Lets see how many possible values of **X** we have to learn for any particular label as here label are only 26 so that will not matter much. So as **X** is of length 784, there are total $2^{784}$ possible values of **X**, this is simply too large and no amount of data we can generate so that we can have enough sample to estimate these probabilities, even the required ones.\n",
    "\n",
    "Naive Bayes Classifier is an aproximation of calculating that probability. As per Naive Bayes approximation:\n",
    "\\begin{equation}\n",
    "P(X = someX|Y) = \\prod_{i=1}^{784}P(X_i = someX_i|Y)\n",
    "\\end{equation}\n",
    "\n",
    "So here we assume that all the features are independednt of each other and we can calculate the probability of each feature given a class or label and use it to estimate the probabilty of the whole feature vector.\n",
    "\n",
    "We used the sikitlearn library to train the model : https://scikit-learn.org/stable/modules/generated/sklearn.naive_bayes.CategoricalNB.html#sklearn.naive_bayes.CategoricalNB"
   ]
  },
  {
   "cell_type": "code",
   "execution_count": 53,
   "metadata": {},
   "outputs": [],
   "source": [
    "# lets define the model\n",
    "# we will use the sklearn library functions for this\n",
    "import sklearn.naive_bayes as nb\n",
    "\n",
    "# create and tune the model\n",
    "model = nb.CategoricalNB(fit_prior=True, min_categories=2)\n",
    "model.fit(train[pixelsNumbers].values, train['label'].values)\n"
   ]
  },
  {
   "cell_type": "code",
   "execution_count": null,
   "metadata": {},
   "outputs": [
    {
     "data": {
      "image/png": "[encoded data removed]",
      "text/plain": [
       "<Figure size 1440x1440 with 10 Axes>"
      ]
     },
     "metadata": {
      "needs_background": "light"
     },
     "output_type": "display_data"
    }
   ],
   "source": [
    "# now the model is trained, lets see how it predicts some of the random images\n",
    "\n",
    "# we will predict some unseem images from the test data and see the results\n",
    "# we will also plot the image and the predicted label and actual label\n",
    "n = 10\n",
    "figure = plt.figure(figsize=(20, 20))\n",
    "for i in range(n):\n",
    "    index = np.random.randint(0, test.shape[0])\n",
    "    features = test.iloc[index, 1:].values\n",
    "    label = test.iloc[index, 0]\n",
    "    image = features.reshape(dim, dim)\n",
    "\n",
    "    # get the prediction from the model\n",
    "    prediction = model.predict(features.reshape(1, -1))\n",
    "    # plot the image as a subplot\n",
    "\n",
    "    plt.subplot(n, 5, i + 1)\n",
    "    plt.imshow(image, cmap='gray')\n",
    "    plt.axis('off')\n",
    "    # plot the predicted label and actual label\n",
    "    plt.title('Predicted: ' + chr(prediction[0] + 65) + '\\nActual: ' + chr(label + 65))\n",
    "plt.tight_layout()\n",
    "plt.show()\n",
    "\n"
   ]
  },
  {
   "cell_type": "markdown",
   "metadata": {},
   "source": [
    "## Measuring the performance of the model\n",
    "Now we have trained the model, we can measure the performance of the model. We will use the accuracy of the model to measure the performance of the model. We have saved our test set for this purpose only.\n",
    "\n",
    "We will also use the confusion matrix to measure the performance of the model. This is a table that shows the number of correct and incorrect predictions made by the model. \n",
    "\n",
    "We will also use the classification report to measure the performance of the model. This is a table that shows the precision, recall, f1-score and support for each class. This is more useful when we have more than two classes and the distribution of the classes is not balanced.\n",
    "\n"
   ]
  },
  {
   "cell_type": "markdown",
   "metadata": {},
   "source": [
    "### Error rate of the model on whole test set\n",
    "Error is simiply the fraction of wrong predictions made by the model. This is just the opposite of accuracies.\n",
    "\\begin{equation}\n",
    "Error = n_{wrong}/n_{total}\n",
    "\\end{equation}\n",
    "\\begin{equation}\n",
    "Accuracy = 1 - Error = 1 - (n_{wrong}/n_{total}) = n_{correct}/n_{total}\n",
    "\\end{equation}"
   ]
  },
  {
   "cell_type": "code",
   "execution_count": null,
   "metadata": {},
   "outputs": [],
   "source": [
    "# calculating the error using the test data and inbuilt function provided on the model class\n",
    "score = model.score(test[pixelsNumbers], test['label'])"
   ]
  },
  {
   "cell_type": "markdown",
   "metadata": {},
   "source": [
    "## Creating a Naive Bayes Classifier from scratch\n",
    "Now as we have exploited the tools and libraries provided by the python, we can create a Naive Bayes Classifier from scratch. This will give us the better uderstanding of the model and how to train it."
   ]
  },
  {
   "cell_type": "markdown",
   "metadata": {},
   "source": [
    "### Partisioning the data into test and train\n",
    "Previously we used inbuilt functions to split the data into test and train set. But now we will do it from scratch."
   ]
  },
  {
   "cell_type": "code",
   "execution_count": null,
   "metadata": {},
   "outputs": [],
   "source": [
    "# partisioning the data into 80:20 \n",
    "# this time we will do this ourselves\n",
    "\n",
    "# we will itrate the dataframe row wise and divide it into train and test based on the size\n",
    "# the distribution will be probabilistic\n",
    "\n",
    "# first as the data is not suffeled either we can suffle it inplace \n",
    "# or we can suffle the index and use them to pick the rows\n",
    "indexes = np.random.permutation(range(0, nSamples))\n",
    "trainIndexes = indexes[:int(nSamples * 0.8)]\n",
    "testIndexes = indexes[int(nSamples * 0.8):]\n",
    "\n",
    "test = df.iloc[testIndexes, :]\n",
    "train = df.iloc[trainIndexes, :]\n"
   ]
  },
  {
   "cell_type": "markdown",
   "metadata": {},
   "source": [
    "## Creating a Model from scratch\n",
    "First we will learn the probability distribution for each pixel feature for all the labels. We will store it as a dictionary indexed by label and an array of probabilities for each pixel feature."
   ]
  },
  {
   "cell_type": "code",
   "execution_count": null,
   "metadata": {},
   "outputs": [],
   "source": [
    "# creating and training the model\n",
    "# we will use the inbuilt library function for this\n",
    "\n",
    "# lets create a function to create the model\n",
    "def createModel(train):\n",
    "    # lets create a dictionary to store the model\n",
    "    model = {'prior' : [], 'conditional' : {}}\n",
    "    \n",
    "    \n",
    "    # we will group the data by label\n",
    "    # and then calculate the probabilities for each pixel\n",
    "\n",
    "    for label in train['label'].unique():\n",
    "        # get the data for the label\n",
    "        data = train[train['label'] == label]\n",
    "        # calculate the probabilities for each pixel\n",
    "        countPixels = data[pixelsNumbers].sum()\n",
    "        probPixels = (countPixels + 1) / (data.shape[0] + 2)\n",
    "        # convert the probabilities to basic numpy array\n",
    "        probPixels = probPixels.values\n",
    "        model['conditional'] = {**model['conditional'], **{label: probPixels}}\n",
    "\n",
    "    # sort the model by the label\n",
    "    model['conditional'] = {k: v for k, v in sorted(model['conditional'].items(), key=lambda item: item[0])}\n",
    "    \n",
    "    # lets calculate the prior probabilities\n",
    "\n",
    "    # get the total number of labels\n",
    "    nLabels = train['label'].unique().shape[0]\n",
    "    # calculate the prior probabilities\n",
    "    prior = train['label'].value_counts() / nSamples\n",
    "    # convert the probabilities to basic numpy array\n",
    "    prior = prior.values\n",
    "    model['prior'] = prior\n",
    "    return model\n",
    "       "
   ]
  },
  {
   "cell_type": "code",
   "execution_count": null,
   "metadata": {},
   "outputs": [
    {
     "name": "stdout",
     "output_type": "stream",
     "text": [
      "dict_keys(['prior', 'conditional'])\n"
     ]
    }
   ],
   "source": [
    "ourModel = createModel(train)\n",
    "print(ourModel.keys())"
   ]
  },
  {
   "cell_type": "markdown",
   "metadata": {},
   "source": [
    "### Visualising the trained model\n",
    "Now we have learned the probability distribution for each pixel feature for all the labels. We can see the distribution of the features for each label. We can better visualise it by creating a heat map for each label. We will create gray scale map to see if letters are still visible.\n",
    "\n",
    "**As the values are binary we are basically storing the probability a pixel is white or 1**, the prbability a pixel is black or 0 will be 1 - probability of pixel being white."
   ]
  },
  {
   "cell_type": "code",
   "execution_count": null,
   "metadata": {},
   "outputs": [
    {
     "data": {
      "image/png": "[encoded data removed]",
      "text/plain": [
       "<Figure size 720x720 with 26 Axes>"
      ]
     },
     "metadata": {
      "needs_background": "light"
     },
     "output_type": "display_data"
    }
   ],
   "source": [
    "# lets crate heat map of the model for each label\n",
    "\n",
    "# create figure to plot 26 subplots for A to Z\n",
    "figure = plt.figure(figsize=(10, 10))\n",
    "for label in ourModel['conditional'].keys():\n",
    "    # get the probabilities for the label\n",
    "    probPixels = ourModel['conditional'][label]\n",
    "    # plot the heat map\n",
    "    plt.subplot(4, 7, label + 1)\n",
    "    plt.title(chr(label + 65))\n",
    "    plt.imshow(probPixels.reshape(dim, dim), cmap='gray')\n",
    "    plt.axis('off')\n",
    "\n",
    "\n",
    "\n",
    "plt.show()\n"
   ]
  },
  {
   "cell_type": "markdown",
   "metadata": {},
   "source": [
    "Note that the above plot is not plot of the pixel values but the probabilities learned by the model for each pixel.    \n",
    "\n",
    "As the values are binary we are basically storing the probability a pixel is white or 1 as stated above."
   ]
  },
  {
   "cell_type": "code",
   "execution_count": null,
   "metadata": {},
   "outputs": [
    {
     "data": {
      "image/png": "[encoded data removed]",
      "text/plain": [
       "<Figure size 432x288 with 2 Axes>"
      ]
     },
     "metadata": {
      "needs_background": "light"
     },
     "output_type": "display_data"
    }
   ],
   "source": [
    "# lest see probabilities for any letter say A\n",
    "letter =  0 # A\n",
    "\n",
    "# we will plot the probabilities in a 2d grid as done above\n",
    "# we will use a color map as well as show the numbers\n",
    "\n",
    "probData = np.array(ourModel['conditional'][letter]).reshape(dim, dim)\n",
    "\n",
    "# plot the heat map\n",
    "sns.heatmap(probData, cmap='magma', annot=True, fmt='.2f')\n",
    "sns.set(rc = {'figure.figsize':(50,50)} , font_scale = 1.4)"
   ]
  },
  {
   "cell_type": "code",
   "execution_count": null,
   "metadata": {},
   "outputs": [
    {
     "name": "stdout",
     "output_type": "stream",
     "text": [
      "Collecting package metadata (current_repodata.json): done\n",
      "Solving environment: done\n",
      "\n",
      "# All requested packages already installed.\n",
      "\n",
      "\n",
      "Note: you may need to restart the kernel to use updated packages.\n"
     ]
    }
   ],
   "source": [
    "# for fun lets also plot a 3d plot of the probabilities\n",
    "%conda install -c plotly plotly\n",
    "\n"
   ]
  },
  {
   "cell_type": "code",
   "execution_count": null,
   "metadata": {},
   "outputs": [],
   "source": [
    "sns.set(rc = {'figure.figsize':(20,20)} , font_scale = 1.4)"
   ]
  },
  {
   "cell_type": "code",
   "execution_count": null,
   "metadata": {},
   "outputs": [
    {
     "data": {
      "application/vnd.plotly.v1+json": {
       "config": {
        "plotlyServerURL": "https://plot.ly"
       },
       "data": [
        {
         "type": "surface",
         "z": [
          [
           0.00008950147677436678,
           0.00008950147677436678,
           0.00008950147677436678,
           0.00008950147677436678,
           0.00008950147677436678,
           0.00008950147677436678,
           0.00008950147677436678,
           0.00008950147677436678,
           0.00008950147677436678,
           0.00008950147677436678,
           0.00008950147677436678,
           0.00008950147677436678,
           0.00008950147677436678,
           0.00008950147677436678,
           0.00008950147677436678,
           0.00008950147677436678,
           0.00008950147677436678,
           0.00008950147677436678,
           0.00008950147677436678,
           0.00008950147677436678,
           0.00008950147677436678,
           0.00008950147677436678,
           0.00008950147677436678,
           0.00008950147677436678,
           0.00008950147677436678,
           0.00008950147677436678,
           0.00008950147677436678,
           0.00008950147677436678
          ],
          [
           0.00008950147677436678,
           0.00008950147677436678,
           0.00008950147677436678,
           0.00008950147677436678,
           0.00008950147677436678,
           0.00008950147677436678,
           0.00008950147677436678,
           0.00008950147677436678,
           0.00008950147677436678,
           0.00008950147677436678,
           0.00008950147677436678,
           0.00008950147677436678,
           0.00008950147677436678,
           0.00008950147677436678,
           0.00008950147677436678,
           0.00008950147677436678,
           0.00008950147677436678,
           0.00008950147677436678,
           0.00008950147677436678,
           0.00008950147677436678,
           0.00008950147677436678,
           0.00008950147677436678,
           0.00008950147677436678,
           0.00008950147677436678,
           0.00008950147677436678,
           0.00008950147677436678,
           0.00008950147677436678,
           0.00008950147677436678
          ],
          [
           0.00008950147677436678,
           0.00008950147677436678,
           0.00008950147677436678,
           0.00008950147677436678,
           0.00008950147677436678,
           0.00008950147677436678,
           0.00008950147677436678,
           0.00008950147677436678,
           0.00008950147677436678,
           0.00008950147677436678,
           0.00008950147677436678,
           0.00008950147677436678,
           0.00008950147677436678,
           0.00008950147677436678,
           0.00008950147677436678,
           0.00017900295354873356,
           0.00017900295354873356,
           0.00008950147677436678,
           0.00008950147677436678,
           0.00008950147677436678,
           0.00008950147677436678,
           0.0002685044303231003,
           0.0002685044303231003,
           0.00008950147677436678,
           0.00008950147677436678,
           0.00008950147677436678,
           0.00008950147677436678,
           0.00008950147677436678
          ],
          [
           0.00008950147677436678,
           0.00008950147677436678,
           0.00008950147677436678,
           0.00008950147677436678,
           0.00008950147677436678,
           0.00008950147677436678,
           0.00008950147677436678,
           0.00008950147677436678,
           0.00008950147677436678,
           0.00008950147677436678,
           0.00017900295354873356,
           0.00017900295354873356,
           0.00008950147677436678,
           0.00008950147677436678,
           0.00017900295354873356,
           0.0002685044303231003,
           0.0002685044303231003,
           0.00017900295354873356,
           0.00017900295354873356,
           0.0002685044303231003,
           0.0002685044303231003,
           0.0002685044303231003,
           0.0002685044303231003,
           0.00017900295354873356,
           0.00017900295354873356,
           0.00017900295354873356,
           0.00008950147677436678,
           0.00008950147677436678
          ],
          [
           0.00008950147677436678,
           0.00008950147677436678,
           0.00008950147677436678,
           0.00008950147677436678,
           0.0004475073838718339,
           0.0014320236283898685,
           0.002416539872907903,
           0.004654076792267072,
           0.011008681643247113,
           0.022375369193591694,
           0.042602702944598586,
           0.06721560905754945,
           0.09496106685760315,
           0.12628658372863152,
           0.16235567886870134,
           0.18392553477132373,
           0.2006623109281303,
           0.2063904054416898,
           0.20298934932426385,
           0.18616307169068289,
           0.16074465228676274,
           0.11841045377248724,
           0.059339479101405176,
           0.016020764342611654,
           0.00017900295354873356,
           0.00017900295354873356,
           0.00017900295354873356,
           0.00008950147677436678
          ],
          [
           0.00008950147677436678,
           0.00008950147677436678,
           0.00008950147677436678,
           0.00008950147677436678,
           0.0008950147677436678,
           0.0029535487335541036,
           0.005907097467108207,
           0.015483755481965452,
           0.029803991765864138,
           0.0560279244607536,
           0.08762194576210508,
           0.13264118857961157,
           0.1858945672603598,
           0.24979862167725767,
           0.3069005638593037,
           0.36310749127360603,
           0.39640204063367046,
           0.41197529759241025,
           0.3955965273427012,
           0.3553208627942361,
           0.2931173364360512,
           0.21883111071332678,
           0.13756376980220172,
           0.05217936095945583,
           0.0002685044303231003,
           0.00017900295354873356,
           0.00017900295354873356,
           0.00008950147677436678
          ],
          [
           0.00008950147677436678,
           0.00008950147677436678,
           0.00008950147677436678,
           0.00008950147677436678,
           0.0015215251051642353,
           0.005907097467108207,
           0.011545690503893315,
           0.027297950416181868,
           0.048151794504609324,
           0.0818938512485456,
           0.12691309406605208,
           0.1893851248545601,
           0.25812225901727376,
           0.3455652018258301,
           0.4237894925266267,
           0.4972702049583818,
           0.5396939049494317,
           0.540767922670724,
           0.5097109102300188,
           0.44876040454667504,
           0.3707151167994272,
           0.28998478474894834,
           0.1899221337152063,
           0.08439989259822787,
           0.00017900295354873356,
           0.00017900295354873356,
           0.00017900295354873356,
           0.00008950147677436678
          ],
          [
           0.00008950147677436678,
           0.00008950147677436678,
           0.00008950147677436678,
           0.00008950147677436678,
           0.0025060413496822698,
           0.009755660968405978,
           0.017989796831647722,
           0.03866463796652645,
           0.06972165040723172,
           0.11330886959634834,
           0.168620782242907,
           0.23673140606820012,
           0.3284704197619261,
           0.4254005191085653,
           0.505862346728721,
           0.5710194218204601,
           0.5942898057817954,
           0.5819386019869328,
           0.5373668665532981,
           0.4652286762731585,
           0.389957934305916,
           0.32238431934126915,
           0.22375369193591693,
           0.1128613622124765,
           0.00017900295354873356,
           0.00017900295354873356,
           0.00008950147677436678,
           0.00008950147677436678
          ],
          [
           0.00008950147677436678,
           0.00008950147677436678,
           0.00008950147677436678,
           0.00008950147677436678,
           0.004117067931620872,
           0.01163519198066768,
           0.027655956323279333,
           0.05191085652913273,
           0.09451355947373132,
           0.14561890271189476,
           0.21730958560816255,
           0.3017094782063904,
           0.4013246218562606,
           0.4902890897699812,
           0.554909156001074,
           0.584444643336615,
           0.5842656403830663,
           0.5537456368030073,
           0.503893314239685,
           0.44222679674214627,
           0.38584086637429515,
           0.3326769891703213,
           0.23279334109012798,
           0.11849995524926162,
           0.00017900295354873356,
           0.00017900295354873356,
           0.00008950147677436678,
           0.00008950147677436678
          ],
          [
           0.00008950147677436678,
           0.00008950147677436678,
           0.00008950147677436678,
           0.00008950147677436678,
           0.006891613711626242,
           0.01825830126197082,
           0.03848563501297771,
           0.0735702139085295,
           0.12968763984605747,
           0.18687908350487784,
           0.2780810883379576,
           0.37894925266266893,
           0.4744473283809183,
           0.533428801575226,
           0.5617112682359259,
           0.5477490378591247,
           0.5149019958829321,
           0.47945941108028284,
           0.44222679674214627,
           0.4058891971717533,
           0.3822608073033205,
           0.34144813389420925,
           0.22822876577463527,
           0.10382171305826546,
           0.0003580059070974671,
           0.00017900295354873356,
           0.00008950147677436678,
           0.00008950147677436678
          ],
          [
           0.00008950147677436678,
           0.00008950147677436678,
           0.00008950147677436678,
           0.00008950147677436678,
           0.008771144723887944,
           0.023807392821981563,
           0.05191085652913273,
           0.09567707867179809,
           0.1616396670545064,
           0.24630806408305736,
           0.3588114203884364,
           0.4640651570750917,
           0.5345028192965184,
           0.547838539335899,
           0.5135594737313166,
           0.4676452161460664,
           0.4197619260717802,
           0.4054416897878815,
           0.4065157075091739,
           0.40767922670724066,
           0.4026671440078761,
           0.3547838539335899,
           0.2246487067036606,
           0.08878546496017184,
           0.0003580059070974671,
           0.00008950147677436678,
           0.00008950147677436678,
           0.00008950147677436678
          ],
          [
           0.00008950147677436678,
           0.00008950147677436678,
           0.00008950147677436678,
           0.00008950147677436678,
           0.011903696410990781,
           0.029535487335541035,
           0.06462006623109282,
           0.12574957486798533,
           0.212297502908798,
           0.32891792714579793,
           0.459500581759599,
           0.5524926161281661,
           0.5788060502998299,
           0.5449744920791193,
           0.4653181777499329,
           0.39425400519108567,
           0.37116262418329904,
           0.3849458516065515,
           0.43712521256600734,
           0.4644231629821892,
           0.4603955965273427,
           0.37563769802201735,
           0.2279602613443122,
           0.0821623556788687,
           0.0002685044303231003,
           0.00008950147677436678,
           0.00008950147677436678,
           0.00008950147677436678
          ],
          [
           0.00008950147677436678,
           0.00008950147677436678,
           0.00008950147677436678,
           0.00008950147677436678,
           0.013783227423252484,
           0.03857513648975208,
           0.09039649154211045,
           0.1743488767564665,
           0.2922223216683075,
           0.4448223395686029,
           0.5778215340553119,
           0.6411885796115636,
           0.6284793699096035,
           0.5542826456636535,
           0.45887407142217845,
           0.4059786986485277,
           0.41367582565112326,
           0.47149377964736416,
           0.5328022912378054,
           0.5731674572630449,
           0.5362033473552313,
           0.40535218831110714,
           0.23932694889465675,
           0.08860646200662312,
           0.0002685044303231003,
           0.00008950147677436678,
           0.00008950147677436678,
           0.00008950147677436678
          ],
          [
           0.00008950147677436678,
           0.00008950147677436678,
           0.00008950147677436678,
           0.00008950147677436678,
           0.017363286494227154,
           0.05056833437751723,
           0.12225901727378502,
           0.24335451534950325,
           0.39693904949431663,
           0.5740624720307885,
           0.6918464154658552,
           0.7331065962588382,
           0.6944419582923118,
           0.6125481070437663,
           0.5472120289984784,
           0.5239416450371431,
           0.5551776604313972,
           0.6220352635818491,
           0.6805692293922849,
           0.684954801754229,
           0.5977803633759957,
           0.44222679674214627,
           0.26519287568244876,
           0.10704376622214266,
           0.00008950147677436678,
           0.00008950147677436678,
           0.00008950147677436678,
           0.00008950147677436678
          ],
          [
           0.00008950147677436678,
           0.00008950147677436678,
           0.00008950147677436678,
           0.00008950147677436678,
           0.02076434261165309,
           0.06793162087174438,
           0.17649691219905128,
           0.33222948178644945,
           0.5181240490468093,
           0.6908618992213371,
           0.7781258390763448,
           0.7853754586950684,
           0.7351651302246487,
           0.6738566186342074,
           0.6320594289805782,
           0.6351024791909067,
           0.6813747426832543,
           0.7375816700975566,
           0.7705182135505236,
           0.7404457173543364,
           0.6293743846773472,
           0.4501029266982905,
           0.266714400787613,
           0.10033115546406515,
           0.00008950147677436678,
           0.00008950147677436678,
           0.00008950147677436678,
           0.00008950147677436678
          ],
          [
           0.00008950147677436678,
           0.00008950147677436678,
           0.00008950147677436678,
           0.00008950147677436678,
           0.024970912020048332,
           0.09675109639309049,
           0.2486351024791909,
           0.44195829231182315,
           0.6291953817237984,
           0.757182493511143,
           0.789403025149915,
           0.7391926966794952,
           0.6712610758077509,
           0.6219457621050747,
           0.6051194844714938,
           0.617112682359259,
           0.6566723350935291,
           0.7285420209433455,
           0.7677436677705182,
           0.7234404367672067,
           0.5864136758256511,
           0.3930904859930189,
           0.21113398371073122,
           0.07697127002595543,
           0.00008950147677436678,
           0.00008950147677436678,
           0.00008950147677436678,
           0.00008950147677436678
          ],
          [
           0.00008950147677436678,
           0.00008950147677436678,
           0.00008950147677436678,
           0.0002685044303231003,
           0.035174080372326146,
           0.1489304573525463,
           0.33697306005549094,
           0.5429159581133088,
           0.7021390852949073,
           0.7465318177749933,
           0.6847757988006802,
           0.5625167815268952,
           0.47364181508994896,
           0.4358721918911662,
           0.43605119484471494,
           0.46675020137832274,
           0.5434529669739551,
           0.6472746800322206,
           0.7001700528058713,
           0.6421730958560816,
           0.4911841045377249,
           0.30430502103284707,
           0.14955696768996687,
           0.04976282108654793,
           0.00017900295354873356,
           0.00008950147677436678,
           0.00008950147677436678,
           0.00008950147677436678
          ],
          [
           0.00008950147677436678,
           0.00008950147677436678,
           0.00017900295354873356,
           0.0003580059070974671,
           0.06363554998657478,
           0.2360153942540052,
           0.4534144813389421,
           0.6307169068289626,
           0.7143112861362213,
           0.6603418956412781,
           0.4997762463080641,
           0.3375995703929115,
           0.2438020227333751,
           0.22133715206300905,
           0.2475610847578985,
           0.3046630269399445,
           0.4132283182672514,
           0.5447954891255705,
           0.610310570124407,
           0.5594737313165667,
           0.4072317193233688,
           0.2376264208359438,
           0.10462722634923476,
           0.03168352277812584,
           0.0002685044303231003,
           0.00008950147677436678,
           0.00008950147677436678,
           0.00008950147677436678
          ],
          [
           0.00008950147677436678,
           0.00017900295354873356,
           0.0003580059070974671,
           0.0008950147677436678,
           0.12592857782153405,
           0.3459232077329276,
           0.5455115009397655,
           0.6709925713774277,
           0.666427996061935,
           0.5264476863868254,
           0.32444285330707956,
           0.15609057549449565,
           0.09782511411438288,
           0.10623825293117337,
           0.1503624809809362,
           0.23118231450818938,
           0.355052358363913,
           0.48071243175512396,
           0.541483934484919,
           0.4901995882932068,
           0.34735523136131746,
           0.20093081535845342,
           0.08654792804081267,
           0.024344401682627765,
           0.0002685044303231003,
           0.00008950147677436678,
           0.00008950147677436678,
           0.00008950147677436678
          ],
          [
           0.00008950147677436678,
           0.0002685044303231003,
           0.0006265103374205674,
           0.0013425221516155017,
           0.20612190101136668,
           0.43363465497180703,
           0.5974223574688983,
           0.6541662937438468,
           0.5718249351114293,
           0.3978340642620603,
           0.19117515439004742,
           0.07034816074465229,
           0.044840239863957757,
           0.07312270652465766,
           0.13353620334735522,
           0.21892061219010114,
           0.3410901279871118,
           0.43309764611116086,
           0.4825024612906113,
           0.4274590530743757,
           0.3055580417076882,
           0.18786359974939587,
           0.08618992213371521,
           0.023180882484560995,
           0.0003580059070974671,
           0.00017900295354873356,
           0.00008950147677436678,
           0.00008950147677436678
          ],
          [
           0.00008950147677436678,
           0.0003580059070974671,
           0.000805513290969301,
           0.0022375369193591696,
           0.2678779199856798,
           0.47480533428801575,
           0.588561711268236,
           0.5841761389062919,
           0.46370715116799427,
           0.27441152779020855,
           0.10471672782600913,
           0.03508457889555178,
           0.03633759957039291,
           0.07186968584981653,
           0.13881679047704287,
           0.21614606641009576,
           0.30645305647543186,
           0.38252931173364363,
           0.4215519556072675,
           0.3764432113129867,
           0.27083146871923386,
           0.17918195650228227,
           0.09084399892598227,
           0.029624988812315404,
           0.0004475073838718339,
           0.0003580059070974671,
           0.00008950147677436678,
           0.00008950147677436678
          ],
          [
           0.00017900295354873356,
           0.0006265103374205674,
           0.0013425221516155017,
           0.002416539872907903,
           0.25848026492437126,
           0.4444643336615054,
           0.5160655150809988,
           0.4728363017989797,
           0.3442226796742146,
           0.17900295354873355,
           0.06676810167367761,
           0.026492437125212567,
           0.03660610400071601,
           0.06855813120916496,
           0.12673409111250336,
           0.19189116620424237,
           0.2675199140785823,
           0.3299919448670903,
           0.34932426385035353,
           0.30752707419672426,
           0.24031146513917478,
           0.16387720397386557,
           0.09084399892598227,
           0.03893314239684955,
           0.0004475073838718339,
           0.0003580059070974671,
           0.00017900295354873356,
           0.00008950147677436678
          ],
          [
           0.00008950147677436678,
           0.0007160118141949343,
           0.0012530206748411349,
           0.002327038396133536,
           0.1877740982726215,
           0.34171663832453236,
           0.39067394612011097,
           0.33768907186968583,
           0.22858677168173275,
           0.10892329723440437,
           0.03830663205942898,
           0.021838360332945495,
           0.028461469614248634,
           0.05298487425042513,
           0.09433455652018258,
           0.1494674662131925,
           0.20164682717264834,
           0.24084847399982098,
           0.25149914973597065,
           0.22205316387720397,
           0.18285151705003133,
           0.12691309406605208,
           0.07616575673498613,
           0.037859124675557146,
           0.0006265103374205674,
           0.0003580059070974671,
           0.00017900295354873356,
           0.00008950147677436678
          ],
          [
           0.00017900295354873356,
           0.0006265103374205674,
           0.0010740177212924013,
           0.0015215251051642353,
           0.08645842656403831,
           0.18607357021390852,
           0.20263134341716638,
           0.1726483486977535,
           0.10516423520988097,
           0.0530743757271995,
           0.01691577911035532,
           0.011814194934216414,
           0.014320236283898684,
           0.026760941555535666,
           0.045914257585250154,
           0.07679226707240669,
           0.10391121453503983,
           0.13273069005638594,
           0.13085115904412423,
           0.12288552761120558,
           0.10006265103374205,
           0.07258569766401146,
           0.045198245771055225,
           0.021032847041976194,
           0.0006265103374205674,
           0.0003580059070974671,
           0.0002685044303231003,
           0.00008950147677436678
          ],
          [
           0.00008950147677436678,
           0.0002685044303231003,
           0.0005370088606462006,
           0.0009845162445180345,
           0.0012530206748411349,
           0.0008950147677436678,
           0.0006265103374205674,
           0.0002685044303231003,
           0.00008950147677436678,
           0.00017900295354873356,
           0.00017900295354873356,
           0.00008950147677436678,
           0.0003580059070974671,
           0.0004475073838718339,
           0.0007160118141949343,
           0.000805513290969301,
           0.0010740177212924013,
           0.0014320236283898685,
           0.0012530206748411349,
           0.001163519198066768,
           0.0014320236283898685,
           0.0007160118141949343,
           0.0007160118141949343,
           0.0005370088606462006,
           0.0005370088606462006,
           0.0003580059070974671,
           0.0002685044303231003,
           0.00008950147677436678
          ],
          [
           0.00008950147677436678,
           0.00017900295354873356,
           0.0002685044303231003,
           0.0004475073838718339,
           0.0005370088606462006,
           0.0006265103374205674,
           0.0003580059070974671,
           0.0002685044303231003,
           0.00008950147677436678,
           0.00008950147677436678,
           0.00008950147677436678,
           0.00008950147677436678,
           0.00017900295354873356,
           0.0002685044303231003,
           0.0004475073838718339,
           0.0004475073838718339,
           0.0004475073838718339,
           0.0004475073838718339,
           0.0007160118141949343,
           0.0006265103374205674,
           0.0006265103374205674,
           0.0004475073838718339,
           0.0002685044303231003,
           0.0003580059070974671,
           0.0004475073838718339,
           0.0003580059070974671,
           0.0002685044303231003,
           0.00008950147677436678
          ],
          [
           0.00008950147677436678,
           0.00008950147677436678,
           0.00008950147677436678,
           0.00017900295354873356,
           0.0002685044303231003,
           0.00017900295354873356,
           0.00017900295354873356,
           0.00008950147677436678,
           0.00008950147677436678,
           0.00008950147677436678,
           0.00008950147677436678,
           0.00008950147677436678,
           0.00008950147677436678,
           0.00008950147677436678,
           0.0002685044303231003,
           0.0002685044303231003,
           0.0002685044303231003,
           0.00017900295354873356,
           0.0002685044303231003,
           0.0002685044303231003,
           0.0002685044303231003,
           0.00017900295354873356,
           0.0002685044303231003,
           0.0002685044303231003,
           0.00017900295354873356,
           0.00017900295354873356,
           0.00017900295354873356,
           0.00008950147677436678
          ],
          [
           0.00008950147677436678,
           0.00008950147677436678,
           0.00008950147677436678,
           0.00008950147677436678,
           0.00008950147677436678,
           0.00008950147677436678,
           0.00008950147677436678,
           0.00008950147677436678,
           0.00008950147677436678,
           0.00008950147677436678,
           0.00008950147677436678,
           0.00008950147677436678,
           0.00008950147677436678,
           0.00008950147677436678,
           0.00008950147677436678,
           0.00017900295354873356,
           0.00017900295354873356,
           0.00017900295354873356,
           0.00008950147677436678,
           0.00008950147677436678,
           0.00008950147677436678,
           0.00017900295354873356,
           0.00017900295354873356,
           0.00017900295354873356,
           0.00008950147677436678,
           0.00017900295354873356,
           0.00008950147677436678,
           0.00008950147677436678
          ]
         ]
        }
       ],
       "layout": {
        "autosize": false,
        "height": 800,
        "template": {
         "data": {
          "bar": [
           {
            "error_x": {
             "color": "#2a3f5f"
            },
            "error_y": {
             "color": "#2a3f5f"
            },
            "marker": {
             "line": {
              "color": "#E5ECF6",
              "width": 0.5
             },
             "pattern": {
              "fillmode": "overlay",
              "size": 10,
              "solidity": 0.2
             }
            },
            "type": "bar"
           }
          ],
          "barpolar": [
           {
            "marker": {
             "line": {
              "color": "#E5ECF6",
              "width": 0.5
             },
             "pattern": {
              "fillmode": "overlay",
              "size": 10,
              "solidity": 0.2
             }
            },
            "type": "barpolar"
           }
          ],
          "carpet": [
           {
            "aaxis": {
             "endlinecolor": "#2a3f5f",
             "gridcolor": "white",
             "linecolor": "white",
             "minorgridcolor": "white",
             "startlinecolor": "#2a3f5f"
            },
            "baxis": {
             "endlinecolor": "#2a3f5f",
             "gridcolor": "white",
             "linecolor": "white",
             "minorgridcolor": "white",
             "startlinecolor": "#2a3f5f"
            },
            "type": "carpet"
           }
          ],
          "choropleth": [
           {
            "colorbar": {
             "outlinewidth": 0,
             "ticks": ""
            },
            "type": "choropleth"
           }
          ],
          "contour": [
           {
            "colorbar": {
             "outlinewidth": 0,
             "ticks": ""
            },
            "colorscale": [
             [
              0,
              "#0d0887"
             ],
             [
              0.1111111111111111,
              "#46039f"
             ],
             [
              0.2222222222222222,
              "#7201a8"
             ],
             [
              0.3333333333333333,
              "#9c179e"
             ],
             [
              0.4444444444444444,
              "#bd3786"
             ],
             [
              0.5555555555555556,
              "#d8576b"
             ],
             [
              0.6666666666666666,
              "#ed7953"
             ],
             [
              0.7777777777777778,
              "#fb9f3a"
             ],
             [
              0.8888888888888888,
              "#fdca26"
             ],
             [
              1,
              "#f0f921"
             ]
            ],
            "type": "contour"
           }
          ],
          "contourcarpet": [
           {
            "colorbar": {
             "outlinewidth": 0,
             "ticks": ""
            },
            "type": "contourcarpet"
           }
          ],
          "heatmap": [
           {
            "colorbar": {
             "outlinewidth": 0,
             "ticks": ""
            },
            "colorscale": [
             [
              0,
              "#0d0887"
             ],
             [
              0.1111111111111111,
              "#46039f"
             ],
             [
              0.2222222222222222,
              "#7201a8"
             ],
             [
              0.3333333333333333,
              "#9c179e"
             ],
             [
              0.4444444444444444,
              "#bd3786"
             ],
             [
              0.5555555555555556,
              "#d8576b"
             ],
             [
              0.6666666666666666,
              "#ed7953"
             ],
             [
              0.7777777777777778,
              "#fb9f3a"
             ],
             [
              0.8888888888888888,
              "#fdca26"
             ],
             [
              1,
              "#f0f921"
             ]
            ],
            "type": "heatmap"
           }
          ],
          "heatmapgl": [
           {
            "colorbar": {
             "outlinewidth": 0,
             "ticks": ""
            },
            "colorscale": [
             [
              0,
              "#0d0887"
             ],
             [
              0.1111111111111111,
              "#46039f"
             ],
             [
              0.2222222222222222,
              "#7201a8"
             ],
             [
              0.3333333333333333,
              "#9c179e"
             ],
             [
              0.4444444444444444,
              "#bd3786"
             ],
             [
              0.5555555555555556,
              "#d8576b"
             ],
             [
              0.6666666666666666,
              "#ed7953"
             ],
             [
              0.7777777777777778,
              "#fb9f3a"
             ],
             [
              0.8888888888888888,
              "#fdca26"
             ],
             [
              1,
              "#f0f921"
             ]
            ],
            "type": "heatmapgl"
           }
          ],
          "histogram": [
           {
            "marker": {
             "pattern": {
              "fillmode": "overlay",
              "size": 10,
              "solidity": 0.2
             }
            },
            "type": "histogram"
           }
          ],
          "histogram2d": [
           {
            "colorbar": {
             "outlinewidth": 0,
             "ticks": ""
            },
            "colorscale": [
             [
              0,
              "#0d0887"
             ],
             [
              0.1111111111111111,
              "#46039f"
             ],
             [
              0.2222222222222222,
              "#7201a8"
             ],
             [
              0.3333333333333333,
              "#9c179e"
             ],
             [
              0.4444444444444444,
              "#bd3786"
             ],
             [
              0.5555555555555556,
              "#d8576b"
             ],
             [
              0.6666666666666666,
              "#ed7953"
             ],
             [
              0.7777777777777778,
              "#fb9f3a"
             ],
             [
              0.8888888888888888,
              "#fdca26"
             ],
             [
              1,
              "#f0f921"
             ]
            ],
            "type": "histogram2d"
           }
          ],
          "histogram2dcontour": [
           {
            "colorbar": {
             "outlinewidth": 0,
             "ticks": ""
            },
            "colorscale": [
             [
              0,
              "#0d0887"
             ],
             [
              0.1111111111111111,
              "#46039f"
             ],
             [
              0.2222222222222222,
              "#7201a8"
             ],
             [
              0.3333333333333333,
              "#9c179e"
             ],
             [
              0.4444444444444444,
              "#bd3786"
             ],
             [
              0.5555555555555556,
              "#d8576b"
             ],
             [
              0.6666666666666666,
              "#ed7953"
             ],
             [
              0.7777777777777778,
              "#fb9f3a"
             ],
             [
              0.8888888888888888,
              "#fdca26"
             ],
             [
              1,
              "#f0f921"
             ]
            ],
            "type": "histogram2dcontour"
           }
          ],
          "mesh3d": [
           {
            "colorbar": {
             "outlinewidth": 0,
             "ticks": ""
            },
            "type": "mesh3d"
           }
          ],
          "parcoords": [
           {
            "line": {
             "colorbar": {
              "outlinewidth": 0,
              "ticks": ""
             }
            },
            "type": "parcoords"
           }
          ],
          "pie": [
           {
            "automargin": true,
            "type": "pie"
           }
          ],
          "scatter": [
           {
            "marker": {
             "colorbar": {
              "outlinewidth": 0,
              "ticks": ""
             }
            },
            "type": "scatter"
           }
          ],
          "scatter3d": [
           {
            "line": {
             "colorbar": {
              "outlinewidth": 0,
              "ticks": ""
             }
            },
            "marker": {
             "colorbar": {
              "outlinewidth": 0,
              "ticks": ""
             }
            },
            "type": "scatter3d"
           }
          ],
          "scattercarpet": [
           {
            "marker": {
             "colorbar": {
              "outlinewidth": 0,
              "ticks": ""
             }
            },
            "type": "scattercarpet"
           }
          ],
          "scattergeo": [
           {
            "marker": {
             "colorbar": {
              "outlinewidth": 0,
              "ticks": ""
             }
            },
            "type": "scattergeo"
           }
          ],
          "scattergl": [
           {
            "marker": {
             "colorbar": {
              "outlinewidth": 0,
              "ticks": ""
             }
            },
            "type": "scattergl"
           }
          ],
          "scattermapbox": [
           {
            "marker": {
             "colorbar": {
              "outlinewidth": 0,
              "ticks": ""
             }
            },
            "type": "scattermapbox"
           }
          ],
          "scatterpolar": [
           {
            "marker": {
             "colorbar": {
              "outlinewidth": 0,
              "ticks": ""
             }
            },
            "type": "scatterpolar"
           }
          ],
          "scatterpolargl": [
           {
            "marker": {
             "colorbar": {
              "outlinewidth": 0,
              "ticks": ""
             }
            },
            "type": "scatterpolargl"
           }
          ],
          "scatterternary": [
           {
            "marker": {
             "colorbar": {
              "outlinewidth": 0,
              "ticks": ""
             }
            },
            "type": "scatterternary"
           }
          ],
          "surface": [
           {
            "colorbar": {
             "outlinewidth": 0,
             "ticks": ""
            },
            "colorscale": [
             [
              0,
              "#0d0887"
             ],
             [
              0.1111111111111111,
              "#46039f"
             ],
             [
              0.2222222222222222,
              "#7201a8"
             ],
             [
              0.3333333333333333,
              "#9c179e"
             ],
             [
              0.4444444444444444,
              "#bd3786"
             ],
             [
              0.5555555555555556,
              "#d8576b"
             ],
             [
              0.6666666666666666,
              "#ed7953"
             ],
             [
              0.7777777777777778,
              "#fb9f3a"
             ],
             [
              0.8888888888888888,
              "#fdca26"
             ],
             [
              1,
              "#f0f921"
             ]
            ],
            "type": "surface"
           }
          ],
          "table": [
           {
            "cells": {
             "fill": {
              "color": "#EBF0F8"
             },
             "line": {
              "color": "white"
             }
            },
            "header": {
             "fill": {
              "color": "#C8D4E3"
             },
             "line": {
              "color": "white"
             }
            },
            "type": "table"
           }
          ]
         },
         "layout": {
          "annotationdefaults": {
           "arrowcolor": "#2a3f5f",
           "arrowhead": 0,
           "arrowwidth": 1
          },
          "autotypenumbers": "strict",
          "coloraxis": {
           "colorbar": {
            "outlinewidth": 0,
            "ticks": ""
           }
          },
          "colorscale": {
           "diverging": [
            [
             0,
             "#8e0152"
            ],
            [
             0.1,
             "#c51b7d"
            ],
            [
             0.2,
             "#de77ae"
            ],
            [
             0.3,
             "#f1b6da"
            ],
            [
             0.4,
             "#fde0ef"
            ],
            [
             0.5,
             "#f7f7f7"
            ],
            [
             0.6,
             "#e6f5d0"
            ],
            [
             0.7,
             "#b8e186"
            ],
            [
             0.8,
             "#7fbc41"
            ],
            [
             0.9,
             "#4d9221"
            ],
            [
             1,
             "#276419"
            ]
           ],
           "sequential": [
            [
             0,
             "#0d0887"
            ],
            [
             0.1111111111111111,
             "#46039f"
            ],
            [
             0.2222222222222222,
             "#7201a8"
            ],
            [
             0.3333333333333333,
             "#9c179e"
            ],
            [
             0.4444444444444444,
             "#bd3786"
            ],
            [
             0.5555555555555556,
             "#d8576b"
            ],
            [
             0.6666666666666666,
             "#ed7953"
            ],
            [
             0.7777777777777778,
             "#fb9f3a"
            ],
            [
             0.8888888888888888,
             "#fdca26"
            ],
            [
             1,
             "#f0f921"
            ]
           ],
           "sequentialminus": [
            [
             0,
             "#0d0887"
            ],
            [
             0.1111111111111111,
             "#46039f"
            ],
            [
             0.2222222222222222,
             "#7201a8"
            ],
            [
             0.3333333333333333,
             "#9c179e"
            ],
            [
             0.4444444444444444,
             "#bd3786"
            ],
            [
             0.5555555555555556,
             "#d8576b"
            ],
            [
             0.6666666666666666,
             "#ed7953"
            ],
            [
             0.7777777777777778,
             "#fb9f3a"
            ],
            [
             0.8888888888888888,
             "#fdca26"
            ],
            [
             1,
             "#f0f921"
            ]
           ]
          },
          "colorway": [
           "#636efa",
           "#EF553B",
           "#00cc96",
           "#ab63fa",
           "#FFA15A",
           "#19d3f3",
           "#FF6692",
           "#B6E880",
           "#FF97FF",
           "#FECB52"
          ],
          "font": {
           "color": "#2a3f5f"
          },
          "geo": {
           "bgcolor": "white",
           "lakecolor": "white",
           "landcolor": "#E5ECF6",
           "showlakes": true,
           "showland": true,
           "subunitcolor": "white"
          },
          "hoverlabel": {
           "align": "left"
          },
          "hovermode": "closest",
          "mapbox": {
           "style": "light"
          },
          "paper_bgcolor": "white",
          "plot_bgcolor": "#E5ECF6",
          "polar": {
           "angularaxis": {
            "gridcolor": "white",
            "linecolor": "white",
            "ticks": ""
           },
           "bgcolor": "#E5ECF6",
           "radialaxis": {
            "gridcolor": "white",
            "linecolor": "white",
            "ticks": ""
           }
          },
          "scene": {
           "xaxis": {
            "backgroundcolor": "#E5ECF6",
            "gridcolor": "white",
            "gridwidth": 2,
            "linecolor": "white",
            "showbackground": true,
            "ticks": "",
            "zerolinecolor": "white"
           },
           "yaxis": {
            "backgroundcolor": "#E5ECF6",
            "gridcolor": "white",
            "gridwidth": 2,
            "linecolor": "white",
            "showbackground": true,
            "ticks": "",
            "zerolinecolor": "white"
           },
           "zaxis": {
            "backgroundcolor": "#E5ECF6",
            "gridcolor": "white",
            "gridwidth": 2,
            "linecolor": "white",
            "showbackground": true,
            "ticks": "",
            "zerolinecolor": "white"
           }
          },
          "shapedefaults": {
           "line": {
            "color": "#2a3f5f"
           }
          },
          "ternary": {
           "aaxis": {
            "gridcolor": "white",
            "linecolor": "white",
            "ticks": ""
           },
           "baxis": {
            "gridcolor": "white",
            "linecolor": "white",
            "ticks": ""
           },
           "bgcolor": "#E5ECF6",
           "caxis": {
            "gridcolor": "white",
            "linecolor": "white",
            "ticks": ""
           }
          },
          "title": {
           "x": 0.05
          },
          "xaxis": {
           "automargin": true,
           "gridcolor": "white",
           "linecolor": "white",
           "ticks": "",
           "title": {
            "standoff": 15
           },
           "zerolinecolor": "white",
           "zerolinewidth": 2
          },
          "yaxis": {
           "automargin": true,
           "gridcolor": "white",
           "linecolor": "white",
           "ticks": "",
           "title": {
            "standoff": 15
           },
           "zerolinecolor": "white",
           "zerolinewidth": 2
          }
         }
        },
        "title": {
         "text": "Probabilities for letter A"
        },
        "width": 800
       }
      }
     },
     "metadata": {},
     "output_type": "display_data"
    }
   ],
   "source": [
    "import plotly.graph_objects as go\n",
    "\n",
    "# lets plot a 3d plot of the probabilities \n",
    "fig = go.Figure(data=go.Surface(z=probData))\n",
    "fig.update_layout(title='Probabilities for letter A', autosize=False, width=800, height=800)  \n",
    "fig.show()\n"
   ]
  },
  {
   "cell_type": "markdown",
   "metadata": {},
   "source": [
    "## Calulating probabilities using Bayes Theorem\n",
    "As per Bayes Theorem:\n",
    "\\begin{equation}\n",
    "P(Y = y | X = x) = \\frac{P(X = x | Y = y)P(Y = y)} {\\sum_{y=1}^{26}P(Y=y)  P(X = x | Y = y)}\n",
    "\\end{equation}\n",
    "\n",
    "Applying Naiive Bayes Approximation the above equation can be chaged to:\n",
    "\\begin{equation}\n",
    "P(X = x | Y = y) = \\frac{\\prod_{i=1}^{784}P(X_i = x_i | Y)P(Y)} {\\sum_{y=1}^{26}\\prod_{i=1}^{784}P(X_i = x_i | Y = y)P(Y = y)}\n",
    "\\end{equation}"
   ]
  },
  {
   "cell_type": "code",
   "execution_count": null,
   "metadata": {},
   "outputs": [],
   "source": [
    "# lets create a probability calculator using the above equation\n",
    "def calculateProb(x, model = ourModel):\n",
    "    \"\"\"\n",
    "    Calculate the posterior probability for each label given a single feature (image)\n",
    "\n",
    "    Args:\n",
    "        x (numpy.array): A single feature (image)     \n",
    "        model (dict): The model  \n",
    "    Returns:\n",
    "        numpy.array: The posterior probability for each label\n",
    "    \"\"\"\n",
    "    # get the prior probabilities\n",
    "    prior = model['prior']\n",
    "    # get the conditional probabilities\n",
    "    conditional = model['conditional']\n",
    "    \n",
    "    result = np.zeros(26)\n",
    "    for label in range(26):\n",
    "        # get the conditional probability for the label\n",
    "        condProb = conditional[label]\n",
    "        # if the value for a particluar feature is 1 then we multiply the conditional probability\n",
    "        # if the value for a particluar feature is 0 then we multiply the 1 - conditional probability \n",
    "        \n",
    "        # condProbBased on the value of the feature\n",
    "        condProbBasedOnFeature = np.array([condProb[i] if x[i] == 1 else (1 - condProb[i]) for i in range(x.shape[0])])\n",
    "\n",
    "        # multiply the prior probability and the conditional probability\n",
    "        result[label] = np.prod(condProbBasedOnFeature) * prior[label]\n",
    "    return result\n",
    "    "
   ]
  },
  {
   "cell_type": "code",
   "execution_count": null,
   "metadata": {},
   "outputs": [],
   "source": [
    "# function to calculat probability for a batch of features\n",
    "def calculateProbBatch(X, model = ourModel):\n",
    "    \"\"\"\n",
    "    Calculate the probability for each label given a batch of features (images)\n",
    "\n",
    "    Args:\n",
    "        X (numpy.array): A batch of features (images)       \n",
    "        model (dict): The model\n",
    "    Returns:\n",
    "        numpy.array: The probability for each label\n",
    "    \"\"\"\n",
    "    # get the number of samples\n",
    "    nSamples = X.shape[0]\n",
    "    # create an empty array to store the results\n",
    "    result = []\n",
    "    # calculate the probability for each sample\n",
    "    for i in range(nSamples):\n",
    "        result.append(calculateProb(X[i], model))\n",
    "    return np.array(result)\n",
    "    \n",
    "    "
   ]
  },
  {
   "cell_type": "code",
   "execution_count": null,
   "metadata": {},
   "outputs": [],
   "source": [
    "def predict(x, model = ourModel):\n",
    "    \"\"\"\n",
    "    This function predicts the label of the image x.\n",
    "    \"\"\"\n",
    "    # Get the class probabilities of the image x\n",
    "    prob = calculateProb(x, model)\n",
    "    # Get the index of the maximum value in the class/label probabilities\n",
    "    return np.argmax(prob)"
   ]
  },
  {
   "cell_type": "code",
   "execution_count": null,
   "metadata": {},
   "outputs": [],
   "source": [
    "def predictBatch(X, model = ourModel):\n",
    "    \"\"\"\n",
    "    This function predicts the labels of the images in X.\n",
    "    \"\"\"\n",
    "    # Get the probabilities of the images in X\n",
    "    prob = calculateProbBatch(X, model)\n",
    "    # Get the index of the maximum value in the class probabilities\n",
    "    return np.argmax(prob, axis=1)"
   ]
  },
  {
   "cell_type": "markdown",
   "metadata": {},
   "source": [
    "Now before calculating accuracies etc lets predict few examples from the test set as we did for previous section."
   ]
  },
  {
   "cell_type": "code",
   "execution_count": null,
   "metadata": {},
   "outputs": [
    {
     "name": "stdout",
     "output_type": "stream",
     "text": [
      "(74490, 784) (74490,)\n"
     ]
    },
    {
     "data": {
      "image/png": "[encoded data removed]",
      "text/plain": [
       "<Figure size 1440x1440 with 20 Axes>"
      ]
     },
     "metadata": {},
     "output_type": "display_data"
    }
   ],
   "source": [
    "# select few radom images from the test data\n",
    "testFeatures = test[pixelsNumbers]\n",
    "testLabels = test['label']\n",
    "print(testFeatures.shape, testLabels.shape)\n",
    "figure = plt.figure(figsize=(20, 20))\n",
    "for i in range(20):\n",
    "    index = np.random.randint(0, testFeatures.shape[0])\n",
    "    x = testFeatures.iloc[index]\n",
    "    y = testLabels.iloc[index]\n",
    "    y_pred = predict(x)\n",
    "    # plot the image as a gray scale image sub plot\n",
    "    plt.subplot(5, 4, i + 1)\n",
    "    plt.imshow(x.values.reshape(dim, dim), cmap='gray')\n",
    "    plt.axis('off')\n",
    "    # plot the predicted label and actual label\n",
    "    plt.title('Predicted: {}, Actual: {}'.format(chr(y_pred + 65), chr(y + 65)))\n",
    "plt.tight_layout\n",
    "plt.show()\n",
    "\n",
    "\n"
   ]
  },
  {
   "cell_type": "markdown",
   "metadata": {},
   "source": [
    "### Now calculate error metrics for whole test set using our model\n",
    "We will use similar logic as in previous section to calculate the error metrics for the whole test set. "
   ]
  },
  {
   "cell_type": "code",
   "execution_count": null,
   "metadata": {},
   "outputs": [],
   "source": [
    "testPredictions = predictBatch(testFeatures.values)\n",
    "accuracy = np.mean(testPredictions == testLabels)\n",
    "error = 1 - accuracy"
   ]
  },
  {
   "cell_type": "code",
   "execution_count": null,
   "metadata": {},
   "outputs": [
    {
     "name": "stdout",
     "output_type": "stream",
     "text": [
      "(74490,)\n",
      "(74490,)\n",
      "Accuracy: 0.6988052087528527\n",
      "Error: 0.3011947912471473\n"
     ]
    }
   ],
   "source": [
    "# printing accuracuies and error\n",
    "print(testPredictions.shape)\n",
    "print(testLabels.shape)\n",
    "print('Accuracy: {}'.format(accuracy))\n",
    "print('Error: {}'.format(error))\n"
   ]
  },
  {
   "cell_type": "markdown",
   "metadata": {},
   "source": [
    "### Now calculate error and accuracies for each label\n",
    "As data was little skewed and due to some other reasons as well lets first check the accuracy of the model for each label."
   ]
  },
  {
   "cell_type": "code",
   "execution_count": null,
   "metadata": {},
   "outputs": [
    {
     "name": "stderr",
     "output_type": "stream",
     "text": [
      "<ipython-input-31-b3bae0b94a04>:15: DeprecationWarning:\n",
      "\n",
      "elementwise comparison failed; this will raise an error in the future.\n",
      "\n"
     ]
    },
    {
     "ename": "ValueError",
     "evalue": "('Lengths must match to compare', (2698,), (74490,))",
     "output_type": "error",
     "traceback": [
      "\u001b[0;31m---------------------------------------------------------------------------\u001b[0m",
      "\u001b[0;31mValueError\u001b[0m                                Traceback (most recent call last)",
      "\u001b[0;32m<ipython-input-31-b3bae0b94a04>\u001b[0m in \u001b[0;36m<module>\u001b[0;34m\u001b[0m\n\u001b[1;32m     13\u001b[0m     \u001b[0mPredictions\u001b[0m \u001b[0;34m=\u001b[0m \u001b[0mpredictBatch\u001b[0m\u001b[0;34m(\u001b[0m\u001b[0mtestFeatures\u001b[0m\u001b[0;34m.\u001b[0m\u001b[0mvalues\u001b[0m\u001b[0;34m)\u001b[0m\u001b[0;34m\u001b[0m\u001b[0;34m\u001b[0m\u001b[0m\n\u001b[1;32m     14\u001b[0m     \u001b[0;31m# calculate the accuracy for the label\u001b[0m\u001b[0;34m\u001b[0m\u001b[0;34m\u001b[0m\u001b[0;34m\u001b[0m\u001b[0m\n\u001b[0;32m---> 15\u001b[0;31m     \u001b[0maccuracy\u001b[0m \u001b[0;34m=\u001b[0m \u001b[0mnp\u001b[0m\u001b[0;34m.\u001b[0m\u001b[0mmean\u001b[0m\u001b[0;34m(\u001b[0m\u001b[0mPredictions\u001b[0m \u001b[0;34m==\u001b[0m \u001b[0mLabels\u001b[0m\u001b[0;34m)\u001b[0m\u001b[0;34m\u001b[0m\u001b[0;34m\u001b[0m\u001b[0m\n\u001b[0m\u001b[1;32m     16\u001b[0m     \u001b[0;31m# append the accuracy to the list\u001b[0m\u001b[0;34m\u001b[0m\u001b[0;34m\u001b[0m\u001b[0;34m\u001b[0m\u001b[0m\n\u001b[1;32m     17\u001b[0m     \u001b[0maccuracyPerLabel\u001b[0m\u001b[0;34m.\u001b[0m\u001b[0mappend\u001b[0m\u001b[0;34m(\u001b[0m\u001b[0maccuracy\u001b[0m\u001b[0;34m)\u001b[0m\u001b[0;34m\u001b[0m\u001b[0;34m\u001b[0m\u001b[0m\n",
      "\u001b[0;32m~/opt/anaconda3/lib/python3.8/site-packages/pandas/core/ops/common.py\u001b[0m in \u001b[0;36mnew_method\u001b[0;34m(self, other)\u001b[0m\n\u001b[1;32m     63\u001b[0m         \u001b[0mother\u001b[0m \u001b[0;34m=\u001b[0m \u001b[0mitem_from_zerodim\u001b[0m\u001b[0;34m(\u001b[0m\u001b[0mother\u001b[0m\u001b[0;34m)\u001b[0m\u001b[0;34m\u001b[0m\u001b[0;34m\u001b[0m\u001b[0m\n\u001b[1;32m     64\u001b[0m \u001b[0;34m\u001b[0m\u001b[0m\n\u001b[0;32m---> 65\u001b[0;31m         \u001b[0;32mreturn\u001b[0m \u001b[0mmethod\u001b[0m\u001b[0;34m(\u001b[0m\u001b[0mself\u001b[0m\u001b[0;34m,\u001b[0m \u001b[0mother\u001b[0m\u001b[0;34m)\u001b[0m\u001b[0;34m\u001b[0m\u001b[0;34m\u001b[0m\u001b[0m\n\u001b[0m\u001b[1;32m     66\u001b[0m \u001b[0;34m\u001b[0m\u001b[0m\n\u001b[1;32m     67\u001b[0m     \u001b[0;32mreturn\u001b[0m \u001b[0mnew_method\u001b[0m\u001b[0;34m\u001b[0m\u001b[0;34m\u001b[0m\u001b[0m\n",
      "\u001b[0;32m~/opt/anaconda3/lib/python3.8/site-packages/pandas/core/arraylike.py\u001b[0m in \u001b[0;36m__eq__\u001b[0;34m(self, other)\u001b[0m\n\u001b[1;32m     27\u001b[0m     \u001b[0;34m@\u001b[0m\u001b[0munpack_zerodim_and_defer\u001b[0m\u001b[0;34m(\u001b[0m\u001b[0;34m\"__eq__\"\u001b[0m\u001b[0;34m)\u001b[0m\u001b[0;34m\u001b[0m\u001b[0;34m\u001b[0m\u001b[0m\n\u001b[1;32m     28\u001b[0m     \u001b[0;32mdef\u001b[0m \u001b[0m__eq__\u001b[0m\u001b[0;34m(\u001b[0m\u001b[0mself\u001b[0m\u001b[0;34m,\u001b[0m \u001b[0mother\u001b[0m\u001b[0;34m)\u001b[0m\u001b[0;34m:\u001b[0m\u001b[0;34m\u001b[0m\u001b[0;34m\u001b[0m\u001b[0m\n\u001b[0;32m---> 29\u001b[0;31m         \u001b[0;32mreturn\u001b[0m \u001b[0mself\u001b[0m\u001b[0;34m.\u001b[0m\u001b[0m_cmp_method\u001b[0m\u001b[0;34m(\u001b[0m\u001b[0mother\u001b[0m\u001b[0;34m,\u001b[0m \u001b[0moperator\u001b[0m\u001b[0;34m.\u001b[0m\u001b[0meq\u001b[0m\u001b[0;34m)\u001b[0m\u001b[0;34m\u001b[0m\u001b[0;34m\u001b[0m\u001b[0m\n\u001b[0m\u001b[1;32m     30\u001b[0m \u001b[0;34m\u001b[0m\u001b[0m\n\u001b[1;32m     31\u001b[0m     \u001b[0;34m@\u001b[0m\u001b[0munpack_zerodim_and_defer\u001b[0m\u001b[0;34m(\u001b[0m\u001b[0;34m\"__ne__\"\u001b[0m\u001b[0;34m)\u001b[0m\u001b[0;34m\u001b[0m\u001b[0;34m\u001b[0m\u001b[0m\n",
      "\u001b[0;32m~/opt/anaconda3/lib/python3.8/site-packages/pandas/core/series.py\u001b[0m in \u001b[0;36m_cmp_method\u001b[0;34m(self, other, op)\u001b[0m\n\u001b[1;32m   4976\u001b[0m         \u001b[0mrvalues\u001b[0m \u001b[0;34m=\u001b[0m \u001b[0mextract_array\u001b[0m\u001b[0;34m(\u001b[0m\u001b[0mother\u001b[0m\u001b[0;34m,\u001b[0m \u001b[0mextract_numpy\u001b[0m\u001b[0;34m=\u001b[0m\u001b[0;32mTrue\u001b[0m\u001b[0;34m)\u001b[0m\u001b[0;34m\u001b[0m\u001b[0;34m\u001b[0m\u001b[0m\n\u001b[1;32m   4977\u001b[0m \u001b[0;34m\u001b[0m\u001b[0m\n\u001b[0;32m-> 4978\u001b[0;31m         \u001b[0mres_values\u001b[0m \u001b[0;34m=\u001b[0m \u001b[0mops\u001b[0m\u001b[0;34m.\u001b[0m\u001b[0mcomparison_op\u001b[0m\u001b[0;34m(\u001b[0m\u001b[0mlvalues\u001b[0m\u001b[0;34m,\u001b[0m \u001b[0mrvalues\u001b[0m\u001b[0;34m,\u001b[0m \u001b[0mop\u001b[0m\u001b[0;34m)\u001b[0m\u001b[0;34m\u001b[0m\u001b[0;34m\u001b[0m\u001b[0m\n\u001b[0m\u001b[1;32m   4979\u001b[0m \u001b[0;34m\u001b[0m\u001b[0m\n\u001b[1;32m   4980\u001b[0m         \u001b[0;32mreturn\u001b[0m \u001b[0mself\u001b[0m\u001b[0;34m.\u001b[0m\u001b[0m_construct_result\u001b[0m\u001b[0;34m(\u001b[0m\u001b[0mres_values\u001b[0m\u001b[0;34m,\u001b[0m \u001b[0mname\u001b[0m\u001b[0;34m=\u001b[0m\u001b[0mres_name\u001b[0m\u001b[0;34m)\u001b[0m\u001b[0;34m\u001b[0m\u001b[0;34m\u001b[0m\u001b[0m\n",
      "\u001b[0;32m~/opt/anaconda3/lib/python3.8/site-packages/pandas/core/ops/array_ops.py\u001b[0m in \u001b[0;36mcomparison_op\u001b[0;34m(left, right, op)\u001b[0m\n\u001b[1;32m    221\u001b[0m         \u001b[0;31m#  The ambiguous case is object-dtype.  See GH#27803\u001b[0m\u001b[0;34m\u001b[0m\u001b[0;34m\u001b[0m\u001b[0;34m\u001b[0m\u001b[0m\n\u001b[1;32m    222\u001b[0m         \u001b[0;32mif\u001b[0m \u001b[0mlen\u001b[0m\u001b[0;34m(\u001b[0m\u001b[0mlvalues\u001b[0m\u001b[0;34m)\u001b[0m \u001b[0;34m!=\u001b[0m \u001b[0mlen\u001b[0m\u001b[0;34m(\u001b[0m\u001b[0mrvalues\u001b[0m\u001b[0;34m)\u001b[0m\u001b[0;34m:\u001b[0m\u001b[0;34m\u001b[0m\u001b[0;34m\u001b[0m\u001b[0m\n\u001b[0;32m--> 223\u001b[0;31m             raise ValueError(\n\u001b[0m\u001b[1;32m    224\u001b[0m                 \u001b[0;34m\"Lengths must match to compare\"\u001b[0m\u001b[0;34m,\u001b[0m \u001b[0mlvalues\u001b[0m\u001b[0;34m.\u001b[0m\u001b[0mshape\u001b[0m\u001b[0;34m,\u001b[0m \u001b[0mrvalues\u001b[0m\u001b[0;34m.\u001b[0m\u001b[0mshape\u001b[0m\u001b[0;34m\u001b[0m\u001b[0;34m\u001b[0m\u001b[0m\n\u001b[1;32m    225\u001b[0m             )\n",
      "\u001b[0;31mValueError\u001b[0m: ('Lengths must match to compare', (2698,), (74490,))"
     ]
    }
   ],
   "source": [
    "testBylabel = test.groupby('label')\n",
    "accuracyPerLabel = []\n",
    "\n",
    "# calculate the accuracy for each label\n",
    "for label in range(26):\n",
    "    # get the test data for the label\n",
    "    Data = testBylabel.get_group(label)\n",
    "    # get the features for the label\n",
    "    Features = Data[pixelsNumbers]\n",
    "    # get the labels for the label\n",
    "    Labels = Data['label']\n",
    "    # get the predictions for the label\n",
    "    Predictions = predictBatch(testFeatures.values)\n",
    "    # calculate the accuracy for the label\n",
    "    accuracy = np.mean(Predictions == Labels)\n",
    "    # append the accuracy to the list\n",
    "    accuracyPerLabel.append(accuracy)\n"
   ]
  },
  {
   "cell_type": "code",
   "execution_count": null,
   "metadata": {},
   "outputs": [],
   "source": [
    "for label in range(26):\n",
    "    print('Accuracy for label {}: {}'.format(chr(label + 65), accuracyPerLabel[label]))"
   ]
  },
  {
   "cell_type": "code",
   "execution_count": null,
   "metadata": {},
   "outputs": [],
   "source": [
    "# lets plot the accuracies for each label\n",
    "sns.set(rc = {'figure.figsize':(15,5)} , font_scale = 1.1)\n",
    "sns.barplot(x=[chr(i+65) for i in range(26)], y=accuracyPerLabel)\n",
    "plt.title('Accuracy for each label')\n",
    "# write values over the bars\n",
    "for i, v in enumerate(accuracyPerLabel):\n",
    "    plt.text(i, v, '{:.2f}'.format(v), color='black', ha='center', va='bottom')\n",
    "\n",
    "plt.show()\n"
   ]
  },
  {
   "cell_type": "markdown",
   "metadata": {},
   "source": [
    "### Confusion Matrix\n",
    "Confusion matrix is a table that shows the number of correct and incorrect predictions made by the model. They gave us better understanding of the performance of the model.\n"
   ]
  },
  {
   "cell_type": "code",
   "execution_count": null,
   "metadata": {},
   "outputs": [],
   "source": [
    "# creating a confusion matrix\n",
    "def createConfusionMatrix(model = ourModel, testPredictions = testPredictions, testLabels = testLabels.values):\n",
    "    \"\"\"\n",
    "    This function creates a confusion matrix for the model.\n",
    "    \"\"\"\n",
    "    # create an empty matrix\n",
    "    confusionMatrix = np.zeros((26, 26))\n",
    "    # iterate over the predictions and labels\n",
    "    for i in range(len(testPredictions)):\n",
    "        # get the predicted label\n",
    "        predictedLabel = testPredictions[i]\n",
    "        # get the actual label\n",
    "        actualLabel = testLabels[i]\n",
    "        # increment the confusion matrix\n",
    "        confusionMatrix[predictedLabel][actualLabel] += 1\n",
    "    return confusionMatrix"
   ]
  },
  {
   "cell_type": "code",
   "execution_count": null,
   "metadata": {},
   "outputs": [],
   "source": [
    "confusionMatrix  = createConfusionMatrix()\n",
    "# plot the confusion matrix as a heat map\n",
    "plt.figure(figsize=(10, 10))\n",
    "sns.heatmap(confusionMatrix, cmap='Blues', xticklabels=[chr(i+65) for i in range(26)], yticklabels=[chr(i+65) for i in range(26)])\n",
    "plt.xlabel('Actual Label')\n",
    "plt.ylabel('Predicted Label')\n",
    "plt.title('Confusion Matrix')\n",
    "plt.show()\n",
    "\n",
    "\n",
    "\n"
   ]
  },
  {
   "cell_type": "code",
   "execution_count": null,
   "metadata": {},
   "outputs": [],
   "source": [
    "# plot the confusion matrix as a heat map by ignoring the diagonal\n",
    "# this will make other values more prominent and visible\n",
    "diagonalRemovedConfusionMatrix = np.zeros((26, 26))\n",
    "for i in range(26):\n",
    "    for j in range(26):\n",
    "        if i != j:\n",
    "            diagonalRemovedConfusionMatrix[i][j] = confusionMatrix[i][j]\n",
    "        \n",
    "\n",
    "plt.figure(figsize=(10, 10))\n",
    "sns.heatmap(diagonalRemovedConfusionMatrix, cmap='Blues', xticklabels=[chr(i+65) for i in range(26)], yticklabels=[chr(i+65) for i in range(26)], linecolor='teal',linewidths=0.5)\n",
    "plt.xlabel('Actual Label')\n",
    "plt.ylabel('Predicted Label')\n",
    "plt.title('Diagonal Removed Confusion Matrix')\n",
    "\n",
    "# show boundaries\n",
    "\n",
    "plt.show()"
   ]
  },
  {
   "cell_type": "markdown",
   "metadata": {},
   "source": [
    "We can use the above matrix to see which letters are more wrongly predicted as which other letter. As here we can see S is wrongly predicted as J lots of times etc."
   ]
  },
  {
   "cell_type": "markdown",
   "metadata": {},
   "source": [
    "### Classification Report\n",
    "https://medium.com/@kohlishivam5522/understanding-a-classification-report-for-your-machine-learning-model-88815e2ce397\n",
    "\n",
    "classification report is a table that shows the precision, recall, f1-score and support for each class. This is more useful when we have more than two classes and the distribution of the classes is not balanced.\n",
    "\n",
    "We can calulate classification report for confusion matrix.\n",
    "\n",
    "For a binary class precision is the fraction of correct predictions made by the model with total . It is calculated as: \n",
    "\\begin{equation}\n",
    "Precision = \\frac{TP}{TP+FP}\n",
    "\\end{equation}\n",
    "\n",
    "Similarly Recall is calculated as:\n",
    "\\begin{equation}\n",
    "Recall = \\frac{TP}{TP+FN}\n",
    "\\end{equation}\n",
    "\n",
    "F1 score is calculated as:\n",
    "\\begin{equation}\n",
    "F1 score = 2\\frac{Precision * Recall}{Precision+Recall}\n",
    "\\end{equation}\n",
    "\n",
    "We  can extend this to more than two classes as well."
   ]
  },
  {
   "cell_type": "code",
   "execution_count": null,
   "metadata": {},
   "outputs": [],
   "source": [
    "# calculating classification report for the confusion matrix for each label\n",
    "def calculateClassificationReport(confusionMatrix = confusionMatrix):\n",
    "    \"\"\"\n",
    "    This function calculates the classification report for the confusion matrix.\n",
    "    \"\"\"\n",
    "    # create an empty list\n",
    "    result = []\n",
    "    # iterate over the confusion matrix\n",
    "    for label in range(26):\n",
    "        # caculating precision\n",
    "        precision = confusionMatrix[label][label] / np.sum(confusionMatrix[label])\n",
    "        # caculating recall\n",
    "        recall = confusionMatrix[label][label] / np.sum(confusionMatrix[:, label])\n",
    "        # caculating f1 score\n",
    "        f1Score = 2 * (precision * recall) / (precision + recall)\n",
    "        result.append([chr(label + 65), precision, recall, f1Score])\n",
    "    return result\n"
   ]
  },
  {
   "cell_type": "code",
   "execution_count": null,
   "metadata": {},
   "outputs": [],
   "source": [
    "classificationReport = calculateClassificationReport()\n",
    "\n",
    "# plot the classification precision recall and f1 barplots for each label in single plot as subplots\n",
    "figure = plt.figure(figsize=(10, 10))\n",
    "# plot precision subplot\n",
    "plt.subplot(3, 1, 1)\n",
    "sns.barplot(x=[chr(i+65) for i in range(26)], y=[row[1] for row in classificationReport])\n",
    "plt.xlabel('Labels')\n",
    "plt.ylabel('Precision')\n",
    "plt.title('Precision')\n",
    "# plot recall subplot\n",
    "plt.subplot(3, 1, 2)\n",
    "sns.barplot(x=[chr(i+65) for i in range(26)], y=[row[2] for row in classificationReport])\n",
    "plt.xlabel('Labels')\n",
    "plt.ylabel('Recall')\n",
    "plt.title('Recall')\n",
    "# plot f1 score subplot\n",
    "plt.subplot(3, 1, 3)\n",
    "sns.barplot(x=[chr(i+65) for i in range(26)], y=[row[3] for row in classificationReport])\n",
    "plt.xlabel('Labels')\n",
    "plt.ylabel('F1 Score')\n",
    "plt.title('F1 Score')\n",
    "plt.tight_layout()\n",
    "plt.show()\n"
   ]
  },
  {
   "cell_type": "markdown",
   "metadata": {},
   "source": [
    "## Improving the accuracy of the model\n",
    "Accuracy machine learning model can be improved in various ways, like by using more data or by using more features. If more data is not availble we can use other methods like data augmentation.\n",
    "\n",
    "We can also tune the hyperparameters of the model to improve the accuracies. \n",
    "\n",
    "### Tuning the hyperparameters\n",
    "If we fix the model then we are left here with only one hyperparameter to tune, which is the threshold value we used to convert the pixels to black or white. We took it as 50% by default but we try to tune it to see if we can improve the accuracies."
   ]
  },
  {
   "cell_type": "code",
   "execution_count": null,
   "metadata": {},
   "outputs": [],
   "source": [
    "# creating a dataframe for images using different threshold values\n",
    "thresholds = [0.1, 0.2, 0.3, 0.4, 0.5, 0.6, 0.7, 0.8, 0.9]\n",
    "df.head()\n"
   ]
  },
  {
   "cell_type": "code",
   "execution_count": null,
   "metadata": {},
   "outputs": [],
   "source": [
    "def transformData(df, threshold):\n",
    "    newDf = df.copy()\n",
    "    newDf[pixelsNumbers] = newDf[pixelsNumbers].apply(lambda x: (x > threshold).astype(int))"
   ]
  },
  {
   "cell_type": "code",
   "execution_count": null,
   "metadata": {},
   "outputs": [],
   "source": [
    "dfList = []\n",
    "for threshold in thresholds:\n",
    "    dfList.append(transformData(df, threshold))\n"
   ]
  }
 ],
 "metadata": {
  "interpreter": {
   "hash": "f23730d148f0a90638581163a05f33fe279101ed952ab2055512a2b448ea1fdc"
  },
  "kernelspec": {
   "display_name": "Python 3",
   "language": "python",
   "name": "python3"
  },
  "language_info": {
   "codemirror_mode": {
    "name": "ipython",
    "version": 3
   },
   "file_extension": ".py",
   "mimetype": "text/x-python",
   "name": "python",
   "nbconvert_exporter": "python",
   "pygments_lexer": "ipython3",
   "version": "3.8.8"
  }
 },
 "nbformat": 4,
 "nbformat_minor": 2
}
