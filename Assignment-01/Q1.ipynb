{
  "nbformat": 4,
  "nbformat_minor": 0,
  "metadata": {
    "colab": {
      "name": "Q1.ipynb",
      "provenance": [],
      "collapsed_sections": []
    },
    "kernelspec": {
      "name": "python3",
      "display_name": "Python 3"
    },
    "language_info": {
      "name": "python"
    }
  },
  "cells": [
    {
      "cell_type": "code",
      "execution_count": null,
      "metadata": {
        "id": "egiMbXxQ7v1g"
      },
      "outputs": [],
      "source": [
        "import numpy as np\n",
        "import pandas as pd\n",
        "import matplotlib.pyplot as plt\n",
        "import seaborn as sns\n",
        "from sklearn.naive_bayes import GaussianNB\n",
        "from sklearn import model_selection\n",
        "from sklearn.metrics import classification_report, confusion_matrix"
      ]
    },
    {
      "cell_type": "code",
      "source": [
        "# lets generate a dataset having class value as 0, and 1 only\n",
        "def generateSample(n, prior, meanVariance):\n",
        "    # generate a sample of size n from the prior\n",
        "    # use the mean and variance of the prior to generate the sample\n",
        "    # assuming gussian distribution of x having class value as 0 and x having class value as 1 are N(-1,1) and N(1,1) respectively \n",
        "    [class0Mean , class0Variance] = meanVariance[0]\n",
        "    [class1Mean , class1Variance] = meanVariance[1]\n",
        "    class0Sample = np.empty(0);\n",
        "    class1Sample = np.empty(0);\n",
        "    for i in range(1000):\n",
        "      y=np.random.binomial(1,prior,1)\n",
        "      if y==1:\n",
        "        x=np.random.normal(class1Mean,class1Variance,1)\n",
        "        class1Sample=np.append(class1Sample,x)\n",
        "        # print(x)\n",
        "      else:\n",
        "        x=np.random.normal(class0Mean,class0Variance,1)\n",
        "        class0Sample=np.append(class0Sample,x)\n",
        "    # nows lets create dataframe for class0 and class1 with their generated samples values \n",
        "    # using padas dataframe\n",
        "    size0=np.size(class0Sample)\n",
        "    size1=np.size(class1Sample)\n",
        "    data=np.concatenate((class0Sample,class1Sample),axis=0)\n",
        "    df = pd.DataFrame(data)\n",
        "    df['Class'] = np.concatenate((np.zeros(size0), np.ones(size1))).astype(int)\n",
        "    df.columns=['X','Class']\n",
        "    # shuffle the dataframe\n",
        "    df = df.sample(frac=1).reset_index(drop=True)\n",
        "    return df"
      ],
      "metadata": {
        "id": "a24wplxL9gid"
      },
      "execution_count": null,
      "outputs": []
    },
    {
      "cell_type": "markdown",
      "source": [
        "# Using Synthetic Dataset\n",
        "Assuming distribution of x having class value as 0 is nomal distribution with value mean and variance are 1,-1.\n",
        "And distribution of x having class value as 1 is nomal distribution with value mean and variance are 1,1"
      ],
      "metadata": {
        "id": "Qcg9MnuEUPPi"
      }
    },
    {
      "cell_type": "code",
      "source": [
        "meanVariance = [[-1,1],[1,1]]\n",
        "p0=0.5   # taking prior as 0.5\n",
        "sample = generateSample(10000, p0,meanVariance)\n",
        "sample"
      ],
      "metadata": {
        "colab": {
          "base_uri": "https://localhost:8080/",
          "height": 423
        },
        "id": "ZLLJzuVw-qqm",
        "outputId": "d1ee3824-12b2-4ea9-c787-adfd4f50bd85"
      },
      "execution_count": null,
      "outputs": [
        {
          "output_type": "execute_result",
          "data": {
            "text/html": [
              "\n",
              "  <div id=\"df-041857eb-8c19-46fa-a165-a049c3cf9e81\">\n",
              "    <div class=\"colab-df-container\">\n",
              "      <div>\n",
              "<style scoped>\n",
              "    .dataframe tbody tr th:only-of-type {\n",
              "        vertical-align: middle;\n",
              "    }\n",
              "\n",
              "    .dataframe tbody tr th {\n",
              "        vertical-align: top;\n",
              "    }\n",
              "\n",
              "    .dataframe thead th {\n",
              "        text-align: right;\n",
              "    }\n",
              "</style>\n",
              "<table border=\"1\" class=\"dataframe\">\n",
              "  <thead>\n",
              "    <tr style=\"text-align: right;\">\n",
              "      <th></th>\n",
              "      <th>X</th>\n",
              "      <th>Class</th>\n",
              "    </tr>\n",
              "  </thead>\n",
              "  <tbody>\n",
              "    <tr>\n",
              "      <th>0</th>\n",
              "      <td>0.857902</td>\n",
              "      <td>1</td>\n",
              "    </tr>\n",
              "    <tr>\n",
              "      <th>1</th>\n",
              "      <td>-0.833213</td>\n",
              "      <td>1</td>\n",
              "    </tr>\n",
              "    <tr>\n",
              "      <th>2</th>\n",
              "      <td>0.508920</td>\n",
              "      <td>0</td>\n",
              "    </tr>\n",
              "    <tr>\n",
              "      <th>3</th>\n",
              "      <td>2.414475</td>\n",
              "      <td>1</td>\n",
              "    </tr>\n",
              "    <tr>\n",
              "      <th>4</th>\n",
              "      <td>-1.462843</td>\n",
              "      <td>0</td>\n",
              "    </tr>\n",
              "    <tr>\n",
              "      <th>...</th>\n",
              "      <td>...</td>\n",
              "      <td>...</td>\n",
              "    </tr>\n",
              "    <tr>\n",
              "      <th>995</th>\n",
              "      <td>-1.433750</td>\n",
              "      <td>0</td>\n",
              "    </tr>\n",
              "    <tr>\n",
              "      <th>996</th>\n",
              "      <td>2.389439</td>\n",
              "      <td>1</td>\n",
              "    </tr>\n",
              "    <tr>\n",
              "      <th>997</th>\n",
              "      <td>1.758461</td>\n",
              "      <td>1</td>\n",
              "    </tr>\n",
              "    <tr>\n",
              "      <th>998</th>\n",
              "      <td>1.502064</td>\n",
              "      <td>1</td>\n",
              "    </tr>\n",
              "    <tr>\n",
              "      <th>999</th>\n",
              "      <td>-0.062570</td>\n",
              "      <td>0</td>\n",
              "    </tr>\n",
              "  </tbody>\n",
              "</table>\n",
              "<p>1000 rows × 2 columns</p>\n",
              "</div>\n",
              "      <button class=\"colab-df-convert\" onclick=\"convertToInteractive('df-041857eb-8c19-46fa-a165-a049c3cf9e81')\"\n",
              "              title=\"Convert this dataframe to an interactive table.\"\n",
              "              style=\"display:none;\">\n",
              "        \n",
              "  <svg xmlns=\"http://www.w3.org/2000/svg\" height=\"24px\"viewBox=\"0 0 24 24\"\n",
              "       width=\"24px\">\n",
              "    <path d=\"M0 0h24v24H0V0z\" fill=\"none\"/>\n",
              "    <path d=\"M18.56 5.44l.94 2.06.94-2.06 2.06-.94-2.06-.94-.94-2.06-.94 2.06-2.06.94zm-11 1L8.5 8.5l.94-2.06 2.06-.94-2.06-.94L8.5 2.5l-.94 2.06-2.06.94zm10 10l.94 2.06.94-2.06 2.06-.94-2.06-.94-.94-2.06-.94 2.06-2.06.94z\"/><path d=\"M17.41 7.96l-1.37-1.37c-.4-.4-.92-.59-1.43-.59-.52 0-1.04.2-1.43.59L10.3 9.45l-7.72 7.72c-.78.78-.78 2.05 0 2.83L4 21.41c.39.39.9.59 1.41.59.51 0 1.02-.2 1.41-.59l7.78-7.78 2.81-2.81c.8-.78.8-2.07 0-2.86zM5.41 20L4 18.59l7.72-7.72 1.47 1.35L5.41 20z\"/>\n",
              "  </svg>\n",
              "      </button>\n",
              "      \n",
              "  <style>\n",
              "    .colab-df-container {\n",
              "      display:flex;\n",
              "      flex-wrap:wrap;\n",
              "      gap: 12px;\n",
              "    }\n",
              "\n",
              "    .colab-df-convert {\n",
              "      background-color: #E8F0FE;\n",
              "      border: none;\n",
              "      border-radius: 50%;\n",
              "      cursor: pointer;\n",
              "      display: none;\n",
              "      fill: #1967D2;\n",
              "      height: 32px;\n",
              "      padding: 0 0 0 0;\n",
              "      width: 32px;\n",
              "    }\n",
              "\n",
              "    .colab-df-convert:hover {\n",
              "      background-color: #E2EBFA;\n",
              "      box-shadow: 0px 1px 2px rgba(60, 64, 67, 0.3), 0px 1px 3px 1px rgba(60, 64, 67, 0.15);\n",
              "      fill: #174EA6;\n",
              "    }\n",
              "\n",
              "    [theme=dark] .colab-df-convert {\n",
              "      background-color: #3B4455;\n",
              "      fill: #D2E3FC;\n",
              "    }\n",
              "\n",
              "    [theme=dark] .colab-df-convert:hover {\n",
              "      background-color: #434B5C;\n",
              "      box-shadow: 0px 1px 3px 1px rgba(0, 0, 0, 0.15);\n",
              "      filter: drop-shadow(0px 1px 2px rgba(0, 0, 0, 0.3));\n",
              "      fill: #FFFFFF;\n",
              "    }\n",
              "  </style>\n",
              "\n",
              "      <script>\n",
              "        const buttonEl =\n",
              "          document.querySelector('#df-041857eb-8c19-46fa-a165-a049c3cf9e81 button.colab-df-convert');\n",
              "        buttonEl.style.display =\n",
              "          google.colab.kernel.accessAllowed ? 'block' : 'none';\n",
              "\n",
              "        async function convertToInteractive(key) {\n",
              "          const element = document.querySelector('#df-041857eb-8c19-46fa-a165-a049c3cf9e81');\n",
              "          const dataTable =\n",
              "            await google.colab.kernel.invokeFunction('convertToInteractive',\n",
              "                                                     [key], {});\n",
              "          if (!dataTable) return;\n",
              "\n",
              "          const docLinkHtml = 'Like what you see? Visit the ' +\n",
              "            '<a target=\"_blank\" href=https://colab.research.google.com/notebooks/data_table.ipynb>data table notebook</a>'\n",
              "            + ' to learn more about interactive tables.';\n",
              "          element.innerHTML = '';\n",
              "          dataTable['output_type'] = 'display_data';\n",
              "          await google.colab.output.renderOutput(dataTable, element);\n",
              "          const docLink = document.createElement('div');\n",
              "          docLink.innerHTML = docLinkHtml;\n",
              "          element.appendChild(docLink);\n",
              "        }\n",
              "      </script>\n",
              "    </div>\n",
              "  </div>\n",
              "  "
            ],
            "text/plain": [
              "            X  Class\n",
              "0    0.857902      1\n",
              "1   -0.833213      1\n",
              "2    0.508920      0\n",
              "3    2.414475      1\n",
              "4   -1.462843      0\n",
              "..        ...    ...\n",
              "995 -1.433750      0\n",
              "996  2.389439      1\n",
              "997  1.758461      1\n",
              "998  1.502064      1\n",
              "999 -0.062570      0\n",
              "\n",
              "[1000 rows x 2 columns]"
            ]
          },
          "metadata": {},
          "execution_count": 241
        }
      ]
    },
    {
      "cell_type": "markdown",
      "source": [
        "# Visualisation of synthetic data\n",
        "\n"
      ],
      "metadata": {
        "id": "P_XEmEHCV9ao"
      }
    },
    {
      "cell_type": "code",
      "source": [
        "# lets see the synthetic data is generated as expected\n",
        "\n",
        "# plot the distribution of the data for each class on the same plot\n",
        "sns.displot(sample, x=\"X\", hue=\"Class\", kind=\"kde\")"
      ],
      "metadata": {
        "colab": {
          "base_uri": "https://localhost:8080/",
          "height": 386
        },
        "id": "qwamziINV1Ot",
        "outputId": "0d752e97-74ff-4637-b1f6-0919d0c86d0f"
      },
      "execution_count": null,
      "outputs": [
        {
          "output_type": "execute_result",
          "data": {
            "text/plain": [
              "<seaborn.axisgrid.FacetGrid at 0x7f52ca428190>"
            ]
          },
          "metadata": {},
          "execution_count": 242
        },
        {
          "output_type": "display_data",
          "data": {
            "image/png": "[encoded data removed]",
            "text/plain": [
              "<Figure size 402.375x360 with 1 Axes>"
            ]
          },
          "metadata": {
            "needs_background": "light"
          }
        }
      ]
    },
    {
      "cell_type": "markdown",
      "source": [
        "# Creating Basian Classifier\n"
      ],
      "metadata": {
        "id": "GeVN3ZM9XySv"
      }
    },
    {
      "cell_type": "code",
      "source": [
        "# partision the data into training and testing sets with a ratio of 0.8:0.2\n",
        "# split the data into training and testing sets \n",
        "# using sklearn model_selection for split\n",
        "X=np.array(sample.X)\n",
        "Y=np.array(sample.Class)\n",
        "X_train,X_test,Y_train,Y_test = model_selection.train_test_split(X,Y, test_size=0.2, random_state=0)\n",
        "print(X_train.shape)"
      ],
      "metadata": {
        "colab": {
          "base_uri": "https://localhost:8080/"
        },
        "id": "q1EjRG6KDB0n",
        "outputId": "617302f0-56de-4122-ab44-6e2dad4209f4"
      },
      "execution_count": null,
      "outputs": [
        {
          "output_type": "stream",
          "name": "stdout",
          "text": [
            "(800,)\n"
          ]
        }
      ]
    },
    {
      "cell_type": "code",
      "source": [
        "# using GaussianNB\n",
        "clf = GaussianNB()\n",
        "y_pred = clf.fit(X_train.reshape(800,1), Y_train).predict(X_test.reshape(200,1))\n",
        "print(classification_report(Y_test,y_pred))\n",
        "print(confusion_matrix(Y_test,y_pred))"
      ],
      "metadata": {
        "colab": {
          "base_uri": "https://localhost:8080/"
        },
        "id": "In5CPBVWXcqo",
        "outputId": "379e71e8-e031-4d86-de06-7661e40cc5aa"
      },
      "execution_count": null,
      "outputs": [
        {
          "output_type": "stream",
          "name": "stdout",
          "text": [
            "              precision    recall  f1-score   support\n",
            "\n",
            "           0       0.88      0.89      0.88       105\n",
            "           1       0.87      0.86      0.87        95\n",
            "\n",
            "    accuracy                           0.88       200\n",
            "   macro avg       0.87      0.87      0.87       200\n",
            "weighted avg       0.87      0.88      0.87       200\n",
            "\n",
            "[[93 12]\n",
            " [13 82]]\n"
          ]
        }
      ]
    },
    {
      "cell_type": "markdown",
      "source": [
        "# Classifier with randomization\n"
      ],
      "metadata": {
        "id": "6QRXwqbRi4fQ"
      }
    },
    {
      "cell_type": "code",
      "source": [
        ""
      ],
      "metadata": {
        "id": "6Mw-UAABjbg7"
      },
      "execution_count": null,
      "outputs": []
    }
  ]
}