{
 "cells": [
  {
   "cell_type": "markdown",
   "metadata": {},
   "source": [
    "# Credit Default Problem\n",
    "In this notebook, we will use the customer tax records to predict whether a customer will default on their loans. \n",
    "\n",
    "## We will use the following data:\n",
    "loanPeriod : \n"
   ]
  },
  {
   "cell_type": "code",
   "execution_count": null,
   "metadata": {},
   "outputs": [],
   "source": [
    "def generateSample(n, p):\n",
    "    \"\"\"\n",
    "    Generates a sample of size n from a Bernoulli distribution with parameter p\n",
    "    \"\"\"\n",
    "    return np.random.binomial(1, p, n)"
   ]
  }
 ],
 "metadata": {
  "interpreter": {
   "hash": "f23730d148f0a90638581163a05f33fe279101ed952ab2055512a2b448ea1fdc"
  },
  "kernelspec": {
   "display_name": "Python 3.8.8 64-bit ('base': conda)",
   "language": "python",
   "name": "python3"
  },
  "language_info": {
   "name": "python",
   "version": "3.8.8"
  },
  "orig_nbformat": 4
 },
 "nbformat": 4,
 "nbformat_minor": 2
}
