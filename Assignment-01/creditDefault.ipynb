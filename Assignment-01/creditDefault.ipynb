{
 "cells": [
  {
   "cell_type": "markdown",
   "metadata": {},
   "source": [
    "# Credit Default Problem\n",
    "In this notebook, we will use the customer tax records to predict whether a customer will default on their loans. \n",
    "\n"
   ]
  },
  {
   "cell_type": "code",
   "execution_count": 1,
   "metadata": {},
   "outputs": [],
   "source": [
    "import seaborn as sns\n",
    "import numpy as np\n",
    "import pandas as pd\n",
    "import matplotlib.pyplot as plt"
   ]
  },
  {
   "cell_type": "code",
   "execution_count": 2,
   "metadata": {},
   "outputs": [],
   "source": [
    "#define the variables\n",
    "N=10000\n",
    "p0 = 0.8\n",
    "u0 = -1\n",
    "u1 = 1\n",
    "s0 = 1\n",
    "s1 = 1"
   ]
  },
  {
   "cell_type": "code",
   "execution_count": 3,
   "metadata": {},
   "outputs": [],
   "source": [
    "def generateSamples(N, p0, u0, u1, s0, s1):\n",
    "    samples = []\n",
    "    for i in range(N):\n",
    "        y = np.random.binomial(1, 1-p0, 1)\n",
    "        if y == 1:\n",
    "            x = np.random.normal(u1, s1, 1)\n",
    "        else:\n",
    "            x = np.random.normal(u0, s0, 1)\n",
    "        samples.append([x[0], y[0]])\n",
    "    #convert to dataframe\n",
    "    df = pd.DataFrame(samples, columns=['x', 'label'])\n",
    "    return df"
   ]
  },
  {
   "cell_type": "code",
   "execution_count": 4,
   "metadata": {},
   "outputs": [
    {
     "data": {
      "text/html": [
       "<div>\n",
       "<style scoped>\n",
       "    .dataframe tbody tr th:only-of-type {\n",
       "        vertical-align: middle;\n",
       "    }\n",
       "\n",
       "    .dataframe tbody tr th {\n",
       "        vertical-align: top;\n",
       "    }\n",
       "\n",
       "    .dataframe thead th {\n",
       "        text-align: right;\n",
       "    }\n",
       "</style>\n",
       "<table border=\"1\" class=\"dataframe\">\n",
       "  <thead>\n",
       "    <tr style=\"text-align: right;\">\n",
       "      <th></th>\n",
       "      <th>x</th>\n",
       "      <th>label</th>\n",
       "    </tr>\n",
       "  </thead>\n",
       "  <tbody>\n",
       "    <tr>\n",
       "      <th>0</th>\n",
       "      <td>0.253252</td>\n",
       "      <td>0</td>\n",
       "    </tr>\n",
       "    <tr>\n",
       "      <th>1</th>\n",
       "      <td>-0.337522</td>\n",
       "      <td>0</td>\n",
       "    </tr>\n",
       "    <tr>\n",
       "      <th>2</th>\n",
       "      <td>0.189523</td>\n",
       "      <td>0</td>\n",
       "    </tr>\n",
       "    <tr>\n",
       "      <th>3</th>\n",
       "      <td>0.899208</td>\n",
       "      <td>1</td>\n",
       "    </tr>\n",
       "    <tr>\n",
       "      <th>4</th>\n",
       "      <td>-1.461912</td>\n",
       "      <td>0</td>\n",
       "    </tr>\n",
       "  </tbody>\n",
       "</table>\n",
       "</div>"
      ],
      "text/plain": [
       "          x  label\n",
       "0  0.253252      0\n",
       "1 -0.337522      0\n",
       "2  0.189523      0\n",
       "3  0.899208      1\n",
       "4 -1.461912      0"
      ]
     },
     "execution_count": 4,
     "metadata": {},
     "output_type": "execute_result"
    }
   ],
   "source": [
    "samples = generateSamples(N, p0, u0, u1, s0, s1)\n",
    "samples.head()"
   ]
  },
  {
   "cell_type": "code",
   "execution_count": 5,
   "metadata": {},
   "outputs": [
    {
     "data": {
      "text/plain": [
       "<seaborn.axisgrid.FacetGrid at 0x22dc09f1220>"
      ]
     },
     "execution_count": 5,
     "metadata": {},
     "output_type": "execute_result"
    },
    {
     "data": {
      "image/png": "[encoded data removed]",
      "text/plain": [
       "<Figure size 402.375x360 with 1 Axes>"
      ]
     },
     "metadata": {
      "needs_background": "light"
     },
     "output_type": "display_data"
    }
   ],
   "source": [
    "# lets see the synthetic data is generated as expected\n",
    "\n",
    "# plot the distribution of the data for each class on the same plot\n",
    "\n",
    "sns.displot(samples, x=\"x\", hue=\"label\", kind=\"kde\")"
   ]
  },
  {
   "cell_type": "code",
   "execution_count": 6,
   "metadata": {},
   "outputs": [],
   "source": [
    "#computing normal density\n",
    "def normal_dist(x , mean , sd):\n",
    "    prob_density = (np.pi*sd) * np.exp(-0.5*((x-mean)/sd)**2)\n",
    "    return prob_density\n",
    "#predict\n",
    "def predict1(x):\n",
    "    #calculate posteriors\n",
    "    q0 = p0*normal_dist(x, u0, s0) / (p0*(normal_dist(x, u0, s0) + (1-p0)*normal_dist(x, u1, s1)))\n",
    "    if q0 >= 0.5:\n",
    "        return 0\n",
    "    return 1\n",
    "\n",
    "def getAccuracy(X,Y):\n",
    "    correct =0\n",
    "    for i in range(N):\n",
    "        if predict1(X[i]) == Y[i]:\n",
    "            correct+=1\n",
    "    return correct/N"
   ]
  },
  {
   "cell_type": "code",
   "execution_count": 7,
   "metadata": {},
   "outputs": [
    {
     "name": "stdout",
     "output_type": "stream",
     "text": [
      "0.889\n"
     ]
    }
   ],
   "source": [
    "print(getAccuracy(samples['x'],samples['label']))"
   ]
  },
  {
   "cell_type": "code",
   "execution_count": 8,
   "metadata": {},
   "outputs": [],
   "source": [
    "#part 2 h(x,z) = z given p(z=0) = 0.8 and p(z=1) = 0.2\n",
    "pz0 = 0.8\n",
    "def predict2(x):\n",
    "    #calculate posteriors\n",
    "    q0 = p0*normal_dist(x, u0, s0) / (p0*(normal_dist(x, u0, s0) + (1-p0)*normal_dist(x, u1, s1)))\n",
    "    if q0 >= 0.5:\n",
    "        z = np.random.binomial(1, 1-pz0, 1)\n",
    "        if z == 0:\n",
    "            return 0\n",
    "    return 1\n",
    "\n",
    "def getAccuracy2(X,Y):\n",
    "    correct =0\n",
    "    for i in range(N):\n",
    "        if predict2(X[i]) == Y[i]:\n",
    "            correct+=1\n",
    "    return correct/N"
   ]
  },
  {
   "cell_type": "code",
   "execution_count": 9,
   "metadata": {},
   "outputs": [
    {
     "name": "stdout",
     "output_type": "stream",
     "text": [
      "0.7497\n"
     ]
    }
   ],
   "source": [
    "print(getAccuracy2(samples['x'],samples['label']))"
   ]
  }
 ],
 "metadata": {
  "interpreter": {
   "hash": "f23730d148f0a90638581163a05f33fe279101ed952ab2055512a2b448ea1fdc"
  },
  "kernelspec": {
   "display_name": "Python 3.8.8 64-bit ('base': conda)",
   "language": "python",
   "name": "python3"
  },
  "language_info": {
   "codemirror_mode": {
    "name": "ipython",
    "version": 3
   },
   "file_extension": ".py",
   "mimetype": "text/x-python",
   "name": "python",
   "nbconvert_exporter": "python",
   "pygments_lexer": "ipython3",
   "version": "3.9.1"
  },
  "orig_nbformat": 4
 },
 "nbformat": 4,
 "nbformat_minor": 2
}
