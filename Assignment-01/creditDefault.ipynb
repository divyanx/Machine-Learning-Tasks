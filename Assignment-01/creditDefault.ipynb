{
 "cells": [
  {
   "cell_type": "markdown",
   "metadata": {},
   "source": [
    "# Credit Default Problem\n",
    "**Contributers:**\n",
    "\n",
    "**Aditya | Divyansh | Himanshu | Sarthak | Tanuja**\n",
    "\n",
    "\n",
    "In this notebook, we will use the customer tax records to predict whether a customer will default on their loans. \n",
    "\n",
    "We have added necessary comments and plots to the code. But the data are synthetic so we have focused more on creating the logic for the model rather than the data.\n",
    "\n"
   ]
  },
  {
   "cell_type": "code",
   "execution_count": 123,
   "metadata": {},
   "outputs": [],
   "source": [
    "import numpy as np\n",
    "import pandas as pd\n",
    "import matplotlib.pyplot as plt\n",
    "import seaborn as sns"
   ]
  },
  {
   "cell_type": "code",
   "execution_count": 124,
   "metadata": {},
   "outputs": [],
   "source": [
    "def generateSample(n, prior, meanVariances = [[-1,1],[1,1]]):\n",
    "    # generate a sample of size n from the prior\n",
    "    # use the mean and variance of the prior to generate the sample\n",
    "    [class0Mean , class0Variance] = meanVariances[0]\n",
    "    [class1Mean , class1Variance] = meanVariances[1]\n",
    "    size1 = int(n * prior)\n",
    "    size2 = n - size1\n",
    "    class0Sample = np.random.normal(class0Mean, class0Variance, size1)\n",
    "    class1Sample = np.random.normal(class1Mean, class1Variance, size2)\n",
    "\n",
    "    # create a dataframe with the samples and the labels\n",
    "    df = pd.DataFrame(np.concatenate((class0Sample, class1Sample), axis=0))\n",
    "\n",
    "    df['label'] = np.concatenate((np.zeros(size1), np.ones(size2))).astype(int)\n",
    "    \n",
    "    df.columns = ['X', 'label']\n",
    "    # shuffle the dataframe\n",
    "    \n",
    "\n",
    "    df = df.sample(frac=1).reset_index(drop=True)\n",
    "    return df"
   ]
  },
  {
   "cell_type": "code",
   "execution_count": 125,
   "metadata": {},
   "outputs": [
    {
     "data": {
      "text/html": [
       "<div>\n",
       "<style scoped>\n",
       "    .dataframe tbody tr th:only-of-type {\n",
       "        vertical-align: middle;\n",
       "    }\n",
       "\n",
       "    .dataframe tbody tr th {\n",
       "        vertical-align: top;\n",
       "    }\n",
       "\n",
       "    .dataframe thead th {\n",
       "        text-align: right;\n",
       "    }\n",
       "</style>\n",
       "<table border=\"1\" class=\"dataframe\">\n",
       "  <thead>\n",
       "    <tr style=\"text-align: right;\">\n",
       "      <th></th>\n",
       "      <th>X</th>\n",
       "      <th>label</th>\n",
       "    </tr>\n",
       "  </thead>\n",
       "  <tbody>\n",
       "    <tr>\n",
       "      <th>0</th>\n",
       "      <td>-0.877569</td>\n",
       "      <td>1</td>\n",
       "    </tr>\n",
       "    <tr>\n",
       "      <th>1</th>\n",
       "      <td>-1.894296</td>\n",
       "      <td>0</td>\n",
       "    </tr>\n",
       "    <tr>\n",
       "      <th>2</th>\n",
       "      <td>-1.353025</td>\n",
       "      <td>0</td>\n",
       "    </tr>\n",
       "    <tr>\n",
       "      <th>3</th>\n",
       "      <td>1.558400</td>\n",
       "      <td>1</td>\n",
       "    </tr>\n",
       "    <tr>\n",
       "      <th>4</th>\n",
       "      <td>-1.311474</td>\n",
       "      <td>0</td>\n",
       "    </tr>\n",
       "  </tbody>\n",
       "</table>\n",
       "</div>"
      ],
      "text/plain": [
       "          X  label\n",
       "0 -0.877569      1\n",
       "1 -1.894296      0\n",
       "2 -1.353025      0\n",
       "3  1.558400      1\n",
       "4 -1.311474      0"
      ]
     },
     "execution_count": 125,
     "metadata": {},
     "output_type": "execute_result"
    }
   ],
   "source": [
    "prior = 0.5\n",
    "sample = generateSample(10000, prior)\n",
    "sample.head()"
   ]
  },
  {
   "cell_type": "code",
   "execution_count": 126,
   "metadata": {},
   "outputs": [
    {
     "data": {
      "text/plain": [
       "<seaborn.axisgrid.FacetGrid at 0x7fdf677bfd60>"
      ]
     },
     "execution_count": 126,
     "metadata": {},
     "output_type": "execute_result"
    },
    {
     "data": {
      "image/png": "[encoded data removed]",
      "text/plain": [
       "<Figure size 402.375x360 with 1 Axes>"
      ]
     },
     "metadata": {
      "needs_background": "light"
     },
     "output_type": "display_data"
    }
   ],
   "source": [
    "# lets see the synthetic data is generated as expected\n",
    "\n",
    "# plot the distribution of the data for each class on the same plot\n",
    "sns.displot(sample, x=\"X\", hue=\"label\", kind=\"kde\")\n"
   ]
  },
  {
   "cell_type": "markdown",
   "metadata": {},
   "source": [
    "## Creating a Bayesian classifier"
   ]
  },
  {
   "cell_type": "markdown",
   "metadata": {},
   "source": [
    "Here we do not have to train the model, because we already know the distribution of the data as the data is synthetic. What we need to do is only classify the data based on the probability we already know.\n",
    "\n",
    "Basic functioning of a Bayesian classifier is as follows:\n",
    "\\begin{equation}\n",
    "P(Y|X) = \\frac{P(X|Y)P(Y)}{P(X)}\n",
    "\\end{equation}\n",
    "\n",
    "where,\n",
    "\\begin{equation}\n",
    "P(X|Y) = P(X=x|Y=y) = N(x;\\mu_y,\\sigma_y)\n",
    "\\end{equation}\n",
    "\n"
   ]
  },
  {
   "cell_type": "code",
   "execution_count": 127,
   "metadata": {},
   "outputs": [],
   "source": [
    "def findBayesianProb(x, prior = 0.5, meanVariances = [[-1,1],[1,1]]):\n",
    "    # find the probability of the sample x given the prior\n",
    "    # use the mean and variance of the prior to generate the sample\n",
    "    [class0Mean , class0Variance] = meanVariances[0]\n",
    "    [class1Mean , class1Variance] = meanVariances[1]\n",
    "    # proibabilities are normally distributed\n",
    "    class0Prob = np.exp(-(x - class0Mean)**2 / (2 * class0Variance)) / np.sqrt(2 * np.pi * class0Variance) * prior\n",
    "    class1Prob = np.exp(-(x - class1Mean)**2 / (2 * class1Variance)) / np.sqrt(2 * np.pi * class1Variance) * (1 - prior)\n",
    "    return class0Prob/(class0Prob + class1Prob)"
   ]
  },
  {
   "cell_type": "code",
   "execution_count": 128,
   "metadata": {},
   "outputs": [],
   "source": [
    "def findBayesianProbBatch(X, prior = 0.5, meanVariances = [[-1,1],[1,1]]):\n",
    "    # find the probability of the sample X given the prior\n",
    "    # use the mean and variance of the prior to generate the sample\n",
    "    [class0Mean , class0Variance] = meanVariances[0]\n",
    "    [class1Mean , class1Variance] = meanVariances[1]\n",
    "    result = []\n",
    "    for x in X:\n",
    "        # proibabilities are normally distributed\n",
    "       result.append(findBayesianProb(x, prior, meanVariances))\n",
    "    return np.array(result)"
   ]
  },
  {
   "cell_type": "code",
   "execution_count": 129,
   "metadata": {},
   "outputs": [],
   "source": [
    "def classify(x , prior = 0.5, meanVariances = [[-1,1],[1,1]]):\n",
    "    # classify the sample x based on the prior\n",
    "    # use the mean and variance of the prior to generate the sample\n",
    "    # return the label\n",
    "    prob = findBayesianProb(x, prior, meanVariances)\n",
    "    return prob < 0.5"
   ]
  },
  {
   "cell_type": "code",
   "execution_count": 130,
   "metadata": {},
   "outputs": [],
   "source": [
    "def classifyBatch(X, prior = 0.5, meanVariances = [[-1,1],[1,1]]):\n",
    "    # classify the sample X based on the prior\n",
    "    # use the mean and variance of the prior to generate the sample\n",
    "    # return the label\n",
    "    prob = findBayesianProbBatch(X, prior, meanVariances)\n",
    "    return prob < 0.5"
   ]
  },
  {
   "cell_type": "code",
   "execution_count": 131,
   "metadata": {},
   "outputs": [],
   "source": [
    "def findAccuracy(prediction, actual):\n",
    "    # find the accuracy of the prediction\n",
    "    # return the accuracy\n",
    "    return np.sum(prediction == actual)/len(prediction)"
   ]
  },
  {
   "cell_type": "code",
   "execution_count": 132,
   "metadata": {},
   "outputs": [
    {
     "name": "stdout",
     "output_type": "stream",
     "text": [
      "Accuracy: 0.8445\n"
     ]
    }
   ],
   "source": [
    "prediction = classifyBatch(sample['X'], prior)\n",
    "actual = sample['label']\n",
    "accuracy = findAccuracy(prediction, actual)\n",
    "print(f\"Accuracy: {accuracy}\")"
   ]
  },
  {
   "cell_type": "code",
   "execution_count": 133,
   "metadata": {},
   "outputs": [
    {
     "data": {
      "image/png": "[encoded data removed]",
      "text/plain": [
       "<Figure size 432x288 with 1 Axes>"
      ]
     },
     "metadata": {
      "needs_background": "light"
     },
     "output_type": "display_data"
    }
   ],
   "source": [
    "# lets plot the decision boundary and actual labels\n",
    "boundary = np.linspace(-5, 5, 100)\n",
    "prob = findBayesianProbBatch(boundary, prior)\n",
    "# plot both the decision boundary and the actual labels\n",
    "plt.plot(boundary, prob, label = \"Decision Boundary\")\n",
    "plt.scatter(sample['X'], sample['label'], label = \"Actual Labels\")\n",
    "plt.legend()\n",
    "plt.show()\n"
   ]
  },
  {
   "cell_type": "markdown",
   "metadata": {},
   "source": [
    "## Adding Randomness to the classifier\n",
    "Till now we predict the label based on arg max, now we need to add randomness to the classifier. We will add the randomness, what we will do is when we have a probability of a certain label like suppose probability of defaulting is 0.8, we will add a random number between 0 and 1, if the random number is less than 0.8, we will predict defaulting, otherwise we will predict not defaulting.\n",
    "\n",
    "We have done this step manually wothout any vectorization, to have a better understanding of what is happening."
   ]
  },
  {
   "cell_type": "code",
   "execution_count": 134,
   "metadata": {},
   "outputs": [],
   "source": [
    "def predictRandom(x, prior = 0.5, meanVariances = [[-1,1],[1,1]]):\n",
    "    # predict the label of the sample x based on the prior\n",
    "    # use the mean and variance of the prior to generate the sample\n",
    "    # return the label\n",
    "    prob = findBayesianProb(x, prior, meanVariances)\n",
    "    \n",
    "    # add a randomisation to the prediction\n",
    "    if prob < 0.5:\n",
    "        # return 1 only with a randomness of 1 - prob\n",
    "        return np.random.binomial(1, 1 - prob)\n",
    "    else:\n",
    "        # return 0 only with a randomness of prob\n",
    "        return np.random.binomial(1, prob)\n",
    "\n",
    "\n",
    "def predictRandomBatch(X, prior = 0.5, meanVariances = [[-1,1],[1,1]]):\n",
    "    # predict the label of the sample X based on the prior\n",
    "    # use the mean and variance of the prior to generate the sample\n",
    "    # return the label\n",
    "    probs = findBayesianProbBatch(X, prior, meanVariances)\n",
    "    \n",
    "    # add a randomisation to the prediction\n",
    "    result = []\n",
    "    for prob in probs:\n",
    "        if prob < 0.5:\n",
    "        # return 1 only with a randomness of 1 - prob\n",
    "            result.append(np.random.binomial(1, 1 - prob))\n",
    "        else:\n",
    "        # return 0 only with a randomness of prob\n",
    "           result.append(np.random.binomial(0, prob))\n",
    "\n",
    "    return result"
   ]
  },
  {
   "cell_type": "code",
   "execution_count": 135,
   "metadata": {},
   "outputs": [
    {
     "name": "stdout",
     "output_type": "stream",
     "text": [
      "Accuracy: 0.8128\n"
     ]
    }
   ],
   "source": [
    "prediction = predictRandomBatch(sample['X'], prior)\n",
    "actual = sample['label']\n",
    "accuracy = findAccuracy(prediction, actual)\n",
    "print(f\"Accuracy: {accuracy}\")\n",
    "\n"
   ]
  },
  {
   "cell_type": "markdown",
   "metadata": {},
   "source": [
    "## Conclusion\n",
    "Adding randomness to the basian classifier will not improve the expectation of the accurracy of the model, this is because even after getting the high probability for a label there are times when we are not predicting the correct label. This will overall reduce the accuracy of the model. When data set is very small then data can be skewed in such cases we might see a higher accuracy but that would just be accidental and the expectation will always be the less."
   ]
  }
 ],
 "metadata": {
  "interpreter": {
   "hash": "f23730d148f0a90638581163a05f33fe279101ed952ab2055512a2b448ea1fdc"
  },
  "kernelspec": {
   "display_name": "Python 3.8.8 64-bit ('base': conda)",
   "language": "python",
   "name": "python3"
  },
  "language_info": {
   "codemirror_mode": {
    "name": "ipython",
    "version": 3
   },
   "file_extension": ".py",
   "mimetype": "text/x-python",
   "name": "python",
   "nbconvert_exporter": "python",
   "pygments_lexer": "ipython3",
   "version": "3.8.8"
  },
  "orig_nbformat": 4
 },
 "nbformat": 4,
 "nbformat_minor": 2
}
